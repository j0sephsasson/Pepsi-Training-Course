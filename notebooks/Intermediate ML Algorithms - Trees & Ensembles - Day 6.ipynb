{
  "nbformat": 4,
  "nbformat_minor": 0,
  "metadata": {
    "colab": {
      "name": "Intermediate ML Algorithms - Trees & Ensembles - Day 6.ipynb",
      "provenance": []
    },
    "kernelspec": {
      "name": "python3",
      "display_name": "Python 3"
    },
    "language_info": {
      "name": "python"
    }
  },
  "cells": [
    {
      "cell_type": "markdown",
      "source": [
        "# Intermediate ML Algorithms - Trees & Ensembles - Day 6"
      ],
      "metadata": {
        "id": "QshJhgm2JhNK"
      }
    },
    {
      "cell_type": "markdown",
      "source": [
        "In this notebook we will cover some more complex ML algorithms - trees & ensemble methods. We can use DecisionTrees and Random Forests (RFs) for classification & regression tasks."
      ],
      "metadata": {
        "id": "mlsozVKAJmCI"
      }
    },
    {
      "cell_type": "markdown",
      "source": [
        "**Topics:**\n",
        "\n",
        "\n",
        "\n",
        "1.   Decision Trees\n",
        "2.   Random Forests (Ensemble Methods)\n",
        "3.   Interpreting Results\n",
        "4.   Hyper-Param Tuning\n",
        "\n"
      ],
      "metadata": {
        "id": "HxOKD-VEJ3wA"
      }
    },
    {
      "cell_type": "markdown",
      "source": [
        "**Goals:**\n",
        "\n",
        "\n",
        "\n",
        "1.   Understand the intuition behind trees & ensembles\n",
        "2.   Develop a tree-based model\n",
        "3.   Tune the parameters of a tree-based model\n",
        "5.   Create visualizations and explain the results of tree-based models\n",
        "\n"
      ],
      "metadata": {
        "id": "5agPB_L8KNyT"
      }
    },
    {
      "cell_type": "markdown",
      "source": [
        "## Import Packages"
      ],
      "metadata": {
        "id": "vhLC7P2TKj9a"
      }
    },
    {
      "cell_type": "markdown",
      "source": [
        "1.  **Pandas:** Working with datasets. Arguably the most widely-used data-science Python package.\n",
        "\n",
        "2.  **NumPy:** Scientific computing package for working with vectors & matrices.\n",
        "\n",
        "3.  **MatplotLib:** Tool for dataset vizualizations.\n",
        "\n",
        "4.  **Seaborn:** Tool for dataset vizualizations.\n",
        "\n",
        "5.  **Sci-Kit Learn:** Open-source ML algorithms."
      ],
      "metadata": {
        "id": "29EPl3OhKlh_"
      }
    },
    {
      "cell_type": "code",
      "source": [
        "import pandas as pd, numpy as np, matplotlib.pyplot as plt, seaborn as sns\n",
        "\n",
        "from sklearn.model_selection import train_test_split\n",
        "from sklearn.preprocessing import LabelEncoder, StandardScaler\n",
        "from sklearn.impute import SimpleImputer\n",
        "from sklearn.tree import DecisionTreeClassifier\n",
        "from sklearn.ensemble import RandomForestClassifier"
      ],
      "metadata": {
        "id": "_h3bNSZWJlcY"
      },
      "execution_count": 3,
      "outputs": []
    },
    {
      "cell_type": "markdown",
      "source": [
        "## Example 1 - The Decision Tree"
      ],
      "metadata": {
        "id": "PaFNEdP4LPJW"
      }
    },
    {
      "cell_type": "code",
      "source": [
        ""
      ],
      "metadata": {
        "id": "HMRSs0-xK-kF"
      },
      "execution_count": null,
      "outputs": []
    }
  ]
}