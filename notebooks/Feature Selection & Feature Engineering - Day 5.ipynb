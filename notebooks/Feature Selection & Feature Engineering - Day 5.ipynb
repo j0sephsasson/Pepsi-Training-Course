{
 "cells": [
  {
   "cell_type": "markdown",
   "metadata": {
    "id": "EDD2Xn7dm_Jd"
   },
   "source": [
    "# Feature Selection & Feature Engineering - Day 5"
   ]
  },
  {
   "cell_type": "markdown",
   "metadata": {
    "id": "7zI8XpsenEar"
   },
   "source": [
    "This notebook will cover fundamental methods used to develop ML algorithms, such as preparing data for a ML model (feature engineering)."
   ]
  },
  {
   "cell_type": "markdown",
   "metadata": {
    "id": "kkm3LpcfnXcn"
   },
   "source": [
    "**Topics:**\n",
    "\n",
    "\n",
    "1.   Feature Selection\n",
    "2.   Feature Engineering\n",
    "3.   Preparing Data\n",
    "\n"
   ]
  },
  {
   "cell_type": "markdown",
   "metadata": {
    "id": "gJQnvcrGnn7n"
   },
   "source": [
    "**Goals:**\n",
    "\n",
    "\n",
    "1.   Understand how to select important features for a ML algorithm\n",
    "2.   Understand how to clean data for a ML algorithm\n",
    "3.   Become familiar with common methods for preparing data to train a ML model\n",
    "\n"
   ]
  },
  {
   "cell_type": "markdown",
   "metadata": {
    "id": "gaSN1Lyfn6qX"
   },
   "source": [
    "## Import Packages"
   ]
  },
  {
   "cell_type": "markdown",
   "metadata": {
    "id": "oEW1RxJTpK35"
   },
   "source": [
    "The first thing we do at the beginning of any script."
   ]
  },
  {
   "cell_type": "markdown",
   "metadata": {
    "id": "rtrGbEploAFC"
   },
   "source": [
    "\n",
    "\n",
    "1.   **Pandas:** Working with datasets. Arguably the most widely-used data-science Python package.\n",
    "2.   **NumPy:** Scientific computing package for working with vectors & matrices. \n",
    "3. **MatplotLib:** Tool for dataset vizualizations.\n",
    "4. **Sci-Kit Learn:** Open-source ML algorithms."
   ]
  },
  {
   "cell_type": "code",
   "execution_count": 1,
   "metadata": {
    "executionInfo": {
     "elapsed": 235,
     "status": "ok",
     "timestamp": 1660158040293,
     "user": {
      "displayName": "Joe Sasson",
      "userId": "10050313654265167494"
     },
     "user_tz": 240
    },
    "id": "PmzI3fH4m2Pl"
   },
   "outputs": [],
   "source": [
    "from sklearn.model_selection import train_test_split\n",
    "import pandas as pd, numpy as np, matplotlib.pyplot as plt\n",
    "from sklearn.preprocessing import LabelEncoder, StandardScaler\n",
    "from sklearn.impute import SimpleImputer"
   ]
  },
  {
   "cell_type": "markdown",
   "metadata": {
    "id": "Nr6yOCCDpgKw"
   },
   "source": [
    "## Feature Selection & Feature Engineering"
   ]
  },
  {
   "cell_type": "markdown",
   "metadata": {
    "id": "DUwclzqWpi8Z"
   },
   "source": [
    "In this section we will cover how to prepare a dataset for a ML model."
   ]
  },
  {
   "cell_type": "markdown",
   "metadata": {
    "id": "qB9iKmLzzWJh"
   },
   "source": [
    "Note - it is called data \"science\" for a reason. Each use-case can benefit from different methods and implementations, it is the job of the data scientist to experiment with these options and choose the best one. "
   ]
  },
  {
   "cell_type": "markdown",
   "metadata": {
    "id": "r9tSofsMzic-"
   },
   "source": [
    "Here we will be going over common methods utilized for feature selection & engineering."
   ]
  },
  {
   "cell_type": "markdown",
   "metadata": {
    "id": "wX_O88ugy0yq"
   },
   "source": [
    "#### **Feature Selection**"
   ]
  },
  {
   "cell_type": "markdown",
   "metadata": {
    "id": "joTIUMu4y7Xz"
   },
   "source": [
    "Feature selection is the process of selecting and removing features from the dataset, so that the ML model can learn in an optimal manner."
   ]
  },
  {
   "cell_type": "markdown",
   "metadata": {
    "id": "wfEg0bfjwj78"
   },
   "source": [
    "**Read-in Dataset**"
   ]
  },
  {
   "cell_type": "code",
   "execution_count": 2,
   "metadata": {
    "colab": {
     "base_uri": "https://localhost:8080/",
     "height": 206
    },
    "executionInfo": {
     "elapsed": 179,
     "status": "ok",
     "timestamp": 1660158833726,
     "user": {
      "displayName": "Joe Sasson",
      "userId": "10050313654265167494"
     },
     "user_tz": 240
    },
    "id": "hRblaH-FpUYN",
    "outputId": "4dcf35ef-3c32-4ef6-bb4d-8779e5224a34"
   },
   "outputs": [
    {
     "data": {
      "text/html": [
       "<div>\n",
       "<style scoped>\n",
       "    .dataframe tbody tr th:only-of-type {\n",
       "        vertical-align: middle;\n",
       "    }\n",
       "\n",
       "    .dataframe tbody tr th {\n",
       "        vertical-align: top;\n",
       "    }\n",
       "\n",
       "    .dataframe thead th {\n",
       "        text-align: right;\n",
       "    }\n",
       "</style>\n",
       "<table border=\"1\" class=\"dataframe\">\n",
       "  <thead>\n",
       "    <tr style=\"text-align: right;\">\n",
       "      <th></th>\n",
       "      <th>age</th>\n",
       "      <th>sex</th>\n",
       "      <th>cp</th>\n",
       "      <th>trtbps</th>\n",
       "      <th>chol</th>\n",
       "      <th>fbs</th>\n",
       "      <th>restecg</th>\n",
       "      <th>thalachh</th>\n",
       "      <th>exng</th>\n",
       "      <th>oldpeak</th>\n",
       "      <th>slp</th>\n",
       "      <th>caa</th>\n",
       "      <th>thall</th>\n",
       "      <th>output</th>\n",
       "    </tr>\n",
       "  </thead>\n",
       "  <tbody>\n",
       "    <tr>\n",
       "      <th>0</th>\n",
       "      <td>63</td>\n",
       "      <td>1</td>\n",
       "      <td>3</td>\n",
       "      <td>145</td>\n",
       "      <td>233</td>\n",
       "      <td>1</td>\n",
       "      <td>0</td>\n",
       "      <td>150</td>\n",
       "      <td>0</td>\n",
       "      <td>2.3</td>\n",
       "      <td>0</td>\n",
       "      <td>0</td>\n",
       "      <td>1</td>\n",
       "      <td>1</td>\n",
       "    </tr>\n",
       "    <tr>\n",
       "      <th>1</th>\n",
       "      <td>37</td>\n",
       "      <td>1</td>\n",
       "      <td>2</td>\n",
       "      <td>130</td>\n",
       "      <td>250</td>\n",
       "      <td>0</td>\n",
       "      <td>1</td>\n",
       "      <td>187</td>\n",
       "      <td>0</td>\n",
       "      <td>3.5</td>\n",
       "      <td>0</td>\n",
       "      <td>0</td>\n",
       "      <td>2</td>\n",
       "      <td>1</td>\n",
       "    </tr>\n",
       "    <tr>\n",
       "      <th>2</th>\n",
       "      <td>41</td>\n",
       "      <td>0</td>\n",
       "      <td>1</td>\n",
       "      <td>130</td>\n",
       "      <td>204</td>\n",
       "      <td>0</td>\n",
       "      <td>0</td>\n",
       "      <td>172</td>\n",
       "      <td>0</td>\n",
       "      <td>1.4</td>\n",
       "      <td>2</td>\n",
       "      <td>0</td>\n",
       "      <td>2</td>\n",
       "      <td>1</td>\n",
       "    </tr>\n",
       "    <tr>\n",
       "      <th>3</th>\n",
       "      <td>56</td>\n",
       "      <td>1</td>\n",
       "      <td>1</td>\n",
       "      <td>120</td>\n",
       "      <td>236</td>\n",
       "      <td>0</td>\n",
       "      <td>1</td>\n",
       "      <td>178</td>\n",
       "      <td>0</td>\n",
       "      <td>0.8</td>\n",
       "      <td>2</td>\n",
       "      <td>0</td>\n",
       "      <td>2</td>\n",
       "      <td>1</td>\n",
       "    </tr>\n",
       "    <tr>\n",
       "      <th>4</th>\n",
       "      <td>57</td>\n",
       "      <td>0</td>\n",
       "      <td>0</td>\n",
       "      <td>120</td>\n",
       "      <td>354</td>\n",
       "      <td>0</td>\n",
       "      <td>1</td>\n",
       "      <td>163</td>\n",
       "      <td>1</td>\n",
       "      <td>0.6</td>\n",
       "      <td>2</td>\n",
       "      <td>0</td>\n",
       "      <td>2</td>\n",
       "      <td>1</td>\n",
       "    </tr>\n",
       "  </tbody>\n",
       "</table>\n",
       "</div>"
      ],
      "text/plain": [
       "   age  sex  cp  trtbps  chol  fbs  restecg  thalachh  exng  oldpeak  slp  \\\n",
       "0   63    1   3     145   233    1        0       150     0      2.3    0   \n",
       "1   37    1   2     130   250    0        1       187     0      3.5    0   \n",
       "2   41    0   1     130   204    0        0       172     0      1.4    2   \n",
       "3   56    1   1     120   236    0        1       178     0      0.8    2   \n",
       "4   57    0   0     120   354    0        1       163     1      0.6    2   \n",
       "\n",
       "   caa  thall  output  \n",
       "0    0      1       1  \n",
       "1    0      2       1  \n",
       "2    0      2       1  \n",
       "3    0      2       1  \n",
       "4    0      2       1  "
      ]
     },
     "execution_count": 2,
     "metadata": {},
     "output_type": "execute_result"
    }
   ],
   "source": [
    "data = pd.read_csv('https://raw.githubusercontent.com/j0sephsasson/Pepsi-Training-Course/main/datasets/heart.csv')\n",
    "data.head()"
   ]
  },
  {
   "cell_type": "markdown",
   "metadata": {
    "id": "TUxTt1N4wn86"
   },
   "source": [
    "**Split data into X & y. (features & target)**"
   ]
  },
  {
   "cell_type": "code",
   "execution_count": 3,
   "metadata": {
    "colab": {
     "base_uri": "https://localhost:8080/"
    },
    "executionInfo": {
     "elapsed": 160,
     "status": "ok",
     "timestamp": 1660158849430,
     "user": {
      "displayName": "Joe Sasson",
      "userId": "10050313654265167494"
     },
     "user_tz": 240
    },
    "id": "-lwjjugIvT-q",
    "outputId": "6d6ad79b-33a8-4ef4-a745-9a921935b559"
   },
   "outputs": [
    {
     "name": "stdout",
     "output_type": "stream",
     "text": [
      "output\n",
      "['age', 'sex', 'cp', 'trtbps', 'chol', 'fbs', 'restecg', 'thalachh', 'exng', 'oldpeak', 'slp', 'caa', 'thall']\n"
     ]
    }
   ],
   "source": [
    "# Split into features/target\n",
    "all_columns = list(data.columns)\n",
    "target = all_columns.pop()\n",
    "features = all_columns \n",
    "\n",
    "print(target)\n",
    "print(features)\n",
    "\n",
    "X = data[features]\n",
    "y = data[target]"
   ]
  },
  {
   "cell_type": "markdown",
   "metadata": {
    "id": "YtzThg4JwtnI"
   },
   "source": [
    "**Examine null values in each feature**"
   ]
  },
  {
   "cell_type": "code",
   "execution_count": 10,
   "metadata": {
    "colab": {
     "base_uri": "https://localhost:8080/"
    },
    "executionInfo": {
     "elapsed": 198,
     "status": "ok",
     "timestamp": 1660151788304,
     "user": {
      "displayName": "Joe Sasson",
      "userId": "10050313654265167494"
     },
     "user_tz": 240
    },
    "id": "gF68XPzCrv27",
    "outputId": "7ae05253-9887-4adf-f7e4-ee39a1beb880"
   },
   "outputs": [
    {
     "data": {
      "text/plain": [
       "age         0\n",
       "sex         0\n",
       "cp          0\n",
       "trtbps      0\n",
       "chol        0\n",
       "fbs         0\n",
       "restecg     0\n",
       "thalachh    0\n",
       "exng        0\n",
       "oldpeak     0\n",
       "slp         0\n",
       "caa         0\n",
       "thall       0\n",
       "dtype: int64"
      ]
     },
     "execution_count": 10,
     "metadata": {},
     "output_type": "execute_result"
    }
   ],
   "source": [
    "# Check for null values\n",
    "X.isnull().sum()"
   ]
  },
  {
   "cell_type": "markdown",
   "metadata": {
    "id": "77fjrtoowxyh"
   },
   "source": [
    "**Examine Cardinality.** \n",
    "\n",
    "This is an important concept - how many unique values in a particular feature?\n",
    "\n",
    "This is called *Cardinality*"
   ]
  },
  {
   "cell_type": "code",
   "execution_count": 11,
   "metadata": {
    "colab": {
     "base_uri": "https://localhost:8080/"
    },
    "executionInfo": {
     "elapsed": 160,
     "status": "ok",
     "timestamp": 1660151792828,
     "user": {
      "displayName": "Joe Sasson",
      "userId": "10050313654265167494"
     },
     "user_tz": 240
    },
    "id": "uRl91g0Yutm3",
    "outputId": "c68d7250-23c8-4792-8bf5-c27c6e4d14dc"
   },
   "outputs": [
    {
     "name": "stdout",
     "output_type": "stream",
     "text": [
      "age\n",
      "41\n",
      "\n",
      "sex\n",
      "2\n",
      "\n",
      "cp\n",
      "4\n",
      "\n",
      "trtbps\n",
      "49\n",
      "\n",
      "chol\n",
      "152\n",
      "\n",
      "fbs\n",
      "2\n",
      "\n",
      "restecg\n",
      "3\n",
      "\n",
      "thalachh\n",
      "91\n",
      "\n",
      "exng\n",
      "2\n",
      "\n",
      "oldpeak\n",
      "40\n",
      "\n",
      "slp\n",
      "3\n",
      "\n",
      "caa\n",
      "5\n",
      "\n",
      "thall\n",
      "4\n",
      "\n"
     ]
    }
   ],
   "source": [
    "# Check cardinality\n",
    "def show_cardinality(frame):\n",
    "  for col in frame.columns:\n",
    "     cardinality = len(frame[col].unique())\n",
    "     print(col)\n",
    "     print(cardinality)\n",
    "     print()\n",
    "\n",
    "show_cardinality(X)"
   ]
  },
  {
   "cell_type": "markdown",
   "metadata": {
    "id": "iDN_hzPh0lBt"
   },
   "source": [
    "**Perform Feature Selection**"
   ]
  },
  {
   "cell_type": "markdown",
   "metadata": {
    "id": "d2L0GYjh0pyj"
   },
   "source": [
    "Now we will define a function to remove features that have any one of the following attributes to be true:\n",
    "\n",
    "\n",
    "*   Cardinality above 85% (extremely high amount of unique values)\n",
    "*   Cardinality below 0.1% (basically every value is the same)\n",
    "*   Null value count above 60% (most values are null)\n",
    "\n"
   ]
  },
  {
   "cell_type": "code",
   "execution_count": 6,
   "metadata": {
    "colab": {
     "base_uri": "https://localhost:8080/"
    },
    "executionInfo": {
     "elapsed": 217,
     "status": "ok",
     "timestamp": 1660158856195,
     "user": {
      "displayName": "Joe Sasson",
      "userId": "10050313654265167494"
     },
     "user_tz": 240
    },
    "id": "HwIeBLojvnJS",
    "outputId": "fa766750-4dad-4a39-f0d1-034c2d747457"
   },
   "outputs": [
    {
     "name": "stdout",
     "output_type": "stream",
     "text": [
      "Removed Features:  []\n",
      "['age', 'sex', 'cp', 'trtbps', 'chol', 'fbs', 'restecg', 'thalachh', 'exng', 'oldpeak', 'slp', 'caa', 'thall']\n"
     ]
    }
   ],
   "source": [
    "def feature_selection(data, features):\n",
    "    \"\"\"\n",
    "    This function drops features with high cardinality\n",
    "\n",
    "    Params:\n",
    "      -- 'data': pd.DataFrame\n",
    "      -- 'features': list[str]\n",
    "      \n",
    "    Returns:\n",
    "      -- list of selected features \n",
    "    \"\"\"\n",
    "\n",
    "    good_features = []\n",
    "\n",
    "    for f in features:\n",
    "      cardinality = len(data[f].unique())\n",
    "      null_count = data[f].isnull().sum()\n",
    "\n",
    "      if cardinality > np.percentile(range(0,len(data)),85):\n",
    "        continue\n",
    "      elif cardinality < np.percentile(range(0,len(data)),0.1):\n",
    "        continue\n",
    "      elif null_count > np.percentile(range(0,len(data)),60):\n",
    "        continue\n",
    "      else:\n",
    "        good_features.append(f)\n",
    "\n",
    "    return good_features\n",
    "\n",
    "good_features = feature_selection(X, features)\n",
    "print('Removed Features: ', [i for i in features if i not in good_features])\n",
    "print(good_features)"
   ]
  },
  {
   "cell_type": "markdown",
   "metadata": {
    "id": "pJipb5wT5NJ8"
   },
   "source": [
    "#### **Feature Engineering**"
   ]
  },
  {
   "cell_type": "markdown",
   "metadata": {
    "id": "eYslkmPE5XPq"
   },
   "source": [
    "Feature engineering is the process of cleaning selected features for the model.\n",
    "\n",
    "We want to scale & normalize numerical data, as well as numerically encode categorical features so they can be normalized & scaled."
   ]
  },
  {
   "cell_type": "markdown",
   "metadata": {
    "id": "Ka6y6qm-6bef"
   },
   "source": [
    "**Common steps (in order):**\n",
    "\n",
    "\n",
    "1.   Impute null values\n",
    "2.   Numerically encode categorical features\n",
    "3.   Scale & normalize numeric features (they are all numbers at this point)\n",
    "\n"
   ]
  },
  {
   "cell_type": "markdown",
   "metadata": {
    "id": "VeWpLVyr6wPq"
   },
   "source": [
    "\n",
    "\n",
    "**1.   Impute Null Values**\n",
    "\n"
   ]
  },
  {
   "cell_type": "markdown",
   "metadata": {
    "id": "p3OzGMrl_l2I"
   },
   "source": [
    "\n",
    "\n",
    "*   For numerical data we will replace null values with the mean of the feature\n",
    "*   For categorical data we will replace the null values with the most freqeuent value\n",
    "\n",
    "These are very basic ways to impute a feature. Much more complex methods exist.\n",
    "\n"
   ]
  },
  {
   "cell_type": "code",
   "execution_count": 25,
   "metadata": {
    "colab": {
     "base_uri": "https://localhost:8080/"
    },
    "executionInfo": {
     "elapsed": 160,
     "status": "ok",
     "timestamp": 1660155065476,
     "user": {
      "displayName": "Joe Sasson",
      "userId": "10050313654265167494"
     },
     "user_tz": 240
    },
    "id": "LFwFRX1u5MMZ",
    "outputId": "5d265fea-fdf0-40c3-e231-e7eacf160feb"
   },
   "outputs": [
    {
     "name": "stdout",
     "output_type": "stream",
     "text": [
      "BEFORE:\n",
      "[ 1.  2.  2.  4.  5.  6. nan nan nan  7.  8.  9.]\n",
      "\n",
      "AFTER:\n",
      "[[1.        ]\n",
      " [2.        ]\n",
      " [2.        ]\n",
      " [4.        ]\n",
      " [5.        ]\n",
      " [6.        ]\n",
      " [4.88888889]\n",
      " [4.88888889]\n",
      " [4.88888889]\n",
      " [7.        ]\n",
      " [8.        ]\n",
      " [9.        ]]\n"
     ]
    }
   ],
   "source": [
    "# initialize a SimpleImputer with strategy 'mean'\n",
    "imputer = SimpleImputer(strategy='mean') # used with numerical features\n",
    "\n",
    "test = pd.Series([1,2,2,4,5,6, np.nan, np.nan, np.nan, 7,8,9])\n",
    "test_imputed = imputer.fit_transform(test.values.reshape(-1, 1))\n",
    "\n",
    "print('BEFORE:')\n",
    "print(test.values)\n",
    "\n",
    "print()\n",
    "\n",
    "print('AFTER:')\n",
    "print(test_imputed)"
   ]
  },
  {
   "cell_type": "markdown",
   "metadata": {
    "id": "grXONsSR62Xv"
   },
   "source": [
    "\n",
    "\n",
    "**2.   Encode Categorical Data**\n",
    "\n"
   ]
  },
  {
   "cell_type": "markdown",
   "metadata": {
    "id": "0s21v7uu_2fL"
   },
   "source": [
    "\n",
    "\n",
    "*   Each unique value is assigned a number 1 through the length of unique values\n",
    "\n"
   ]
  },
  {
   "cell_type": "code",
   "execution_count": 29,
   "metadata": {
    "colab": {
     "base_uri": "https://localhost:8080/"
    },
    "executionInfo": {
     "elapsed": 225,
     "status": "ok",
     "timestamp": 1660155393077,
     "user": {
      "displayName": "Joe Sasson",
      "userId": "10050313654265167494"
     },
     "user_tz": 240
    },
    "id": "WEbNfSDD689X",
    "outputId": "47709115-768e-414a-9b78-78f84e571d24"
   },
   "outputs": [
    {
     "name": "stdout",
     "output_type": "stream",
     "text": [
      "BEFORE:\n",
      "['yessir' 'hello' 'goodbye' 'hello' 'pancakes' nan nan nan]\n",
      "\n",
      "AFTER:\n",
      "[3 1 0 1 2 1 1 1]\n"
     ]
    }
   ],
   "source": [
    "# initialize a LabelEncoder\n",
    "encoder = LabelEncoder()\n",
    "\n",
    "# initialize imputer with strategy 'most_frequent'\n",
    "imputer = SimpleImputer(strategy='most_frequent') # for categorical features\n",
    "\n",
    "test = pd.Series(['yessir','hello', 'goodbye', 'hello', 'pancakes',\n",
    "                  np.nan, np.nan, np.nan])\n",
    "\n",
    "# impute null vals\n",
    "test_imputed = imputer.fit_transform(test.values.reshape(-1, 1))\n",
    "\n",
    "# encode the imputed, categorical data\n",
    "test_encoded = encoder.fit_transform(test_imputed.reshape(test_imputed.shape[0],))\n",
    "\n",
    "print('BEFORE:')\n",
    "print(test.values)\n",
    "\n",
    "print()\n",
    "\n",
    "print('AFTER:')\n",
    "print(test_encoded)"
   ]
  },
  {
   "cell_type": "markdown",
   "metadata": {
    "id": "Cv4_RC_z-gmf"
   },
   "source": [
    "\n",
    "\n",
    "\n",
    "**3.   Scale & Normalize Data**\n",
    "\n"
   ]
  },
  {
   "cell_type": "markdown",
   "metadata": {
    "id": "g_xqMyrq_-_8"
   },
   "source": [
    "\n",
    "\n",
    "*   Will normalize a feature so the standard deviation is 1 and the mean is 0. This is also known as a 'Z-Score'\n",
    "*   Each new value tells us how many standard deviations the original value was from the mean\n",
    "\n",
    "\n",
    "\n"
   ]
  },
  {
   "cell_type": "code",
   "execution_count": 31,
   "metadata": {
    "colab": {
     "base_uri": "https://localhost:8080/"
    },
    "executionInfo": {
     "elapsed": 152,
     "status": "ok",
     "timestamp": 1660155670298,
     "user": {
      "displayName": "Joe Sasson",
      "userId": "10050313654265167494"
     },
     "user_tz": 240
    },
    "id": "y6kS2bWW-mqf",
    "outputId": "599cf847-58a8-4155-9b93-fdb63a747b40"
   },
   "outputs": [
    {
     "name": "stdout",
     "output_type": "stream",
     "text": [
      "ORIGINAL:\n",
      "[3 1 0 1 2 1 1 1]\n",
      "\n",
      "SCALED:\n",
      "[[ 2.11057941]\n",
      " [-0.30151134]\n",
      " [-1.50755672]\n",
      " [-0.30151134]\n",
      " [ 0.90453403]\n",
      " [-0.30151134]\n",
      " [-0.30151134]\n",
      " [-0.30151134]]\n"
     ]
    }
   ],
   "source": [
    "# initialize scaler\n",
    "scaler = StandardScaler()\n",
    "\n",
    "# turn encoded data back into pandas format\n",
    "series = pd.Series(test_encoded)\n",
    "\n",
    "# scale data\n",
    "series = scaler.fit_transform(series.values.reshape(-1, 1))\n",
    "\n",
    "print('ORIGINAL:')\n",
    "print(test_encoded)\n",
    "\n",
    "print()\n",
    "\n",
    "print('SCALED:')\n",
    "print(series)"
   ]
  },
  {
   "cell_type": "markdown",
   "metadata": {
    "id": "vZmfBDpSAbAI"
   },
   "source": [
    "**Perform Feature Engineering**"
   ]
  },
  {
   "cell_type": "markdown",
   "metadata": {
    "id": "ZbUQNmN7A3Nl"
   },
   "source": [
    "Now we will define a function that will:\n",
    "\n",
    "\n",
    "1.   Impute numerical values with the mean of that feature\n",
    "2.   Impute categorical features with the most frequent value\n",
    "3.   Encode categorical features to be numeric\n",
    "4.   Scale & normalize the remaining data\n",
    "\n"
   ]
  },
  {
   "cell_type": "code",
   "execution_count": 47,
   "metadata": {
    "executionInfo": {
     "elapsed": 152,
     "status": "ok",
     "timestamp": 1660158888736,
     "user": {
      "displayName": "Joe Sasson",
      "userId": "10050313654265167494"
     },
     "user_tz": 240
    },
    "id": "1tFOJhrYAc_6"
   },
   "outputs": [],
   "source": [
    "def clean_dataset(frame, features):\n",
    "  \"\"\"\n",
    "    This function performs feature engineering on a dataframe\n",
    "\n",
    "    1. Imputing\n",
    "    2. Encoding\n",
    "    3. Scaling\n",
    "\n",
    "    Params:\n",
    "      -- 'data': pd.DataFrame\n",
    "      -- 'features': list[str]\n",
    "      \n",
    "    Returns:\n",
    "      -- 'data': pd.DataFrame\n",
    "    \"\"\"\n",
    "\n",
    "  data = frame.copy()\n",
    "\n",
    "  # Perform imputing\n",
    "  for col in features:\n",
    "\n",
    "    if col not in list(data.columns):\n",
    "      data.drop(columns=col, inplace=True)\n",
    "\n",
    "    # if we have category use most frequent\n",
    "    if data[col].dtypes == 'O':\n",
    "        imputer = SimpleImputer(strategy='most_frequent')\n",
    "        data[col] = imputer.fit_transform(data[col].values.reshape(-1, 1))\n",
    "\n",
    "    # if we have number use mean\n",
    "    elif data[col].dtypes == 'int64' or data[col].dtypes == 'float64':\n",
    "        imputer = SimpleImputer(strategy='mean')\n",
    "        data[col] = imputer.fit_transform(data[col].values.reshape(-1, 1))\n",
    "\n",
    "  ## encode categorical features ##\n",
    "  for col in features:\n",
    "    if data[col].dtypes == 'O':\n",
    "      data[col] = LabelEncoder().fit_transform(data[col])\n",
    "\n",
    "  ## scale numercial features ##\n",
    "  for col in features:\n",
    "    if data[col].dtypes == 'int64' or data[col].dtypes == 'float64':\n",
    "      data[col] = StandardScaler().fit_transform(data[col].values.reshape(-1, 1))\n",
    "\n",
    "  return data\n",
    "\n",
    "X_clean = clean_dataset(frame=X, features=good_features)"
   ]
  },
  {
   "cell_type": "code",
   "execution_count": 48,
   "metadata": {
    "colab": {
     "base_uri": "https://localhost:8080/",
     "height": 241
    },
    "executionInfo": {
     "elapsed": 189,
     "status": "ok",
     "timestamp": 1660158894268,
     "user": {
      "displayName": "Joe Sasson",
      "userId": "10050313654265167494"
     },
     "user_tz": 240
    },
    "id": "j0CpPVX0CReO",
    "outputId": "34065799-5bbb-45ab-801a-9da1addcd599"
   },
   "outputs": [
    {
     "name": "stdout",
     "output_type": "stream",
     "text": [
      "ORIGINAL\n",
      "\n"
     ]
    },
    {
     "data": {
      "text/html": [
       "\n",
       "  <div id=\"df-6108b925-3642-4d63-8bac-86e8385a2842\">\n",
       "    <div class=\"colab-df-container\">\n",
       "      <div>\n",
       "<style scoped>\n",
       "    .dataframe tbody tr th:only-of-type {\n",
       "        vertical-align: middle;\n",
       "    }\n",
       "\n",
       "    .dataframe tbody tr th {\n",
       "        vertical-align: top;\n",
       "    }\n",
       "\n",
       "    .dataframe thead th {\n",
       "        text-align: right;\n",
       "    }\n",
       "</style>\n",
       "<table border=\"1\" class=\"dataframe\">\n",
       "  <thead>\n",
       "    <tr style=\"text-align: right;\">\n",
       "      <th></th>\n",
       "      <th>age</th>\n",
       "      <th>sex</th>\n",
       "      <th>cp</th>\n",
       "      <th>trtbps</th>\n",
       "      <th>chol</th>\n",
       "      <th>fbs</th>\n",
       "      <th>restecg</th>\n",
       "      <th>thalachh</th>\n",
       "      <th>exng</th>\n",
       "      <th>oldpeak</th>\n",
       "      <th>slp</th>\n",
       "      <th>caa</th>\n",
       "      <th>thall</th>\n",
       "    </tr>\n",
       "  </thead>\n",
       "  <tbody>\n",
       "    <tr>\n",
       "      <th>0</th>\n",
       "      <td>63</td>\n",
       "      <td>1</td>\n",
       "      <td>3</td>\n",
       "      <td>145</td>\n",
       "      <td>233</td>\n",
       "      <td>1</td>\n",
       "      <td>0</td>\n",
       "      <td>150</td>\n",
       "      <td>0</td>\n",
       "      <td>2.3</td>\n",
       "      <td>0</td>\n",
       "      <td>0</td>\n",
       "      <td>1</td>\n",
       "    </tr>\n",
       "    <tr>\n",
       "      <th>1</th>\n",
       "      <td>37</td>\n",
       "      <td>1</td>\n",
       "      <td>2</td>\n",
       "      <td>130</td>\n",
       "      <td>250</td>\n",
       "      <td>0</td>\n",
       "      <td>1</td>\n",
       "      <td>187</td>\n",
       "      <td>0</td>\n",
       "      <td>3.5</td>\n",
       "      <td>0</td>\n",
       "      <td>0</td>\n",
       "      <td>2</td>\n",
       "    </tr>\n",
       "    <tr>\n",
       "      <th>2</th>\n",
       "      <td>41</td>\n",
       "      <td>0</td>\n",
       "      <td>1</td>\n",
       "      <td>130</td>\n",
       "      <td>204</td>\n",
       "      <td>0</td>\n",
       "      <td>0</td>\n",
       "      <td>172</td>\n",
       "      <td>0</td>\n",
       "      <td>1.4</td>\n",
       "      <td>2</td>\n",
       "      <td>0</td>\n",
       "      <td>2</td>\n",
       "    </tr>\n",
       "    <tr>\n",
       "      <th>3</th>\n",
       "      <td>56</td>\n",
       "      <td>1</td>\n",
       "      <td>1</td>\n",
       "      <td>120</td>\n",
       "      <td>236</td>\n",
       "      <td>0</td>\n",
       "      <td>1</td>\n",
       "      <td>178</td>\n",
       "      <td>0</td>\n",
       "      <td>0.8</td>\n",
       "      <td>2</td>\n",
       "      <td>0</td>\n",
       "      <td>2</td>\n",
       "    </tr>\n",
       "    <tr>\n",
       "      <th>4</th>\n",
       "      <td>57</td>\n",
       "      <td>0</td>\n",
       "      <td>0</td>\n",
       "      <td>120</td>\n",
       "      <td>354</td>\n",
       "      <td>0</td>\n",
       "      <td>1</td>\n",
       "      <td>163</td>\n",
       "      <td>1</td>\n",
       "      <td>0.6</td>\n",
       "      <td>2</td>\n",
       "      <td>0</td>\n",
       "      <td>2</td>\n",
       "    </tr>\n",
       "  </tbody>\n",
       "</table>\n",
       "</div>\n",
       "      <button class=\"colab-df-convert\" onclick=\"convertToInteractive('df-6108b925-3642-4d63-8bac-86e8385a2842')\"\n",
       "              title=\"Convert this dataframe to an interactive table.\"\n",
       "              style=\"display:none;\">\n",
       "        \n",
       "  <svg xmlns=\"http://www.w3.org/2000/svg\" height=\"24px\"viewBox=\"0 0 24 24\"\n",
       "       width=\"24px\">\n",
       "    <path d=\"M0 0h24v24H0V0z\" fill=\"none\"/>\n",
       "    <path d=\"M18.56 5.44l.94 2.06.94-2.06 2.06-.94-2.06-.94-.94-2.06-.94 2.06-2.06.94zm-11 1L8.5 8.5l.94-2.06 2.06-.94-2.06-.94L8.5 2.5l-.94 2.06-2.06.94zm10 10l.94 2.06.94-2.06 2.06-.94-2.06-.94-.94-2.06-.94 2.06-2.06.94z\"/><path d=\"M17.41 7.96l-1.37-1.37c-.4-.4-.92-.59-1.43-.59-.52 0-1.04.2-1.43.59L10.3 9.45l-7.72 7.72c-.78.78-.78 2.05 0 2.83L4 21.41c.39.39.9.59 1.41.59.51 0 1.02-.2 1.41-.59l7.78-7.78 2.81-2.81c.8-.78.8-2.07 0-2.86zM5.41 20L4 18.59l7.72-7.72 1.47 1.35L5.41 20z\"/>\n",
       "  </svg>\n",
       "      </button>\n",
       "      \n",
       "  <style>\n",
       "    .colab-df-container {\n",
       "      display:flex;\n",
       "      flex-wrap:wrap;\n",
       "      gap: 12px;\n",
       "    }\n",
       "\n",
       "    .colab-df-convert {\n",
       "      background-color: #E8F0FE;\n",
       "      border: none;\n",
       "      border-radius: 50%;\n",
       "      cursor: pointer;\n",
       "      display: none;\n",
       "      fill: #1967D2;\n",
       "      height: 32px;\n",
       "      padding: 0 0 0 0;\n",
       "      width: 32px;\n",
       "    }\n",
       "\n",
       "    .colab-df-convert:hover {\n",
       "      background-color: #E2EBFA;\n",
       "      box-shadow: 0px 1px 2px rgba(60, 64, 67, 0.3), 0px 1px 3px 1px rgba(60, 64, 67, 0.15);\n",
       "      fill: #174EA6;\n",
       "    }\n",
       "\n",
       "    [theme=dark] .colab-df-convert {\n",
       "      background-color: #3B4455;\n",
       "      fill: #D2E3FC;\n",
       "    }\n",
       "\n",
       "    [theme=dark] .colab-df-convert:hover {\n",
       "      background-color: #434B5C;\n",
       "      box-shadow: 0px 1px 3px 1px rgba(0, 0, 0, 0.15);\n",
       "      filter: drop-shadow(0px 1px 2px rgba(0, 0, 0, 0.3));\n",
       "      fill: #FFFFFF;\n",
       "    }\n",
       "  </style>\n",
       "\n",
       "      <script>\n",
       "        const buttonEl =\n",
       "          document.querySelector('#df-6108b925-3642-4d63-8bac-86e8385a2842 button.colab-df-convert');\n",
       "        buttonEl.style.display =\n",
       "          google.colab.kernel.accessAllowed ? 'block' : 'none';\n",
       "\n",
       "        async function convertToInteractive(key) {\n",
       "          const element = document.querySelector('#df-6108b925-3642-4d63-8bac-86e8385a2842');\n",
       "          const dataTable =\n",
       "            await google.colab.kernel.invokeFunction('convertToInteractive',\n",
       "                                                     [key], {});\n",
       "          if (!dataTable) return;\n",
       "\n",
       "          const docLinkHtml = 'Like what you see? Visit the ' +\n",
       "            '<a target=\"_blank\" href=https://colab.research.google.com/notebooks/data_table.ipynb>data table notebook</a>'\n",
       "            + ' to learn more about interactive tables.';\n",
       "          element.innerHTML = '';\n",
       "          dataTable['output_type'] = 'display_data';\n",
       "          await google.colab.output.renderOutput(dataTable, element);\n",
       "          const docLink = document.createElement('div');\n",
       "          docLink.innerHTML = docLinkHtml;\n",
       "          element.appendChild(docLink);\n",
       "        }\n",
       "      </script>\n",
       "    </div>\n",
       "  </div>\n",
       "  "
      ],
      "text/plain": [
       "   age  sex  cp  trtbps  chol  fbs  restecg  thalachh  exng  oldpeak  slp  \\\n",
       "0   63    1   3     145   233    1        0       150     0      2.3    0   \n",
       "1   37    1   2     130   250    0        1       187     0      3.5    0   \n",
       "2   41    0   1     130   204    0        0       172     0      1.4    2   \n",
       "3   56    1   1     120   236    0        1       178     0      0.8    2   \n",
       "4   57    0   0     120   354    0        1       163     1      0.6    2   \n",
       "\n",
       "   caa  thall  \n",
       "0    0      1  \n",
       "1    0      2  \n",
       "2    0      2  \n",
       "3    0      2  \n",
       "4    0      2  "
      ]
     },
     "execution_count": 48,
     "metadata": {},
     "output_type": "execute_result"
    }
   ],
   "source": [
    "print('ORIGINAL')\n",
    "print()\n",
    "X.head()"
   ]
  },
  {
   "cell_type": "code",
   "execution_count": 49,
   "metadata": {
    "colab": {
     "base_uri": "https://localhost:8080/",
     "height": 241
    },
    "executionInfo": {
     "elapsed": 171,
     "status": "ok",
     "timestamp": 1660158896334,
     "user": {
      "displayName": "Joe Sasson",
      "userId": "10050313654265167494"
     },
     "user_tz": 240
    },
    "id": "G55HXOv4CweK",
    "outputId": "6428aef4-3f61-429b-ddf7-fd0d631b1ce3"
   },
   "outputs": [
    {
     "name": "stdout",
     "output_type": "stream",
     "text": [
      "CLEANED\n",
      "\n"
     ]
    },
    {
     "data": {
      "text/html": [
       "\n",
       "  <div id=\"df-d682a8ca-05e5-4d71-8db2-551d306437df\">\n",
       "    <div class=\"colab-df-container\">\n",
       "      <div>\n",
       "<style scoped>\n",
       "    .dataframe tbody tr th:only-of-type {\n",
       "        vertical-align: middle;\n",
       "    }\n",
       "\n",
       "    .dataframe tbody tr th {\n",
       "        vertical-align: top;\n",
       "    }\n",
       "\n",
       "    .dataframe thead th {\n",
       "        text-align: right;\n",
       "    }\n",
       "</style>\n",
       "<table border=\"1\" class=\"dataframe\">\n",
       "  <thead>\n",
       "    <tr style=\"text-align: right;\">\n",
       "      <th></th>\n",
       "      <th>age</th>\n",
       "      <th>sex</th>\n",
       "      <th>cp</th>\n",
       "      <th>trtbps</th>\n",
       "      <th>chol</th>\n",
       "      <th>fbs</th>\n",
       "      <th>restecg</th>\n",
       "      <th>thalachh</th>\n",
       "      <th>exng</th>\n",
       "      <th>oldpeak</th>\n",
       "      <th>slp</th>\n",
       "      <th>caa</th>\n",
       "      <th>thall</th>\n",
       "    </tr>\n",
       "  </thead>\n",
       "  <tbody>\n",
       "    <tr>\n",
       "      <th>0</th>\n",
       "      <td>0.952197</td>\n",
       "      <td>0.681005</td>\n",
       "      <td>1.973123</td>\n",
       "      <td>0.763956</td>\n",
       "      <td>-0.256334</td>\n",
       "      <td>2.394438</td>\n",
       "      <td>-1.005832</td>\n",
       "      <td>0.015443</td>\n",
       "      <td>-0.696631</td>\n",
       "      <td>1.087338</td>\n",
       "      <td>-2.274579</td>\n",
       "      <td>-0.714429</td>\n",
       "      <td>-2.148873</td>\n",
       "    </tr>\n",
       "    <tr>\n",
       "      <th>1</th>\n",
       "      <td>-1.915313</td>\n",
       "      <td>0.681005</td>\n",
       "      <td>1.002577</td>\n",
       "      <td>-0.092738</td>\n",
       "      <td>0.072199</td>\n",
       "      <td>-0.417635</td>\n",
       "      <td>0.898962</td>\n",
       "      <td>1.633471</td>\n",
       "      <td>-0.696631</td>\n",
       "      <td>2.122573</td>\n",
       "      <td>-2.274579</td>\n",
       "      <td>-0.714429</td>\n",
       "      <td>-0.512922</td>\n",
       "    </tr>\n",
       "    <tr>\n",
       "      <th>2</th>\n",
       "      <td>-1.474158</td>\n",
       "      <td>-1.468418</td>\n",
       "      <td>0.032031</td>\n",
       "      <td>-0.092738</td>\n",
       "      <td>-0.816773</td>\n",
       "      <td>-0.417635</td>\n",
       "      <td>-1.005832</td>\n",
       "      <td>0.977514</td>\n",
       "      <td>-0.696631</td>\n",
       "      <td>0.310912</td>\n",
       "      <td>0.976352</td>\n",
       "      <td>-0.714429</td>\n",
       "      <td>-0.512922</td>\n",
       "    </tr>\n",
       "    <tr>\n",
       "      <th>3</th>\n",
       "      <td>0.180175</td>\n",
       "      <td>0.681005</td>\n",
       "      <td>0.032031</td>\n",
       "      <td>-0.663867</td>\n",
       "      <td>-0.198357</td>\n",
       "      <td>-0.417635</td>\n",
       "      <td>0.898962</td>\n",
       "      <td>1.239897</td>\n",
       "      <td>-0.696631</td>\n",
       "      <td>-0.206705</td>\n",
       "      <td>0.976352</td>\n",
       "      <td>-0.714429</td>\n",
       "      <td>-0.512922</td>\n",
       "    </tr>\n",
       "    <tr>\n",
       "      <th>4</th>\n",
       "      <td>0.290464</td>\n",
       "      <td>-1.468418</td>\n",
       "      <td>-0.938515</td>\n",
       "      <td>-0.663867</td>\n",
       "      <td>2.082050</td>\n",
       "      <td>-0.417635</td>\n",
       "      <td>0.898962</td>\n",
       "      <td>0.583939</td>\n",
       "      <td>1.435481</td>\n",
       "      <td>-0.379244</td>\n",
       "      <td>0.976352</td>\n",
       "      <td>-0.714429</td>\n",
       "      <td>-0.512922</td>\n",
       "    </tr>\n",
       "  </tbody>\n",
       "</table>\n",
       "</div>\n",
       "      <button class=\"colab-df-convert\" onclick=\"convertToInteractive('df-d682a8ca-05e5-4d71-8db2-551d306437df')\"\n",
       "              title=\"Convert this dataframe to an interactive table.\"\n",
       "              style=\"display:none;\">\n",
       "        \n",
       "  <svg xmlns=\"http://www.w3.org/2000/svg\" height=\"24px\"viewBox=\"0 0 24 24\"\n",
       "       width=\"24px\">\n",
       "    <path d=\"M0 0h24v24H0V0z\" fill=\"none\"/>\n",
       "    <path d=\"M18.56 5.44l.94 2.06.94-2.06 2.06-.94-2.06-.94-.94-2.06-.94 2.06-2.06.94zm-11 1L8.5 8.5l.94-2.06 2.06-.94-2.06-.94L8.5 2.5l-.94 2.06-2.06.94zm10 10l.94 2.06.94-2.06 2.06-.94-2.06-.94-.94-2.06-.94 2.06-2.06.94z\"/><path d=\"M17.41 7.96l-1.37-1.37c-.4-.4-.92-.59-1.43-.59-.52 0-1.04.2-1.43.59L10.3 9.45l-7.72 7.72c-.78.78-.78 2.05 0 2.83L4 21.41c.39.39.9.59 1.41.59.51 0 1.02-.2 1.41-.59l7.78-7.78 2.81-2.81c.8-.78.8-2.07 0-2.86zM5.41 20L4 18.59l7.72-7.72 1.47 1.35L5.41 20z\"/>\n",
       "  </svg>\n",
       "      </button>\n",
       "      \n",
       "  <style>\n",
       "    .colab-df-container {\n",
       "      display:flex;\n",
       "      flex-wrap:wrap;\n",
       "      gap: 12px;\n",
       "    }\n",
       "\n",
       "    .colab-df-convert {\n",
       "      background-color: #E8F0FE;\n",
       "      border: none;\n",
       "      border-radius: 50%;\n",
       "      cursor: pointer;\n",
       "      display: none;\n",
       "      fill: #1967D2;\n",
       "      height: 32px;\n",
       "      padding: 0 0 0 0;\n",
       "      width: 32px;\n",
       "    }\n",
       "\n",
       "    .colab-df-convert:hover {\n",
       "      background-color: #E2EBFA;\n",
       "      box-shadow: 0px 1px 2px rgba(60, 64, 67, 0.3), 0px 1px 3px 1px rgba(60, 64, 67, 0.15);\n",
       "      fill: #174EA6;\n",
       "    }\n",
       "\n",
       "    [theme=dark] .colab-df-convert {\n",
       "      background-color: #3B4455;\n",
       "      fill: #D2E3FC;\n",
       "    }\n",
       "\n",
       "    [theme=dark] .colab-df-convert:hover {\n",
       "      background-color: #434B5C;\n",
       "      box-shadow: 0px 1px 3px 1px rgba(0, 0, 0, 0.15);\n",
       "      filter: drop-shadow(0px 1px 2px rgba(0, 0, 0, 0.3));\n",
       "      fill: #FFFFFF;\n",
       "    }\n",
       "  </style>\n",
       "\n",
       "      <script>\n",
       "        const buttonEl =\n",
       "          document.querySelector('#df-d682a8ca-05e5-4d71-8db2-551d306437df button.colab-df-convert');\n",
       "        buttonEl.style.display =\n",
       "          google.colab.kernel.accessAllowed ? 'block' : 'none';\n",
       "\n",
       "        async function convertToInteractive(key) {\n",
       "          const element = document.querySelector('#df-d682a8ca-05e5-4d71-8db2-551d306437df');\n",
       "          const dataTable =\n",
       "            await google.colab.kernel.invokeFunction('convertToInteractive',\n",
       "                                                     [key], {});\n",
       "          if (!dataTable) return;\n",
       "\n",
       "          const docLinkHtml = 'Like what you see? Visit the ' +\n",
       "            '<a target=\"_blank\" href=https://colab.research.google.com/notebooks/data_table.ipynb>data table notebook</a>'\n",
       "            + ' to learn more about interactive tables.';\n",
       "          element.innerHTML = '';\n",
       "          dataTable['output_type'] = 'display_data';\n",
       "          await google.colab.output.renderOutput(dataTable, element);\n",
       "          const docLink = document.createElement('div');\n",
       "          docLink.innerHTML = docLinkHtml;\n",
       "          element.appendChild(docLink);\n",
       "        }\n",
       "      </script>\n",
       "    </div>\n",
       "  </div>\n",
       "  "
      ],
      "text/plain": [
       "        age       sex        cp    trtbps      chol       fbs   restecg  \\\n",
       "0  0.952197  0.681005  1.973123  0.763956 -0.256334  2.394438 -1.005832   \n",
       "1 -1.915313  0.681005  1.002577 -0.092738  0.072199 -0.417635  0.898962   \n",
       "2 -1.474158 -1.468418  0.032031 -0.092738 -0.816773 -0.417635 -1.005832   \n",
       "3  0.180175  0.681005  0.032031 -0.663867 -0.198357 -0.417635  0.898962   \n",
       "4  0.290464 -1.468418 -0.938515 -0.663867  2.082050 -0.417635  0.898962   \n",
       "\n",
       "   thalachh      exng   oldpeak       slp       caa     thall  \n",
       "0  0.015443 -0.696631  1.087338 -2.274579 -0.714429 -2.148873  \n",
       "1  1.633471 -0.696631  2.122573 -2.274579 -0.714429 -0.512922  \n",
       "2  0.977514 -0.696631  0.310912  0.976352 -0.714429 -0.512922  \n",
       "3  1.239897 -0.696631 -0.206705  0.976352 -0.714429 -0.512922  \n",
       "4  0.583939  1.435481 -0.379244  0.976352 -0.714429 -0.512922  "
      ]
     },
     "execution_count": 49,
     "metadata": {},
     "output_type": "execute_result"
    }
   ],
   "source": [
    "print('CLEANED')\n",
    "print()\n",
    "X_clean.head()"
   ]
  },
  {
   "cell_type": "markdown",
   "metadata": {
    "id": "9hBzEkI_IMdU"
   },
   "source": [
    "## Prepare Dataset For Training"
   ]
  },
  {
   "cell_type": "markdown",
   "metadata": {
    "id": "qsvpn0AbIj0_"
   },
   "source": [
    "This section will walk-through setting up a pipeline for your dataset. Ensuring the code is reproducible across any tabular dataset."
   ]
  },
  {
   "cell_type": "markdown",
   "metadata": {
    "id": "lDXWRu15I0vH"
   },
   "source": [
    "**Steps:**\n",
    "\n",
    "\n",
    "1.   Create function to read-in data\n",
    "2.   Create function to split data into X/y\n",
    "3.   Create function for feature selection (one from above)\n",
    "4.   Use Sci-Kit Learn 'train_test_split' to split data for train/test and ensure no \"data-leakage\"\n",
    "5.   Create function(s) for feature engineering"
   ]
  },
  {
   "cell_type": "markdown",
   "metadata": {},
   "source": [
    "**Important** - We need to perform feature engineering on the train & test sets separately, but use the same Imputer, Encoder, & Scaler. \n",
    "\n",
    "To do this we will create a dictionary with the feature and the object that was used."
   ]
  },
  {
   "cell_type": "markdown",
   "metadata": {
    "id": "Gl52wqLbKKh-"
   },
   "source": [
    "**Steps 1-4:**"
   ]
  },
  {
   "cell_type": "code",
   "execution_count": 27,
   "metadata": {
    "executionInfo": {
     "elapsed": 297,
     "status": "ok",
     "timestamp": 1660158908953,
     "user": {
      "displayName": "Joe Sasson",
      "userId": "10050313654265167494"
     },
     "user_tz": 240
    },
    "id": "HGAcsEbNIQDI"
   },
   "outputs": [],
   "source": [
    "## read in dataset\n",
    "def read_dataframe(path):\n",
    "  return pd.read_csv(path)\n",
    "\n",
    "## split into X/y\n",
    "def split_X_y(dataframe, target_col):\n",
    "  columns = list(dataframe.columns)\n",
    "  columns.remove(target_col)\n",
    "\n",
    "  X = dataframe[columns]\n",
    "  y = dataframe[target_col]\n",
    "\n",
    "  return X, y\n",
    "\n",
    "# Step 1\n",
    "df = read_dataframe('https://raw.githubusercontent.com/j0sephsasson/Pepsi-Training-Course/main/datasets/heart.csv')\n",
    "\n",
    "# Step 2\n",
    "X, y = split_X_y(df, 'output')\n",
    "\n",
    "# Step 3\n",
    "good_features = feature_selection(X, list(X.columns))\n",
    "X = X[good_features].copy()\n",
    "\n",
    "## Step 4\n",
    "X_train, X_test, y_train, y_test = train_test_split(X, y, test_size=0.2)"
   ]
  },
  {
   "cell_type": "markdown",
   "metadata": {
    "id": "jfpgTtDcKhry"
   },
   "source": [
    "**Step 5:**"
   ]
  },
  {
   "cell_type": "code",
   "execution_count": 28,
   "metadata": {},
   "outputs": [],
   "source": [
    "# Feature Engineering - Part 1\n",
    "\n",
    "def create_and_fit_objects(data, features):\n",
    "    \"\"\"\n",
    "    This function fits the feature engineering objects to the training set\n",
    "    \n",
    "    Args:\n",
    "        -- 'data': pd.DataFrame\n",
    "        -- 'features': list[str]\n",
    "        \n",
    "    Returns:\n",
    "        -- 'd': dictionary\n",
    "    \"\"\"\n",
    "    \n",
    "    d = {}\n",
    "    \n",
    "    for col in features:\n",
    "            \n",
    "        # if we have category use most frequent\n",
    "        if data[col].dtypes == 'O':\n",
    "            imputer = SimpleImputer(strategy='most_frequent')\n",
    "            imputer.fit(data[col].values.reshape(-1, 1))\n",
    "            d[col] = [imputer]\n",
    "            \n",
    "        # if we have number use mean\n",
    "        elif data[col].dtypes == 'int64' or data[col].dtypes == 'float64':\n",
    "            imputer = SimpleImputer(strategy='mean')\n",
    "            imputer.fit(data[col].values.reshape(-1, 1))\n",
    "            d[col] = [imputer]\n",
    "            \n",
    "    ## encode categorical features ##\n",
    "    for col in features:\n",
    "        if data[col].dtypes == 'O':\n",
    "            enc = LabelEncoder()\n",
    "            enc.fit(data[col])\n",
    "            d[col].append(enc)\n",
    "        \n",
    "    ## scale numercial features ##\n",
    "    for col in features:\n",
    "        if data[col].dtypes == 'int64' or data[col].dtypes == 'float64':\n",
    "            scaler = StandardScaler()\n",
    "            scaler.fit(data[col].values.reshape(-1, 1))\n",
    "            d[col].append(scaler)\n",
    "            \n",
    "    return d"
   ]
  },
  {
   "cell_type": "code",
   "execution_count": 29,
   "metadata": {},
   "outputs": [],
   "source": [
    "# Feature Engineering - Part 2\n",
    "\n",
    "def clean_dataset(frame, features, object_dict):\n",
    "    \"\"\"\n",
    "    This function performs feature engineering on a dataframe\n",
    "\n",
    "    1. Imputing\n",
    "    2. Encoding\n",
    "    3. Scaling\n",
    "\n",
    "    Params:\n",
    "      -- 'data': pd.DataFrame\n",
    "      -- 'features': list[str]\n",
    "      -- 'object_dict': dictionary\n",
    "      \n",
    "    Returns:\n",
    "      -- 'data': pd.DataFrame\n",
    "    \"\"\"\n",
    "\n",
    "    data = frame.copy()\n",
    "\n",
    "    # Perform feature engineering\n",
    "    for col in features:\n",
    "        for idx in range(0, len(object_dict[col])):\n",
    "            data[col] = object_dict[col][idx].transform(data[col].values.reshape(-1, 1))\n",
    "\n",
    "    return data"
   ]
  },
  {
   "cell_type": "code",
   "execution_count": 30,
   "metadata": {},
   "outputs": [],
   "source": [
    "d = create_and_fit_objects(X_train, good_features)\n",
    "\n",
    "X_train_clean = clean_dataset(X_train, good_features, d)\n",
    "X_test_clean = clean_dataset(X_test, good_features, d)"
   ]
  },
  {
   "cell_type": "code",
   "execution_count": 31,
   "metadata": {
    "colab": {
     "base_uri": "https://localhost:8080/",
     "height": 206
    },
    "executionInfo": {
     "elapsed": 156,
     "status": "ok",
     "timestamp": 1660159024267,
     "user": {
      "displayName": "Joe Sasson",
      "userId": "10050313654265167494"
     },
     "user_tz": 240
    },
    "id": "8Loh_727LtJY",
    "outputId": "088bd4ba-79c5-4fde-97cb-1d8918de2f97"
   },
   "outputs": [
    {
     "data": {
      "text/html": [
       "<div>\n",
       "<style scoped>\n",
       "    .dataframe tbody tr th:only-of-type {\n",
       "        vertical-align: middle;\n",
       "    }\n",
       "\n",
       "    .dataframe tbody tr th {\n",
       "        vertical-align: top;\n",
       "    }\n",
       "\n",
       "    .dataframe thead th {\n",
       "        text-align: right;\n",
       "    }\n",
       "</style>\n",
       "<table border=\"1\" class=\"dataframe\">\n",
       "  <thead>\n",
       "    <tr style=\"text-align: right;\">\n",
       "      <th></th>\n",
       "      <th>age</th>\n",
       "      <th>sex</th>\n",
       "      <th>cp</th>\n",
       "      <th>trtbps</th>\n",
       "      <th>chol</th>\n",
       "      <th>fbs</th>\n",
       "      <th>restecg</th>\n",
       "      <th>thalachh</th>\n",
       "      <th>exng</th>\n",
       "      <th>oldpeak</th>\n",
       "      <th>slp</th>\n",
       "      <th>caa</th>\n",
       "      <th>thall</th>\n",
       "    </tr>\n",
       "  </thead>\n",
       "  <tbody>\n",
       "    <tr>\n",
       "      <th>232</th>\n",
       "      <td>0.033687</td>\n",
       "      <td>0.735800</td>\n",
       "      <td>-0.923109</td>\n",
       "      <td>1.585098</td>\n",
       "      <td>0.845113</td>\n",
       "      <td>-0.41804</td>\n",
       "      <td>-1.012171</td>\n",
       "      <td>-0.221661</td>\n",
       "      <td>1.423025</td>\n",
       "      <td>-0.195580</td>\n",
       "      <td>-0.644768</td>\n",
       "      <td>0.286712</td>\n",
       "      <td>1.149787</td>\n",
       "    </tr>\n",
       "    <tr>\n",
       "      <th>257</th>\n",
       "      <td>-0.517148</td>\n",
       "      <td>0.735800</td>\n",
       "      <td>-0.923109</td>\n",
       "      <td>0.697920</td>\n",
       "      <td>-0.860796</td>\n",
       "      <td>-0.41804</td>\n",
       "      <td>-1.012171</td>\n",
       "      <td>-1.078847</td>\n",
       "      <td>1.423025</td>\n",
       "      <td>-0.105598</td>\n",
       "      <td>-0.644768</td>\n",
       "      <td>-0.718858</td>\n",
       "      <td>1.149787</td>\n",
       "    </tr>\n",
       "    <tr>\n",
       "      <th>198</th>\n",
       "      <td>0.804857</td>\n",
       "      <td>0.735800</td>\n",
       "      <td>-0.923109</td>\n",
       "      <td>-0.632848</td>\n",
       "      <td>0.423428</td>\n",
       "      <td>-0.41804</td>\n",
       "      <td>0.872025</td>\n",
       "      <td>-2.296955</td>\n",
       "      <td>1.423025</td>\n",
       "      <td>0.704237</td>\n",
       "      <td>-0.644768</td>\n",
       "      <td>1.292282</td>\n",
       "      <td>1.149787</td>\n",
       "    </tr>\n",
       "    <tr>\n",
       "      <th>228</th>\n",
       "      <td>0.474356</td>\n",
       "      <td>0.735800</td>\n",
       "      <td>2.003430</td>\n",
       "      <td>2.139584</td>\n",
       "      <td>0.825946</td>\n",
       "      <td>-0.41804</td>\n",
       "      <td>-1.012171</td>\n",
       "      <td>0.409951</td>\n",
       "      <td>-0.702728</td>\n",
       "      <td>-0.735470</td>\n",
       "      <td>-0.644768</td>\n",
       "      <td>-0.718858</td>\n",
       "      <td>1.149787</td>\n",
       "    </tr>\n",
       "    <tr>\n",
       "      <th>112</th>\n",
       "      <td>1.025191</td>\n",
       "      <td>-1.359065</td>\n",
       "      <td>1.027917</td>\n",
       "      <td>0.476125</td>\n",
       "      <td>1.305134</td>\n",
       "      <td>-0.41804</td>\n",
       "      <td>0.872025</td>\n",
       "      <td>-0.763042</td>\n",
       "      <td>-0.702728</td>\n",
       "      <td>-0.735470</td>\n",
       "      <td>0.997694</td>\n",
       "      <td>-0.718858</td>\n",
       "      <td>1.149787</td>\n",
       "    </tr>\n",
       "  </tbody>\n",
       "</table>\n",
       "</div>"
      ],
      "text/plain": [
       "          age       sex        cp    trtbps      chol      fbs   restecg  \\\n",
       "232  0.033687  0.735800 -0.923109  1.585098  0.845113 -0.41804 -1.012171   \n",
       "257 -0.517148  0.735800 -0.923109  0.697920 -0.860796 -0.41804 -1.012171   \n",
       "198  0.804857  0.735800 -0.923109 -0.632848  0.423428 -0.41804  0.872025   \n",
       "228  0.474356  0.735800  2.003430  2.139584  0.825946 -0.41804 -1.012171   \n",
       "112  1.025191 -1.359065  1.027917  0.476125  1.305134 -0.41804  0.872025   \n",
       "\n",
       "     thalachh      exng   oldpeak       slp       caa     thall  \n",
       "232 -0.221661  1.423025 -0.195580 -0.644768  0.286712  1.149787  \n",
       "257 -1.078847  1.423025 -0.105598 -0.644768 -0.718858  1.149787  \n",
       "198 -2.296955  1.423025  0.704237 -0.644768  1.292282  1.149787  \n",
       "228  0.409951 -0.702728 -0.735470 -0.644768 -0.718858  1.149787  \n",
       "112 -0.763042 -0.702728 -0.735470  0.997694 -0.718858  1.149787  "
      ]
     },
     "execution_count": 31,
     "metadata": {},
     "output_type": "execute_result"
    }
   ],
   "source": [
    "X_train_clean.head()"
   ]
  },
  {
   "cell_type": "code",
   "execution_count": 32,
   "metadata": {
    "colab": {
     "base_uri": "https://localhost:8080/",
     "height": 206
    },
    "executionInfo": {
     "elapsed": 409,
     "status": "ok",
     "timestamp": 1660159029328,
     "user": {
      "displayName": "Joe Sasson",
      "userId": "10050313654265167494"
     },
     "user_tz": 240
    },
    "id": "y1QyuLlLMFqu",
    "outputId": "c55c4b54-a289-4931-9e41-6b4947864636"
   },
   "outputs": [
    {
     "data": {
      "text/html": [
       "<div>\n",
       "<style scoped>\n",
       "    .dataframe tbody tr th:only-of-type {\n",
       "        vertical-align: middle;\n",
       "    }\n",
       "\n",
       "    .dataframe tbody tr th {\n",
       "        vertical-align: top;\n",
       "    }\n",
       "\n",
       "    .dataframe thead th {\n",
       "        text-align: right;\n",
       "    }\n",
       "</style>\n",
       "<table border=\"1\" class=\"dataframe\">\n",
       "  <thead>\n",
       "    <tr style=\"text-align: right;\">\n",
       "      <th></th>\n",
       "      <th>age</th>\n",
       "      <th>sex</th>\n",
       "      <th>cp</th>\n",
       "      <th>trtbps</th>\n",
       "      <th>chol</th>\n",
       "      <th>fbs</th>\n",
       "      <th>restecg</th>\n",
       "      <th>thalachh</th>\n",
       "      <th>exng</th>\n",
       "      <th>oldpeak</th>\n",
       "      <th>slp</th>\n",
       "      <th>caa</th>\n",
       "      <th>thall</th>\n",
       "    </tr>\n",
       "  </thead>\n",
       "  <tbody>\n",
       "    <tr>\n",
       "      <th>39</th>\n",
       "      <td>1.135359</td>\n",
       "      <td>-1.359065</td>\n",
       "      <td>1.027917</td>\n",
       "      <td>1.585098</td>\n",
       "      <td>2.206007</td>\n",
       "      <td>-0.41804</td>\n",
       "      <td>-1.012171</td>\n",
       "      <td>0.049030</td>\n",
       "      <td>-0.702728</td>\n",
       "      <td>-0.195580</td>\n",
       "      <td>0.997694</td>\n",
       "      <td>-0.718858</td>\n",
       "      <td>-0.526409</td>\n",
       "    </tr>\n",
       "    <tr>\n",
       "      <th>116</th>\n",
       "      <td>-1.508652</td>\n",
       "      <td>0.735800</td>\n",
       "      <td>1.027917</td>\n",
       "      <td>-0.078361</td>\n",
       "      <td>-0.592450</td>\n",
       "      <td>-0.41804</td>\n",
       "      <td>-1.012171</td>\n",
       "      <td>0.815987</td>\n",
       "      <td>-0.702728</td>\n",
       "      <td>0.884200</td>\n",
       "      <td>-0.644768</td>\n",
       "      <td>-0.718858</td>\n",
       "      <td>-0.526409</td>\n",
       "    </tr>\n",
       "    <tr>\n",
       "      <th>239</th>\n",
       "      <td>-2.169655</td>\n",
       "      <td>0.735800</td>\n",
       "      <td>-0.923109</td>\n",
       "      <td>-0.300156</td>\n",
       "      <td>0.710941</td>\n",
       "      <td>-0.41804</td>\n",
       "      <td>-1.012171</td>\n",
       "      <td>0.274606</td>\n",
       "      <td>1.423025</td>\n",
       "      <td>-0.915433</td>\n",
       "      <td>0.997694</td>\n",
       "      <td>-0.718858</td>\n",
       "      <td>1.149787</td>\n",
       "    </tr>\n",
       "    <tr>\n",
       "      <th>101</th>\n",
       "      <td>0.474356</td>\n",
       "      <td>0.735800</td>\n",
       "      <td>2.003430</td>\n",
       "      <td>2.583173</td>\n",
       "      <td>0.480930</td>\n",
       "      <td>-0.41804</td>\n",
       "      <td>-1.012171</td>\n",
       "      <td>-0.221661</td>\n",
       "      <td>-0.702728</td>\n",
       "      <td>2.863797</td>\n",
       "      <td>-2.287231</td>\n",
       "      <td>-0.718858</td>\n",
       "      <td>1.149787</td>\n",
       "    </tr>\n",
       "    <tr>\n",
       "      <th>205</th>\n",
       "      <td>-0.296814</td>\n",
       "      <td>0.735800</td>\n",
       "      <td>-0.923109</td>\n",
       "      <td>-0.189259</td>\n",
       "      <td>0.193418</td>\n",
       "      <td>-0.41804</td>\n",
       "      <td>0.872025</td>\n",
       "      <td>0.500181</td>\n",
       "      <td>1.423025</td>\n",
       "      <td>-0.915433</td>\n",
       "      <td>0.997694</td>\n",
       "      <td>0.286712</td>\n",
       "      <td>1.149787</td>\n",
       "    </tr>\n",
       "  </tbody>\n",
       "</table>\n",
       "</div>"
      ],
      "text/plain": [
       "          age       sex        cp    trtbps      chol      fbs   restecg  \\\n",
       "39   1.135359 -1.359065  1.027917  1.585098  2.206007 -0.41804 -1.012171   \n",
       "116 -1.508652  0.735800  1.027917 -0.078361 -0.592450 -0.41804 -1.012171   \n",
       "239 -2.169655  0.735800 -0.923109 -0.300156  0.710941 -0.41804 -1.012171   \n",
       "101  0.474356  0.735800  2.003430  2.583173  0.480930 -0.41804 -1.012171   \n",
       "205 -0.296814  0.735800 -0.923109 -0.189259  0.193418 -0.41804  0.872025   \n",
       "\n",
       "     thalachh      exng   oldpeak       slp       caa     thall  \n",
       "39   0.049030 -0.702728 -0.195580  0.997694 -0.718858 -0.526409  \n",
       "116  0.815987 -0.702728  0.884200 -0.644768 -0.718858 -0.526409  \n",
       "239  0.274606  1.423025 -0.915433  0.997694 -0.718858  1.149787  \n",
       "101 -0.221661 -0.702728  2.863797 -2.287231 -0.718858  1.149787  \n",
       "205  0.500181  1.423025 -0.915433  0.997694  0.286712  1.149787  "
      ]
     },
     "execution_count": 32,
     "metadata": {},
     "output_type": "execute_result"
    }
   ],
   "source": [
    "X_test_clean.head()"
   ]
  },
  {
   "cell_type": "code",
   "execution_count": 33,
   "metadata": {
    "colab": {
     "base_uri": "https://localhost:8080/"
    },
    "executionInfo": {
     "elapsed": 151,
     "status": "ok",
     "timestamp": 1660159147940,
     "user": {
      "displayName": "Joe Sasson",
      "userId": "10050313654265167494"
     },
     "user_tz": 240
    },
    "id": "g3JIEnk6MjAl",
    "outputId": "6fd6f128-c849-4e5e-ec8e-da7571cda58c"
   },
   "outputs": [
    {
     "data": {
      "text/plain": [
       "232    0\n",
       "257    0\n",
       "198    0\n",
       "228    0\n",
       "112    1\n",
       "Name: output, dtype: int64"
      ]
     },
     "execution_count": 33,
     "metadata": {},
     "output_type": "execute_result"
    }
   ],
   "source": [
    "y_train.head()"
   ]
  },
  {
   "cell_type": "code",
   "execution_count": 34,
   "metadata": {
    "colab": {
     "base_uri": "https://localhost:8080/"
    },
    "executionInfo": {
     "elapsed": 219,
     "status": "ok",
     "timestamp": 1660159159133,
     "user": {
      "displayName": "Joe Sasson",
      "userId": "10050313654265167494"
     },
     "user_tz": 240
    },
    "id": "qat5aByLMlP_",
    "outputId": "74b6fb03-efa4-4091-e86c-9fedf6fe9e49"
   },
   "outputs": [
    {
     "data": {
      "text/plain": [
       "39     1\n",
       "116    1\n",
       "239    0\n",
       "101    1\n",
       "205    0\n",
       "Name: output, dtype: int64"
      ]
     },
     "execution_count": 34,
     "metadata": {},
     "output_type": "execute_result"
    }
   ],
   "source": [
    "y_test.head()"
   ]
  },
  {
   "cell_type": "markdown",
   "metadata": {
    "id": "t2ajuGOJMiQK"
   },
   "source": [
    "## Conclusion"
   ]
  },
  {
   "cell_type": "markdown",
   "metadata": {
    "id": "8ljq3IcmMzEx"
   },
   "source": [
    "**Question 1**\n",
    "\n",
    "What is cardinality?"
   ]
  },
  {
   "cell_type": "markdown",
   "metadata": {
    "id": "Mb4VM66eN_gh"
   },
   "source": [
    "\n",
    "\n",
    "1.   The number of null values in a feature\n",
    "2.   The number of unique values in a feature\n",
    "3.   The length of a feature\n",
    "\n"
   ]
  },
  {
   "cell_type": "markdown",
   "metadata": {
    "id": "Gb2JoOe_M8iY"
   },
   "source": [
    "**Question 2**\n",
    "\n",
    "Is high cardinality good or bad?"
   ]
  },
  {
   "cell_type": "markdown",
   "metadata": {
    "id": "75D1eyFqOXlt"
   },
   "source": [
    "\n",
    "\n",
    "1.   Good thing\n",
    "2.   Bad thing\n",
    "\n"
   ]
  },
  {
   "cell_type": "markdown",
   "metadata": {
    "id": "VytaremiNG2x"
   },
   "source": [
    "**Question 3**\n",
    "\n",
    "Which of the following is a common method for dealing with null values?"
   ]
  },
  {
   "cell_type": "markdown",
   "metadata": {
    "id": "KOT3NjCkOTFh"
   },
   "source": [
    "\n",
    "\n",
    "1.   Imputing\n",
    "2.   Scaling\n",
    "3.   Encoding\n",
    "\n"
   ]
  },
  {
   "cell_type": "markdown",
   "metadata": {
    "id": "e4yKALzONW5p"
   },
   "source": [
    "**Question 4**\n",
    "\n",
    "Which of the following is a common method for normalizing numerical data?"
   ]
  },
  {
   "cell_type": "markdown",
   "metadata": {
    "id": "Sz6Nz33WOask"
   },
   "source": [
    "\n",
    "\n",
    "1.   Using a Z-Score formula\n",
    "2.   Removing numbers over a certain limit\n",
    "3.   Adding 3 to each number\n",
    "\n"
   ]
  },
  {
   "cell_type": "markdown",
   "metadata": {
    "id": "Of-oQzsdNd2P"
   },
   "source": [
    "**Question 5 - Bonus!**\n",
    "\n",
    "What is the output shape of multiplying two matrices (A * B), where:\n",
    "\n",
    "Shape A = (2,2)\n",
    "\n",
    "Shape B = (2,6)"
   ]
  },
  {
   "cell_type": "markdown",
   "metadata": {
    "id": "AbyMGFw5Om_m"
   },
   "source": [
    "\n",
    "\n",
    "1.   (2,4)\n",
    "2.   (4,2)\n",
    "3.   (2,6)\n",
    "\n"
   ]
  }
 ],
 "metadata": {
  "colab": {
   "authorship_tag": "ABX9TyPpLDFxq4VbiMfI47H9O6uZ",
   "collapsed_sections": [],
   "name": "Feature Selection & Feature Engineering - Day 4.ipynb",
   "provenance": []
  },
  "kernelspec": {
   "display_name": "Python 3",
   "language": "python",
   "name": "python3"
  },
  "language_info": {
   "codemirror_mode": {
    "name": "ipython",
    "version": 3
   },
   "file_extension": ".py",
   "mimetype": "text/x-python",
   "name": "python",
   "nbconvert_exporter": "python",
   "pygments_lexer": "ipython3",
   "version": "3.7.7"
  }
 },
 "nbformat": 4,
 "nbformat_minor": 1
}
