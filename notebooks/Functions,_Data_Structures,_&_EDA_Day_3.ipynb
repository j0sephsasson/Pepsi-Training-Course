{
  "nbformat": 4,
  "nbformat_minor": 0,
  "metadata": {
    "colab": {
      "name": "Functions, Data Structures, & EDA - Day 3.ipynb",
      "provenance": [],
      "collapsed_sections": []
    },
    "kernelspec": {
      "name": "python3",
      "display_name": "Python 3"
    },
    "language_info": {
      "name": "python"
    }
  },
  "cells": [
    {
      "cell_type": "markdown",
      "source": [
        "# Exploratory Data Analysis (EDA) - Day 3"
      ],
      "metadata": {
        "id": "aOxa-JPW3fg_"
      }
    },
    {
      "cell_type": "markdown",
      "source": [
        "This notebook will cover the fundamental data-types in a dataset, and take a deep-dive into understanding the components of a dataset."
      ],
      "metadata": {
        "id": "letIXgXE35Ge"
      }
    },
    {
      "cell_type": "markdown",
      "source": [
        "#### **Topics:**\n",
        "\n",
        "\n",
        "1.   Data Structures & Basic Functions \n",
        "2.   Intermediate Functions\n",
        "3.   Read-in Data\n",
        "4.   Explore Dataset Features & Target\n",
        "5.   Conclusion\n"
      ],
      "metadata": {
        "id": "VxFFDYdy4MwN"
      }
    },
    {
      "cell_type": "markdown",
      "source": [
        "#### **Goals:**\n",
        "\n",
        "\n",
        "1.   Understand Data Structures in Python\n",
        "2.   Define Functions in Python\n",
        "3.   Read-in a Dataset with Python\n",
        "4.   Understand The Components of a Dataset\n",
        "5.   Examine Datasets with Python\n",
        "\n"
      ],
      "metadata": {
        "id": "Vwoy_HI25JU8"
      }
    },
    {
      "cell_type": "markdown",
      "source": [
        "## Import Open-Source Packages"
      ],
      "metadata": {
        "id": "z2NlC_AI6K3V"
      }
    },
    {
      "cell_type": "markdown",
      "source": [
        "This is something you will do at the beginning of every script. Import your open-source (or local) code."
      ],
      "metadata": {
        "id": "LMGa35tq7iFm"
      }
    },
    {
      "cell_type": "markdown",
      "source": [
        "\n",
        "\n",
        "1.   **Pandas:** Working with datasets. Arguably the most widely-used data-science Python package.\n",
        "2.   **NumPy:** Scientific computing package for working with vectors & matrices. \n",
        "3. **MatplotLib:** Tool for dataset vizualizations.\n",
        "\n"
      ],
      "metadata": {
        "id": "I59_F4nt6RzW"
      }
    },
    {
      "cell_type": "code",
      "execution_count": 30,
      "metadata": {
        "id": "Lqck1s4J3UVh"
      },
      "outputs": [],
      "source": [
        "import pandas as pd, numpy as np, matplotlib.pyplot as plt, seaborn as sns"
      ]
    },
    {
      "cell_type": "markdown",
      "source": [
        "## Basic Functions & Data Structures"
      ],
      "metadata": {
        "id": "nChIYDsg7J1s"
      }
    },
    {
      "cell_type": "markdown",
      "source": [
        "### Data Structures"
      ],
      "metadata": {
        "id": "TyElIS9pBzIU"
      }
    },
    {
      "cell_type": "markdown",
      "source": [
        "In this section we will identify and work with basic data structures."
      ],
      "metadata": {
        "id": "a-9Xo-UTKPIk"
      }
    },
    {
      "cell_type": "markdown",
      "source": [
        "**Common Data Structures:**\n",
        "\n",
        "\n",
        "1.   **Integer:** 1\n",
        "2.   **Float:** 1.0\n",
        "3.   **String:** 'hello'\n",
        "4.   **List:** [1,2,2,4,5]\n",
        "5.   **Set:** (1,2,3,4,5)\n",
        "6.   **Tuple:** (1,12)\n",
        "7.   **Dictionary:** {'key':value}\n",
        "\n",
        "\n"
      ],
      "metadata": {
        "id": "7d8RD6J48ae6"
      }
    },
    {
      "cell_type": "code",
      "source": [
        "# Declaring variables\n",
        "int_ = 1\n",
        "float_ = 1.0\n",
        "string_ = 'hello'\n",
        "list_ = [int_, float_, int_+3]\n",
        "set_ = set(list_)\n",
        "tuple_ = (1,12)\n",
        "dict_ = {string_:list_}\n",
        "\n",
        "# Examine Types\n",
        "print(type(int_))\n",
        "print(type(float_))\n",
        "print(type(string_))\n",
        "print(type(list_))\n",
        "print(type(set_))\n",
        "print(type(tuple_))\n",
        "print(type(dict_))"
      ],
      "metadata": {
        "colab": {
          "base_uri": "https://localhost:8080/"
        },
        "id": "sR83v7T76_8p",
        "outputId": "1da83530-aeaf-4608-9ca4-e1b6e568f218"
      },
      "execution_count": null,
      "outputs": [
        {
          "output_type": "stream",
          "name": "stdout",
          "text": [
            "<class 'int'>\n",
            "<class 'float'>\n",
            "<class 'str'>\n",
            "<class 'list'>\n",
            "<class 'set'>\n",
            "<class 'tuple'>\n",
            "<class 'dict'>\n"
          ]
        }
      ]
    },
    {
      "cell_type": "code",
      "source": [
        "# Accessing Elements\n",
        "## We use indexing, & Python indexing starts at 0\n",
        "\n",
        "print('The Length of The String is: ', len(string_))\n",
        "print('The First Letter in the String is: ', string_[0])\n",
        "print('The Last Letter in the String is: ', string_[-1])\n",
        "\n",
        "print()\n",
        "\n",
        "print('The Length of The List is: ', len(list_))\n",
        "print('The First Element in the List is: ', list_[0])\n",
        "print('The Last Element in the List is: ', list_[-1])\n",
        "\n",
        "print()\n",
        "\n",
        "print('The Length of The Set is: ', len(set_))\n",
        "print(set_)\n",
        "\n",
        "print()\n",
        "\n",
        "print('The First Element of The Tuple is: ', tuple_[0])\n",
        "print('The Last Element of The Tuple is: ', tuple_[-1])\n",
        "print('The Length of The Tuple is: ', len(tuple_))"
      ],
      "metadata": {
        "colab": {
          "base_uri": "https://localhost:8080/"
        },
        "id": "RqdFx5Jp9YwR",
        "outputId": "30daf2de-df30-4ded-95dc-4136fc830a55"
      },
      "execution_count": null,
      "outputs": [
        {
          "output_type": "stream",
          "name": "stdout",
          "text": [
            "The Length of The String is:  5\n",
            "The First Letter in the String is:  h\n",
            "The Last Letter in the String is:  o\n",
            "\n",
            "The Length of The List is:  3\n",
            "The First Element in the List is:  1\n",
            "The Last Element in the List is:  4\n",
            "\n",
            "The Length of The Set is:  2\n",
            "{1, 4}\n",
            "\n",
            "The First Element of The Tuple is:  1\n",
            "The Last Element of The Tuple is:  12\n",
            "The Length of The Tuple is:  2\n"
          ]
        }
      ]
    },
    {
      "cell_type": "code",
      "source": [
        "# Accessing Dictionary Elements\n",
        "## We use the key to access the value\n",
        "print('The Length of the Dictionary is: ', len(dict_))\n",
        "print('The Value For Key \"hello\" is: ', dict_['hello'])"
      ],
      "metadata": {
        "colab": {
          "base_uri": "https://localhost:8080/"
        },
        "id": "5iVakkCK-sOs",
        "outputId": "bb4a260f-6d15-41ba-d761-1a0f72d3c3a0"
      },
      "execution_count": null,
      "outputs": [
        {
          "output_type": "stream",
          "name": "stdout",
          "text": [
            "The Length of the Dictionary is:  1\n",
            "The Value For Key \"hello\" is:  [1, 1.0, 1]\n"
          ]
        }
      ]
    },
    {
      "cell_type": "code",
      "source": [
        "# Creating Arrays (vectors)\n",
        "my_arr = np.array(list_)\n",
        "\n",
        "# Creating Matrices\n",
        "my_mat = np.array([list_, list_])\n",
        "\n",
        "print(type(my_arr))\n",
        "print(type(my_mat))\n",
        "\n",
        "print('Vector:')\n",
        "print(my_arr)\n",
        "print('Shape: ', my_arr.shape)\n",
        "\n",
        "print()\n",
        "\n",
        "print('Matrix:')\n",
        "print(my_mat)\n",
        "print('Shape: ', my_mat.shape)"
      ],
      "metadata": {
        "colab": {
          "base_uri": "https://localhost:8080/"
        },
        "id": "6613rnZJAuNJ",
        "outputId": "58bc6fa4-b114-4b93-9eb7-c20bf3ce848c"
      },
      "execution_count": null,
      "outputs": [
        {
          "output_type": "stream",
          "name": "stdout",
          "text": [
            "<class 'numpy.ndarray'>\n",
            "<class 'numpy.ndarray'>\n",
            "Vector:\n",
            "[1. 1. 1.]\n",
            "Shape:  (3,)\n",
            "\n",
            "Matrix:\n",
            "[[1. 1. 1.]\n",
            " [1. 1. 1.]]\n",
            "Shape:  (2, 3)\n"
          ]
        }
      ]
    },
    {
      "cell_type": "markdown",
      "source": [
        "### Functions"
      ],
      "metadata": {
        "id": "wdKL6WWiB37y"
      }
    },
    {
      "cell_type": "markdown",
      "source": [
        "In this section we will define and call basic functions."
      ],
      "metadata": {
        "id": "IDebM-TjKUDG"
      }
    },
    {
      "cell_type": "markdown",
      "source": [
        "**Components of Functions:**\n",
        "\n",
        "\n",
        "1.   **def:** Keyword used to indicate we are defining a function\n",
        "2.   **Args/Parameters:** The inputs to a function\n",
        "3.   **return:** Keyword used to indicate the return value of a function\n",
        "4.   **Docstring:** String inside a function indicating what the function does, returns, and the param types\n"
      ],
      "metadata": {
        "id": "TaNSCwyoHQvW"
      }
    },
    {
      "cell_type": "code",
      "source": [
        "# Defining Functions - 1\n",
        "\n",
        "def add(x, y):\n",
        "  \"\"\"\n",
        "  This Function Returns The Sum of The Inputs\n",
        "\n",
        "  Args:\n",
        "    -- 'x': integer\n",
        "    -- 'y': integer\n",
        "\n",
        "  Returns:\n",
        "    -- integer\n",
        "  \"\"\"\n",
        "  return x+y\n",
        "\n",
        "# Calling Functions\n",
        "print(add(2,6))\n",
        "print(add(22,12))\n",
        "print(add(56,611))"
      ],
      "metadata": {
        "colab": {
          "base_uri": "https://localhost:8080/"
        },
        "id": "CNVXpZZBB4nM",
        "outputId": "2bdd99d1-615f-4aa4-d88f-463b8a81625d"
      },
      "execution_count": null,
      "outputs": [
        {
          "output_type": "stream",
          "name": "stdout",
          "text": [
            "8\n",
            "34\n",
            "667\n"
          ]
        }
      ]
    },
    {
      "cell_type": "code",
      "source": [
        "# Defining Functions - 2\n",
        "## Functions don't always require you to pass in args\n",
        "## We can also set the the functions return value to a variable\n",
        "\n",
        "def create_random_array():\n",
        "  \"\"\"\n",
        "  This Function Creates a Random Array (matrix)\n",
        "\n",
        "  Args:\n",
        "    -- None\n",
        "\n",
        "  Returns:\n",
        "    -- np.array \n",
        "  \"\"\"\n",
        "  n = np.random.randint(low=1, high=10)\n",
        "  n1 = np.random.randint(low=1, high=10)\n",
        "  return np.random.randn(n, n1)\n",
        "\n",
        "def create_specific_array(x,y):\n",
        "  \"\"\"\n",
        "  This Function Creates a Random Array (matrix) w/ Shape (x,y)\n",
        "\n",
        "  Args:\n",
        "    -- 'x': \n",
        "      - num of samples in array\n",
        "      - type int\n",
        "    -- 'y':\n",
        "      - num of dimensions in array\n",
        "      - type int\n",
        "\n",
        "  Returns:\n",
        "    -- np.array with shape (x,y)\n",
        "  \"\"\"\n",
        "\n",
        "  return np.random.randn(x,y)\n",
        "\n",
        "new_array1 = create_random_array()\n",
        "new_array2 = create_specific_array(3,3)\n",
        "\n",
        "print('Array 1:')\n",
        "print('Shape: ',new_array1.shape)\n",
        "print(new_array1)\n",
        "\n",
        "print()\n",
        "\n",
        "print('Array 2:')\n",
        "print('Shape: ',new_array2.shape)\n",
        "print(new_array2)"
      ],
      "metadata": {
        "colab": {
          "base_uri": "https://localhost:8080/"
        },
        "id": "qyU-GlAlC23s",
        "outputId": "743ba8ca-c069-4054-e45e-5eb21ee43c97"
      },
      "execution_count": null,
      "outputs": [
        {
          "output_type": "stream",
          "name": "stdout",
          "text": [
            "Array 1:\n",
            "Shape:  (7, 1)\n",
            "[[-0.20117106]\n",
            " [-0.05772627]\n",
            " [-1.34203833]\n",
            " [ 1.14238267]\n",
            " [-0.4389362 ]\n",
            " [-0.66708169]\n",
            " [ 1.56084021]]\n",
            "\n",
            "Array 2:\n",
            "Shape:  (3, 3)\n",
            "[[ 0.01815821  0.24300751 -0.87563591]\n",
            " [-1.78453544 -0.25564268 -0.16779356]\n",
            " [-1.21908616 -1.05912343 -1.24834121]]\n"
          ]
        }
      ]
    },
    {
      "cell_type": "code",
      "source": [
        "# Defining Functions - 3\n",
        "## Functions can return multiple values!\n",
        "\n",
        "def add_subtract(x,y,z):\n",
        "  \"\"\"\n",
        "  This Function Performs Simple Add & Subtraction on Inputs\n",
        "\n",
        "  Args:\n",
        "    -- 'x': type int\n",
        "    -- 'y': type int\n",
        "    -- 'z': type int\n",
        "\n",
        "  Returns:\n",
        "    -- 'a': \n",
        "      - (x+z)\n",
        "      - type int\n",
        "    -- 'b':\n",
        "      - (y-z)\n",
        "      - type int\n",
        "    -- 'c':\n",
        "      - (x+y+z)\n",
        "      - type int\n",
        "  \"\"\"\n",
        "\n",
        "  a = x+z\n",
        "  b = y-z\n",
        "  c = x+y+z\n",
        "\n",
        "  return a,b,c\n",
        "\n",
        "a,b,c = add_subtract(2,5,10)\n",
        "print('a:', a)\n",
        "print('b:', b)\n",
        "print('c:', c)"
      ],
      "metadata": {
        "colab": {
          "base_uri": "https://localhost:8080/"
        },
        "id": "VyolOcojF5l7",
        "outputId": "b32e6192-07a8-4469-dae5-274cf763ad2e"
      },
      "execution_count": null,
      "outputs": [
        {
          "output_type": "stream",
          "name": "stdout",
          "text": [
            "a: 12\n",
            "b: -5\n",
            "c: 17\n"
          ]
        }
      ]
    },
    {
      "cell_type": "code",
      "source": [
        "# Defining Functions - 4\n",
        "## Functions can call other functions!\n",
        "## 'create_random_array()' is actually calling a function as well: np.random.randint()\n",
        "\n",
        "def add_two(x):\n",
        "  return x+2\n",
        "\n",
        "def subtract_ten(x):\n",
        "  return x-10\n",
        "\n",
        "def function_call(x):\n",
        "  x = add_two(x) # call function add_two\n",
        "  x = subtract_ten(x) # call function subtract_ten\n",
        "\n",
        "  return x\n",
        "\n",
        "print(function_call(12))\n",
        "print(function_call(123))\n",
        "print(function_call(1))"
      ],
      "metadata": {
        "colab": {
          "base_uri": "https://localhost:8080/"
        },
        "id": "8ulYKMAOIdlR",
        "outputId": "7b20f70c-e00a-4b19-bf8d-5336d8acc47b"
      },
      "execution_count": null,
      "outputs": [
        {
          "output_type": "stream",
          "name": "stdout",
          "text": [
            "4\n",
            "115\n",
            "-7\n"
          ]
        }
      ]
    },
    {
      "cell_type": "markdown",
      "source": [
        "## Intermediate Functions"
      ],
      "metadata": {
        "id": "VDxSU4QmJkcd"
      }
    },
    {
      "cell_type": "markdown",
      "source": [
        "In this section we will define more complex functions. Such as working with loops and accessing elements from objects."
      ],
      "metadata": {
        "id": "heiEn_V4KZ_k"
      }
    },
    {
      "cell_type": "code",
      "source": [
        "# Intermediate Functions - 1\n",
        "## Access elements from a list\n",
        "\n",
        "def loop_over(l):\n",
        "  for element in l: # one way to access elements\n",
        "    print(element)\n",
        "\n",
        "def add_two_inplace(l):\n",
        "  for index in range(0, len(l)): # another way to access elements\n",
        "    l[index] = l[index]+2\n",
        "\n",
        "def add_two_outplace(l):\n",
        "  new = []\n",
        "  for element in l:\n",
        "    new.append(element+2)\n",
        "\n",
        "  return new\n",
        "\n",
        "my_list = [1,3,4,7,88,990] # define a list\n",
        "loop_over(my_list) # we don't set a variable, the function doesn't return a value\n",
        "\n",
        "print()\n",
        "\n",
        "add_two_inplace(my_list) # list is modified in place\n",
        "new_list_outplace = add_two_outplace(my_list)\n",
        "print('List after modifying inplace: ', my_list)\n",
        "print()\n",
        "print('Newly created list: ', new_list_outplace)"
      ],
      "metadata": {
        "colab": {
          "base_uri": "https://localhost:8080/"
        },
        "id": "hONKSD_DJpwg",
        "outputId": "f0ce4963-2c67-4dae-c973-d1c08e66264f"
      },
      "execution_count": null,
      "outputs": [
        {
          "output_type": "stream",
          "name": "stdout",
          "text": [
            "1\n",
            "3\n",
            "4\n",
            "7\n",
            "88\n",
            "990\n",
            "\n",
            "List after modifying inplace:  [3, 5, 6, 9, 90, 992]\n",
            "\n",
            "Newly created list:  [5, 7, 8, 11, 92, 994]\n"
          ]
        }
      ]
    },
    {
      "cell_type": "code",
      "source": [
        "# Intermediate Functions - 2\n",
        "## Accessing elements from a dictionary\n",
        "## Conditional Statements (if/else)\n",
        "\n",
        "def show(d):\n",
        "  for key, value in d.items():\n",
        "    print(key, value)\n",
        "\n",
        "def show_values(d):\n",
        "  keys = list(d.keys()) # get keys\n",
        "  for k in keys: # loop over the new list to access each key\n",
        "    print(d[k]) # access the value for the current key\n",
        "\n",
        "def key_from_val(d, value):\n",
        "  for k,v in d.items(): # loop over items\n",
        "    if v == value: # if the current value equals our input value\n",
        "      print('THE KEY FOR {} IS {}'.format(value, k)) # return the key!\n",
        "\n",
        "d = {'key1':[1,2,3,4,5], 'key2':12, 'key3':'this is a string', \n",
        "     'key4':[55,7,85]}\n",
        "\n",
        "key_from_val(d, 12)"
      ],
      "metadata": {
        "colab": {
          "base_uri": "https://localhost:8080/"
        },
        "id": "BCFuC1VzRHMI",
        "outputId": "b57f6f63-d787-4512-cc16-7ed24cfbbdbc"
      },
      "execution_count": null,
      "outputs": [
        {
          "output_type": "stream",
          "name": "stdout",
          "text": [
            "THE KEY FOR 12 IS key2\n"
          ]
        }
      ]
    },
    {
      "cell_type": "code",
      "source": [
        "# Intermdiate Functions - 3\n",
        "## Putting it all together\n",
        "\n",
        "def show_even_numbers_loop(l): # version one (with a loop)\n",
        "  \"\"\"\n",
        "  This function takes in a list and \n",
        "  returns a new list containing all even numbers\n",
        "\n",
        "  Args:\n",
        "    -- 'l': list containing integers\n",
        "\n",
        "  Returns:\n",
        "    -- new list containing all even numbers\n",
        "  \"\"\"\n",
        "\n",
        "  new = []\n",
        "\n",
        "  for x in l:\n",
        "    if x % 2 == 0:\n",
        "      new.append(x)\n",
        "  \n",
        "  if len(new) == 0:\n",
        "    return 'No Even Numbers'\n",
        "  else:\n",
        "    return new \n",
        "\n",
        "def show_even_numbers_comp(l): # version two (with list comprehension)\n",
        "  \"\"\"\n",
        "  This function takes in a list and \n",
        "  returns a new list containing all even numbers\n",
        "\n",
        "  Args:\n",
        "    -- 'l': list containing integers\n",
        "\n",
        "  Returns:\n",
        "    -- new list containing all even numbers\n",
        "  \"\"\"\n",
        "\n",
        "  new = [i for i in l if i % 2 == 0]\n",
        "\n",
        "  return new if len(new) > 0 else 'No Even Numbers' \n",
        "\n",
        "l = [1,2,3,4,5,6,7,8,9,10]\n",
        "\n",
        "loop_result = show_even_numbers_loop(l)\n",
        "comp_result = show_even_numbers_comp(l)\n",
        "\n",
        "print(loop_result)\n",
        "print(comp_result)"
      ],
      "metadata": {
        "colab": {
          "base_uri": "https://localhost:8080/"
        },
        "id": "PLvhdETJTMkG",
        "outputId": "6dbe0067-90f0-4057-a5bd-2c55f157e4de"
      },
      "execution_count": null,
      "outputs": [
        {
          "output_type": "stream",
          "name": "stdout",
          "text": [
            "[2, 4, 6, 8, 10]\n",
            "[2, 4, 6, 8, 10]\n"
          ]
        }
      ]
    },
    {
      "cell_type": "markdown",
      "source": [
        "## WORKING WITH DATASETS"
      ],
      "metadata": {
        "id": "hLdeFylDW2Dk"
      }
    },
    {
      "cell_type": "markdown",
      "source": [
        "In this section we will be learning how to read-in and work with different types of data."
      ],
      "metadata": {
        "id": "PHOMM5t-XFka"
      }
    },
    {
      "cell_type": "markdown",
      "source": [
        "#### **Introduction**"
      ],
      "metadata": {
        "id": "awXshbTXBZA8"
      }
    },
    {
      "cell_type": "markdown",
      "source": [
        "**Dataframe (CSV)**"
      ],
      "metadata": {
        "id": "kBkBnGfOXigN"
      }
    },
    {
      "cell_type": "code",
      "source": [
        "dataframe = pd.read_csv('/content/iris.csv', index_col=0) # read in dataset\n",
        "dataframe.head() # visualize dataset"
      ],
      "metadata": {
        "colab": {
          "base_uri": "https://localhost:8080/",
          "height": 206
        },
        "id": "_jvTqklzW4Md",
        "outputId": "91e4b861-748e-40d0-8c64-27eec8853284"
      },
      "execution_count": null,
      "outputs": [
        {
          "output_type": "execute_result",
          "data": {
            "text/plain": [
              "   sepal_length  sepal_width  petal_length  petal_width species\n",
              "0           5.1          3.5           1.4          0.2  setosa\n",
              "1           4.9          3.0           1.4          0.2  setosa\n",
              "2           4.7          3.2           1.3          0.2  setosa\n",
              "3           4.6          3.1           1.5          0.2  setosa\n",
              "4           5.0          3.6           1.4          0.2  setosa"
            ],
            "text/html": [
              "\n",
              "  <div id=\"df-82dfa9ff-a645-4fc5-b386-325856ac18ff\">\n",
              "    <div class=\"colab-df-container\">\n",
              "      <div>\n",
              "<style scoped>\n",
              "    .dataframe tbody tr th:only-of-type {\n",
              "        vertical-align: middle;\n",
              "    }\n",
              "\n",
              "    .dataframe tbody tr th {\n",
              "        vertical-align: top;\n",
              "    }\n",
              "\n",
              "    .dataframe thead th {\n",
              "        text-align: right;\n",
              "    }\n",
              "</style>\n",
              "<table border=\"1\" class=\"dataframe\">\n",
              "  <thead>\n",
              "    <tr style=\"text-align: right;\">\n",
              "      <th></th>\n",
              "      <th>sepal_length</th>\n",
              "      <th>sepal_width</th>\n",
              "      <th>petal_length</th>\n",
              "      <th>petal_width</th>\n",
              "      <th>species</th>\n",
              "    </tr>\n",
              "  </thead>\n",
              "  <tbody>\n",
              "    <tr>\n",
              "      <th>0</th>\n",
              "      <td>5.1</td>\n",
              "      <td>3.5</td>\n",
              "      <td>1.4</td>\n",
              "      <td>0.2</td>\n",
              "      <td>setosa</td>\n",
              "    </tr>\n",
              "    <tr>\n",
              "      <th>1</th>\n",
              "      <td>4.9</td>\n",
              "      <td>3.0</td>\n",
              "      <td>1.4</td>\n",
              "      <td>0.2</td>\n",
              "      <td>setosa</td>\n",
              "    </tr>\n",
              "    <tr>\n",
              "      <th>2</th>\n",
              "      <td>4.7</td>\n",
              "      <td>3.2</td>\n",
              "      <td>1.3</td>\n",
              "      <td>0.2</td>\n",
              "      <td>setosa</td>\n",
              "    </tr>\n",
              "    <tr>\n",
              "      <th>3</th>\n",
              "      <td>4.6</td>\n",
              "      <td>3.1</td>\n",
              "      <td>1.5</td>\n",
              "      <td>0.2</td>\n",
              "      <td>setosa</td>\n",
              "    </tr>\n",
              "    <tr>\n",
              "      <th>4</th>\n",
              "      <td>5.0</td>\n",
              "      <td>3.6</td>\n",
              "      <td>1.4</td>\n",
              "      <td>0.2</td>\n",
              "      <td>setosa</td>\n",
              "    </tr>\n",
              "  </tbody>\n",
              "</table>\n",
              "</div>\n",
              "      <button class=\"colab-df-convert\" onclick=\"convertToInteractive('df-82dfa9ff-a645-4fc5-b386-325856ac18ff')\"\n",
              "              title=\"Convert this dataframe to an interactive table.\"\n",
              "              style=\"display:none;\">\n",
              "        \n",
              "  <svg xmlns=\"http://www.w3.org/2000/svg\" height=\"24px\"viewBox=\"0 0 24 24\"\n",
              "       width=\"24px\">\n",
              "    <path d=\"M0 0h24v24H0V0z\" fill=\"none\"/>\n",
              "    <path d=\"M18.56 5.44l.94 2.06.94-2.06 2.06-.94-2.06-.94-.94-2.06-.94 2.06-2.06.94zm-11 1L8.5 8.5l.94-2.06 2.06-.94-2.06-.94L8.5 2.5l-.94 2.06-2.06.94zm10 10l.94 2.06.94-2.06 2.06-.94-2.06-.94-.94-2.06-.94 2.06-2.06.94z\"/><path d=\"M17.41 7.96l-1.37-1.37c-.4-.4-.92-.59-1.43-.59-.52 0-1.04.2-1.43.59L10.3 9.45l-7.72 7.72c-.78.78-.78 2.05 0 2.83L4 21.41c.39.39.9.59 1.41.59.51 0 1.02-.2 1.41-.59l7.78-7.78 2.81-2.81c.8-.78.8-2.07 0-2.86zM5.41 20L4 18.59l7.72-7.72 1.47 1.35L5.41 20z\"/>\n",
              "  </svg>\n",
              "      </button>\n",
              "      \n",
              "  <style>\n",
              "    .colab-df-container {\n",
              "      display:flex;\n",
              "      flex-wrap:wrap;\n",
              "      gap: 12px;\n",
              "    }\n",
              "\n",
              "    .colab-df-convert {\n",
              "      background-color: #E8F0FE;\n",
              "      border: none;\n",
              "      border-radius: 50%;\n",
              "      cursor: pointer;\n",
              "      display: none;\n",
              "      fill: #1967D2;\n",
              "      height: 32px;\n",
              "      padding: 0 0 0 0;\n",
              "      width: 32px;\n",
              "    }\n",
              "\n",
              "    .colab-df-convert:hover {\n",
              "      background-color: #E2EBFA;\n",
              "      box-shadow: 0px 1px 2px rgba(60, 64, 67, 0.3), 0px 1px 3px 1px rgba(60, 64, 67, 0.15);\n",
              "      fill: #174EA6;\n",
              "    }\n",
              "\n",
              "    [theme=dark] .colab-df-convert {\n",
              "      background-color: #3B4455;\n",
              "      fill: #D2E3FC;\n",
              "    }\n",
              "\n",
              "    [theme=dark] .colab-df-convert:hover {\n",
              "      background-color: #434B5C;\n",
              "      box-shadow: 0px 1px 3px 1px rgba(0, 0, 0, 0.15);\n",
              "      filter: drop-shadow(0px 1px 2px rgba(0, 0, 0, 0.3));\n",
              "      fill: #FFFFFF;\n",
              "    }\n",
              "  </style>\n",
              "\n",
              "      <script>\n",
              "        const buttonEl =\n",
              "          document.querySelector('#df-82dfa9ff-a645-4fc5-b386-325856ac18ff button.colab-df-convert');\n",
              "        buttonEl.style.display =\n",
              "          google.colab.kernel.accessAllowed ? 'block' : 'none';\n",
              "\n",
              "        async function convertToInteractive(key) {\n",
              "          const element = document.querySelector('#df-82dfa9ff-a645-4fc5-b386-325856ac18ff');\n",
              "          const dataTable =\n",
              "            await google.colab.kernel.invokeFunction('convertToInteractive',\n",
              "                                                     [key], {});\n",
              "          if (!dataTable) return;\n",
              "\n",
              "          const docLinkHtml = 'Like what you see? Visit the ' +\n",
              "            '<a target=\"_blank\" href=https://colab.research.google.com/notebooks/data_table.ipynb>data table notebook</a>'\n",
              "            + ' to learn more about interactive tables.';\n",
              "          element.innerHTML = '';\n",
              "          dataTable['output_type'] = 'display_data';\n",
              "          await google.colab.output.renderOutput(dataTable, element);\n",
              "          const docLink = document.createElement('div');\n",
              "          docLink.innerHTML = docLinkHtml;\n",
              "          element.appendChild(docLink);\n",
              "        }\n",
              "      </script>\n",
              "    </div>\n",
              "  </div>\n",
              "  "
            ]
          },
          "metadata": {},
          "execution_count": 12
        }
      ]
    },
    {
      "cell_type": "markdown",
      "source": [
        "**Text Data**"
      ],
      "metadata": {
        "id": "RX2o__CPj9Jw"
      }
    },
    {
      "cell_type": "code",
      "source": [
        "alice_wonderland = open('/content/alice_wonderland.txt', 'r').read()\n",
        "alice_wonderland"
      ],
      "metadata": {
        "colab": {
          "base_uri": "https://localhost:8080/",
          "height": 157
        },
        "id": "mDid4LAHXyxt",
        "outputId": "4d59743f-9064-4d87-d1e8-d0a2c0f6f679"
      },
      "execution_count": null,
      "outputs": [
        {
          "output_type": "execute_result",
          "data": {
            "text/plain": [
              "'Alice was beginning to get very tired of sitting by her sister on the\\nbank, and of having nothing to do: once or twice she had peeped into\\nthe book her sister was reading, but it had no pictures or\\nconversations in it, “and what is the use of a book,” thought Alice\\n“without pictures or conversations?”\\n\\nSo she was considering in her own mind (as well as she could, for the\\nhot day made her feel very sleepy and stupid), whether the pleasure of\\nmaking a daisy-chain would be worth the trouble of getting up and\\npicking the daisies, when suddenly a White Rabbit with pink eyes ran\\nclose by her.\\n\\nThere was nothing so _very_ remarkable in that; nor did Alice think it\\nso _very_ much out of the way to hear the Rabbit say to itself, “Oh\\ndear! Oh dear! I shall be late!” (when she thought it over afterwards,\\nit occurred to her that she ought to have wondered at this, but at the\\ntime it all seemed quite natural); but when the Rabbit actually _took a\\nwatch out of its waistcoat-pocket_, and looked at it, and then hurried\\non, Alice started to her feet, for it flashed across her mind that she\\nhad never before seen a rabbit with either a waistcoat-pocket, or a\\nwatch to take out of it, and burning with curiosity, she ran across the\\nfield after it, and fortunately was just in time to see it pop down a\\nlarge rabbit-hole under the hedge.\\n\\nIn another moment down went Alice after it, never once considering how\\nin the world she was to get out again.\\n\\nThe rabbit-hole went straight on like a tunnel for some way, and then\\ndipped suddenly down, so suddenly that Alice had not a moment to think\\nabout stopping herself before she found herself falling down a very\\ndeep well.\\n\\nEither the well was very deep, or she fell very slowly, for she had\\nplenty of time as she went down to look about her and to wonder what\\nwas going to happen next. First, she tried to look down and make out\\nwhat she was coming to, but it was too dark to see anything; then she\\nlooked at the sides of the well, and noticed that they were filled with\\ncupboards and book-shelves; here and there she saw maps and pictures\\nhung upon pegs. She took down a jar from one of the shelves as she\\npassed; it was labelled “ORANGE MARMALADE”, but to her great\\ndisappointment it was empty: she did not like to drop the jar for fear\\nof killing somebody underneath, so managed to put it into one of the\\ncupboards as she fell past it.\\n\\n“Well!” thought Alice to herself, “after such a fall as this, I shall\\nthink nothing of tumbling down stairs! How brave they’ll all think me\\nat home! Why, I wouldn’t say anything about it, even if I fell off the\\ntop of the house!” (Which was very likely true.)\\n\\nDown, down, down. Would the fall _never_ come to an end? “I wonder how\\nmany miles I’ve fallen by this time?” she said aloud. “I must be\\ngetting somewhere near the centre of the earth. Let me see: that would\\nbe four thousand miles down, I think—” (for, you see, Alice had learnt\\nseveral things of this sort in her lessons in the schoolroom, and\\nthough this was not a _very_ good opportunity for showing off her\\nknowledge, as there was no one to listen to her, still it was good\\npractice to say it over) “—yes, that’s about the right distance—but\\nthen I wonder what Latitude or Longitude I’ve got to?” (Alice had no\\nidea what Latitude was, or Longitude either, but thought they were nice\\ngrand words to say.)\\n\\nPresently she began again. “I wonder if I shall fall right _through_\\nthe earth! How funny it’ll seem to come out among the people that walk\\nwith their heads downward! The Antipathies, I think—” (she was rather\\nglad there _was_ no one listening, this time, as it didn’t sound at all\\nthe right word) “—but I shall have to ask them what the name of the\\ncountry is, you know. Please, Ma’am, is this New Zealand or Australia?”\\n(and she tried to curtsey as she spoke—fancy _curtseying_ as you’re\\nfalling through the air! Do you think you could manage it?) “And what\\nan ignorant little girl she’ll think me for asking! No, it’ll never do\\nto ask: perhaps I shall see it written up somewhere.”\\n\\nDown, down, down. There was nothing else to do, so Alice soon began\\ntalking again. “Dinah’ll miss me very much to-night, I should think!”\\n(Dinah was the cat.) “I hope they’ll remember her saucer of milk at\\ntea-time. Dinah my dear! I wish you were down here with me! There are\\nno mice in the air, I’m afraid, but you might catch a bat, and that’s\\nvery like a mouse, you know. But do cats eat bats, I wonder?” And here\\nAlice began to get rather sleepy, and went on saying to herself, in a\\ndreamy sort of way, “Do cats eat bats? Do cats eat bats?” and\\nsometimes, “Do bats eat cats?” for, you see, as she couldn’t answer\\neither question, it didn’t much matter which way she put it. She felt\\nthat she was dozing off, and had just begun to dream that she was\\nwalking hand in hand with Dinah, and saying to her very earnestly,\\n“Now, Dinah, tell me the truth: did you ever eat a bat?” when suddenly,\\nthump! thump! down she came upon a heap of sticks and dry leaves, and\\nthe fall was over.\\n\\nAlice was not a bit hurt, and she jumped up on to her feet in a moment:\\nshe looked up, but it was all dark overhead; before her was another\\nlong passage, and the White Rabbit was still in sight, hurrying down\\nit. There was not a moment to be lost: away went Alice like the wind,\\nand was just in time to hear it say, as it turned a corner, “Oh my ears\\nand whiskers, how late it’s getting!” She was close behind it when she\\nturned the corner, but the Rabbit was no longer to be seen: she found\\nherself in a long, low hall, which was lit up by a row of lamps hanging\\nfrom the roof.\\n\\nThere were doors all round the hall, but they were all locked; and when\\nAlice had been all the way down one side and up the other, trying every\\ndoor, she walked sadly down the middle, wondering how she was ever to\\nget out again.\\n\\nSuddenly she came upon a little three-legged table, all made of solid\\nglass; there was nothing on it except a tiny golden key, and Alice’s\\nfirst thought was that it might belong to one of the doors of the hall;\\nbut, alas! either the locks were too large, or the key was too small,\\nbut at any rate it would not open any of them. However, on the second\\ntime round, she came upon a low curtain she had not noticed before, and\\nbehind it was a little door about fifteen inches high: she tried the\\nlittle golden key in the lock, and to her great delight it fitted!\\n\\nAlice opened the door and found that it led into a small passage, not\\nmuch larger than a rat-hole: she knelt down and looked along the\\npassage into the loveliest garden you ever saw. How she longed to get\\nout of that dark hall, and wander about among those beds of bright\\nflowers and those cool fountains, but she could not even get her head\\nthrough the doorway; “and even if my head would go through,” thought\\npoor Alice, “it would be of very little use without my shoulders. Oh,\\nhow I wish I could shut up like a telescope! I think I could, if I only\\nknew how to begin.” For, you see, so many out-of-the-way things had\\nhappened lately, that Alice had begun to think that very few things\\nindeed were really impossible.\\n\\nThere seemed to be no use in waiting by the little door, so she went\\nback to the table, half hoping she might find another key on it, or at\\nany rate a book of rules for shutting people up like telescopes: this\\ntime she found a little bottle on it, (“which certainly was not here\\nbefore,” said Alice,) and round the neck of the bottle was a paper\\nlabel, with the words “DRINK ME,” beautifully printed on it in large\\nletters.\\n\\nIt was all very well to say “Drink me,” but the wise little Alice was\\nnot going to do _that_ in a hurry. “No, I’ll look first,” she said,\\n“and see whether it’s marked ‘_poison_’ or not”; for she had read\\nseveral nice little histories about children who had got burnt, and\\neaten up by wild beasts and other unpleasant things, all because they\\n_would_ not remember the simple rules their friends had taught them:\\nsuch as, that a red-hot poker will burn you if you hold it too long;\\nand that if you cut your finger _very_ deeply with a knife, it usually\\nbleeds; and she had never forgotten that, if you drink much from a\\nbottle marked “poison,” it is almost certain to disagree with you,\\nsooner or later.\\n\\nHowever, this bottle was _not_ marked “poison,” so Alice ventured to\\ntaste it, and finding it very nice, (it had, in fact, a sort of mixed\\nflavour of cherry-tart, custard, pine-apple, roast turkey, toffee, and\\nhot buttered toast,) she very soon finished it off.\\n\\n*      *      *      *      *      *      *\\n\\n    *      *      *      *      *      *\\n\\n*      *      *      *      *      *      *\\n\\n\\n“What a curious feeling!” said Alice; “I must be shutting up like a\\ntelescope.”\\n\\nAnd so it was indeed: she was now only ten inches high, and her face\\nbrightened up at the thought that she was now the right size for going\\nthrough the little door into that lovely garden. First, however, she\\nwaited for a few minutes to see if she was going to shrink any further:\\nshe felt a little nervous about this; “for it might end, you know,”\\nsaid Alice to herself, “in my going out altogether, like a candle. I\\nwonder what I should be like then?” And she tried to fancy what the\\nflame of a candle is like after the candle is blown out, for she could\\nnot remember ever having seen such a thing.\\n\\nAfter a while, finding that nothing more happened, she decided on going\\ninto the garden at once; but, alas for poor Alice! when she got to the\\ndoor, she found she had forgotten the little golden key, and when she\\nwent back to the table for it, she found she could not possibly reach\\nit: she could see it quite plainly through the glass, and she tried her\\nbest to climb up one of the legs of the table, but it was too slippery;\\nand when she had tired herself out with trying, the poor little thing\\nsat down and cried.\\n\\n“Come, there’s no use in crying like that!” said Alice to herself,\\nrather sharply; “I advise you to leave off this minute!” She generally\\ngave herself very good advice, (though she very seldom followed it),\\nand sometimes she scolded herself so severely as to bring tears into\\nher eyes; and once she remembered trying to box her own ears for having\\ncheated herself in a game of croquet she was playing against herself,\\nfor this curious child was very fond of pretending to be two people.\\n“But it’s no use now,” thought poor Alice, “to pretend to be two\\npeople! Why, there’s hardly enough of me left to make _one_ respectable\\nperson!”\\n\\nSoon her eye fell on a little glass box that was lying under the table:\\nshe opened it, and found in it a very small cake, on which the words\\n“EAT ME” were beautifully marked in currants. “Well, I’ll eat it,” said\\nAlice, “and if it makes me grow larger, I can reach the key; and if it\\nmakes me grow smaller, I can creep under the door; so either way I’ll\\nget into the garden, and I don’t care which happens!”\\n\\nShe ate a little bit, and said anxiously to herself, “Which way? Which\\nway?”, holding her hand on the top of her head to feel which way it was\\ngrowing, and she was quite surprised to find that she remained the same\\nsize: to be sure, this generally happens when one eats cake, but Alice\\nhad got so much into the way of expecting nothing but out-of-the-way\\nthings to happen, that it seemed quite dull and stupid for life to go\\non in the common way.\\n\\nSo she set to work, and very soon finished off the cake.\\n\\n*      *      *      *      *      *      *\\n\\n    *      *      *      *      *      *\\n\\n*      *      *      *      *      *      *\\n\\n\\n\\n\\nCHAPTER II.\\nThe Pool of Tears\\n\\n\\n“Curiouser and curiouser!” cried Alice (she was so much surprised, that\\nfor the moment she quite forgot how to speak good English); “now I’m\\nopening out like the largest telescope that ever was! Good-bye, feet!”\\n(for when she looked down at her feet, they seemed to be almost out of\\nsight, they were getting so far off). “Oh, my poor little feet, I\\nwonder who will put on your shoes and stockings for you now, dears? I’m\\nsure _I_ shan’t be able! I shall be a great deal too far off to trouble\\nmyself about you: you must manage the best way you can;—but I must be\\nkind to them,” thought Alice, “or perhaps they won’t walk the way I\\nwant to go! Let me see: I’ll give them a new pair of boots every\\nChristmas.”\\n\\nAnd she went on planning to herself how she would manage it. “They must\\ngo by the carrier,” she thought; “and how funny it’ll seem, sending\\npresents to one’s own feet! And how odd the directions will look!\\n\\n     _Alice’s Right Foot, Esq., Hearthrug, near the Fender,_ (_with\\n     Alice’s love_).\\n\\nOh dear, what nonsense I’m talking!”\\n\\nJust then her head struck against the roof of the hall: in fact she was\\nnow more than nine feet high, and she at once took up the little golden\\nkey and hurried off to the garden door.\\n\\nPoor Alice! It was as much as she could do, lying down on one side, to\\nlook through into the garden with one eye; but to get through was more\\nhopeless than ever: she sat down and began to cry again.\\n\\n“You ought to be ashamed of yourself,” said Alice, “a great girl like\\nyou,” (she might well say this), “to go on crying in this way! Stop\\nthis moment, I tell you!” But she went on all the same, shedding\\ngallons of tears, until there was a large pool all round her, about\\nfour inches deep and reaching half down the hall.\\n\\nAfter a time she heard a little pattering of feet in the distance, and\\nshe hastily dried her eyes to see what was coming. It was the White\\nRabbit returning, splendidly dressed, with a pair of white kid gloves\\nin one hand and a large fan in the other: he came trotting along in a\\ngreat hurry, muttering to himself as he came, “Oh! the Duchess, the\\nDuchess! Oh! won’t she be savage if I’ve kept her waiting!” Alice felt\\nso desperate that she was ready to ask help of any one; so, when the\\nRabbit came near her, she began, in a low, timid voice, “If you please,\\nsir—” The Rabbit started violently, dropped the white kid gloves and\\nthe fan, and skurried away into the darkness as hard as he could go.\\n\\nAlice took up the fan and gloves, and, as the hall was very hot, she\\nkept fanning herself all the time she went on talking: “Dear, dear! How\\nqueer everything is to-day! And yesterday things went on just as usual.\\nI wonder if I’ve been changed in the night? Let me think: was I the\\nsame when I got up this morning? I almost think I can remember feeling\\na little different. But if I’m not the same, the next question is, Who\\nin the world am I? Ah, _that’s_ the great puzzle!” And she began\\nthinking over all the children she knew that were of the same age as\\nherself, to see if she could have been changed for any of them.\\n\\n“I’m sure I’m not Ada,” she said, “for her hair goes in such long\\nringlets, and mine doesn’t go in ringlets at all; and I’m sure I can’t\\nbe Mabel, for I know all sorts of things, and she, oh! she knows such a\\nvery little! Besides, _she’s_ she, and _I’m_ I, and—oh dear, how\\npuzzling it all is! I’ll try if I know all the things I used to know.\\nLet me see: four times five is twelve, and four times six is thirteen,\\nand four times seven is—oh dear! I shall never get to twenty at that\\nrate! However, the Multiplication Table doesn’t signify: let’s try\\nGeography. London is the capital of Paris, and Paris is the capital of\\nRome, and Rome—no, _that’s_ all wrong, I’m certain! I must have been\\nchanged for Mabel! I’ll try and say ‘_How doth the little_—’” and she\\ncrossed her hands on her lap as if she were saying lessons, and began\\nto repeat it, but her voice sounded hoarse and strange, and the words\\ndid not come the same as they used to do:—\\n\\n“How doth the little crocodile\\n    Improve his shining tail,\\nAnd pour the waters of the Nile\\n    On every golden scale!\\n\\n“How cheerfully he seems to grin,\\n    How neatly spread his claws,\\nAnd welcome little fishes in\\n    With gently smiling jaws!”\\n\\n\\n“I’m sure those are not the right words,” said poor Alice, and her eyes\\nfilled with tears again as she went on, “I must be Mabel after all, and\\nI shall have to go and live in that poky little house, and have next to\\nno toys to play with, and oh! ever so many lessons to learn! No, I’ve\\nmade up my mind about it; if I’m Mabel, I’ll stay down here! It’ll be\\nno use their putting their heads down and saying ‘Come up again, dear!’\\nI shall only look up and say ‘Who am I then? Tell me that first, and\\nthen, if I like being that person, I’ll come up: if not, I’ll stay down\\nhere till I’m somebody else’—but, oh dear!” cried Alice, with a sudden\\nburst of tears, “I do wish they _would_ put their heads down! I am so\\n_very_ tired of being all alone here!”\\n\\nAs she said this she looked down at her hands, and was surprised to see\\nthat she had put on one of the Rabbit’s little white kid gloves while\\nshe was talking. “How _can_ I have done that?” she thought. “I must be\\ngrowing small again.” She got up and went to the table to measure\\nherself by it, and found that, as nearly as she could guess, she was\\nnow about two feet high, and was going on shrinking rapidly: she soon\\nfound out that the cause of this was the fan she was holding, and she\\ndropped it hastily, just in time to avoid shrinking away altogether.\\n\\n“That _was_ a narrow escape!” said Alice, a good deal frightened at the\\nsudden change, but very glad to find herself still in existence; “and\\nnow for the garden!” and she ran with all speed back to the little\\ndoor: but, alas! the little door was shut again, and the little golden\\nkey was lying on the glass table as before, “and things are worse than\\never,” thought the poor child, “for I never was so small as this\\nbefore, never! And I declare it’s too bad, that it is!”\\n\\nAs she said these words her foot slipped, and in another moment,\\nsplash! she was up to her chin in salt water. Her first idea was that\\nshe had somehow fallen into the sea, “and in that case I can go back by\\nrailway,” she said to herself. (Alice had been to the seaside once in\\nher life, and had come to the general conclusion, that wherever you go\\nto on the English coast you find a number of bathing machines in the\\nsea, some children digging in the sand with wooden spades, then a row\\nof lodging houses, and behind them a railway station.) However, she\\nsoon made out that she was in the pool of tears which she had wept when\\nshe was nine feet high.\\n\\n“I wish I hadn’t cried so much!” said Alice, as she swam about, trying\\nto find her way out. “I shall be punished for it now, I suppose, by\\nbeing drowned in my own tears! That _will_ be a queer thing, to be\\nsure! However, everything is queer to-day.”\\n\\nJust then she heard something splashing about in the pool a little way\\noff, and she swam nearer to make out what it was: at first she thought\\nit must be a walrus or hippopotamus, but then she remembered how small\\nshe was now, and she soon made out that it was only a mouse that had\\nslipped in like herself.\\n\\n“Would it be of any use, now,” thought Alice, “to speak to this mouse?\\nEverything is so out-of-the-way down here, that I should think very\\nlikely it can talk: at any rate, there’s no harm in trying.” So she\\nbegan: “O Mouse, do you know the way out of this pool? I am very tired\\nof swimming about here, O Mouse!” (Alice thought this must be the right\\nway of speaking to a mouse: she had never done such a thing before, but\\nshe remembered having seen in her brother’s Latin Grammar, “A mouse—of\\na mouse—to a mouse—a mouse—O mouse!”) The Mouse looked at her rather\\ninquisitively, and seemed to her to wink with one of its little eyes,\\nbut it said nothing.\\n\\n“Perhaps it doesn’t understand English,” thought Alice; “I daresay it’s\\na French mouse, come over with William the Conqueror.” (For, with all\\nher knowledge of history, Alice had no very clear notion how long ago\\nanything had happened.) So she began again: “Où est ma chatte?” which\\nwas the first sentence in her French lesson-book. The Mouse gave a\\nsudden leap out of the water, and seemed to quiver all over with\\nfright. “Oh, I beg your pardon!” cried Alice hastily, afraid that she\\nhad hurt the poor animal’s feelings. “I quite forgot you didn’t like\\ncats.”\\n\\n“Not like cats!” cried the Mouse, in a shrill, passionate voice. “Would\\n_you_ like cats if you were me?”\\n\\n“Well, perhaps not,” said Alice in a soothing tone: “don’t be angry\\nabout it. And yet I wish I could show you our cat Dinah: I think you’d\\ntake a fancy to cats if you could only see her. She is such a dear\\nquiet thing,” Alice went on, half to herself, as she swam lazily about\\nin the pool, “and she sits purring so nicely by the fire, licking her\\npaws and washing her face—and she is such a nice soft thing to\\nnurse—and she’s such a capital one for catching mice—oh, I beg your\\npardon!” cried Alice again, for this time the Mouse was bristling all\\nover, and she felt certain it must be really offended. “We won’t talk\\nabout her any more if you’d rather not.”\\n\\n“We indeed!” cried the Mouse, who was trembling down to the end of his\\ntail. “As if _I_ would talk on such a subject! Our family always\\n_hated_ cats: nasty, low, vulgar things! Don’t let me hear the name\\nagain!”\\n\\n“I won’t indeed!” said Alice, in a great hurry to change the subject of\\nconversation. “Are you—are you fond—of—of dogs?” The Mouse did not\\nanswer, so Alice went on eagerly: “There is such a nice little dog near\\nour house I should like to show you! A little bright-eyed terrier, you\\nknow, with oh, such long curly brown hair! And it’ll fetch things when\\nyou throw them, and it’ll sit up and beg for its dinner, and all sorts\\nof things—I can’t remember half of them—and it belongs to a farmer, you\\nknow, and he says it’s so useful, it’s worth a hundred pounds! He says\\nit kills all the rats and—oh dear!” cried Alice in a sorrowful tone,\\n“I’m afraid I’ve offended it again!” For the Mouse was swimming away\\nfrom her as hard as it could go, and making quite a commotion in the\\npool as it went.\\n\\nSo she called softly after it, “Mouse dear! Do come back again, and we\\nwon’t talk about cats or dogs either, if you don’t like them!” When the\\nMouse heard this, it turned round and swam slowly back to her: its face\\nwas quite pale (with passion, Alice thought), and it said in a low\\ntrembling voice, “Let us get to the shore, and then I’ll tell you my\\nhistory, and you’ll understand why it is I hate cats and dogs.”\\n\\nIt was high time to go, for the pool was getting quite crowded with the\\nbirds and animals that had fallen into it: there were a Duck and a\\nDodo, a Lory and an Eaglet, and several other curious creatures. Alice\\nled the way, and the whole party swam to the shore.\\n\\n\\n\\n\\nCHAPTER III.\\nA Caucus-Race and a Long Tale\\n\\n\\nThey were indeed a queer-looking party that assembled on the bank—the\\nbirds with draggled feathers, the animals with their fur clinging close\\nto them, and all dripping wet, cross, and uncomfortable.\\n\\nThe first question of course was, how to get dry again: they had a\\nconsultation about this, and after a few minutes it seemed quite\\nnatural to Alice to find herself talking familiarly with them, as if\\nshe had known them all her life. Indeed, she had quite a long argument\\nwith the Lory, who at last turned sulky, and would only say, “I am\\nolder than you, and must know better;” and this Alice would not allow\\nwithout knowing how old it was, and, as the Lory positively refused to\\ntell its age, there was no more to be said.\\n\\nAt last the Mouse, who seemed to be a person of authority among them,\\ncalled out, “Sit down, all of you, and listen to me! _I’ll_ soon make\\nyou dry enough!” They all sat down at once, in a large ring, with the\\nMouse in the middle. Alice kept her eyes anxiously fixed on it, for she\\nfelt sure she would catch a bad cold if she did not get dry very soon.\\n\\n“Ahem!” said the Mouse with an important air, “are you all ready? This\\nis the driest thing I know. Silence all round, if you please! ‘William\\nthe Conqueror, whose cause was favoured by the pope, was soon submitted\\nto by the English, who wanted leaders, and had been of late much\\naccustomed to usurpation and conquest. Edwin and Morcar, the earls of\\nMercia and Northumbria—’”\\n\\n“Ugh!” said the Lory, with a shiver.\\n\\n“I beg your pardon!” said the Mouse, frowning, but very politely: “Did\\nyou speak?”\\n\\n“Not I!” said the Lory hastily.\\n\\n“I thought you did,” said the Mouse. “—I proceed. ‘Edwin and Morcar,\\nthe earls of Mercia and Northumbria, declared for him: and even\\nStigand, the patriotic archbishop of Canterbury, found it advisable—’”\\n\\n“Found _what_?” said the Duck.\\n\\n“Found _it_,” the Mouse replied rather crossly: “of course you know\\nwhat ‘it’ means.”\\n\\n“I know what ‘it’ means well enough, when _I_ find a thing,” said the\\nDuck: “it’s generally a frog or a worm. The question is, what did the\\narchbishop find?”\\n\\nThe Mouse did not notice this question, but hurriedly went on, “‘—found\\nit advisable to go with Edgar Atheling to meet William and offer him\\nthe crown. William’s conduct at first was moderate. But the insolence\\nof his Normans—’ How are you getting on now, my dear?” it continued,\\nturning to Alice as it spoke.\\n\\n“As wet as ever,” said Alice in a melancholy tone: “it doesn’t seem to\\ndry me at all.”\\n\\n“In that case,” said the Dodo solemnly, rising to its feet, “I move\\nthat the meeting adjourn, for the immediate adoption of more energetic\\nremedies—”\\n\\n“Speak English!” said the Eaglet. “I don’t know the meaning of half\\nthose long words, and, what’s more, I don’t believe you do either!” And\\nthe Eaglet bent down its head to hide a smile: some of the other birds\\ntittered audibly.\\n\\n“What I was going to say,” said the Dodo in an offended tone, “was,\\nthat the best thing to get us dry would be a Caucus-race.”\\n\\n“What _is_ a Caucus-race?” said Alice; not that she wanted much to\\nknow, but the Dodo had paused as if it thought that _somebody_ ought to\\nspeak, and no one else seemed inclined to say anything.\\n\\n“Why,” said the Dodo, “the best way to explain it is to do it.” (And,\\nas you might like to try the thing yourself, some winter day, I will\\ntell you how the Dodo managed it.)\\n\\nFirst it marked out a race-course, in a sort of circle, (“the exact\\nshape doesn’t matter,” it said,) and then all the party were placed\\nalong the course, here and there. There was no “One, two, three, and\\naway,” but they began running when they liked, and left off when they\\nliked, so that it was not easy to know when the race was over. However,\\nwhen they had been running half an hour or so, and were quite dry\\nagain, the Dodo suddenly called out “The race is over!” and they all\\ncrowded round it, panting, and asking, “But who has won?”\\n\\nThis question the Dodo could not answer without a great deal of\\nthought, and it sat for a long time with one finger pressed upon its\\nforehead (the position in which you usually see Shakespeare, in the\\npictures of him), while the rest waited in silence. At last the Dodo\\nsaid, “_Everybody_ has won, and all must have prizes.”\\n\\n“But who is to give the prizes?” quite a chorus of voices asked.\\n\\n“Why, _she_, of course,” said the Dodo, pointing to Alice with one\\nfinger; and the whole party at once crowded round her, calling out in a\\nconfused way, “Prizes! Prizes!”\\n\\nAlice had no idea what to do, and in despair she put her hand in her\\npocket, and pulled out a box of comfits, (luckily the salt water had\\nnot got into it), and handed them round as prizes. There was exactly\\none a-piece, all round.\\n\\n“But she must have a prize herself, you know,” said the Mouse.\\n\\n“Of course,” the Dodo replied very gravely. “What else have you got in\\nyour pocket?” he went on, turning to Alice.\\n\\n“Only a thimble,” said Alice sadly.\\n\\n“Hand it over here,” said the Dodo.\\n\\nThen they all crowded round her once more, while the Dodo solemnly\\npresented the thimble, saying “We beg your acceptance of this elegant\\nthimble;” and, when it had finished this short speech, they all\\ncheered.\\n\\nAlice thought the whole thing very absurd, but they all looked so grave\\nthat she did not dare to laugh; and, as she could not think of anything\\nto say, she simply bowed, and took the thimble, looking as solemn as\\nshe could.\\n\\nThe next thing was to eat the comfits: this caused some noise and\\nconfusion, as the large birds complained that they could not taste\\ntheirs, and the small ones choked and had to be patted on the back.\\nHowever, it was over at last, and they sat down again in a ring, and\\nbegged the Mouse to tell them something more.\\n\\n“You promised to tell me your history, you know,” said Alice, “and why\\nit is you hate—C and D,” she added in a whisper, half afraid that it\\nwould be offended again.\\n\\n“Mine is a long and a sad tale!” said the Mouse, turning to Alice, and\\nsighing.\\n\\n“It _is_ a long tail, certainly,” said Alice, looking down with wonder\\nat the Mouse’s tail; “but why do you call it sad?” And she kept on\\npuzzling about it while the Mouse was speaking, so that her idea of the\\ntale was something like this:—\\n\\n         “Fury said to a mouse, That he met in the house, ‘Let us both\\n         go to law: _I_ will prosecute _you_.—Come, I’ll take no\\n         denial; We must have a trial: For really this morning I’ve\\n         nothing to do.’ Said the mouse to the cur, ‘Such a trial, dear\\n         sir, With no jury or judge, would be wasting our breath.’\\n         ‘I’ll be judge, I’ll be jury,’ Said cunning old Fury: ‘I’ll\\n         try the whole cause, and condemn you to death.’”\\n\\n“You are not attending!” said the Mouse to Alice severely. “What are\\nyou thinking of?”\\n\\n“I beg your pardon,” said Alice very humbly: “you had got to the fifth\\nbend, I think?”\\n\\n“I had _not!_” cried the Mouse, sharply and very angrily.\\n\\n“A knot!” said Alice, always ready to make herself useful, and looking\\nanxiously about her. “Oh, do let me help to undo it!”\\n\\n“I shall do nothing of the sort,” said the Mouse, getting up and\\nwalking away. “You insult me by talking such nonsense!”\\n\\n“I didn’t mean it!” pleaded poor Alice. “But you’re so easily offended,\\nyou know!”\\n\\nThe Mouse only growled in reply.\\n\\n“Please come back and finish your story!” Alice called after it; and\\nthe others all joined in chorus, “Yes, please do!” but the Mouse only\\nshook its head impatiently, and walked a little quicker.\\n\\n“What a pity it wouldn’t stay!” sighed the Lory, as soon as it was\\nquite out of sight; and an old Crab took the opportunity of saying to\\nher daughter “Ah, my dear! Let this be a lesson to you never to lose\\n_your_ temper!” “Hold your tongue, Ma!” said the young Crab, a little\\nsnappishly. “You’re enough to try the patience of an oyster!”\\n\\n“I wish I had our Dinah here, I know I do!” said Alice aloud,\\naddressing nobody in particular. “She’d soon fetch it back!”\\n\\n“And who is Dinah, if I might venture to ask the question?” said the\\nLory.\\n\\nAlice replied eagerly, for she was always ready to talk about her pet:\\n“Dinah’s our cat. And she’s such a capital one for catching mice you\\ncan’t think! And oh, I wish you could see her after the birds! Why,\\nshe’ll eat a little bird as soon as look at it!”\\n\\nThis speech caused a remarkable sensation among the party. Some of the\\nbirds hurried off at once: one old Magpie began wrapping itself up very\\ncarefully, remarking, “I really must be getting home; the night-air\\ndoesn’t suit my throat!” and a Canary called out in a trembling voice\\nto its children, “Come away, my dears! It’s high time you were all in\\nbed!” On various pretexts they all moved off, and Alice was soon left\\nalone.\\n\\n“I wish I hadn’t mentioned Dinah!” she said to herself in a melancholy\\ntone. “Nobody seems to like her, down here, and I’m sure she’s the best\\ncat in the world! Oh, my dear Dinah! I wonder if I shall ever see you\\nany more!” And here poor Alice began to cry again, for she felt very\\nlonely and low-spirited. In a little while, however, she again heard a\\nlittle pattering of footsteps in the distance, and she looked up\\neagerly, half hoping that the Mouse had changed his mind, and was\\ncoming back to finish his story.\\n\\n\\n\\n\\nCHAPTER IV.\\nThe Rabbit Sends in a Little Bill\\n\\n\\nIt was the White Rabbit, trotting slowly back again, and looking\\nanxiously about as it went, as if it had lost something; and she heard\\nit muttering to itself “The Duchess! The Duchess! Oh my dear paws! Oh\\nmy fur and whiskers! She’ll get me executed, as sure as ferrets are\\nferrets! Where _can_ I have dropped them, I wonder?” Alice guessed in a\\nmoment that it was looking for the fan and the pair of white kid\\ngloves, and she very good-naturedly began hunting about for them, but\\nthey were nowhere to be seen—everything seemed to have changed since\\nher swim in the pool, and the great hall, with the glass table and the\\nlittle door, had vanished completely.\\n\\nVery soon the Rabbit noticed Alice, as she went hunting about, and\\ncalled out to her in an angry tone, “Why, Mary Ann, what _are_ you\\ndoing out here? Run home this moment, and fetch me a pair of gloves and\\na fan! Quick, now!” And Alice was so much frightened that she ran off\\nat once in the direction it pointed to, without trying to explain the\\nmistake it had made.\\n\\n“He took me for his housemaid,” she said to herself as she ran. “How\\nsurprised he’ll be when he finds out who I am! But I’d better take him\\nhis fan and gloves—that is, if I can find them.” As she said this, she\\ncame upon a neat little house, on the door of which was a bright brass\\nplate with the name “W. RABBIT,” engraved upon it. She went in without\\nknocking, and hurried upstairs, in great fear lest she should meet the\\nreal Mary Ann, and be turned out of the house before she had found the\\nfan and gloves.\\n\\n“How queer it seems,” Alice said to herself, “to be going messages for\\na rabbit! I suppose Dinah’ll be sending me on messages next!” And she\\nbegan fancying the sort of thing that would happen: “‘Miss Alice! Come\\nhere directly, and get ready for your walk!’ ‘Coming in a minute,\\nnurse! But I’ve got to see that the mouse doesn’t get out.’ Only I\\ndon’t think,” Alice went on, “that they’d let Dinah stop in the house\\nif it began ordering people about like that!”\\n\\nBy this time she had found her way into a tidy little room with a table\\nin the window, and on it (as she had hoped) a fan and two or three\\npairs of tiny white kid gloves: she took up the fan and a pair of the\\ngloves, and was just going to leave the room, when her eye fell upon a\\nlittle bottle that stood near the looking-glass. There was no label\\nthis time with the words “DRINK ME,” but nevertheless she uncorked it\\nand put it to her lips. “I know _something_ interesting is sure to\\nhappen,” she said to herself, “whenever I eat or drink anything; so\\nI’ll just see what this bottle does. I do hope it’ll make me grow large\\nagain, for really I’m quite tired of being such a tiny little thing!”\\n\\nIt did so indeed, and much sooner than she had expected: before she had\\ndrunk half the bottle, she found her head pressing against the ceiling,\\nand had to stoop to save her neck from being broken. She hastily put\\ndown the bottle, saying to herself “That’s quite enough—I hope I shan’t\\ngrow any more—As it is, I can’t get out at the door—I do wish I hadn’t\\ndrunk quite so much!”\\n\\nAlas! it was too late to wish that! She went on growing, and growing,\\nand very soon had to kneel down on the floor: in another minute there\\nwas not even room for this, and she tried the effect of lying down with\\none elbow against the door, and the other arm curled round her head.\\nStill she went on growing, and, as a last resource, she put one arm out\\nof the window, and one foot up the chimney, and said to herself “Now I\\ncan do no more, whatever happens. What _will_ become of me?”\\n\\nLuckily for Alice, the little magic bottle had now had its full effect,\\nand she grew no larger: still it was very uncomfortable, and, as there\\nseemed to be no sort of chance of her ever getting out of the room\\nagain, no wonder she felt unhappy.\\n\\n“It was much pleasanter at home,” thought poor Alice, “when one wasn’t\\nalways growing larger and smaller, and being ordered about by mice and\\nrabbits. I almost wish I hadn’t gone down that rabbit-hole—and yet—and\\nyet—it’s rather curious, you know, this sort of life! I do wonder what\\n_can_ have happened to me! When I used to read fairy-tales, I fancied\\nthat kind of thing never happened, and now here I am in the middle of\\none! There ought to be a book written about me, that there ought! And\\nwhen I grow up, I’ll write one—but I’m grown up now,” she added in a\\nsorrowful tone; “at least there’s no room to grow up any more _here_.”\\n\\n“But then,” thought Alice, “shall I _never_ get any older than I am\\nnow? That’ll be a comfort, one way—never to be an old woman—but\\nthen—always to have lessons to learn! Oh, I shouldn’t like _that!_”\\n\\n“Oh, you foolish Alice!” she answered herself. “How can you learn\\nlessons in here? Why, there’s hardly room for _you_, and no room at all\\nfor any lesson-books!”\\n\\nAnd so she went on, taking first one side and then the other, and\\nmaking quite a conversation of it altogether; but after a few minutes\\nshe heard a voice outside, and stopped to listen.\\n\\n“Mary Ann! Mary Ann!” said the voice. “Fetch me my gloves this moment!”\\nThen came a little pattering of feet on the stairs. Alice knew it was\\nthe Rabbit coming to look for her, and she trembled till she shook the\\nhouse, quite forgetting that she was now about a thousand times as\\nlarge as the Rabbit, and had no reason to be afraid of it.\\n\\nPresently the Rabbit came up to the door, and tried to open it; but, as\\nthe door opened inwards, and Alice’s elbow was pressed hard against it,\\nthat attempt proved a failure. Alice heard it say to itself “Then I’ll\\ngo round and get in at the window.”\\n\\n“_That_ you won’t!” thought Alice, and, after waiting till she fancied\\nshe heard the Rabbit just under the window, she suddenly spread out her\\nhand, and made a snatch in the air. She did not get hold of anything,\\nbut she heard a little shriek and a fall, and a crash of broken glass,\\nfrom which she concluded that it was just possible it had fallen into a\\ncucumber-frame, or something of the sort.\\n\\nNext came an angry voice—the Rabbit’s—“Pat! Pat! Where are you?” And\\nthen a voice she had never heard before, “Sure then I’m here! Digging\\nfor apples, yer honour!”\\n\\n“Digging for apples, indeed!” said the Rabbit angrily. “Here! Come and\\nhelp me out of _this!_” (Sounds of more broken glass.)\\n\\n“Now tell me, Pat, what’s that in the window?”\\n\\n“Sure, it’s an arm, yer honour!” (He pronounced it “arrum.”)\\n\\n“An arm, you goose! Who ever saw one that size? Why, it fills the whole\\nwindow!”\\n\\n“Sure, it does, yer honour: but it’s an arm for all that.”\\n\\n“Well, it’s got no business there, at any rate: go and take it away!”\\n\\nThere was a long silence after this, and Alice could only hear whispers\\nnow and then; such as, “Sure, I don’t like it, yer honour, at all, at\\nall!” “Do as I tell you, you coward!” and at last she spread out her\\nhand again, and made another snatch in the air. This time there were\\n_two_ little shrieks, and more sounds of broken glass. “What a number\\nof cucumber-frames there must be!” thought Alice. “I wonder what\\nthey’ll do next! As for pulling me out of the window, I only wish they\\n_could!_ I’m sure _I_ don’t want to stay in here any longer!”\\n\\nShe waited for some time without hearing anything more: at last came a\\nrumbling of little cartwheels, and the sound of a good many voices all\\ntalking together: she made out the words: “Where’s the other\\nladder?—Why, I hadn’t to bring but one; Bill’s got the other—Bill!\\nfetch it here, lad!—Here, put ’em up at this corner—No, tie ’em\\ntogether first—they don’t reach half high enough yet—Oh! they’ll do\\nwell enough; don’t be particular—Here, Bill! catch hold of this\\nrope—Will the roof bear?—Mind that loose slate—Oh, it’s coming down!\\nHeads below!” (a loud crash)—“Now, who did that?—It was Bill, I\\nfancy—Who’s to go down the chimney?—Nay, _I_ shan’t! _You_ do\\nit!—_That_ I won’t, then!—Bill’s to go down—Here, Bill! the master says\\nyou’re to go down the chimney!”\\n\\n“Oh! So Bill’s got to come down the chimney, has he?” said Alice to\\nherself. “Shy, they seem to put everything upon Bill! I wouldn’t be in\\nBill’s place for a good deal: this fireplace is narrow, to be sure; but\\nI _think_ I can kick a little!”\\n\\nShe drew her foot as far down the chimney as she could, and waited till\\nshe heard a little animal (she couldn’t guess of what sort it was)\\nscratching and scrambling about in the chimney close above her: then,\\nsaying to herself “This is Bill,” she gave one sharp kick, and waited\\nto see what would happen next.\\n\\nThe first thing she heard was a general chorus of “There goes Bill!”\\nthen the Rabbit’s voice along—“Catch him, you by the hedge!” then\\nsilence, and then another confusion of voices—“Hold up his head—Brandy\\nnow—Don’t choke him—How was it, old fellow? What happened to you? Tell\\nus all about it!”\\n\\nLast came a little feeble, squeaking voice, (“That’s Bill,” thought\\nAlice,) “Well, I hardly know—No more, thank ye; I’m better now—but I’m\\na deal too flustered to tell you—all I know is, something comes at me\\nlike a Jack-in-the-box, and up I goes like a sky-rocket!”\\n\\n“So you did, old fellow!” said the others.\\n\\n“We must burn the house down!” said the Rabbit’s voice; and Alice\\ncalled out as loud as she could, “If you do, I’ll set Dinah at you!”\\n\\nThere was a dead silence instantly, and Alice thought to herself, “I\\nwonder what they _will_ do next! If they had any sense, they’d take the\\nroof off.” After a minute or two, they began moving about again, and\\nAlice heard the Rabbit say, “A barrowful will do, to begin with.”\\n\\n“A barrowful of _what?_” thought Alice; but she had not long to doubt,\\nfor the next moment a shower of little pebbles came rattling in at the\\nwindow, and some of them hit her in the face. “I’ll put a stop to\\nthis,” she said to herself, and shouted out, “You’d better not do that\\nagain!” which produced another dead silence.\\n\\nAlice noticed with some surprise that the pebbles were all turning into\\nlittle cakes as they lay on the floor, and a bright idea came into her\\nhead. “If I eat one of these cakes,” she thought, “it’s sure to make\\n_some_ change in my size; and as it can’t possibly make me larger, it\\nmust make me smaller, I suppose.”\\n\\nSo she swallowed one of the cakes, and was delighted to find that she\\nbegan shrinking directly. As soon as she was small enough to get\\nthrough the door, she ran out of the house, and found quite a crowd of\\nlittle animals and birds waiting outside. The poor little Lizard, Bill,\\nwas in the middle, being held up by two guinea-pigs, who were giving it\\nsomething out of a bottle. They all made a rush at Alice the moment she\\nappeared; but she ran off as hard as she could, and soon found herself\\nsafe in a thick wood.\\n\\n“The first thing I’ve got to do,” said Alice to herself, as she\\nwandered about in the wood, “is to grow to my right size again; and the\\nsecond thing is to find my way into that lovely garden. I think that\\nwill be the best plan.”\\n\\nIt sounded an excellent plan, no doubt, and very neatly and simply\\narranged; the only difficulty was, that she had not the smallest idea\\nhow to set about it; and while she was peering about anxiously among\\nthe trees, a little sharp bark just over her head made her look up in a\\ngreat hurry.\\n\\nAn enormous puppy was looking down at her with large round eyes, and\\nfeebly stretching out one paw, trying to touch her. “Poor little\\nthing!” said Alice, in a coaxing tone, and she tried hard to whistle to\\nit; but she was terribly frightened all the time at the thought that it\\nmight be hungry, in which case it would be very likely to eat her up in\\nspite of all her coaxing.\\n\\nHardly knowing what she did, she picked up a little bit of stick, and\\nheld it out to the puppy; whereupon the puppy jumped into the air off\\nall its feet at once, with a yelp of delight, and rushed at the stick,\\nand made believe to worry it; then Alice dodged behind a great thistle,\\nto keep herself from being run over; and the moment she appeared on the\\nother side, the puppy made another rush at the stick, and tumbled head\\nover heels in its hurry to get hold of it; then Alice, thinking it was\\nvery like having a game of play with a cart-horse, and expecting every\\nmoment to be trampled under its feet, ran round the thistle again; then\\nthe puppy began a series of short charges at the stick, running a very\\nlittle way forwards each time and a long way back, and barking hoarsely\\nall the while, till at last it sat down a good way off, panting, with\\nits tongue hanging out of its mouth, and its great eyes half shut.\\n\\nThis seemed to Alice a good opportunity for making her escape; so she\\nset off at once, and ran till she was quite tired and out of breath,\\nand till the puppy’s bark sounded quite faint in the distance.\\n\\n“And yet what a dear little puppy it was!” said Alice, as she leant\\nagainst a buttercup to rest herself, and fanned herself with one of the\\nleaves: “I should have liked teaching it tricks very much, if—if I’d\\nonly been the right size to do it! Oh dear! I’d nearly forgotten that\\nI’ve got to grow up again! Let me see—how _is_ it to be managed? I\\nsuppose I ought to eat or drink something or other; but the great\\nquestion is, what?”\\n\\nThe great question certainly was, what? Alice looked all round her at\\nthe flowers and the blades of grass, but she did not see anything that\\nlooked like the right thing to eat or drink under the circumstances.\\nThere was a large mushroom growing near her, about the same height as\\nherself; and when she had looked under it, and on both sides of it, and\\nbehind it, it occurred to her that she might as well look and see what\\nwas on the top of it.\\n\\nShe stretched herself up on tiptoe, and peeped over the edge of the\\nmushroom, and her eyes immediately met those of a large blue\\ncaterpillar, that was sitting on the top with its arms folded, quietly\\nsmoking a long hookah, and taking not the smallest notice of her or of\\nanything else.\\n\\n\\n\\n\\nCHAPTER V.\\nAdvice from a Caterpillar\\n\\n\\nThe Caterpillar and Alice looked at each other for some time in\\nsilence: at last the Caterpillar took the hookah out of its mouth, and\\naddressed her in a languid, sleepy voice.\\n\\n“Who are _you?_” said the Caterpillar.\\n\\nThis was not an encouraging opening for a conversation. Alice replied,\\nrather shyly, “I—I hardly know, sir, just at present—at least I know\\nwho I _was_ when I got up this morning, but I think I must have been\\nchanged several times since then.”\\n\\n“What do you mean by that?” said the Caterpillar sternly. “Explain\\nyourself!”\\n\\n“I can’t explain _myself_, I’m afraid, sir,” said Alice, “because I’m\\nnot myself, you see.”\\n\\n“I don’t see,” said the Caterpillar.\\n\\n“I’m afraid I can’t put it more clearly,” Alice replied very politely,\\n“for I can’t understand it myself to begin with; and being so many\\ndifferent sizes in a day is very confusing.”\\n\\n“It isn’t,” said the Caterpillar.\\n\\n“Well, perhaps you haven’t found it so yet,” said Alice; “but when you\\nhave to turn into a chrysalis—you will some day, you know—and then\\nafter that into a butterfly, I should think you’ll feel it a little\\nqueer, won’t you?”\\n\\n“Not a bit,” said the Caterpillar.\\n\\n“Well, perhaps your feelings may be different,” said Alice; “all I know\\nis, it would feel very queer to _me_.”\\n\\n“You!” said the Caterpillar contemptuously. “Who are _you?_”\\n\\nWhich brought them back again to the beginning of the conversation.\\nAlice felt a little irritated at the Caterpillar’s making such _very_\\nshort remarks, and she drew herself up and said, very gravely, “I\\nthink, you ought to tell me who _you_ are, first.”\\n\\n“Why?” said the Caterpillar.\\n\\nHere was another puzzling question; and as Alice could not think of any\\ngood reason, and as the Caterpillar seemed to be in a _very_ unpleasant\\nstate of mind, she turned away.\\n\\n“Come back!” the Caterpillar called after her. “I’ve something\\nimportant to say!”\\n\\nThis sounded promising, certainly: Alice turned and came back again.\\n\\n“Keep your temper,” said the Caterpillar.\\n\\n“Is that all?” said Alice, swallowing down her anger as well as she\\ncould.\\n\\n“No,” said the Caterpillar.\\n\\nAlice thought she might as well wait, as she had nothing else to do,\\nand perhaps after all it might tell her something worth hearing. For\\nsome minutes it puffed away without speaking, but at last it unfolded\\nits arms, took the hookah out of its mouth again, and said, “So you\\nthink you’re changed, do you?”\\n\\n“I’m afraid I am, sir,” said Alice; “I can’t remember things as I\\nused—and I don’t keep the same size for ten minutes together!”\\n\\n“Can’t remember _what_ things?” said the Caterpillar.\\n\\n“Well, I’ve tried to say “How doth the little busy bee,” but it all\\ncame different!” Alice replied in a very melancholy voice.\\n\\n“Repeat, “_You are old, Father William_,’” said the Caterpillar.\\n\\nAlice folded her hands, and began:—\\n\\n“You are old, Father William,” the young man said,\\n    “And your hair has become very white;\\nAnd yet you incessantly stand on your head—\\n    Do you think, at your age, it is right?”\\n\\n“In my youth,” Father William replied to his son,\\n    “I feared it might injure the brain;\\nBut, now that I’m perfectly sure I have none,\\n    Why, I do it again and again.”\\n\\n“You are old,” said the youth, “as I mentioned before,\\n    And have grown most uncommonly fat;\\nYet you turned a back-somersault in at the door—\\n    Pray, what is the reason of that?”\\n\\n“In my youth,” said the sage, as he shook his grey locks,\\n    “I kept all my limbs very supple\\nBy the use of this ointment—one shilling the box—\\n    Allow me to sell you a couple?”\\n\\n“You are old,” said the youth, “and your jaws are too weak\\n    For anything tougher than suet;\\nYet you finished the goose, with the bones and the beak—\\n    Pray, how did you manage to do it?”\\n\\n“In my youth,” said his father, “I took to the law,\\n    And argued each case with my wife;\\nAnd the muscular strength, which it gave to my jaw,\\n    Has lasted the rest of my life.”\\n\\n“You are old,” said the youth, “one would hardly suppose\\n    That your eye was as steady as ever;\\nYet you balanced an eel on the end of your nose—\\n    What made you so awfully clever?”\\n\\n“I have answered three questions, and that is enough,”\\n    Said his father; “don’t give yourself airs!\\nDo you think I can listen all day to such stuff?\\n    Be off, or I’ll kick you down stairs!”\\n\\n\\n“That is not said right,” said the Caterpillar.\\n\\n“Not _quite_ right, I’m afraid,” said Alice, timidly; “some of the\\nwords have got altered.”\\n\\n“It is wrong from beginning to end,” said the Caterpillar decidedly,\\nand there was silence for some minutes.\\n\\nThe Caterpillar was the first to speak.\\n\\n“What size do you want to be?” it asked.\\n\\n“Oh, I’m not particular as to size,” Alice hastily replied; “only one\\ndoesn’t like changing so often, you know.”\\n\\n“I _don’t_ know,” said the Caterpillar.\\n\\nAlice said nothing: she had never been so much contradicted in her life\\nbefore, and she felt that she was losing her temper.\\n\\n“Are you content now?” said the Caterpillar.\\n\\n“Well, I should like to be a _little_ larger, sir, if you wouldn’t\\nmind,” said Alice: “three inches is such a wretched height to be.”\\n\\n“It is a very good height indeed!” said the Caterpillar angrily,\\nrearing itself upright as it spoke (it was exactly three inches high).\\n\\n“But I’m not used to it!” pleaded poor Alice in a piteous tone. And she\\nthought of herself, “I wish the creatures wouldn’t be so easily\\noffended!”\\n\\n“You’ll get used to it in time,” said the Caterpillar; and it put the\\nhookah into its mouth and began smoking again.\\n\\nThis time Alice waited patiently until it chose to speak again. In a\\nminute or two the Caterpillar took the hookah out of its mouth and\\nyawned once or twice, and shook itself. Then it got down off the\\nmushroom, and crawled away in the grass, merely remarking as it went,\\n“One side will make you grow taller, and the other side will make you\\ngrow shorter.”\\n\\n“One side of _what?_ The other side of _what?_” thought Alice to\\nherself.\\n\\n“Of the mushroom,” said the Caterpillar, just as if she had asked it\\naloud; and in another moment it was out of sight.\\n\\nAlice remained looking thoughtfully at the mushroom for a minute,\\ntrying to make out which were the two sides of it; and as it was\\nperfectly round, she found this a very difficult question. However, at\\nlast she stretched her arms round it as far as they would go, and broke\\noff a bit of the edge with each hand.\\n\\n“And now which is which?” she said to herself, and nibbled a little of\\nthe right-hand bit to try the effect: the next moment she felt a\\nviolent blow underneath her chin: it had struck her foot!\\n\\nShe was a good deal frightened by this very sudden change, but she felt\\nthat there was no time to be lost, as she was shrinking rapidly; so she\\nset to work at once to eat some of the other bit. Her chin was pressed\\nso closely against her foot, that there was hardly room to open her\\nmouth; but she did it at last, and managed to swallow a morsel of the\\nlefthand bit.\\n\\n*      *      *      *      *      *      *\\n\\n    *      *      *      *      *      *\\n\\n*      *      *      *      *      *      *\\n\\n\\n“Come, my head’s free at last!” said Alice in a tone of delight, which\\nchanged into alarm in another moment, when she found that her shoulders\\nwere nowhere to be found: all she could see, when she looked down, was\\nan immense length of neck, which seemed to rise like a stalk out of a\\nsea of green leaves that lay far below her.\\n\\n“What _can_ all that green stuff be?” said Alice. “And where _have_ my\\nshoulders got to? And oh, my poor hands, how is it I can’t see you?”\\nShe was moving them about as she spoke, but no result seemed to follow,\\nexcept a little shaking among the distant green leaves.\\n\\nAs there seemed to be no chance of getting her hands up to her head,\\nshe tried to get her head down to them, and was delighted to find that\\nher neck would bend about easily in any direction, like a serpent. She\\nhad just succeeded in curving it down into a graceful zigzag, and was\\ngoing to dive in among the leaves, which she found to be nothing but\\nthe tops of the trees under which she had been wandering, when a sharp\\nhiss made her draw back in a hurry: a large pigeon had flown into her\\nface, and was beating her violently with its wings.\\n\\n“Serpent!” screamed the Pigeon.\\n\\n“I’m _not_ a serpent!” said Alice indignantly. “Let me alone!”\\n\\n“Serpent, I say again!” repeated the Pigeon, but in a more subdued\\ntone, and added with a kind of sob, “I’ve tried every way, and nothing\\nseems to suit them!”\\n\\n“I haven’t the least idea what you’re talking about,” said Alice.\\n\\n“I’ve tried the roots of trees, and I’ve tried banks, and I’ve tried\\nhedges,” the Pigeon went on, without attending to her; “but those\\nserpents! There’s no pleasing them!”\\n\\nAlice was more and more puzzled, but she thought there was no use in\\nsaying anything more till the Pigeon had finished.\\n\\n“As if it wasn’t trouble enough hatching the eggs,” said the Pigeon;\\n“but I must be on the look-out for serpents night and day! Why, I\\nhaven’t had a wink of sleep these three weeks!”\\n\\n“I’m very sorry you’ve been annoyed,” said Alice, who was beginning to\\nsee its meaning.\\n\\n“And just as I’d taken the highest tree in the wood,” continued the\\nPigeon, raising its voice to a shriek, “and just as I was thinking I\\nshould be free of them at last, they must needs come wriggling down\\nfrom the sky! Ugh, Serpent!”\\n\\n“But I’m _not_ a serpent, I tell you!” said Alice. “I’m a—I’m a—”\\n\\n“Well! _What_ are you?” said the Pigeon. “I can see you’re trying to\\ninvent something!”\\n\\n“I—I’m a little girl,” said Alice, rather doubtfully, as she remembered\\nthe number of changes she had gone through that day.\\n\\n“A likely story indeed!” said the Pigeon in a tone of the deepest\\ncontempt. “I’ve seen a good many little girls in my time, but never\\n_one_ with such a neck as that! No, no! You’re a serpent; and there’s\\nno use denying it. I suppose you’ll be telling me next that you never\\ntasted an egg!”\\n\\n“I _have_ tasted eggs, certainly,” said Alice, who was a very truthful\\nchild; “but little girls eat eggs quite as much as serpents do, you\\nknow.”\\n\\n“I don’t believe it,” said the Pigeon; “but if they do, why then\\nthey’re a kind of serpent, that’s all I can say.”\\n\\nThis was such a new idea to Alice, that she was quite silent for a\\nminute or two, which gave the Pigeon the opportunity of adding, “You’re\\nlooking for eggs, I know _that_ well enough; and what does it matter to\\nme whether you’re a little girl or a serpent?”\\n\\n“It matters a good deal to _me_,” said Alice hastily; “but I’m not\\nlooking for eggs, as it happens; and if I was, I shouldn’t want\\n_yours_: I don’t like them raw.”\\n\\n“Well, be off, then!” said the Pigeon in a sulky tone, as it settled\\ndown again into its nest. Alice crouched down among the trees as well\\nas she could, for her neck kept getting entangled among the branches,\\nand every now and then she had to stop and untwist it. After a while\\nshe remembered that she still held the pieces of mushroom in her hands,\\nand she set to work very carefully, nibbling first at one and then at\\nthe other, and growing sometimes taller and sometimes shorter, until\\nshe had succeeded in bringing herself down to her usual height.\\n\\nIt was so long since she had been anything near the right size, that it\\nfelt quite strange at first; but she got used to it in a few minutes,\\nand began talking to herself, as usual. “Come, there’s half my plan\\ndone now! How puzzling all these changes are! I’m never sure what I’m\\ngoing to be, from one minute to another! However, I’ve got back to my\\nright size: the next thing is, to get into that beautiful garden—how\\n_is_ that to be done, I wonder?” As she said this, she came suddenly\\nupon an open place, with a little house in it about four feet high.\\n“Whoever lives there,” thought Alice, “it’ll never do to come upon them\\n_this_ size: why, I should frighten them out of their wits!” So she\\nbegan nibbling at the righthand bit again, and did not venture to go\\nnear the house till she had brought herself down to nine inches high.\\n\\n\\n\\n\\nCHAPTER VI.\\nPig and Pepper\\n\\n\\nFor a minute or two she stood looking at the house, and wondering what\\nto do next, when suddenly a footman in livery came running out of the\\nwood—(she considered him to be a footman because he was in livery:\\notherwise, judging by his face only, she would have called him a\\nfish)—and rapped loudly at the door with his knuckles. It was opened by\\nanother footman in livery, with a round face, and large eyes like a\\nfrog; and both footmen, Alice noticed, had powdered hair that curled\\nall over their heads. She felt very curious to know what it was all\\nabout, and crept a little way out of the wood to listen.\\n\\nThe Fish-Footman began by producing from under his arm a great letter,\\nnearly as large as himself, and this he handed over to the other,\\nsaying, in a solemn tone, “For the Duchess. An invitation from the\\nQueen to play croquet.” The Frog-Footman repeated, in the same solemn\\ntone, only changing the order of the words a little, “From the Queen.\\nAn invitation for the Duchess to play croquet.”\\n\\nThen they both bowed low, and their curls got entangled together.\\n\\nAlice laughed so much at this, that she had to run back into the wood\\nfor fear of their hearing her; and when she next peeped out the\\nFish-Footman was gone, and the other was sitting on the ground near the\\ndoor, staring stupidly up into the sky.\\n\\nAlice went timidly up to the door, and knocked.\\n\\n“There’s no sort of use in knocking,” said the Footman, “and that for\\ntwo reasons. First, because I’m on the same side of the door as you\\nare; secondly, because they’re making such a noise inside, no one could\\npossibly hear you.” And certainly there _was_ a most extraordinary\\nnoise going on within—a constant howling and sneezing, and every now\\nand then a great crash, as if a dish or kettle had been broken to\\npieces.\\n\\n“Please, then,” said Alice, “how am I to get in?”\\n\\n“There might be some sense in your knocking,” the Footman went on\\nwithout attending to her, “if we had the door between us. For instance,\\nif you were _inside_, you might knock, and I could let you out, you\\nknow.” He was looking up into the sky all the time he was speaking, and\\nthis Alice thought decidedly uncivil. “But perhaps he can’t help it,”\\nshe said to herself; “his eyes are so _very_ nearly at the top of his\\nhead. But at any rate he might answer questions.—How am I to get in?”\\nshe repeated, aloud.\\n\\n“I shall sit here,” the Footman remarked, “till tomorrow—”\\n\\nAt this moment the door of the house opened, and a large plate came\\nskimming out, straight at the Footman’s head: it just grazed his nose,\\nand broke to pieces against one of the trees behind him.\\n\\n“—or next day, maybe,” the Footman continued in the same tone, exactly\\nas if nothing had happened.\\n\\n“How am I to get in?” asked Alice again, in a louder tone.\\n\\n“_Are_ you to get in at all?” said the Footman. “That’s the first\\nquestion, you know.”\\n\\nIt was, no doubt: only Alice did not like to be told so. “It’s really\\ndreadful,” she muttered to herself, “the way all the creatures argue.\\nIt’s enough to drive one crazy!”\\n\\nThe Footman seemed to think this a good opportunity for repeating his\\nremark, with variations. “I shall sit here,” he said, “on and off, for\\ndays and days.”\\n\\n“But what am _I_ to do?” said Alice.\\n\\n“Anything you like,” said the Footman, and began whistling.\\n\\n“Oh, there’s no use in talking to him,” said Alice desperately: “he’s\\nperfectly idiotic!” And she opened the door and went in.\\n\\nThe door led right into a large kitchen, which was full of smoke from\\none end to the other: the Duchess was sitting on a three-legged stool\\nin the middle, nursing a baby; the cook was leaning over the fire,\\nstirring a large cauldron which seemed to be full of soup.\\n\\n“There’s certainly too much pepper in that soup!” Alice said to\\nherself, as well as she could for sneezing.\\n\\nThere was certainly too much of it in the air. Even the Duchess sneezed\\noccasionally; and as for the baby, it was sneezing and howling\\nalternately without a moment’s pause. The only things in the kitchen\\nthat did not sneeze, were the cook, and a large cat which was sitting\\non the hearth and grinning from ear to ear.\\n\\n“Please would you tell me,” said Alice, a little timidly, for she was\\nnot quite sure whether it was good manners for her to speak first, “why\\nyour cat grins like that?”\\n\\n“It’s a Cheshire cat,” said the Duchess, “and that’s why. Pig!”\\n\\nShe said the last word with such sudden violence that Alice quite\\njumped; but she saw in another moment that it was addressed to the\\nbaby, and not to her, so she took courage, and went on again:—\\n\\n“I didn’t know that Cheshire cats always grinned; in fact, I didn’t\\nknow that cats _could_ grin.”\\n\\n“They all can,” said the Duchess; “and most of ’em do.”\\n\\n“I don’t know of any that do,” Alice said very politely, feeling quite\\npleased to have got into a conversation.\\n\\n“You don’t know much,” said the Duchess; “and that’s a fact.”\\n\\nAlice did not at all like the tone of this remark, and thought it would\\nbe as well to introduce some other subject of conversation. While she\\nwas trying to fix on one, the cook took the cauldron of soup off the\\nfire, and at once set to work throwing everything within her reach at\\nthe Duchess and the baby—the fire-irons came first; then followed a\\nshower of saucepans, plates, and dishes. The Duchess took no notice of\\nthem even when they hit her; and the baby was howling so much already,\\nthat it was quite impossible to say whether the blows hurt it or not.\\n\\n“Oh, _please_ mind what you’re doing!” cried Alice, jumping up and down\\nin an agony of terror. “Oh, there goes his _precious_ nose!” as an\\nunusually large saucepan flew close by it, and very nearly carried it\\noff.\\n\\n“If everybody minded their own business,” the Duchess said in a hoarse\\ngrowl, “the world would go round a deal faster than it does.”\\n\\n“Which would _not_ be an advantage,” said Alice, who felt very glad to\\nget an opportunity of showing off a little of her knowledge. “Just\\nthink of what work it would make with the day and night! You see the\\nearth takes twenty-four hours to turn round on its axis—”\\n\\n“Talking of axes,” said the Duchess, “chop off her head!”\\n\\nAlice glanced rather anxiously at the cook, to see if she meant to take\\nthe hint; but the cook was busily stirring the soup, and seemed not to\\nbe listening, so she went on again: “Twenty-four hours, I _think_; or\\nis it twelve? I—”\\n\\n“Oh, don’t bother _me_,” said the Duchess; “I never could abide\\nfigures!” And with that she began nursing her child again, singing a\\nsort of lullaby to it as she did so, and giving it a violent shake at\\nthe end of every line:\\n\\n“Speak roughly to your little boy,\\n    And beat him when he sneezes:\\nHe only does it to annoy,\\n    Because he knows it teases.”\\n\\n\\nCHORUS.\\n(In which the cook and the baby joined):\\n\\n\\n“Wow! wow! wow!”\\n\\n\\nWhile the Duchess sang the second verse of the song, she kept tossing\\nthe baby violently up and down, and the poor little thing howled so,\\nthat Alice could hardly hear the words:—\\n\\n“I speak severely to my boy,\\n    I beat him when he sneezes;\\nFor he can thoroughly enjoy\\n    The pepper when he pleases!”\\n\\n\\nCHORUS.\\n\\n\\n“Wow! wow! wow!”\\n\\n\\n“Here! you may nurse it a bit, if you like!” the Duchess said to Alice,\\nflinging the baby at her as she spoke. “I must go and get ready to play\\ncroquet with the Queen,” and she hurried out of the room. The cook\\nthrew a frying-pan after her as she went out, but it just missed her.\\n\\nAlice caught the baby with some difficulty, as it was a queer-shaped\\nlittle creature, and held out its arms and legs in all directions,\\n“just like a star-fish,” thought Alice. The poor little thing was\\nsnorting like a steam-engine when she caught it, and kept doubling\\nitself up and straightening itself out again, so that altogether, for\\nthe first minute or two, it was as much as she could do to hold it.\\n\\nAs soon as she had made out the proper way of nursing it, (which was to\\ntwist it up into a sort of knot, and then keep tight hold of its right\\near and left foot, so as to prevent its undoing itself,) she carried it\\nout into the open air. “If I don’t take this child away with me,”\\nthought Alice, “they’re sure to kill it in a day or two: wouldn’t it be\\nmurder to leave it behind?” She said the last words out loud, and the\\nlittle thing grunted in reply (it had left off sneezing by this time).\\n“Don’t grunt,” said Alice; “that’s not at all a proper way of\\nexpressing yourself.”\\n\\nThe baby grunted again, and Alice looked very anxiously into its face\\nto see what was the matter with it. There could be no doubt that it had\\na _very_ turn-up nose, much more like a snout than a real nose; also\\nits eyes were getting extremely small for a baby: altogether Alice did\\nnot like the look of the thing at all. “But perhaps it was only\\nsobbing,” she thought, and looked into its eyes again, to see if there\\nwere any tears.\\n\\nNo, there were no tears. “If you’re going to turn into a pig, my dear,”\\nsaid Alice, seriously, “I’ll have nothing more to do with you. Mind\\nnow!” The poor little thing sobbed again (or grunted, it was impossible\\nto say which), and they went on for some while in silence.\\n\\nAlice was just beginning to think to herself, “Now, what am I to do\\nwith this creature when I get it home?” when it grunted again, so\\nviolently, that she looked down into its face in some alarm. This time\\nthere could be _no_ mistake about it: it was neither more nor less than\\na pig, and she felt that it would be quite absurd for her to carry it\\nfurther.\\n\\nSo she set the little creature down, and felt quite relieved to see it\\ntrot away quietly into the wood. “If it had grown up,” she said to\\nherself, “it would have made a dreadfully ugly child: but it makes\\nrather a handsome pig, I think.” And she began thinking over other\\nchildren she knew, who might do very well as pigs, and was just saying\\nto herself, “if one only knew the right way to change them—” when she\\nwas a little startled by seeing the Cheshire Cat sitting on a bough of\\na tree a few yards off.\\n\\nThe Cat only grinned when it saw Alice. It looked good-natured, she\\nthought: still it had _very_ long claws and a great many teeth, so she\\nfelt that it ought to be treated with respect.\\n\\n“Cheshire Puss,” she began, rather timidly, as she did not at all know\\nwhether it would like the name: however, it only grinned a little\\nwider. “Come, it’s pleased so far,” thought Alice, and she went on.\\n“Would you tell me, please, which way I ought to go from here?”\\n\\n“That depends a good deal on where you want to get to,” said the Cat.\\n\\n“I don’t much care where—” said Alice.\\n\\n“Then it doesn’t matter which way you go,” said the Cat.\\n\\n“—so long as I get _somewhere_,” Alice added as an explanation.\\n\\n“Oh, you’re sure to do that,” said the Cat, “if you only walk long\\nenough.”\\n\\nAlice felt that this could not be denied, so she tried another\\nquestion. “What sort of people live about here?”\\n\\n“In _that_ direction,” the Cat said, waving its right paw round, “lives\\na Hatter: and in _that_ direction,” waving the other paw, “lives a\\nMarch Hare. Visit either you like: they’re both mad.”\\n\\n“But I don’t want to go among mad people,” Alice remarked.\\n\\n“Oh, you can’t help that,” said the Cat: “we’re all mad here. I’m mad.\\nYou’re mad.”\\n\\n“How do you know I’m mad?” said Alice.\\n\\n“You must be,” said the Cat, “or you wouldn’t have come here.”\\n\\nAlice didn’t think that proved it at all; however, she went on “And how\\ndo you know that you’re mad?”\\n\\n“To begin with,” said the Cat, “a dog’s not mad. You grant that?”\\n\\n“I suppose so,” said Alice.\\n\\n“Well, then,” the Cat went on, “you see, a dog growls when it’s angry,\\nand wags its tail when it’s pleased. Now _I_ growl when I’m pleased,\\nand wag my tail when I’m angry. Therefore I’m mad.”\\n\\n“_I_ call it purring, not growling,” said Alice.\\n\\n“Call it what you like,” said the Cat. “Do you play croquet with the\\nQueen to-day?”\\n\\n“I should like it very much,” said Alice, “but I haven’t been invited\\nyet.”\\n\\n“You’ll see me there,” said the Cat, and vanished.\\n\\nAlice was not much surprised at this, she was getting so used to queer\\nthings happening. While she was looking at the place where it had been,\\nit suddenly appeared again.\\n\\n“By-the-bye, what became of the baby?” said the Cat. “I’d nearly\\nforgotten to ask.”\\n\\n“It turned into a pig,” Alice quietly said, just as if it had come back\\nin a natural way.\\n\\n“I thought it would,” said the Cat, and vanished again.\\n\\nAlice waited a little, half expecting to see it again, but it did not\\nappear, and after a minute or two she walked on in the direction in\\nwhich the March Hare was said to live. “I’ve seen hatters before,” she\\nsaid to herself; “the March Hare will be much the most interesting, and\\nperhaps as this is May it won’t be raving mad—at least not so mad as it\\nwas in March.” As she said this, she looked up, and there was the Cat\\nagain, sitting on a branch of a tree.\\n\\n“Did you say pig, or fig?” said the Cat.\\n\\n“I said pig,” replied Alice; “and I wish you wouldn’t keep appearing\\nand vanishing so suddenly: you make one quite giddy.”\\n\\n“All right,” said the Cat; and this time it vanished quite slowly,\\nbeginning with the end of the tail, and ending with the grin, which\\nremained some time after the rest of it had gone.\\n\\n“Well! I’ve often seen a cat without a grin,” thought Alice; “but a\\ngrin without a cat! It’s the most curious thing I ever saw in my life!”\\n\\nShe had not gone much farther before she came in sight of the house of\\nthe March Hare: she thought it must be the right house, because the\\nchimneys were shaped like ears and the roof was thatched with fur. It\\nwas so large a house, that she did not like to go nearer till she had\\nnibbled some more of the lefthand bit of mushroom, and raised herself\\nto about two feet high: even then she walked up towards it rather\\ntimidly, saying to herself “Suppose it should be raving mad after all!\\nI almost wish I’d gone to see the Hatter instead!”\\n\\n\\n\\n\\nCHAPTER VII.\\nA Mad Tea-Party\\n\\n\\nThere was a table set out under a tree in front of the house, and the\\nMarch Hare and the Hatter were having tea at it: a Dormouse was sitting\\nbetween them, fast asleep, and the other two were using it as a\\ncushion, resting their elbows on it, and talking over its head. “Very\\nuncomfortable for the Dormouse,” thought Alice; “only, as it’s asleep,\\nI suppose it doesn’t mind.”\\n\\nThe table was a large one, but the three were all crowded together at\\none corner of it: “No room! No room!” they cried out when they saw\\nAlice coming. “There’s _plenty_ of room!” said Alice indignantly, and\\nshe sat down in a large arm-chair at one end of the table.\\n\\n“Have some wine,” the March Hare said in an encouraging tone.\\n\\nAlice looked all round the table, but there was nothing on it but tea.\\n“I don’t see any wine,” she remarked.\\n\\n“There isn’t any,” said the March Hare.\\n\\n“Then it wasn’t very civil of you to offer it,” said Alice angrily.\\n\\n“It wasn’t very civil of you to sit down without being invited,” said\\nthe March Hare.\\n\\n“I didn’t know it was _your_ table,” said Alice; “it’s laid for a great\\nmany more than three.”\\n\\n“Your hair wants cutting,” said the Hatter. He had been looking at\\nAlice for some time with great curiosity, and this was his first\\nspeech.\\n\\n“You should learn not to make personal remarks,” Alice said with some\\nseverity; “it’s very rude.”\\n\\nThe Hatter opened his eyes very wide on hearing this; but all he _said_\\nwas, “Why is a raven like a writing-desk?”\\n\\n“Come, we shall have some fun now!” thought Alice. “I’m glad they’ve\\nbegun asking riddles.—I believe I can guess that,” she added aloud.\\n\\n“Do you mean that you think you can find out the answer to it?” said\\nthe March Hare.\\n\\n“Exactly so,” said Alice.\\n\\n“Then you should say what you mean,” the March Hare went on.\\n\\n“I do,” Alice hastily replied; “at least—at least I mean what I\\nsay—that’s the same thing, you know.”\\n\\n“Not the same thing a bit!” said the Hatter. “You might just as well\\nsay that ‘I see what I eat’ is the same thing as ‘I eat what I see’!”\\n\\n“You might just as well say,” added the March Hare, “that ‘I like what\\nI get’ is the same thing as ‘I get what I like’!”\\n\\n“You might just as well say,” added the Dormouse, who seemed to be\\ntalking in his sleep, “that ‘I breathe when I sleep’ is the same thing\\nas ‘I sleep when I breathe’!”\\n\\n“It _is_ the same thing with you,” said the Hatter, and here the\\nconversation dropped, and the party sat silent for a minute, while\\nAlice thought over all she could remember about ravens and\\nwriting-desks, which wasn’t much.\\n\\nThe Hatter was the first to break the silence. “What day of the month\\nis it?” he said, turning to Alice: he had taken his watch out of his\\npocket, and was looking at it uneasily, shaking it every now and then,\\nand holding it to his ear.\\n\\nAlice considered a little, and then said “The fourth.”\\n\\n“Two days wrong!” sighed the Hatter. “I told you butter wouldn’t suit\\nthe works!” he added looking angrily at the March Hare.\\n\\n“It was the _best_ butter,” the March Hare meekly replied.\\n\\n“Yes, but some crumbs must have got in as well,” the Hatter grumbled:\\n“you shouldn’t have put it in with the bread-knife.”\\n\\nThe March Hare took the watch and looked at it gloomily: then he dipped\\nit into his cup of tea, and looked at it again: but he could think of\\nnothing better to say than his first remark, “It was the _best_ butter,\\nyou know.”\\n\\nAlice had been looking over his shoulder with some curiosity. “What a\\nfunny watch!” she remarked. “It tells the day of the month, and doesn’t\\ntell what o’clock it is!”\\n\\n“Why should it?” muttered the Hatter. “Does _your_ watch tell you what\\nyear it is?”\\n\\n“Of course not,” Alice replied very readily: “but that’s because it\\nstays the same year for such a long time together.”\\n\\n“Which is just the case with _mine_,” said the Hatter.\\n\\nAlice felt dreadfully puzzled. The Hatter’s remark seemed to have no\\nsort of meaning in it, and yet it was certainly English. “I don’t quite\\nunderstand you,” she said, as politely as she could.\\n\\n“The Dormouse is asleep again,” said the Hatter, and he poured a little\\nhot tea upon its nose.\\n\\nThe Dormouse shook its head impatiently, and said, without opening its\\neyes, “Of course, of course; just what I was going to remark myself.”\\n\\n“Have you guessed the riddle yet?” the Hatter said, turning to Alice\\nagain.\\n\\n“No, I give it up,” Alice replied: “what’s the answer?”\\n\\n“I haven’t the slightest idea,” said the Hatter.\\n\\n“Nor I,” said the March Hare.\\n\\nAlice sighed wearily. “I think you might do something better with the\\ntime,” she said, “than waste it in asking riddles that have no\\nanswers.”\\n\\n“If you knew Time as well as I do,” said the Hatter, “you wouldn’t talk\\nabout wasting _it_. It’s _him_.”\\n\\n“I don’t know what you mean,” said Alice.\\n\\n“Of course you don’t!” the Hatter said, tossing his head\\ncontemptuously. “I dare say you never even spoke to Time!”\\n\\n“Perhaps not,” Alice cautiously replied: “but I know I have to beat\\ntime when I learn music.”\\n\\n“Ah! that accounts for it,” said the Hatter. “He won’t stand beating.\\nNow, if you only kept on good terms with him, he’d do almost anything\\nyou liked with the clock. For instance, suppose it were nine o’clock in\\nthe morning, just time to begin lessons: you’d only have to whisper a\\nhint to Time, and round goes the clock in a twinkling! Half-past one,\\ntime for dinner!”\\n\\n(“I only wish it was,” the March Hare said to itself in a whisper.)\\n\\n“That would be grand, certainly,” said Alice thoughtfully: “but then—I\\nshouldn’t be hungry for it, you know.”\\n\\n“Not at first, perhaps,” said the Hatter: “but you could keep it to\\nhalf-past one as long as you liked.”\\n\\n“Is that the way _you_ manage?” Alice asked.\\n\\nThe Hatter shook his head mournfully. “Not I!” he replied. “We\\nquarrelled last March—just before _he_ went mad, you know—” (pointing\\nwith his tea spoon at the March Hare,) “—it was at the great concert\\ngiven by the Queen of Hearts, and I had to sing\\n\\n‘Twinkle, twinkle, little bat!\\nHow I wonder what you’re at!’\\n\\n\\nYou know the song, perhaps?”\\n\\n“I’ve heard something like it,” said Alice.\\n\\n“It goes on, you know,” the Hatter continued, “in this way:—\\n\\n‘Up above the world you fly,\\nLike a tea-tray in the sky.\\n                    Twinkle, twinkle—’”\\n\\n\\nHere the Dormouse shook itself, and began singing in its sleep\\n“_Twinkle, twinkle, twinkle, twinkle_—” and went on so long that they\\nhad to pinch it to make it stop.\\n\\n“Well, I’d hardly finished the first verse,” said the Hatter, “when the\\nQueen jumped up and bawled out, ‘He’s murdering the time! Off with his\\nhead!’”\\n\\n“How dreadfully savage!” exclaimed Alice.\\n\\n“And ever since that,” the Hatter went on in a mournful tone, “he won’t\\ndo a thing I ask! It’s always six o’clock now.”\\n\\nA bright idea came into Alice’s head. “Is that the reason so many\\ntea-things are put out here?” she asked.\\n\\n“Yes, that’s it,” said the Hatter with a sigh: “it’s always tea-time,\\nand we’ve no time to wash the things between whiles.”\\n\\n“Then you keep moving round, I suppose?” said Alice.\\n\\n“Exactly so,” said the Hatter: “as the things get used up.”\\n\\n“But what happens when you come to the beginning again?” Alice ventured\\nto ask.\\n\\n“Suppose we change the subject,” the March Hare interrupted, yawning.\\n“I’m getting tired of this. I vote the young lady tells us a story.”\\n\\n“I’m afraid I don’t know one,” said Alice, rather alarmed at the\\nproposal.\\n\\n“Then the Dormouse shall!” they both cried. “Wake up, Dormouse!” And\\nthey pinched it on both sides at once.\\n\\nThe Dormouse slowly opened his eyes. “I wasn’t asleep,” he said in a\\nhoarse, feeble voice: “I heard every word you fellows were saying.”\\n\\n“Tell us a story!” said the March Hare.\\n\\n“Yes, please do!” pleaded Alice.\\n\\n“And be quick about it,” added the Hatter, “or you’ll be asleep again\\nbefore it’s done.”\\n\\n“Once upon a time there were three little sisters,” the Dormouse began\\nin a great hurry; “and their names were Elsie, Lacie, and Tillie; and\\nthey lived at the bottom of a well—”\\n\\n“What did they live on?” said Alice, who always took a great interest\\nin questions of eating and drinking.\\n\\n“They lived on treacle,” said the Dormouse, after thinking a minute or\\ntwo.\\n\\n“They couldn’t have done that, you know,” Alice gently remarked;\\n“they’d have been ill.”\\n\\n“So they were,” said the Dormouse; “_very_ ill.”\\n\\nAlice tried to fancy to herself what such an extraordinary ways of\\nliving would be like, but it puzzled her too much, so she went on: “But\\nwhy did they live at the bottom of a well?”\\n\\n“Take some more tea,” the March Hare said to Alice, very earnestly.\\n\\n“I’ve had nothing yet,” Alice replied in an offended tone, “so I can’t\\ntake more.”\\n\\n“You mean you can’t take _less_,” said the Hatter: “it’s very easy to\\ntake _more_ than nothing.”\\n\\n“Nobody asked _your_ opinion,” said Alice.\\n\\n“Who’s making personal remarks now?” the Hatter asked triumphantly.\\n\\nAlice did not quite know what to say to this: so she helped herself to\\nsome tea and bread-and-butter, and then turned to the Dormouse, and\\nrepeated her question. “Why did they live at the bottom of a well?”\\n\\nThe Dormouse again took a minute or two to think about it, and then\\nsaid, “It was a treacle-well.”\\n\\n“There’s no such thing!” Alice was beginning very angrily, but the\\nHatter and the March Hare went “Sh! sh!” and the Dormouse sulkily\\nremarked, “If you can’t be civil, you’d better finish the story for\\nyourself.”\\n\\n“No, please go on!” Alice said very humbly; “I won’t interrupt again. I\\ndare say there may be _one_.”\\n\\n“One, indeed!” said the Dormouse indignantly. However, he consented to\\ngo on. “And so these three little sisters—they were learning to draw,\\nyou know—”\\n\\n“What did they draw?” said Alice, quite forgetting her promise.\\n\\n“Treacle,” said the Dormouse, without considering at all this time.\\n\\n“I want a clean cup,” interrupted the Hatter: “let’s all move one place\\non.”\\n\\nHe moved on as he spoke, and the Dormouse followed him: the March Hare\\nmoved into the Dormouse’s place, and Alice rather unwillingly took the\\nplace of the March Hare. The Hatter was the only one who got any\\nadvantage from the change: and Alice was a good deal worse off than\\nbefore, as the March Hare had just upset the milk-jug into his plate.\\n\\nAlice did not wish to offend the Dormouse again, so she began very\\ncautiously: “But I don’t understand. Where did they draw the treacle\\nfrom?”\\n\\n“You can draw water out of a water-well,” said the Hatter; “so I should\\nthink you could draw treacle out of a treacle-well—eh, stupid?”\\n\\n“But they were _in_ the well,” Alice said to the Dormouse, not choosing\\nto notice this last remark.\\n\\n“Of course they were,” said the Dormouse; “—well in.”\\n\\nThis answer so confused poor Alice, that she let the Dormouse go on for\\nsome time without interrupting it.\\n\\n“They were learning to draw,” the Dormouse went on, yawning and rubbing\\nits eyes, for it was getting very sleepy; “and they drew all manner of\\nthings—everything that begins with an M—”\\n\\n“Why with an M?” said Alice.\\n\\n“Why not?” said the March Hare.\\n\\nAlice was silent.\\n\\nThe Dormouse had closed its eyes by this time, and was going off into a\\ndoze; but, on being pinched by the Hatter, it woke up again with a\\nlittle shriek, and went on: “—that begins with an M, such as\\nmouse-traps, and the moon, and memory, and muchness—you know you say\\nthings are “much of a muchness”—did you ever see such a thing as a\\ndrawing of a muchness?”\\n\\n“Really, now you ask me,” said Alice, very much confused, “I don’t\\nthink—”\\n\\n“Then you shouldn’t talk,” said the Hatter.\\n\\nThis piece of rudeness was more than Alice could bear: she got up in\\ngreat disgust, and walked off; the Dormouse fell asleep instantly, and\\nneither of the others took the least notice of her going, though she\\nlooked back once or twice, half hoping that they would call after her:\\nthe last time she saw them, they were trying to put the Dormouse into\\nthe teapot.\\n\\n“At any rate I’ll never go _there_ again!” said Alice as she picked her\\nway through the wood. “It’s the stupidest tea-party I ever was at in\\nall my life!”\\n\\nJust as she said this, she noticed that one of the trees had a door\\nleading right into it. “That’s very curious!” she thought. “But\\neverything’s curious today. I think I may as well go in at once.” And\\nin she went.\\n\\nOnce more she found herself in the long hall, and close to the little\\nglass table. “Now, I’ll manage better this time,” she said to herself,\\nand began by taking the little golden key, and unlocking the door that\\nled into the garden. Then she went to work nibbling at the mushroom\\n(she had kept a piece of it in her pocket) till she was about a foot\\nhigh: then she walked down the little passage: and _then_—she found\\nherself at last in the beautiful garden, among the bright flower-beds\\nand the cool fountains.\\n\\n\\n\\n\\nCHAPTER VIII.\\nThe Queen’s Croquet-Ground\\n\\n\\nA large rose-tree stood near the entrance of the garden: the roses\\ngrowing on it were white, but there were three gardeners at it, busily\\npainting them red. Alice thought this a very curious thing, and she\\nwent nearer to watch them, and just as she came up to them she heard\\none of them say, “Look out now, Five! Don’t go splashing paint over me\\nlike that!”\\n\\n“I couldn’t help it,” said Five, in a sulky tone; “Seven jogged my\\nelbow.”\\n\\nOn which Seven looked up and said, “That’s right, Five! Always lay the\\nblame on others!”\\n\\n“_You’d_ better not talk!” said Five. “I heard the Queen say only\\nyesterday you deserved to be beheaded!”\\n\\n“What for?” said the one who had spoken first.\\n\\n“That’s none of _your_ business, Two!” said Seven.\\n\\n“Yes, it _is_ his business!” said Five, “and I’ll tell him—it was for\\nbringing the cook tulip-roots instead of onions.”\\n\\nSeven flung down his brush, and had just begun “Well, of all the unjust\\nthings—” when his eye chanced to fall upon Alice, as she stood watching\\nthem, and he checked himself suddenly: the others looked round also,\\nand all of them bowed low.\\n\\n“Would you tell me,” said Alice, a little timidly, “why you are\\npainting those roses?”\\n\\nFive and Seven said nothing, but looked at Two. Two began in a low\\nvoice, “Why the fact is, you see, Miss, this here ought to have been a\\n_red_ rose-tree, and we put a white one in by mistake; and if the Queen\\nwas to find it out, we should all have our heads cut off, you know. So\\nyou see, Miss, we’re doing our best, afore she comes, to—” At this\\nmoment Five, who had been anxiously looking across the garden, called\\nout “The Queen! The Queen!” and the three gardeners instantly threw\\nthemselves flat upon their faces. There was a sound of many footsteps,\\nand Alice looked round, eager to see the Queen.\\n\\nFirst came ten soldiers carrying clubs; these were all shaped like the\\nthree gardeners, oblong and flat, with their hands and feet at the\\ncorners: next the ten courtiers; these were ornamented all over with\\ndiamonds, and walked two and two, as the soldiers did. After these came\\nthe royal children; there were ten of them, and the little dears came\\njumping merrily along hand in hand, in couples: they were all\\nornamented with hearts. Next came the guests, mostly Kings and Queens,\\nand among them Alice recognised the White Rabbit: it was talking in a\\nhurried nervous manner, smiling at everything that was said, and went\\nby without noticing her. Then followed the Knave of Hearts, carrying\\nthe King’s crown on a crimson velvet cushion; and, last of all this\\ngrand procession, came THE KING AND QUEEN OF HEARTS.\\n\\nAlice was rather doubtful whether she ought not to lie down on her face\\nlike the three gardeners, but she could not remember ever having heard\\nof such a rule at processions; “and besides, what would be the use of a\\nprocession,” thought she, “if people had all to lie down upon their\\nfaces, so that they couldn’t see it?” So she stood still where she was,\\nand waited.\\n\\nWhen the procession came opposite to Alice, they all stopped and looked\\nat her, and the Queen said severely “Who is this?” She said it to the\\nKnave of Hearts, who only bowed and smiled in reply.\\n\\n“Idiot!” said the Queen, tossing her head impatiently; and, turning to\\nAlice, she went on, “What’s your name, child?”\\n\\n“My name is Alice, so please your Majesty,” said Alice very politely;\\nbut she added, to herself, “Why, they’re only a pack of cards, after\\nall. I needn’t be afraid of them!”\\n\\n“And who are _these?_” said the Queen, pointing to the three gardeners\\nwho were lying round the rose-tree; for, you see, as they were lying on\\ntheir faces, and the pattern on their backs was the same as the rest of\\nthe pack, she could not tell whether they were gardeners, or soldiers,\\nor courtiers, or three of her own children.\\n\\n“How should _I_ know?” said Alice, surprised at her own courage. “It’s\\nno business of _mine_.”\\n\\nThe Queen turned crimson with fury, and, after glaring at her for a\\nmoment like a wild beast, screamed “Off with her head! Off—”\\n\\n“Nonsense!” said Alice, very loudly and decidedly, and the Queen was\\nsilent.\\n\\nThe King laid his hand upon her arm, and timidly said “Consider, my\\ndear: she is only a child!”\\n\\nThe Queen turned angrily away from him, and said to the Knave “Turn\\nthem over!”\\n\\nThe Knave did so, very carefully, with one foot.\\n\\n“Get up!” said the Queen, in a shrill, loud voice, and the three\\ngardeners instantly jumped up, and began bowing to the King, the Queen,\\nthe royal children, and everybody else.\\n\\n“Leave off that!” screamed the Queen. “You make me giddy.” And then,\\nturning to the rose-tree, she went on, “What _have_ you been doing\\nhere?”\\n\\n“May it please your Majesty,” said Two, in a very humble tone, going\\ndown on one knee as he spoke, “we were trying—”\\n\\n“_I_ see!” said the Queen, who had meanwhile been examining the roses.\\n“Off with their heads!” and the procession moved on, three of the\\nsoldiers remaining behind to execute the unfortunate gardeners, who ran\\nto Alice for protection.\\n\\n“You shan’t be beheaded!” said Alice, and she put them into a large\\nflower-pot that stood near. The three soldiers wandered about for a\\nminute or two, looking for them, and then quietly marched off after the\\nothers.\\n\\n“Are their heads off?” shouted the Queen.\\n\\n“Their heads are gone, if it please your Majesty!” the soldiers shouted\\nin reply.\\n\\n“That’s right!” shouted the Queen. “Can you play croquet?”\\n\\nThe soldiers were silent, and looked at Alice, as the question was\\nevidently meant for her.\\n\\n“Yes!” shouted Alice.\\n\\n“Come on, then!” roared the Queen, and Alice joined the procession,\\nwondering very much what would happen next.\\n\\n“It’s—it’s a very fine day!” said a timid voice at her side. She was\\nwalking by the White Rabbit, who was peeping anxiously into her face.\\n\\n“Very,” said Alice: “—where’s the Duchess?”\\n\\n“Hush! Hush!” said the Rabbit in a low, hurried tone. He looked\\nanxiously over his shoulder as he spoke, and then raised himself upon\\ntiptoe, put his mouth close to her ear, and whispered “She’s under\\nsentence of execution.”\\n\\n“What for?” said Alice.\\n\\n“Did you say ‘What a pity!’?” the Rabbit asked.\\n\\n“No, I didn’t,” said Alice: “I don’t think it’s at all a pity. I said\\n‘What for?’”\\n\\n“She boxed the Queen’s ears—” the Rabbit began. Alice gave a little\\nscream of laughter. “Oh, hush!” the Rabbit whispered in a frightened\\ntone. “The Queen will hear you! You see, she came rather late, and the\\nQueen said—”\\n\\n“Get to your places!” shouted the Queen in a voice of thunder, and\\npeople began running about in all directions, tumbling up against each\\nother; however, they got settled down in a minute or two, and the game\\nbegan. Alice thought she had never seen such a curious croquet-ground\\nin her life; it was all ridges and furrows; the balls were live\\nhedgehogs, the mallets live flamingoes, and the soldiers had to double\\nthemselves up and to stand on their hands and feet, to make the arches.\\n\\nThe chief difficulty Alice found at first was in managing her flamingo:\\nshe succeeded in getting its body tucked away, comfortably enough,\\nunder her arm, with its legs hanging down, but generally, just as she\\nhad got its neck nicely straightened out, and was going to give the\\nhedgehog a blow with its head, it _would_ twist itself round and look\\nup in her face, with such a puzzled expression that she could not help\\nbursting out laughing: and when she had got its head down, and was\\ngoing to begin again, it was very provoking to find that the hedgehog\\nhad unrolled itself, and was in the act of crawling away: besides all\\nthis, there was generally a ridge or furrow in the way wherever she\\nwanted to send the hedgehog to, and, as the doubled-up soldiers were\\nalways getting up and walking off to other parts of the ground, Alice\\nsoon came to the conclusion that it was a very difficult game indeed.\\n\\nThe players all played at once without waiting for turns, quarrelling\\nall the while, and fighting for the hedgehogs; and in a very short time\\nthe Queen was in a furious passion, and went stamping about, and\\nshouting “Off with his head!” or “Off with her head!” about once in a\\nminute.\\n\\nAlice began to feel very uneasy: to be sure, she had not as yet had any\\ndispute with the Queen, but she knew that it might happen any minute,\\n“and then,” thought she, “what would become of me? They’re dreadfully\\nfond of beheading people here; the great wonder is, that there’s any\\none left alive!”\\n\\nShe was looking about for some way of escape, and wondering whether she\\ncould get away without being seen, when she noticed a curious\\nappearance in the air: it puzzled her very much at first, but, after\\nwatching it a minute or two, she made it out to be a grin, and she said\\nto herself “It’s the Cheshire Cat: now I shall have somebody to talk\\nto.”\\n\\n“How are you getting on?” said the Cat, as soon as there was mouth\\nenough for it to speak with.\\n\\nAlice waited till the eyes appeared, and then nodded. “It’s no use\\nspeaking to it,” she thought, “till its ears have come, or at least one\\nof them.” In another minute the whole head appeared, and then Alice put\\ndown her flamingo, and began an account of the game, feeling very glad\\nshe had someone to listen to her. The Cat seemed to think that there\\nwas enough of it now in sight, and no more of it appeared.\\n\\n“I don’t think they play at all fairly,” Alice began, in rather a\\ncomplaining tone, “and they all quarrel so dreadfully one can’t hear\\noneself speak—and they don’t seem to have any rules in particular; at\\nleast, if there are, nobody attends to them—and you’ve no idea how\\nconfusing it is all the things being alive; for instance, there’s the\\narch I’ve got to go through next walking about at the other end of the\\nground—and I should have croqueted the Queen’s hedgehog just now, only\\nit ran away when it saw mine coming!”\\n\\n“How do you like the Queen?” said the Cat in a low voice.\\n\\n“Not at all,” said Alice: “she’s so extremely—” Just then she noticed\\nthat the Queen was close behind her, listening: so she went on,\\n“—likely to win, that it’s hardly worth while finishing the game.”\\n\\nThe Queen smiled and passed on.\\n\\n“Who _are_ you talking to?” said the King, going up to Alice, and\\nlooking at the Cat’s head with great curiosity.\\n\\n“It’s a friend of mine—a Cheshire Cat,” said Alice: “allow me to\\nintroduce it.”\\n\\n“I don’t like the look of it at all,” said the King: “however, it may\\nkiss my hand if it likes.”\\n\\n“I’d rather not,” the Cat remarked.\\n\\n“Don’t be impertinent,” said the King, “and don’t look at me like\\nthat!” He got behind Alice as he spoke.\\n\\n“A cat may look at a king,” said Alice. “I’ve read that in some book,\\nbut I don’t remember where.”\\n\\n“Well, it must be removed,” said the King very decidedly, and he called\\nthe Queen, who was passing at the moment, “My dear! I wish you would\\nhave this cat removed!”\\n\\nThe Queen had only one way of settling all difficulties, great or\\nsmall. “Off with his head!” she said, without even looking round.\\n\\n“I’ll fetch the executioner myself,” said the King eagerly, and he\\nhurried off.\\n\\nAlice thought she might as well go back, and see how the game was going\\non, as she heard the Queen’s voice in the distance, screaming with\\npassion. She had already heard her sentence three of the players to be\\nexecuted for having missed their turns, and she did not like the look\\nof things at all, as the game was in such confusion that she never knew\\nwhether it was her turn or not. So she went in search of her hedgehog.\\n\\nThe hedgehog was engaged in a fight with another hedgehog, which seemed\\nto Alice an excellent opportunity for croqueting one of them with the\\nother: the only difficulty was, that her flamingo was gone across to\\nthe other side of the garden, where Alice could see it trying in a\\nhelpless sort of way to fly up into a tree.\\n\\nBy the time she had caught the flamingo and brought it back, the fight\\nwas over, and both the hedgehogs were out of sight: “but it doesn’t\\nmatter much,” thought Alice, “as all the arches are gone from this side\\nof the ground.” So she tucked it away under her arm, that it might not\\nescape again, and went back for a little more conversation with her\\nfriend.\\n\\nWhen she got back to the Cheshire Cat, she was surprised to find quite\\na large crowd collected round it: there was a dispute going on between\\nthe executioner, the King, and the Queen, who were all talking at once,\\nwhile all the rest were quite silent, and looked very uncomfortable.\\n\\nThe moment Alice appeared, she was appealed to by all three to settle\\nthe question, and they repeated their arguments to her, though, as they\\nall spoke at once, she found it very hard indeed to make out exactly\\nwhat they said.\\n\\nThe executioner’s argument was, that you couldn’t cut off a head unless\\nthere was a body to cut it off from: that he had never had to do such a\\nthing before, and he wasn’t going to begin at _his_ time of life.\\n\\nThe King’s argument was, that anything that had a head could be\\nbeheaded, and that you weren’t to talk nonsense.\\n\\nThe Queen’s argument was, that if something wasn’t done about it in\\nless than no time she’d have everybody executed, all round. (It was\\nthis last remark that had made the whole party look so grave and\\nanxious.)\\n\\nAlice could think of nothing else to say but “It belongs to the\\nDuchess: you’d better ask _her_ about it.”\\n\\n“She’s in prison,” the Queen said to the executioner: “fetch her here.”\\nAnd the executioner went off like an arrow.\\n\\nThe Cat’s head began fading away the moment he was gone, and, by the\\ntime he had come back with the Duchess, it had entirely disappeared; so\\nthe King and the executioner ran wildly up and down looking for it,\\nwhile the rest of the party went back to the game.\\n\\n\\n\\n\\nCHAPTER IX.\\nThe Mock Turtle’s Story\\n\\n\\n“You can’t think how glad I am to see you again, you dear old thing!”\\nsaid the Duchess, as she tucked her arm affectionately into Alice’s,\\nand they walked off together.\\n\\nAlice was very glad to find her in such a pleasant temper, and thought\\nto herself that perhaps it was only the pepper that had made her so\\nsavage when they met in the kitchen.\\n\\n“When _I’m_ a Duchess,” she said to herself, (not in a very hopeful\\ntone though), “I won’t have any pepper in my kitchen _at all_. Soup\\ndoes very well without—Maybe it’s always pepper that makes people\\nhot-tempered,” she went on, very much pleased at having found out a new\\nkind of rule, “and vinegar that makes them sour—and camomile that makes\\nthem bitter—and—and barley-sugar and such things that make children\\nsweet-tempered. I only wish people knew _that_: then they wouldn’t be\\nso stingy about it, you know—”\\n\\nShe had quite forgotten the Duchess by this time, and was a little\\nstartled when she heard her voice close to her ear. “You’re thinking\\nabout something, my dear, and that makes you forget to talk. I can’t\\ntell you just now what the moral of that is, but I shall remember it in\\na bit.”\\n\\n“Perhaps it hasn’t one,” Alice ventured to remark.\\n\\n“Tut, tut, child!” said the Duchess. “Everything’s got a moral, if only\\nyou can find it.” And she squeezed herself up closer to Alice’s side as\\nshe spoke.\\n\\nAlice did not much like keeping so close to her: first, because the\\nDuchess was _very_ ugly; and secondly, because she was exactly the\\nright height to rest her chin upon Alice’s shoulder, and it was an\\nuncomfortably sharp chin. However, she did not like to be rude, so she\\nbore it as well as she could.\\n\\n“The game’s going on rather better now,” she said, by way of keeping up\\nthe conversation a little.\\n\\n“’Tis so,” said the Duchess: “and the moral of that is—‘Oh, ’tis love,\\n’tis love, that makes the world go round!’”\\n\\n“Somebody said,” Alice whispered, “that it’s done by everybody minding\\ntheir own business!”\\n\\n“Ah, well! It means much the same thing,” said the Duchess, digging her\\nsharp little chin into Alice’s shoulder as she added, “and the moral of\\n_that_ is—‘Take care of the sense, and the sounds will take care of\\nthemselves.’”\\n\\n“How fond she is of finding morals in things!” Alice thought to\\nherself.\\n\\n“I dare say you’re wondering why I don’t put my arm round your waist,”\\nthe Duchess said after a pause: “the reason is, that I’m doubtful about\\nthe temper of your flamingo. Shall I try the experiment?”\\n\\n“He might bite,” Alice cautiously replied, not feeling at all anxious\\nto have the experiment tried.\\n\\n“Very true,” said the Duchess: “flamingoes and mustard both bite. And\\nthe moral of that is—‘Birds of a feather flock together.’”\\n\\n“Only mustard isn’t a bird,” Alice remarked.\\n\\n“Right, as usual,” said the Duchess: “what a clear way you have of\\nputting things!”\\n\\n“It’s a mineral, I _think_,” said Alice.\\n\\n“Of course it is,” said the Duchess, who seemed ready to agree to\\neverything that Alice said; “there’s a large mustard-mine near here.\\nAnd the moral of that is—‘The more there is of mine, the less there is\\nof yours.’”\\n\\n“Oh, I know!” exclaimed Alice, who had not attended to this last\\nremark, “it’s a vegetable. It doesn’t look like one, but it is.”\\n\\n“I quite agree with you,” said the Duchess; “and the moral of that\\nis—‘Be what you would seem to be’—or if you’d like it put more\\nsimply—‘Never imagine yourself not to be otherwise than what it might\\nappear to others that what you were or might have been was not\\notherwise than what you had been would have appeared to them to be\\notherwise.’”\\n\\n“I think I should understand that better,” Alice said very politely,\\n“if I had it written down: but I can’t quite follow it as you say it.”\\n\\n“That’s nothing to what I could say if I chose,” the Duchess replied,\\nin a pleased tone.\\n\\n“Pray don’t trouble yourself to say it any longer than that,” said\\nAlice.\\n\\n“Oh, don’t talk about trouble!” said the Duchess. “I make you a present\\nof everything I’ve said as yet.”\\n\\n“A cheap sort of present!” thought Alice. “I’m glad they don’t give\\nbirthday presents like that!” But she did not venture to say it out\\nloud.\\n\\n“Thinking again?” the Duchess asked, with another dig of her sharp\\nlittle chin.\\n\\n“I’ve a right to think,” said Alice sharply, for she was beginning to\\nfeel a little worried.\\n\\n“Just about as much right,” said the Duchess, “as pigs have to fly; and\\nthe m—”\\n\\nBut here, to Alice’s great surprise, the Duchess’s voice died away,\\neven in the middle of her favourite word ‘moral,’ and the arm that was\\nlinked into hers began to tremble. Alice looked up, and there stood the\\nQueen in front of them, with her arms folded, frowning like a\\nthunderstorm.\\n\\n“A fine day, your Majesty!” the Duchess began in a low, weak voice.\\n\\n“Now, I give you fair warning,” shouted the Queen, stamping on the\\nground as she spoke; “either you or your head must be off, and that in\\nabout half no time! Take your choice!”\\n\\nThe Duchess took her choice, and was gone in a moment.\\n\\n“Let’s go on with the game,” the Queen said to Alice; and Alice was too\\nmuch frightened to say a word, but slowly followed her back to the\\ncroquet-ground.\\n\\nThe other guests had taken advantage of the Queen’s absence, and were\\nresting in the shade: however, the moment they saw her, they hurried\\nback to the game, the Queen merely remarking that a moment’s delay\\nwould cost them their lives.\\n\\nAll the time they were playing the Queen never left off quarrelling\\nwith the other players, and shouting “Off with his head!” or “Off with\\nher head!” Those whom she sentenced were taken into custody by the\\nsoldiers, who of course had to leave off being arches to do this, so\\nthat by the end of half an hour or so there were no arches left, and\\nall the players, except the King, the Queen, and Alice, were in custody\\nand under sentence of execution.\\n\\nThen the Queen left off, quite out of breath, and said to Alice, “Have\\nyou seen the Mock Turtle yet?”\\n\\n“No,” said Alice. “I don’t even know what a Mock Turtle is.”\\n\\n“It’s the thing Mock Turtle Soup is made from,” said the Queen.\\n\\n“I never saw one, or heard of one,” said Alice.\\n\\n“Come on, then,” said the Queen, “and he shall tell you his history,”\\n\\nAs they walked off together, Alice heard the King say in a low voice,\\nto the company generally, “You are all pardoned.” “Come, _that’s_ a\\ngood thing!” she said to herself, for she had felt quite unhappy at the\\nnumber of executions the Queen had ordered.\\n\\nThey very soon came upon a Gryphon, lying fast asleep in the sun. (If\\nyou don’t know what a Gryphon is, look at the picture.) “Up, lazy\\nthing!” said the Queen, “and take this young lady to see the Mock\\nTurtle, and to hear his history. I must go back and see after some\\nexecutions I have ordered;” and she walked off, leaving Alice alone\\nwith the Gryphon. Alice did not quite like the look of the creature,\\nbut on the whole she thought it would be quite as safe to stay with it\\nas to go after that savage Queen: so she waited.\\n\\nThe Gryphon sat up and rubbed its eyes: then it watched the Queen till\\nshe was out of sight: then it chuckled. “What fun!” said the Gryphon,\\nhalf to itself, half to Alice.\\n\\n“What _is_ the fun?” said Alice.\\n\\n“Why, _she_,” said the Gryphon. “It’s all her fancy, that: they never\\nexecutes nobody, you know. Come on!”\\n\\n“Everybody says ‘come on!’ here,” thought Alice, as she went slowly\\nafter it: “I never was so ordered about in all my life, never!”\\n\\nThey had not gone far before they saw the Mock Turtle in the distance,\\nsitting sad and lonely on a little ledge of rock, and, as they came\\nnearer, Alice could hear him sighing as if his heart would break. She\\npitied him deeply. “What is his sorrow?” she asked the Gryphon, and the\\nGryphon answered, very nearly in the same words as before, “It’s all\\nhis fancy, that: he hasn’t got no sorrow, you know. Come on!”\\n\\nSo they went up to the Mock Turtle, who looked at them with large eyes\\nfull of tears, but said nothing.\\n\\n“This here young lady,” said the Gryphon, “she wants for to know your\\nhistory, she do.”\\n\\n“I’ll tell it her,” said the Mock Turtle in a deep, hollow tone: “sit\\ndown, both of you, and don’t speak a word till I’ve finished.”\\n\\nSo they sat down, and nobody spoke for some minutes. Alice thought to\\nherself, “I don’t see how he can _ever_ finish, if he doesn’t begin.”\\nBut she waited patiently.\\n\\n“Once,” said the Mock Turtle at last, with a deep sigh, “I was a real\\nTurtle.”\\n\\nThese words were followed by a very long silence, broken only by an\\noccasional exclamation of “Hjckrrh!” from the Gryphon, and the constant\\nheavy sobbing of the Mock Turtle. Alice was very nearly getting up and\\nsaying, “Thank you, sir, for your interesting story,” but she could not\\nhelp thinking there _must_ be more to come, so she sat still and said\\nnothing.\\n\\n“When we were little,” the Mock Turtle went on at last, more calmly,\\nthough still sobbing a little now and then, “we went to school in the\\nsea. The master was an old Turtle—we used to call him Tortoise—”\\n\\n“Why did you call him Tortoise, if he wasn’t one?” Alice asked.\\n\\n“We called him Tortoise because he taught us,” said the Mock Turtle\\nangrily: “really you are very dull!”\\n\\n“You ought to be ashamed of yourself for asking such a simple\\nquestion,” added the Gryphon; and then they both sat silent and looked\\nat poor Alice, who felt ready to sink into the earth. At last the\\nGryphon said to the Mock Turtle, “Drive on, old fellow! Don’t be all\\nday about it!” and he went on in these words:\\n\\n“Yes, we went to school in the sea, though you mayn’t believe it—”\\n\\n“I never said I didn’t!” interrupted Alice.\\n\\n“You did,” said the Mock Turtle.\\n\\n“Hold your tongue!” added the Gryphon, before Alice could speak again.\\nThe Mock Turtle went on.\\n\\n“We had the best of educations—in fact, we went to school every day—”\\n\\n“_I’ve_ been to a day-school, too,” said Alice; “you needn’t be so\\nproud as all that.”\\n\\n“With extras?” asked the Mock Turtle a little anxiously.\\n\\n“Yes,” said Alice, “we learned French and music.”\\n\\n“And washing?” said the Mock Turtle.\\n\\n“Certainly not!” said Alice indignantly.\\n\\n“Ah! then yours wasn’t a really good school,” said the Mock Turtle in a\\ntone of great relief. “Now at _ours_ they had at the end of the bill,\\n‘French, music, _and washing_—extra.’”\\n\\n“You couldn’t have wanted it much,” said Alice; “living at the bottom\\nof the sea.”\\n\\n“I couldn’t afford to learn it.” said the Mock Turtle with a sigh. “I\\nonly took the regular course.”\\n\\n“What was that?” inquired Alice.\\n\\n“Reeling and Writhing, of course, to begin with,” the Mock Turtle\\nreplied; “and then the different branches of Arithmetic—Ambition,\\nDistraction, Uglification, and Derision.”\\n\\n“I never heard of ‘Uglification,’” Alice ventured to say. “What is it?”\\n\\nThe Gryphon lifted up both its paws in surprise. “What! Never heard of\\nuglifying!” it exclaimed. “You know what to beautify is, I suppose?”\\n\\n“Yes,” said Alice doubtfully: “it means—to—make—anything—prettier.”\\n\\n“Well, then,” the Gryphon went on, “if you don’t know what to uglify\\nis, you _are_ a simpleton.”\\n\\nAlice did not feel encouraged to ask any more questions about it, so\\nshe turned to the Mock Turtle, and said “What else had you to learn?”\\n\\n“Well, there was Mystery,” the Mock Turtle replied, counting off the\\nsubjects on his flappers, “—Mystery, ancient and modern, with\\nSeaography: then Drawling—the Drawling-master was an old conger-eel,\\nthat used to come once a week: _he_ taught us Drawling, Stretching, and\\nFainting in Coils.”\\n\\n“What was _that_ like?” said Alice.\\n\\n“Well, I can’t show it you myself,” the Mock Turtle said: “I’m too\\nstiff. And the Gryphon never learnt it.”\\n\\n“Hadn’t time,” said the Gryphon: “I went to the Classics master,\\nthough. He was an old crab, _he_ was.”\\n\\n“I never went to him,” the Mock Turtle said with a sigh: “he taught\\nLaughing and Grief, they used to say.”\\n\\n“So he did, so he did,” said the Gryphon, sighing in his turn; and both\\ncreatures hid their faces in their paws.\\n\\n“And how many hours a day did you do lessons?” said Alice, in a hurry\\nto change the subject.\\n\\n“Ten hours the first day,” said the Mock Turtle: “nine the next, and so\\non.”\\n\\n“What a curious plan!” exclaimed Alice.\\n\\n“That’s the reason they’re called lessons,” the Gryphon remarked:\\n“because they lessen from day to day.”\\n\\nThis was quite a new idea to Alice, and she thought it over a little\\nbefore she made her next remark. “Then the eleventh day must have been\\na holiday?”\\n\\n“Of course it was,” said the Mock Turtle.\\n\\n“And how did you manage on the twelfth?” Alice went on eagerly.\\n\\n“That’s enough about lessons,” the Gryphon interrupted in a very\\ndecided tone: “tell her something about the games now.”\\n\\n\\n\\n\\nCHAPTER X.\\nThe Lobster Quadrille\\n\\n\\nThe Mock Turtle sighed deeply, and drew the back of one flapper across\\nhis eyes. He looked at Alice, and tried to speak, but for a minute or\\ntwo sobs choked his voice. “Same as if he had a bone in his throat,”\\nsaid the Gryphon: and it set to work shaking him and punching him in\\nthe back. At last the Mock Turtle recovered his voice, and, with tears\\nrunning down his cheeks, he went on again:—\\n\\n“You may not have lived much under the sea—” (“I haven’t,” said\\nAlice)—“and perhaps you were never even introduced to a lobster—”\\n(Alice began to say “I once tasted—” but checked herself hastily, and\\nsaid “No, never”) “—so you can have no idea what a delightful thing a\\nLobster Quadrille is!”\\n\\n“No, indeed,” said Alice. “What sort of a dance is it?”\\n\\n“Why,” said the Gryphon, “you first form into a line along the\\nsea-shore—”\\n\\n“Two lines!” cried the Mock Turtle. “Seals, turtles, salmon, and so on;\\nthen, when you’ve cleared all the jelly-fish out of the way—”\\n\\n“_That_ generally takes some time,” interrupted the Gryphon.\\n\\n“—you advance twice—”\\n\\n“Each with a lobster as a partner!” cried the Gryphon.\\n\\n“Of course,” the Mock Turtle said: “advance twice, set to partners—”\\n\\n“—change lobsters, and retire in same order,” continued the Gryphon.\\n\\n“Then, you know,” the Mock Turtle went on, “you throw the—”\\n\\n“The lobsters!” shouted the Gryphon, with a bound into the air.\\n\\n“—as far out to sea as you can—”\\n\\n“Swim after them!” screamed the Gryphon.\\n\\n“Turn a somersault in the sea!” cried the Mock Turtle, capering wildly\\nabout.\\n\\n“Change lobsters again!” yelled the Gryphon at the top of its voice.\\n\\n“Back to land again, and that’s all the first figure,” said the Mock\\nTurtle, suddenly dropping his voice; and the two creatures, who had\\nbeen jumping about like mad things all this time, sat down again very\\nsadly and quietly, and looked at Alice.\\n\\n“It must be a very pretty dance,” said Alice timidly.\\n\\n“Would you like to see a little of it?” said the Mock Turtle.\\n\\n“Very much indeed,” said Alice.\\n\\n“Come, let’s try the first figure!” said the Mock Turtle to the\\nGryphon. “We can do without lobsters, you know. Which shall sing?”\\n\\n“Oh, _you_ sing,” said the Gryphon. “I’ve forgotten the words.”\\n\\nSo they began solemnly dancing round and round Alice, every now and\\nthen treading on her toes when they passed too close, and waving their\\nforepaws to mark the time, while the Mock Turtle sang this, very slowly\\nand sadly:—\\n\\n“Will you walk a little faster?” said a whiting to a snail.\\n“There’s a porpoise close behind us, and he’s treading on my tail.\\nSee how eagerly the lobsters and the turtles all advance!\\nThey are waiting on the shingle—will you come and join the dance?\\nWill you, won’t you, will you, won’t you, will you join the dance?\\nWill you, won’t you, will you, won’t you, won’t you join the dance?\\n\\n“You can really have no notion how delightful it will be\\nWhen they take us up and throw us, with the lobsters, out to sea!”\\nBut the snail replied “Too far, too far!” and gave a look askance—\\nSaid he thanked the whiting kindly, but he would not join the dance.\\nWould not, could not, would not, could not, would not join the dance.\\nWould not, could not, would not, could not, could not join the dance.\\n\\n“What matters it how far we go?” his scaly friend replied.\\n“There is another shore, you know, upon the other side.\\nThe further off from England the nearer is to France—\\nThen turn not pale, beloved snail, but come and join the dance.\\nWill you, won’t you, will you, won’t you, will you join the dance?\\nWill you, won’t you, will you, won’t you, won’t you join the dance?”\\n\\n\\n“Thank you, it’s a very interesting dance to watch,” said Alice,\\nfeeling very glad that it was over at last: “and I do so like that\\ncurious song about the whiting!”\\n\\n“Oh, as to the whiting,” said the Mock Turtle, “they—you’ve seen them,\\nof course?”\\n\\n“Yes,” said Alice, “I’ve often seen them at dinn—” she checked herself\\nhastily.\\n\\n“I don’t know where Dinn may be,” said the Mock Turtle, “but if you’ve\\nseen them so often, of course you know what they’re like.”\\n\\n“I believe so,” Alice replied thoughtfully. “They have their tails in\\ntheir mouths—and they’re all over crumbs.”\\n\\n“You’re wrong about the crumbs,” said the Mock Turtle: “crumbs would\\nall wash off in the sea. But they _have_ their tails in their mouths;\\nand the reason is—” here the Mock Turtle yawned and shut his\\neyes.—“Tell her about the reason and all that,” he said to the Gryphon.\\n\\n“The reason is,” said the Gryphon, “that they _would_ go with the\\nlobsters to the dance. So they got thrown out to sea. So they had to\\nfall a long way. So they got their tails fast in their mouths. So they\\ncouldn’t get them out again. That’s all.”\\n\\n“Thank you,” said Alice, “it’s very interesting. I never knew so much\\nabout a whiting before.”\\n\\n“I can tell you more than that, if you like,” said the Gryphon. “Do you\\nknow why it’s called a whiting?”\\n\\n“I never thought about it,” said Alice. “Why?”\\n\\n“_It does the boots and shoes_,” the Gryphon replied very solemnly.\\n\\nAlice was thoroughly puzzled. “Does the boots and shoes!” she repeated\\nin a wondering tone.\\n\\n“Why, what are _your_ shoes done with?” said the Gryphon. “I mean, what\\nmakes them so shiny?”\\n\\nAlice looked down at them, and considered a little before she gave her\\nanswer. “They’re done with blacking, I believe.”\\n\\n“Boots and shoes under the sea,” the Gryphon went on in a deep voice,\\n“are done with a whiting. Now you know.”\\n\\n“And what are they made of?” Alice asked in a tone of great curiosity.\\n\\n“Soles and eels, of course,” the Gryphon replied rather impatiently:\\n“any shrimp could have told you that.”\\n\\n“If I’d been the whiting,” said Alice, whose thoughts were still\\nrunning on the song, “I’d have said to the porpoise, ‘Keep back,\\nplease: we don’t want _you_ with us!’”\\n\\n“They were obliged to have him with them,” the Mock Turtle said: “no\\nwise fish would go anywhere without a porpoise.”\\n\\n“Wouldn’t it really?” said Alice in a tone of great surprise.\\n\\n“Of course not,” said the Mock Turtle: “why, if a fish came to _me_,\\nand told me he was going a journey, I should say ‘With what porpoise?’”\\n\\n“Don’t you mean ‘purpose’?” said Alice.\\n\\n“I mean what I say,” the Mock Turtle replied in an offended tone. And\\nthe Gryphon added “Come, let’s hear some of _your_ adventures.”\\n\\n“I could tell you my adventures—beginning from this morning,” said\\nAlice a little timidly: “but it’s no use going back to yesterday,\\nbecause I was a different person then.”\\n\\n“Explain all that,” said the Mock Turtle.\\n\\n“No, no! The adventures first,” said the Gryphon in an impatient tone:\\n“explanations take such a dreadful time.”\\n\\nSo Alice began telling them her adventures from the time when she first\\nsaw the White Rabbit. She was a little nervous about it just at first,\\nthe two creatures got so close to her, one on each side, and opened\\ntheir eyes and mouths so _very_ wide, but she gained courage as she\\nwent on. Her listeners were perfectly quiet till she got to the part\\nabout her repeating “_You are old, Father William_,” to the\\nCaterpillar, and the words all coming different, and then the Mock\\nTurtle drew a long breath, and said “That’s very curious.”\\n\\n“It’s all about as curious as it can be,” said the Gryphon.\\n\\n“It all came different!” the Mock Turtle repeated thoughtfully. “I\\nshould like to hear her try and repeat something now. Tell her to\\nbegin.” He looked at the Gryphon as if he thought it had some kind of\\nauthority over Alice.\\n\\n“Stand up and repeat ‘’_Tis the voice of the sluggard_,’” said the\\nGryphon.\\n\\n“How the creatures order one about, and make one repeat lessons!”\\nthought Alice; “I might as well be at school at once.” However, she got\\nup, and began to repeat it, but her head was so full of the Lobster\\nQuadrille, that she hardly knew what she was saying, and the words came\\nvery queer indeed:—\\n\\n“’Tis the voice of the Lobster; I heard him declare,\\n“You have baked me too brown, I must sugar my hair.”\\nAs a duck with its eyelids, so he with his nose\\nTrims his belt and his buttons, and turns out his toes.”\\n\\n[later editions continued as follows\\nWhen the sands are all dry, he is gay as a lark,\\nAnd will talk in contemptuous tones of the Shark,\\nBut, when the tide rises and sharks are around,\\nHis voice has a timid and tremulous sound.]\\n\\n\\n“That’s different from what _I_ used to say when I was a child,” said\\nthe Gryphon.\\n\\n“Well, I never heard it before,” said the Mock Turtle; “but it sounds\\nuncommon nonsense.”\\n\\nAlice said nothing; she had sat down with her face in her hands,\\nwondering if anything would _ever_ happen in a natural way again.\\n\\n“I should like to have it explained,” said the Mock Turtle.\\n\\n“She can’t explain it,” said the Gryphon hastily. “Go on with the next\\nverse.”\\n\\n“But about his toes?” the Mock Turtle persisted. “How _could_ he turn\\nthem out with his nose, you know?”\\n\\n“It’s the first position in dancing.” Alice said; but was dreadfully\\npuzzled by the whole thing, and longed to change the subject.\\n\\n“Go on with the next verse,” the Gryphon repeated impatiently: “it\\nbegins ‘_I passed by his garden_.’”\\n\\nAlice did not dare to disobey, though she felt sure it would all come\\nwrong, and she went on in a trembling voice:—\\n\\n“I passed by his garden, and marked, with one eye,\\nHow the Owl and the Panther were sharing a pie—”\\n\\n[later editions continued as follows\\nThe Panther took pie-crust, and gravy, and meat,\\nWhile the Owl had the dish as its share of the treat.\\nWhen the pie was all finished, the Owl, as a boon,\\nWas kindly permitted to pocket the spoon:\\nWhile the Panther received knife and fork with a growl,\\nAnd concluded the banquet—]\\n\\n\\n“What _is_ the use of repeating all that stuff,” the Mock Turtle\\ninterrupted, “if you don’t explain it as you go on? It’s by far the\\nmost confusing thing _I_ ever heard!”\\n\\n“Yes, I think you’d better leave off,” said the Gryphon: and Alice was\\nonly too glad to do so.\\n\\n“Shall we try another figure of the Lobster Quadrille?” the Gryphon\\nwent on. “Or would you like the Mock Turtle to sing you a song?”\\n\\n“Oh, a song, please, if the Mock Turtle would be so kind,” Alice\\nreplied, so eagerly that the Gryphon said, in a rather offended tone,\\n“Hm! No accounting for tastes! Sing her ‘_Turtle Soup_,’ will you, old\\nfellow?”\\n\\nThe Mock Turtle sighed deeply, and began, in a voice sometimes choked\\nwith sobs, to sing this:—\\n\\n“Beautiful Soup, so rich and green,\\nWaiting in a hot tureen!\\nWho for such dainties would not stoop?\\nSoup of the evening, beautiful Soup!\\nSoup of the evening, beautiful Soup!\\n    Beau—ootiful Soo—oop!\\n    Beau—ootiful Soo—oop!\\nSoo—oop of the e—e—evening,\\n    Beautiful, beautiful Soup!\\n\\n“Beautiful Soup! Who cares for fish,\\nGame, or any other dish?\\nWho would not give all else for two p\\nennyworth only of beautiful Soup?\\nPennyworth only of beautiful Soup?\\n    Beau—ootiful Soo—oop!\\n    Beau—ootiful Soo—oop!\\nSoo—oop of the e—e—evening,\\n    Beautiful, beauti—FUL SOUP!”\\n\\n\\n“Chorus again!” cried the Gryphon, and the Mock Turtle had just begun\\nto repeat it, when a cry of “The trial’s beginning!” was heard in the\\ndistance.\\n\\n“Come on!” cried the Gryphon, and, taking Alice by the hand, it hurried\\noff, without waiting for the end of the song.\\n\\n“What trial is it?” Alice panted as she ran; but the Gryphon only\\nanswered “Come on!” and ran the faster, while more and more faintly\\ncame, carried on the breeze that followed them, the melancholy words:—\\n\\n“Soo—oop of the e—e—evening,\\n    Beautiful, beautiful Soup!”\\n\\n\\n\\n\\nCHAPTER XI.\\nWho Stole the Tarts?\\n\\n\\nThe King and Queen of Hearts were seated on their throne when they\\narrived, with a great crowd assembled about them—all sorts of little\\nbirds and beasts, as well as the whole pack of cards: the Knave was\\nstanding before them, in chains, with a soldier on each side to guard\\nhim; and near the King was the White Rabbit, with a trumpet in one\\nhand, and a scroll of parchment in the other. In the very middle of the\\ncourt was a table, with a large dish of tarts upon it: they looked so\\ngood, that it made Alice quite hungry to look at them—“I wish they’d\\nget the trial done,” she thought, “and hand round the refreshments!”\\nBut there seemed to be no chance of this, so she began looking at\\neverything about her, to pass away the time.\\n\\nAlice had never been in a court of justice before, but she had read\\nabout them in books, and she was quite pleased to find that she knew\\nthe name of nearly everything there. “That’s the judge,” she said to\\nherself, “because of his great wig.”\\n\\nThe judge, by the way, was the King; and as he wore his crown over the\\nwig, (look at the frontispiece if you want to see how he did it,) he\\ndid not look at all comfortable, and it was certainly not becoming.\\n\\n“And that’s the jury-box,” thought Alice, “and those twelve creatures,”\\n(she was obliged to say “creatures,” you see, because some of them were\\nanimals, and some were birds,) “I suppose they are the jurors.” She\\nsaid this last word two or three times over to herself, being rather\\nproud of it: for she thought, and rightly too, that very few little\\ngirls of her age knew the meaning of it at all. However, “jury-men”\\nwould have done just as well.\\n\\nThe twelve jurors were all writing very busily on slates. “What are\\nthey doing?” Alice whispered to the Gryphon. “They can’t have anything\\nto put down yet, before the trial’s begun.”\\n\\n“They’re putting down their names,” the Gryphon whispered in reply,\\n“for fear they should forget them before the end of the trial.”\\n\\n“Stupid things!” Alice began in a loud, indignant voice, but she\\nstopped hastily, for the White Rabbit cried out, “Silence in the\\ncourt!” and the King put on his spectacles and looked anxiously round,\\nto make out who was talking.\\n\\nAlice could see, as well as if she were looking over their shoulders,\\nthat all the jurors were writing down “stupid things!” on their slates,\\nand she could even make out that one of them didn’t know how to spell\\n“stupid,” and that he had to ask his neighbour to tell him. “A nice\\nmuddle their slates’ll be in before the trial’s over!” thought Alice.\\n\\nOne of the jurors had a pencil that squeaked. This of course, Alice\\ncould _not_ stand, and she went round the court and got behind him, and\\nvery soon found an opportunity of taking it away. She did it so quickly\\nthat the poor little juror (it was Bill, the Lizard) could not make out\\nat all what had become of it; so, after hunting all about for it, he\\nwas obliged to write with one finger for the rest of the day; and this\\nwas of very little use, as it left no mark on the slate.\\n\\n“Herald, read the accusation!” said the King.\\n\\nOn this the White Rabbit blew three blasts on the trumpet, and then\\nunrolled the parchment scroll, and read as follows:—\\n\\n“The Queen of Hearts, she made some tarts,\\n    All on a summer day:\\nThe Knave of Hearts, he stole those tarts,\\n    And took them quite away!”\\n\\n\\n“Consider your verdict,” the King said to the jury.\\n\\n“Not yet, not yet!” the Rabbit hastily interrupted. “There’s a great\\ndeal to come before that!”\\n\\n“Call the first witness,” said the King; and the White Rabbit blew\\nthree blasts on the trumpet, and called out, “First witness!”\\n\\nThe first witness was the Hatter. He came in with a teacup in one hand\\nand a piece of bread-and-butter in the other. “I beg pardon, your\\nMajesty,” he began, “for bringing these in: but I hadn’t quite finished\\nmy tea when I was sent for.”\\n\\n“You ought to have finished,” said the King. “When did you begin?”\\n\\nThe Hatter looked at the March Hare, who had followed him into the\\ncourt, arm-in-arm with the Dormouse. “Fourteenth of March, I _think_ it\\nwas,” he said.\\n\\n“Fifteenth,” said the March Hare.\\n\\n“Sixteenth,” added the Dormouse.\\n\\n“Write that down,” the King said to the jury, and the jury eagerly\\nwrote down all three dates on their slates, and then added them up, and\\nreduced the answer to shillings and pence.\\n\\n“Take off your hat,” the King said to the Hatter.\\n\\n“It isn’t mine,” said the Hatter.\\n\\n“_Stolen!_” the King exclaimed, turning to the jury, who instantly made\\na memorandum of the fact.\\n\\n“I keep them to sell,” the Hatter added as an explanation; “I’ve none\\nof my own. I’m a hatter.”\\n\\nHere the Queen put on her spectacles, and began staring at the Hatter,\\nwho turned pale and fidgeted.\\n\\n“Give your evidence,” said the King; “and don’t be nervous, or I’ll\\nhave you executed on the spot.”\\n\\nThis did not seem to encourage the witness at all: he kept shifting\\nfrom one foot to the other, looking uneasily at the Queen, and in his\\nconfusion he bit a large piece out of his teacup instead of the\\nbread-and-butter.\\n\\nJust at this moment Alice felt a very curious sensation, which puzzled\\nher a good deal until she made out what it was: she was beginning to\\ngrow larger again, and she thought at first she would get up and leave\\nthe court; but on second thoughts she decided to remain where she was\\nas long as there was room for her.\\n\\n“I wish you wouldn’t squeeze so.” said the Dormouse, who was sitting\\nnext to her. “I can hardly breathe.”\\n\\n“I can’t help it,” said Alice very meekly: “I’m growing.”\\n\\n“You’ve no right to grow _here_,” said the Dormouse.\\n\\n“Don’t talk nonsense,” said Alice more boldly: “you know you’re growing\\ntoo.”\\n\\n“Yes, but _I_ grow at a reasonable pace,” said the Dormouse: “not in\\nthat ridiculous fashion.” And he got up very sulkily and crossed over\\nto the other side of the court.\\n\\nAll this time the Queen had never left off staring at the Hatter, and,\\njust as the Dormouse crossed the court, she said to one of the officers\\nof the court, “Bring me the list of the singers in the last concert!”\\non which the wretched Hatter trembled so, that he shook both his shoes\\noff.\\n\\n“Give your evidence,” the King repeated angrily, “or I’ll have you\\nexecuted, whether you’re nervous or not.”\\n\\n“I’m a poor man, your Majesty,” the Hatter began, in a trembling voice,\\n“—and I hadn’t begun my tea—not above a week or so—and what with the\\nbread-and-butter getting so thin—and the twinkling of the tea—”\\n\\n“The twinkling of the _what?_” said the King.\\n\\n“It _began_ with the tea,” the Hatter replied.\\n\\n“Of course twinkling begins with a T!” said the King sharply. “Do you\\ntake me for a dunce? Go on!”\\n\\n“I’m a poor man,” the Hatter went on, “and most things twinkled after\\nthat—only the March Hare said—”\\n\\n“I didn’t!” the March Hare interrupted in a great hurry.\\n\\n“You did!” said the Hatter.\\n\\n“I deny it!” said the March Hare.\\n\\n“He denies it,” said the King: “leave out that part.”\\n\\n“Well, at any rate, the Dormouse said—” the Hatter went on, looking\\nanxiously round to see if he would deny it too: but the Dormouse denied\\nnothing, being fast asleep.\\n\\n“After that,” continued the Hatter, “I cut some more bread-and-butter—”\\n\\n“But what did the Dormouse say?” one of the jury asked.\\n\\n“That I can’t remember,” said the Hatter.\\n\\n“You _must_ remember,” remarked the King, “or I’ll have you executed.”\\n\\nThe miserable Hatter dropped his teacup and bread-and-butter, and went\\ndown on one knee. “I’m a poor man, your Majesty,” he began.\\n\\n“You’re a _very_ poor _speaker_,” said the King.\\n\\nHere one of the guinea-pigs cheered, and was immediately suppressed by\\nthe officers of the court. (As that is rather a hard word, I will just\\nexplain to you how it was done. They had a large canvas bag, which tied\\nup at the mouth with strings: into this they slipped the guinea-pig,\\nhead first, and then sat upon it.)\\n\\n“I’m glad I’ve seen that done,” thought Alice. “I’ve so often read in\\nthe newspapers, at the end of trials, “There was some attempts at\\napplause, which was immediately suppressed by the officers of the\\ncourt,” and I never understood what it meant till now.”\\n\\n“If that’s all you know about it, you may stand down,” continued the\\nKing.\\n\\n“I can’t go no lower,” said the Hatter: “I’m on the floor, as it is.”\\n\\n“Then you may _sit_ down,” the King replied.\\n\\nHere the other guinea-pig cheered, and was suppressed.\\n\\n“Come, that finished the guinea-pigs!” thought Alice. “Now we shall get\\non better.”\\n\\n“I’d rather finish my tea,” said the Hatter, with an anxious look at\\nthe Queen, who was reading the list of singers.\\n\\n“You may go,” said the King, and the Hatter hurriedly left the court,\\nwithout even waiting to put his shoes on.\\n\\n“—and just take his head off outside,” the Queen added to one of the\\nofficers: but the Hatter was out of sight before the officer could get\\nto the door.\\n\\n“Call the next witness!” said the King.\\n\\nThe next witness was the Duchess’s cook. She carried the pepper-box in\\nher hand, and Alice guessed who it was, even before she got into the\\ncourt, by the way the people near the door began sneezing all at once.\\n\\n“Give your evidence,” said the King.\\n\\n“Shan’t,” said the cook.\\n\\nThe King looked anxiously at the White Rabbit, who said in a low voice,\\n“Your Majesty must cross-examine _this_ witness.”\\n\\n“Well, if I must, I must,” the King said, with a melancholy air, and,\\nafter folding his arms and frowning at the cook till his eyes were\\nnearly out of sight, he said in a deep voice, “What are tarts made of?”\\n\\n“Pepper, mostly,” said the cook.\\n\\n“Treacle,” said a sleepy voice behind her.\\n\\n“Collar that Dormouse,” the Queen shrieked out. “Behead that Dormouse!\\nTurn that Dormouse out of court! Suppress him! Pinch him! Off with his\\nwhiskers!”\\n\\nFor some minutes the whole court was in confusion, getting the Dormouse\\nturned out, and, by the time they had settled down again, the cook had\\ndisappeared.\\n\\n“Never mind!” said the King, with an air of great relief. “Call the\\nnext witness.” And he added in an undertone to the Queen, “Really, my\\ndear, _you_ must cross-examine the next witness. It quite makes my\\nforehead ache!”\\n\\nAlice watched the White Rabbit as he fumbled over the list, feeling\\nvery curious to see what the next witness would be like, “—for they\\nhaven’t got much evidence _yet_,” she said to herself. Imagine her\\nsurprise, when the White Rabbit read out, at the top of his shrill\\nlittle voice, the name “Alice!”\\n\\n\\n\\n\\nCHAPTER XII.\\nAlice’s Evidence\\n\\n\\n“Here!” cried Alice, quite forgetting in the flurry of the moment how\\nlarge she had grown in the last few minutes, and she jumped up in such\\na hurry that she tipped over the jury-box with the edge of her skirt,\\nupsetting all the jurymen on to the heads of the crowd below, and there\\nthey lay sprawling about, reminding her very much of a globe of\\ngoldfish she had accidentally upset the week before.\\n\\n“Oh, I _beg_ your pardon!” she exclaimed in a tone of great dismay, and\\nbegan picking them up again as quickly as she could, for the accident\\nof the goldfish kept running in her head, and she had a vague sort of\\nidea that they must be collected at once and put back into the\\njury-box, or they would die.\\n\\n“The trial cannot proceed,” said the King in a very grave voice, “until\\nall the jurymen are back in their proper places—_all_,” he repeated\\nwith great emphasis, looking hard at Alice as he said so.\\n\\nAlice looked at the jury-box, and saw that, in her haste, she had put\\nthe Lizard in head downwards, and the poor little thing was waving its\\ntail about in a melancholy way, being quite unable to move. She soon\\ngot it out again, and put it right; “not that it signifies much,” she\\nsaid to herself; “I should think it would be _quite_ as much use in the\\ntrial one way up as the other.”\\n\\nAs soon as the jury had a little recovered from the shock of being\\nupset, and their slates and pencils had been found and handed back to\\nthem, they set to work very diligently to write out a history of the\\naccident, all except the Lizard, who seemed too much overcome to do\\nanything but sit with its mouth open, gazing up into the roof of the\\ncourt.\\n\\n“What do you know about this business?” the King said to Alice.\\n\\n“Nothing,” said Alice.\\n\\n“Nothing _whatever?_” persisted the King.\\n\\n“Nothing whatever,” said Alice.\\n\\n“That’s very important,” the King said, turning to the jury. They were\\njust beginning to write this down on their slates, when the White\\nRabbit interrupted: “_Un_important, your Majesty means, of course,” he\\nsaid in a very respectful tone, but frowning and making faces at him as\\nhe spoke.\\n\\n“_Un_important, of course, I meant,” the King hastily said, and went on\\nto himself in an undertone,\\n\\n“important—unimportant—unimportant—important—” as if he were trying\\nwhich word sounded best.\\n\\nSome of the jury wrote it down “important,” and some “unimportant.”\\nAlice could see this, as she was near enough to look over their slates;\\n“but it doesn’t matter a bit,” she thought to herself.\\n\\nAt this moment the King, who had been for some time busily writing in\\nhis note-book, cackled out “Silence!” and read out from his book, “Rule\\nForty-two. _All persons more than a mile high to leave the court_.”\\n\\nEverybody looked at Alice.\\n\\n“_I’m_ not a mile high,” said Alice.\\n\\n“You are,” said the King.\\n\\n“Nearly two miles high,” added the Queen.\\n\\n“Well, I shan’t go, at any rate,” said Alice: “besides, that’s not a\\nregular rule: you invented it just now.”\\n\\n“It’s the oldest rule in the book,” said the King.\\n\\n“Then it ought to be Number One,” said Alice.\\n\\nThe King turned pale, and shut his note-book hastily. “Consider your\\nverdict,” he said to the jury, in a low, trembling voice.\\n\\n“There’s more evidence to come yet, please your Majesty,” said the\\nWhite Rabbit, jumping up in a great hurry; “this paper has just been\\npicked up.”\\n\\n“What’s in it?” said the Queen.\\n\\n“I haven’t opened it yet,” said the White Rabbit, “but it seems to be a\\nletter, written by the prisoner to—to somebody.”\\n\\n“It must have been that,” said the King, “unless it was written to\\nnobody, which isn’t usual, you know.”\\n\\n“Who is it directed to?” said one of the jurymen.\\n\\n“It isn’t directed at all,” said the White Rabbit; “in fact, there’s\\nnothing written on the _outside_.” He unfolded the paper as he spoke,\\nand added “It isn’t a letter, after all: it’s a set of verses.”\\n\\n“Are they in the prisoner’s handwriting?” asked another of the jurymen.\\n\\n“No, they’re not,” said the White Rabbit, “and that’s the queerest\\nthing about it.” (The jury all looked puzzled.)\\n\\n“He must have imitated somebody else’s hand,” said the King. (The jury\\nall brightened up again.)\\n\\n“Please your Majesty,” said the Knave, “I didn’t write it, and they\\ncan’t prove I did: there’s no name signed at the end.”\\n\\n“If you didn’t sign it,” said the King, “that only makes the matter\\nworse. You _must_ have meant some mischief, or else you’d have signed\\nyour name like an honest man.”\\n\\nThere was a general clapping of hands at this: it was the first really\\nclever thing the King had said that day.\\n\\n“That _proves_ his guilt,” said the Queen.\\n\\n“It proves nothing of the sort!” said Alice. “Why, you don’t even know\\nwhat they’re about!”\\n\\n“Read them,” said the King.\\n\\nThe White Rabbit put on his spectacles. “Where shall I begin, please\\nyour Majesty?” he asked.\\n\\n“Begin at the beginning,” the King said gravely, “and go on till you\\ncome to the end: then stop.”\\n\\nThese were the verses the White Rabbit read:—\\n\\n“They told me you had been to her,\\n    And mentioned me to him:\\nShe gave me a good character,\\n    But said I could not swim.\\n\\nHe sent them word I had not gone\\n    (We know it to be true):\\nIf she should push the matter on,\\n    What would become of you?\\n\\nI gave her one, they gave him two,\\n    You gave us three or more;\\nThey all returned from him to you,\\n    Though they were mine before.\\n\\nIf I or she should chance to be\\n    Involved in this affair,\\nHe trusts to you to set them free,\\n    Exactly as we were.\\n\\nMy notion was that you had been\\n    (Before she had this fit)\\nAn obstacle that came between\\n    Him, and ourselves, and it.\\n\\nDon’t let him know she liked them best,\\n    For this must ever be\\nA secret, kept from all the rest,\\n    Between yourself and me.”\\n\\n\\n“That’s the most important piece of evidence we’ve heard yet,” said the\\nKing, rubbing his hands; “so now let the jury—”\\n\\n“If any one of them can explain it,” said Alice, (she had grown so\\nlarge in the last few minutes that she wasn’t a bit afraid of\\ninterrupting him,) “I’ll give him sixpence. _I_ don’t believe there’s\\nan atom of meaning in it.”\\n\\nThe jury all wrote down on their slates, “_She_ doesn’t believe there’s\\nan atom of meaning in it,” but none of them attempted to explain the\\npaper.\\n\\n“If there’s no meaning in it,” said the King, “that saves a world of\\ntrouble, you know, as we needn’t try to find any. And yet I don’t\\nknow,” he went on, spreading out the verses on his knee, and looking at\\nthem with one eye; “I seem to see some meaning in them, after all.\\n“—_said I could not swim_—” you can’t swim, can you?” he added, turning\\nto the Knave.\\n\\nThe Knave shook his head sadly. “Do I look like it?” he said. (Which he\\ncertainly did _not_, being made entirely of cardboard.)\\n\\n“All right, so far,” said the King, and he went on muttering over the\\nverses to himself: “‘_We know it to be true_—’ that’s the jury, of\\ncourse—‘_I gave her one, they gave him two_—’ why, that must be what he\\ndid with the tarts, you know—”\\n\\n“But, it goes on ‘_they all returned from him to you_,’” said Alice.\\n\\n“Why, there they are!” said the King triumphantly, pointing to the\\ntarts on the table. “Nothing can be clearer than _that_. Then\\nagain—‘_before she had this fit_—’ you never had fits, my dear, I\\nthink?” he said to the Queen.\\n\\n“Never!” said the Queen furiously, throwing an inkstand at the Lizard\\nas she spoke. (The unfortunate little Bill had left off writing on his\\nslate with one finger, as he found it made no mark; but he now hastily\\nbegan again, using the ink, that was trickling down his face, as long\\nas it lasted.)\\n\\n“Then the words don’t _fit_ you,” said the King, looking round the\\ncourt with a smile. There was a dead silence.\\n\\n“It’s a pun!” the King added in an offended tone, and everybody\\nlaughed, “Let the jury consider their verdict,” the King said, for\\nabout the twentieth time that day.\\n\\n“No, no!” said the Queen. “Sentence first—verdict afterwards.”\\n\\n“Stuff and nonsense!” said Alice loudly. “The idea of having the\\nsentence first!”\\n\\n“Hold your tongue!” said the Queen, turning purple.\\n\\n“I won’t!” said Alice.\\n\\n“Off with her head!” the Queen shouted at the top of her voice. Nobody\\nmoved.\\n\\n“Who cares for you?” said Alice, (she had grown to her full size by\\nthis time.) “You’re nothing but a pack of cards!”\\n\\nAt this the whole pack rose up into the air, and came flying down upon\\nher: she gave a little scream, half of fright and half of anger, and\\ntried to beat them off, and found herself lying on the bank, with her\\nhead in the lap of her sister, who was gently brushing away some dead\\nleaves that had fluttered down from the trees upon her face.\\n\\n“Wake up, Alice dear!” said her sister; “Why, what a long sleep you’ve\\nhad!”\\n\\n“Oh, I’ve had such a curious dream!” said Alice, and she told her\\nsister, as well as she could remember them, all these strange\\nAdventures of hers that you have just been reading about; and when she\\nhad finished, her sister kissed her, and said, “It _was_ a curious\\ndream, dear, certainly: but now run in to your tea; it’s getting late.”\\nSo Alice got up and ran off, thinking while she ran, as well she might,\\nwhat a wonderful dream it had been.\\n\\n\\nBut her sister sat still just as she left her, leaning her head on her\\nhand, watching the setting sun, and thinking of little Alice and all\\nher wonderful Adventures, till she too began dreaming after a fashion,\\nand this was her dream:—\\n\\nFirst, she dreamed of little Alice herself, and once again the tiny\\nhands were clasped upon her knee, and the bright eager eyes were\\nlooking up into hers—she could hear the very tones of her voice, and\\nsee that queer little toss of her head to keep back the wandering hair\\nthat _would_ always get into her eyes—and still as she listened, or\\nseemed to listen, the whole place around her became alive with the\\nstrange creatures of her little sister’s dream.\\n\\nThe long grass rustled at her feet as the White Rabbit hurried by—the\\nfrightened Mouse splashed his way through the neighbouring pool—she\\ncould hear the rattle of the teacups as the March Hare and his friends\\nshared their never-ending meal, and the shrill voice of the Queen\\nordering off her unfortunate guests to execution—once more the pig-baby\\nwas sneezing on the Duchess’s knee, while plates and dishes crashed\\naround it—once more the shriek of the Gryphon, the squeaking of the\\nLizard’s slate-pencil, and the choking of the suppressed guinea-pigs,\\nfilled the air, mixed up with the distant sobs of the miserable Mock\\nTurtle.\\n\\nSo she sat on, with closed eyes, and half believed herself in\\nWonderland, though she knew she had but to open them again, and all\\nwould change to dull reality—the grass would be only rustling in the\\nwind, and the pool rippling to the waving of the reeds—the rattling\\nteacups would change to tinkling sheep-bells, and the Queen’s shrill\\ncries to the voice of the shepherd boy—and the sneeze of the baby, the\\nshriek of the Gryphon, and all the other queer noises, would change\\n(she knew) to the confused clamour of the busy farm-yard—while the\\nlowing of the cattle in the distance would take the place of the Mock\\nTurtle’s heavy sobs.\\n\\nLastly, she pictured to herself how this same little sister of hers\\nwould, in the after-time, be herself a grown woman; and how she would\\nkeep, through all her riper years, the simple and loving heart of her\\nchildhood: and how she would gather about her other little children,\\nand make _their_ eyes bright and eager with many a strange tale,\\nperhaps even with the dream of Wonderland of long ago: and how she\\nwould feel with all their simple sorrows, and find a pleasure in all\\ntheir simple joys, remembering her own child-life, and the happy summer\\ndays.'"
            ],
            "application/vnd.google.colaboratory.intrinsic+json": {
              "type": "string"
            }
          },
          "metadata": {},
          "execution_count": 13
        }
      ]
    },
    {
      "cell_type": "markdown",
      "source": [
        "**Image Data**"
      ],
      "metadata": {
        "id": "4Eqe95cykF9t"
      }
    },
    {
      "cell_type": "code",
      "source": [
        "import cv2\n",
        "\n",
        "img = cv2.imread('/content/download.jpg')\n",
        "\n",
        "plt.imshow(img)"
      ],
      "metadata": {
        "colab": {
          "base_uri": "https://localhost:8080/",
          "height": 286
        },
        "id": "4T8XQYK3kEkJ",
        "outputId": "56182b3d-636f-40d9-918a-89d5ec1855a8"
      },
      "execution_count": null,
      "outputs": [
        {
          "output_type": "execute_result",
          "data": {
            "text/plain": [
              "<matplotlib.image.AxesImage at 0x7fbd08260dd0>"
            ]
          },
          "metadata": {},
          "execution_count": 14
        },
        {
          "output_type": "display_data",
          "data": {
            "text/plain": [
              "<Figure size 432x288 with 1 Axes>"
            ],
            "image/png": "[encoded data removed]"
          },
          "metadata": {
            "needs_background": "light"
          }
        }
      ]
    },
    {
      "cell_type": "markdown",
      "source": [
        "#### **EDA (Exploratory Data Analysis)**"
      ],
      "metadata": {
        "id": "qDjQoJlsBLrt"
      }
    },
    {
      "cell_type": "markdown",
      "source": [
        "In this course, we will mainly be working with Dataframes (CSV files). "
      ],
      "metadata": {
        "id": "cLgetE4rBRoy"
      }
    },
    {
      "cell_type": "code",
      "source": [
        "## Explore different datasets\n",
        "\n",
        "email = pd.read_csv('/content/emails.csv', index_col='Email No.')\n",
        "iris = pd.read_csv('/content/iris.csv', index_col=0)\n",
        "heart = pd.read_csv('/content/heart.csv')"
      ],
      "metadata": {
        "id": "kQAYiup78WEF"
      },
      "execution_count": 2,
      "outputs": []
    },
    {
      "cell_type": "code",
      "source": [
        "## This dataset contains information on flower species\n",
        "\n",
        "print('SHAPE: ', iris.shape)\n",
        "iris.head()"
      ],
      "metadata": {
        "colab": {
          "base_uri": "https://localhost:8080/",
          "height": 223
        },
        "id": "NSdrwA20-jPg",
        "outputId": "6e1a491a-8801-47dd-8ccf-7d3816c1e055"
      },
      "execution_count": 6,
      "outputs": [
        {
          "output_type": "stream",
          "name": "stdout",
          "text": [
            "SHAPE:  (150, 5)\n"
          ]
        },
        {
          "output_type": "execute_result",
          "data": {
            "text/plain": [
              "   sepal_length  sepal_width  petal_length  petal_width species\n",
              "0           5.1          3.5           1.4          0.2  setosa\n",
              "1           4.9          3.0           1.4          0.2  setosa\n",
              "2           4.7          3.2           1.3          0.2  setosa\n",
              "3           4.6          3.1           1.5          0.2  setosa\n",
              "4           5.0          3.6           1.4          0.2  setosa"
            ],
            "text/html": [
              "\n",
              "  <div id=\"df-c3673fa1-88f6-417c-8ec3-cf0aa8529564\">\n",
              "    <div class=\"colab-df-container\">\n",
              "      <div>\n",
              "<style scoped>\n",
              "    .dataframe tbody tr th:only-of-type {\n",
              "        vertical-align: middle;\n",
              "    }\n",
              "\n",
              "    .dataframe tbody tr th {\n",
              "        vertical-align: top;\n",
              "    }\n",
              "\n",
              "    .dataframe thead th {\n",
              "        text-align: right;\n",
              "    }\n",
              "</style>\n",
              "<table border=\"1\" class=\"dataframe\">\n",
              "  <thead>\n",
              "    <tr style=\"text-align: right;\">\n",
              "      <th></th>\n",
              "      <th>sepal_length</th>\n",
              "      <th>sepal_width</th>\n",
              "      <th>petal_length</th>\n",
              "      <th>petal_width</th>\n",
              "      <th>species</th>\n",
              "    </tr>\n",
              "  </thead>\n",
              "  <tbody>\n",
              "    <tr>\n",
              "      <th>0</th>\n",
              "      <td>5.1</td>\n",
              "      <td>3.5</td>\n",
              "      <td>1.4</td>\n",
              "      <td>0.2</td>\n",
              "      <td>setosa</td>\n",
              "    </tr>\n",
              "    <tr>\n",
              "      <th>1</th>\n",
              "      <td>4.9</td>\n",
              "      <td>3.0</td>\n",
              "      <td>1.4</td>\n",
              "      <td>0.2</td>\n",
              "      <td>setosa</td>\n",
              "    </tr>\n",
              "    <tr>\n",
              "      <th>2</th>\n",
              "      <td>4.7</td>\n",
              "      <td>3.2</td>\n",
              "      <td>1.3</td>\n",
              "      <td>0.2</td>\n",
              "      <td>setosa</td>\n",
              "    </tr>\n",
              "    <tr>\n",
              "      <th>3</th>\n",
              "      <td>4.6</td>\n",
              "      <td>3.1</td>\n",
              "      <td>1.5</td>\n",
              "      <td>0.2</td>\n",
              "      <td>setosa</td>\n",
              "    </tr>\n",
              "    <tr>\n",
              "      <th>4</th>\n",
              "      <td>5.0</td>\n",
              "      <td>3.6</td>\n",
              "      <td>1.4</td>\n",
              "      <td>0.2</td>\n",
              "      <td>setosa</td>\n",
              "    </tr>\n",
              "  </tbody>\n",
              "</table>\n",
              "</div>\n",
              "      <button class=\"colab-df-convert\" onclick=\"convertToInteractive('df-c3673fa1-88f6-417c-8ec3-cf0aa8529564')\"\n",
              "              title=\"Convert this dataframe to an interactive table.\"\n",
              "              style=\"display:none;\">\n",
              "        \n",
              "  <svg xmlns=\"http://www.w3.org/2000/svg\" height=\"24px\"viewBox=\"0 0 24 24\"\n",
              "       width=\"24px\">\n",
              "    <path d=\"M0 0h24v24H0V0z\" fill=\"none\"/>\n",
              "    <path d=\"M18.56 5.44l.94 2.06.94-2.06 2.06-.94-2.06-.94-.94-2.06-.94 2.06-2.06.94zm-11 1L8.5 8.5l.94-2.06 2.06-.94-2.06-.94L8.5 2.5l-.94 2.06-2.06.94zm10 10l.94 2.06.94-2.06 2.06-.94-2.06-.94-.94-2.06-.94 2.06-2.06.94z\"/><path d=\"M17.41 7.96l-1.37-1.37c-.4-.4-.92-.59-1.43-.59-.52 0-1.04.2-1.43.59L10.3 9.45l-7.72 7.72c-.78.78-.78 2.05 0 2.83L4 21.41c.39.39.9.59 1.41.59.51 0 1.02-.2 1.41-.59l7.78-7.78 2.81-2.81c.8-.78.8-2.07 0-2.86zM5.41 20L4 18.59l7.72-7.72 1.47 1.35L5.41 20z\"/>\n",
              "  </svg>\n",
              "      </button>\n",
              "      \n",
              "  <style>\n",
              "    .colab-df-container {\n",
              "      display:flex;\n",
              "      flex-wrap:wrap;\n",
              "      gap: 12px;\n",
              "    }\n",
              "\n",
              "    .colab-df-convert {\n",
              "      background-color: #E8F0FE;\n",
              "      border: none;\n",
              "      border-radius: 50%;\n",
              "      cursor: pointer;\n",
              "      display: none;\n",
              "      fill: #1967D2;\n",
              "      height: 32px;\n",
              "      padding: 0 0 0 0;\n",
              "      width: 32px;\n",
              "    }\n",
              "\n",
              "    .colab-df-convert:hover {\n",
              "      background-color: #E2EBFA;\n",
              "      box-shadow: 0px 1px 2px rgba(60, 64, 67, 0.3), 0px 1px 3px 1px rgba(60, 64, 67, 0.15);\n",
              "      fill: #174EA6;\n",
              "    }\n",
              "\n",
              "    [theme=dark] .colab-df-convert {\n",
              "      background-color: #3B4455;\n",
              "      fill: #D2E3FC;\n",
              "    }\n",
              "\n",
              "    [theme=dark] .colab-df-convert:hover {\n",
              "      background-color: #434B5C;\n",
              "      box-shadow: 0px 1px 3px 1px rgba(0, 0, 0, 0.15);\n",
              "      filter: drop-shadow(0px 1px 2px rgba(0, 0, 0, 0.3));\n",
              "      fill: #FFFFFF;\n",
              "    }\n",
              "  </style>\n",
              "\n",
              "      <script>\n",
              "        const buttonEl =\n",
              "          document.querySelector('#df-c3673fa1-88f6-417c-8ec3-cf0aa8529564 button.colab-df-convert');\n",
              "        buttonEl.style.display =\n",
              "          google.colab.kernel.accessAllowed ? 'block' : 'none';\n",
              "\n",
              "        async function convertToInteractive(key) {\n",
              "          const element = document.querySelector('#df-c3673fa1-88f6-417c-8ec3-cf0aa8529564');\n",
              "          const dataTable =\n",
              "            await google.colab.kernel.invokeFunction('convertToInteractive',\n",
              "                                                     [key], {});\n",
              "          if (!dataTable) return;\n",
              "\n",
              "          const docLinkHtml = 'Like what you see? Visit the ' +\n",
              "            '<a target=\"_blank\" href=https://colab.research.google.com/notebooks/data_table.ipynb>data table notebook</a>'\n",
              "            + ' to learn more about interactive tables.';\n",
              "          element.innerHTML = '';\n",
              "          dataTable['output_type'] = 'display_data';\n",
              "          await google.colab.output.renderOutput(dataTable, element);\n",
              "          const docLink = document.createElement('div');\n",
              "          docLink.innerHTML = docLinkHtml;\n",
              "          element.appendChild(docLink);\n",
              "        }\n",
              "      </script>\n",
              "    </div>\n",
              "  </div>\n",
              "  "
            ]
          },
          "metadata": {},
          "execution_count": 6
        }
      ]
    },
    {
      "cell_type": "code",
      "source": [
        "## This dataset contains information on emails, and classifying them as spam or not\n",
        "## The features are how many times that word appears in the email\n",
        "\n",
        "print('SHAPE: ', email.shape)\n",
        "email.head()"
      ],
      "metadata": {
        "colab": {
          "base_uri": "https://localhost:8080/",
          "height": 452
        },
        "id": "GaJz9yzv-mB2",
        "outputId": "abd4707e-5a96-495c-c862-86b1f4c08330"
      },
      "execution_count": 7,
      "outputs": [
        {
          "output_type": "stream",
          "name": "stdout",
          "text": [
            "SHAPE:  (5172, 3001)\n"
          ]
        },
        {
          "output_type": "execute_result",
          "data": {
            "text/plain": [
              "           the  to  ect  and  for  of    a  you  hou  in  ...  connevey  jay  \\\n",
              "Email No.                                                 ...                  \n",
              "Email 1      0   0    1    0    0   0    2    0    0   0  ...         0    0   \n",
              "Email 2      8  13   24    6    6   2  102    1   27  18  ...         0    0   \n",
              "Email 3      0   0    1    0    0   0    8    0    0   4  ...         0    0   \n",
              "Email 4      0   5   22    0    5   1   51    2   10   1  ...         0    0   \n",
              "Email 5      7   6   17    1    5   2   57    0    9   3  ...         0    0   \n",
              "\n",
              "           valued  lay  infrastructure  military  allowing  ff  dry  \\\n",
              "Email No.                                                             \n",
              "Email 1         0    0               0         0         0   0    0   \n",
              "Email 2         0    0               0         0         0   1    0   \n",
              "Email 3         0    0               0         0         0   0    0   \n",
              "Email 4         0    0               0         0         0   0    0   \n",
              "Email 5         0    0               0         0         0   1    0   \n",
              "\n",
              "           Prediction  \n",
              "Email No.              \n",
              "Email 1             0  \n",
              "Email 2             0  \n",
              "Email 3             0  \n",
              "Email 4             0  \n",
              "Email 5             0  \n",
              "\n",
              "[5 rows x 3001 columns]"
            ],
            "text/html": [
              "\n",
              "  <div id=\"df-5d3f4d82-7116-4341-bbf7-028194e4fba8\">\n",
              "    <div class=\"colab-df-container\">\n",
              "      <div>\n",
              "<style scoped>\n",
              "    .dataframe tbody tr th:only-of-type {\n",
              "        vertical-align: middle;\n",
              "    }\n",
              "\n",
              "    .dataframe tbody tr th {\n",
              "        vertical-align: top;\n",
              "    }\n",
              "\n",
              "    .dataframe thead th {\n",
              "        text-align: right;\n",
              "    }\n",
              "</style>\n",
              "<table border=\"1\" class=\"dataframe\">\n",
              "  <thead>\n",
              "    <tr style=\"text-align: right;\">\n",
              "      <th></th>\n",
              "      <th>the</th>\n",
              "      <th>to</th>\n",
              "      <th>ect</th>\n",
              "      <th>and</th>\n",
              "      <th>for</th>\n",
              "      <th>of</th>\n",
              "      <th>a</th>\n",
              "      <th>you</th>\n",
              "      <th>hou</th>\n",
              "      <th>in</th>\n",
              "      <th>...</th>\n",
              "      <th>connevey</th>\n",
              "      <th>jay</th>\n",
              "      <th>valued</th>\n",
              "      <th>lay</th>\n",
              "      <th>infrastructure</th>\n",
              "      <th>military</th>\n",
              "      <th>allowing</th>\n",
              "      <th>ff</th>\n",
              "      <th>dry</th>\n",
              "      <th>Prediction</th>\n",
              "    </tr>\n",
              "    <tr>\n",
              "      <th>Email No.</th>\n",
              "      <th></th>\n",
              "      <th></th>\n",
              "      <th></th>\n",
              "      <th></th>\n",
              "      <th></th>\n",
              "      <th></th>\n",
              "      <th></th>\n",
              "      <th></th>\n",
              "      <th></th>\n",
              "      <th></th>\n",
              "      <th></th>\n",
              "      <th></th>\n",
              "      <th></th>\n",
              "      <th></th>\n",
              "      <th></th>\n",
              "      <th></th>\n",
              "      <th></th>\n",
              "      <th></th>\n",
              "      <th></th>\n",
              "      <th></th>\n",
              "      <th></th>\n",
              "    </tr>\n",
              "  </thead>\n",
              "  <tbody>\n",
              "    <tr>\n",
              "      <th>Email 1</th>\n",
              "      <td>0</td>\n",
              "      <td>0</td>\n",
              "      <td>1</td>\n",
              "      <td>0</td>\n",
              "      <td>0</td>\n",
              "      <td>0</td>\n",
              "      <td>2</td>\n",
              "      <td>0</td>\n",
              "      <td>0</td>\n",
              "      <td>0</td>\n",
              "      <td>...</td>\n",
              "      <td>0</td>\n",
              "      <td>0</td>\n",
              "      <td>0</td>\n",
              "      <td>0</td>\n",
              "      <td>0</td>\n",
              "      <td>0</td>\n",
              "      <td>0</td>\n",
              "      <td>0</td>\n",
              "      <td>0</td>\n",
              "      <td>0</td>\n",
              "    </tr>\n",
              "    <tr>\n",
              "      <th>Email 2</th>\n",
              "      <td>8</td>\n",
              "      <td>13</td>\n",
              "      <td>24</td>\n",
              "      <td>6</td>\n",
              "      <td>6</td>\n",
              "      <td>2</td>\n",
              "      <td>102</td>\n",
              "      <td>1</td>\n",
              "      <td>27</td>\n",
              "      <td>18</td>\n",
              "      <td>...</td>\n",
              "      <td>0</td>\n",
              "      <td>0</td>\n",
              "      <td>0</td>\n",
              "      <td>0</td>\n",
              "      <td>0</td>\n",
              "      <td>0</td>\n",
              "      <td>0</td>\n",
              "      <td>1</td>\n",
              "      <td>0</td>\n",
              "      <td>0</td>\n",
              "    </tr>\n",
              "    <tr>\n",
              "      <th>Email 3</th>\n",
              "      <td>0</td>\n",
              "      <td>0</td>\n",
              "      <td>1</td>\n",
              "      <td>0</td>\n",
              "      <td>0</td>\n",
              "      <td>0</td>\n",
              "      <td>8</td>\n",
              "      <td>0</td>\n",
              "      <td>0</td>\n",
              "      <td>4</td>\n",
              "      <td>...</td>\n",
              "      <td>0</td>\n",
              "      <td>0</td>\n",
              "      <td>0</td>\n",
              "      <td>0</td>\n",
              "      <td>0</td>\n",
              "      <td>0</td>\n",
              "      <td>0</td>\n",
              "      <td>0</td>\n",
              "      <td>0</td>\n",
              "      <td>0</td>\n",
              "    </tr>\n",
              "    <tr>\n",
              "      <th>Email 4</th>\n",
              "      <td>0</td>\n",
              "      <td>5</td>\n",
              "      <td>22</td>\n",
              "      <td>0</td>\n",
              "      <td>5</td>\n",
              "      <td>1</td>\n",
              "      <td>51</td>\n",
              "      <td>2</td>\n",
              "      <td>10</td>\n",
              "      <td>1</td>\n",
              "      <td>...</td>\n",
              "      <td>0</td>\n",
              "      <td>0</td>\n",
              "      <td>0</td>\n",
              "      <td>0</td>\n",
              "      <td>0</td>\n",
              "      <td>0</td>\n",
              "      <td>0</td>\n",
              "      <td>0</td>\n",
              "      <td>0</td>\n",
              "      <td>0</td>\n",
              "    </tr>\n",
              "    <tr>\n",
              "      <th>Email 5</th>\n",
              "      <td>7</td>\n",
              "      <td>6</td>\n",
              "      <td>17</td>\n",
              "      <td>1</td>\n",
              "      <td>5</td>\n",
              "      <td>2</td>\n",
              "      <td>57</td>\n",
              "      <td>0</td>\n",
              "      <td>9</td>\n",
              "      <td>3</td>\n",
              "      <td>...</td>\n",
              "      <td>0</td>\n",
              "      <td>0</td>\n",
              "      <td>0</td>\n",
              "      <td>0</td>\n",
              "      <td>0</td>\n",
              "      <td>0</td>\n",
              "      <td>0</td>\n",
              "      <td>1</td>\n",
              "      <td>0</td>\n",
              "      <td>0</td>\n",
              "    </tr>\n",
              "  </tbody>\n",
              "</table>\n",
              "<p>5 rows × 3001 columns</p>\n",
              "</div>\n",
              "      <button class=\"colab-df-convert\" onclick=\"convertToInteractive('df-5d3f4d82-7116-4341-bbf7-028194e4fba8')\"\n",
              "              title=\"Convert this dataframe to an interactive table.\"\n",
              "              style=\"display:none;\">\n",
              "        \n",
              "  <svg xmlns=\"http://www.w3.org/2000/svg\" height=\"24px\"viewBox=\"0 0 24 24\"\n",
              "       width=\"24px\">\n",
              "    <path d=\"M0 0h24v24H0V0z\" fill=\"none\"/>\n",
              "    <path d=\"M18.56 5.44l.94 2.06.94-2.06 2.06-.94-2.06-.94-.94-2.06-.94 2.06-2.06.94zm-11 1L8.5 8.5l.94-2.06 2.06-.94-2.06-.94L8.5 2.5l-.94 2.06-2.06.94zm10 10l.94 2.06.94-2.06 2.06-.94-2.06-.94-.94-2.06-.94 2.06-2.06.94z\"/><path d=\"M17.41 7.96l-1.37-1.37c-.4-.4-.92-.59-1.43-.59-.52 0-1.04.2-1.43.59L10.3 9.45l-7.72 7.72c-.78.78-.78 2.05 0 2.83L4 21.41c.39.39.9.59 1.41.59.51 0 1.02-.2 1.41-.59l7.78-7.78 2.81-2.81c.8-.78.8-2.07 0-2.86zM5.41 20L4 18.59l7.72-7.72 1.47 1.35L5.41 20z\"/>\n",
              "  </svg>\n",
              "      </button>\n",
              "      \n",
              "  <style>\n",
              "    .colab-df-container {\n",
              "      display:flex;\n",
              "      flex-wrap:wrap;\n",
              "      gap: 12px;\n",
              "    }\n",
              "\n",
              "    .colab-df-convert {\n",
              "      background-color: #E8F0FE;\n",
              "      border: none;\n",
              "      border-radius: 50%;\n",
              "      cursor: pointer;\n",
              "      display: none;\n",
              "      fill: #1967D2;\n",
              "      height: 32px;\n",
              "      padding: 0 0 0 0;\n",
              "      width: 32px;\n",
              "    }\n",
              "\n",
              "    .colab-df-convert:hover {\n",
              "      background-color: #E2EBFA;\n",
              "      box-shadow: 0px 1px 2px rgba(60, 64, 67, 0.3), 0px 1px 3px 1px rgba(60, 64, 67, 0.15);\n",
              "      fill: #174EA6;\n",
              "    }\n",
              "\n",
              "    [theme=dark] .colab-df-convert {\n",
              "      background-color: #3B4455;\n",
              "      fill: #D2E3FC;\n",
              "    }\n",
              "\n",
              "    [theme=dark] .colab-df-convert:hover {\n",
              "      background-color: #434B5C;\n",
              "      box-shadow: 0px 1px 3px 1px rgba(0, 0, 0, 0.15);\n",
              "      filter: drop-shadow(0px 1px 2px rgba(0, 0, 0, 0.3));\n",
              "      fill: #FFFFFF;\n",
              "    }\n",
              "  </style>\n",
              "\n",
              "      <script>\n",
              "        const buttonEl =\n",
              "          document.querySelector('#df-5d3f4d82-7116-4341-bbf7-028194e4fba8 button.colab-df-convert');\n",
              "        buttonEl.style.display =\n",
              "          google.colab.kernel.accessAllowed ? 'block' : 'none';\n",
              "\n",
              "        async function convertToInteractive(key) {\n",
              "          const element = document.querySelector('#df-5d3f4d82-7116-4341-bbf7-028194e4fba8');\n",
              "          const dataTable =\n",
              "            await google.colab.kernel.invokeFunction('convertToInteractive',\n",
              "                                                     [key], {});\n",
              "          if (!dataTable) return;\n",
              "\n",
              "          const docLinkHtml = 'Like what you see? Visit the ' +\n",
              "            '<a target=\"_blank\" href=https://colab.research.google.com/notebooks/data_table.ipynb>data table notebook</a>'\n",
              "            + ' to learn more about interactive tables.';\n",
              "          element.innerHTML = '';\n",
              "          dataTable['output_type'] = 'display_data';\n",
              "          await google.colab.output.renderOutput(dataTable, element);\n",
              "          const docLink = document.createElement('div');\n",
              "          docLink.innerHTML = docLinkHtml;\n",
              "          element.appendChild(docLink);\n",
              "        }\n",
              "      </script>\n",
              "    </div>\n",
              "  </div>\n",
              "  "
            ]
          },
          "metadata": {},
          "execution_count": 7
        }
      ]
    },
    {
      "cell_type": "code",
      "source": [
        "## This dataset contains information on human health\n",
        "## The goal is to predict the probability of heart disease based on your other health factors\n",
        "\n",
        "print('SHAPE: ', heart.shape)\n",
        "heart.head()"
      ],
      "metadata": {
        "colab": {
          "base_uri": "https://localhost:8080/",
          "height": 223
        },
        "id": "N21916N6-nBA",
        "outputId": "62290c5f-c483-4295-e44f-fa58cb86c66e"
      },
      "execution_count": 8,
      "outputs": [
        {
          "output_type": "stream",
          "name": "stdout",
          "text": [
            "SHAPE:  (303, 14)\n"
          ]
        },
        {
          "output_type": "execute_result",
          "data": {
            "text/plain": [
              "   age  sex  cp  trtbps  chol  fbs  restecg  thalachh  exng  oldpeak  slp  \\\n",
              "0   63    1   3     145   233    1        0       150     0      2.3    0   \n",
              "1   37    1   2     130   250    0        1       187     0      3.5    0   \n",
              "2   41    0   1     130   204    0        0       172     0      1.4    2   \n",
              "3   56    1   1     120   236    0        1       178     0      0.8    2   \n",
              "4   57    0   0     120   354    0        1       163     1      0.6    2   \n",
              "\n",
              "   caa  thall  output  \n",
              "0    0      1       1  \n",
              "1    0      2       1  \n",
              "2    0      2       1  \n",
              "3    0      2       1  \n",
              "4    0      2       1  "
            ],
            "text/html": [
              "\n",
              "  <div id=\"df-7a406872-8d9f-4d74-b1b2-ad0561e32cc1\">\n",
              "    <div class=\"colab-df-container\">\n",
              "      <div>\n",
              "<style scoped>\n",
              "    .dataframe tbody tr th:only-of-type {\n",
              "        vertical-align: middle;\n",
              "    }\n",
              "\n",
              "    .dataframe tbody tr th {\n",
              "        vertical-align: top;\n",
              "    }\n",
              "\n",
              "    .dataframe thead th {\n",
              "        text-align: right;\n",
              "    }\n",
              "</style>\n",
              "<table border=\"1\" class=\"dataframe\">\n",
              "  <thead>\n",
              "    <tr style=\"text-align: right;\">\n",
              "      <th></th>\n",
              "      <th>age</th>\n",
              "      <th>sex</th>\n",
              "      <th>cp</th>\n",
              "      <th>trtbps</th>\n",
              "      <th>chol</th>\n",
              "      <th>fbs</th>\n",
              "      <th>restecg</th>\n",
              "      <th>thalachh</th>\n",
              "      <th>exng</th>\n",
              "      <th>oldpeak</th>\n",
              "      <th>slp</th>\n",
              "      <th>caa</th>\n",
              "      <th>thall</th>\n",
              "      <th>output</th>\n",
              "    </tr>\n",
              "  </thead>\n",
              "  <tbody>\n",
              "    <tr>\n",
              "      <th>0</th>\n",
              "      <td>63</td>\n",
              "      <td>1</td>\n",
              "      <td>3</td>\n",
              "      <td>145</td>\n",
              "      <td>233</td>\n",
              "      <td>1</td>\n",
              "      <td>0</td>\n",
              "      <td>150</td>\n",
              "      <td>0</td>\n",
              "      <td>2.3</td>\n",
              "      <td>0</td>\n",
              "      <td>0</td>\n",
              "      <td>1</td>\n",
              "      <td>1</td>\n",
              "    </tr>\n",
              "    <tr>\n",
              "      <th>1</th>\n",
              "      <td>37</td>\n",
              "      <td>1</td>\n",
              "      <td>2</td>\n",
              "      <td>130</td>\n",
              "      <td>250</td>\n",
              "      <td>0</td>\n",
              "      <td>1</td>\n",
              "      <td>187</td>\n",
              "      <td>0</td>\n",
              "      <td>3.5</td>\n",
              "      <td>0</td>\n",
              "      <td>0</td>\n",
              "      <td>2</td>\n",
              "      <td>1</td>\n",
              "    </tr>\n",
              "    <tr>\n",
              "      <th>2</th>\n",
              "      <td>41</td>\n",
              "      <td>0</td>\n",
              "      <td>1</td>\n",
              "      <td>130</td>\n",
              "      <td>204</td>\n",
              "      <td>0</td>\n",
              "      <td>0</td>\n",
              "      <td>172</td>\n",
              "      <td>0</td>\n",
              "      <td>1.4</td>\n",
              "      <td>2</td>\n",
              "      <td>0</td>\n",
              "      <td>2</td>\n",
              "      <td>1</td>\n",
              "    </tr>\n",
              "    <tr>\n",
              "      <th>3</th>\n",
              "      <td>56</td>\n",
              "      <td>1</td>\n",
              "      <td>1</td>\n",
              "      <td>120</td>\n",
              "      <td>236</td>\n",
              "      <td>0</td>\n",
              "      <td>1</td>\n",
              "      <td>178</td>\n",
              "      <td>0</td>\n",
              "      <td>0.8</td>\n",
              "      <td>2</td>\n",
              "      <td>0</td>\n",
              "      <td>2</td>\n",
              "      <td>1</td>\n",
              "    </tr>\n",
              "    <tr>\n",
              "      <th>4</th>\n",
              "      <td>57</td>\n",
              "      <td>0</td>\n",
              "      <td>0</td>\n",
              "      <td>120</td>\n",
              "      <td>354</td>\n",
              "      <td>0</td>\n",
              "      <td>1</td>\n",
              "      <td>163</td>\n",
              "      <td>1</td>\n",
              "      <td>0.6</td>\n",
              "      <td>2</td>\n",
              "      <td>0</td>\n",
              "      <td>2</td>\n",
              "      <td>1</td>\n",
              "    </tr>\n",
              "  </tbody>\n",
              "</table>\n",
              "</div>\n",
              "      <button class=\"colab-df-convert\" onclick=\"convertToInteractive('df-7a406872-8d9f-4d74-b1b2-ad0561e32cc1')\"\n",
              "              title=\"Convert this dataframe to an interactive table.\"\n",
              "              style=\"display:none;\">\n",
              "        \n",
              "  <svg xmlns=\"http://www.w3.org/2000/svg\" height=\"24px\"viewBox=\"0 0 24 24\"\n",
              "       width=\"24px\">\n",
              "    <path d=\"M0 0h24v24H0V0z\" fill=\"none\"/>\n",
              "    <path d=\"M18.56 5.44l.94 2.06.94-2.06 2.06-.94-2.06-.94-.94-2.06-.94 2.06-2.06.94zm-11 1L8.5 8.5l.94-2.06 2.06-.94-2.06-.94L8.5 2.5l-.94 2.06-2.06.94zm10 10l.94 2.06.94-2.06 2.06-.94-2.06-.94-.94-2.06-.94 2.06-2.06.94z\"/><path d=\"M17.41 7.96l-1.37-1.37c-.4-.4-.92-.59-1.43-.59-.52 0-1.04.2-1.43.59L10.3 9.45l-7.72 7.72c-.78.78-.78 2.05 0 2.83L4 21.41c.39.39.9.59 1.41.59.51 0 1.02-.2 1.41-.59l7.78-7.78 2.81-2.81c.8-.78.8-2.07 0-2.86zM5.41 20L4 18.59l7.72-7.72 1.47 1.35L5.41 20z\"/>\n",
              "  </svg>\n",
              "      </button>\n",
              "      \n",
              "  <style>\n",
              "    .colab-df-container {\n",
              "      display:flex;\n",
              "      flex-wrap:wrap;\n",
              "      gap: 12px;\n",
              "    }\n",
              "\n",
              "    .colab-df-convert {\n",
              "      background-color: #E8F0FE;\n",
              "      border: none;\n",
              "      border-radius: 50%;\n",
              "      cursor: pointer;\n",
              "      display: none;\n",
              "      fill: #1967D2;\n",
              "      height: 32px;\n",
              "      padding: 0 0 0 0;\n",
              "      width: 32px;\n",
              "    }\n",
              "\n",
              "    .colab-df-convert:hover {\n",
              "      background-color: #E2EBFA;\n",
              "      box-shadow: 0px 1px 2px rgba(60, 64, 67, 0.3), 0px 1px 3px 1px rgba(60, 64, 67, 0.15);\n",
              "      fill: #174EA6;\n",
              "    }\n",
              "\n",
              "    [theme=dark] .colab-df-convert {\n",
              "      background-color: #3B4455;\n",
              "      fill: #D2E3FC;\n",
              "    }\n",
              "\n",
              "    [theme=dark] .colab-df-convert:hover {\n",
              "      background-color: #434B5C;\n",
              "      box-shadow: 0px 1px 3px 1px rgba(0, 0, 0, 0.15);\n",
              "      filter: drop-shadow(0px 1px 2px rgba(0, 0, 0, 0.3));\n",
              "      fill: #FFFFFF;\n",
              "    }\n",
              "  </style>\n",
              "\n",
              "      <script>\n",
              "        const buttonEl =\n",
              "          document.querySelector('#df-7a406872-8d9f-4d74-b1b2-ad0561e32cc1 button.colab-df-convert');\n",
              "        buttonEl.style.display =\n",
              "          google.colab.kernel.accessAllowed ? 'block' : 'none';\n",
              "\n",
              "        async function convertToInteractive(key) {\n",
              "          const element = document.querySelector('#df-7a406872-8d9f-4d74-b1b2-ad0561e32cc1');\n",
              "          const dataTable =\n",
              "            await google.colab.kernel.invokeFunction('convertToInteractive',\n",
              "                                                     [key], {});\n",
              "          if (!dataTable) return;\n",
              "\n",
              "          const docLinkHtml = 'Like what you see? Visit the ' +\n",
              "            '<a target=\"_blank\" href=https://colab.research.google.com/notebooks/data_table.ipynb>data table notebook</a>'\n",
              "            + ' to learn more about interactive tables.';\n",
              "          element.innerHTML = '';\n",
              "          dataTable['output_type'] = 'display_data';\n",
              "          await google.colab.output.renderOutput(dataTable, element);\n",
              "          const docLink = document.createElement('div');\n",
              "          docLink.innerHTML = docLinkHtml;\n",
              "          element.appendChild(docLink);\n",
              "        }\n",
              "      </script>\n",
              "    </div>\n",
              "  </div>\n",
              "  "
            ]
          },
          "metadata": {},
          "execution_count": 8
        }
      ]
    },
    {
      "cell_type": "code",
      "source": [
        "## Examine the different features and data-types\n",
        "\n",
        "iris.info()"
      ],
      "metadata": {
        "colab": {
          "base_uri": "https://localhost:8080/"
        },
        "id": "uNKFH8sfA_mN",
        "outputId": "5ec32ad8-e222-40a8-a2a9-a424d929f870"
      },
      "execution_count": 9,
      "outputs": [
        {
          "output_type": "stream",
          "name": "stdout",
          "text": [
            "<class 'pandas.core.frame.DataFrame'>\n",
            "Int64Index: 150 entries, 0 to 149\n",
            "Data columns (total 5 columns):\n",
            " #   Column        Non-Null Count  Dtype  \n",
            "---  ------        --------------  -----  \n",
            " 0   sepal_length  150 non-null    float64\n",
            " 1   sepal_width   150 non-null    float64\n",
            " 2   petal_length  150 non-null    float64\n",
            " 3   petal_width   150 non-null    float64\n",
            " 4   species       150 non-null    object \n",
            "dtypes: float64(4), object(1)\n",
            "memory usage: 7.0+ KB\n"
          ]
        }
      ]
    },
    {
      "cell_type": "code",
      "source": [
        "## Continue Examining Features\n",
        "\n",
        "iris.describe().T"
      ],
      "metadata": {
        "colab": {
          "base_uri": "https://localhost:8080/",
          "height": 175
        },
        "id": "tk3aQwk8BlMl",
        "outputId": "56240640-a1c5-4207-dc46-7286195b84ea"
      },
      "execution_count": 10,
      "outputs": [
        {
          "output_type": "execute_result",
          "data": {
            "text/plain": [
              "              count      mean       std  min  25%   50%  75%  max\n",
              "sepal_length  150.0  5.843333  0.828066  4.3  5.1  5.80  6.4  7.9\n",
              "sepal_width   150.0  3.057333  0.435866  2.0  2.8  3.00  3.3  4.4\n",
              "petal_length  150.0  3.758000  1.765298  1.0  1.6  4.35  5.1  6.9\n",
              "petal_width   150.0  1.199333  0.762238  0.1  0.3  1.30  1.8  2.5"
            ],
            "text/html": [
              "\n",
              "  <div id=\"df-2dceecce-8853-47dd-894b-4aa24539da46\">\n",
              "    <div class=\"colab-df-container\">\n",
              "      <div>\n",
              "<style scoped>\n",
              "    .dataframe tbody tr th:only-of-type {\n",
              "        vertical-align: middle;\n",
              "    }\n",
              "\n",
              "    .dataframe tbody tr th {\n",
              "        vertical-align: top;\n",
              "    }\n",
              "\n",
              "    .dataframe thead th {\n",
              "        text-align: right;\n",
              "    }\n",
              "</style>\n",
              "<table border=\"1\" class=\"dataframe\">\n",
              "  <thead>\n",
              "    <tr style=\"text-align: right;\">\n",
              "      <th></th>\n",
              "      <th>count</th>\n",
              "      <th>mean</th>\n",
              "      <th>std</th>\n",
              "      <th>min</th>\n",
              "      <th>25%</th>\n",
              "      <th>50%</th>\n",
              "      <th>75%</th>\n",
              "      <th>max</th>\n",
              "    </tr>\n",
              "  </thead>\n",
              "  <tbody>\n",
              "    <tr>\n",
              "      <th>sepal_length</th>\n",
              "      <td>150.0</td>\n",
              "      <td>5.843333</td>\n",
              "      <td>0.828066</td>\n",
              "      <td>4.3</td>\n",
              "      <td>5.1</td>\n",
              "      <td>5.80</td>\n",
              "      <td>6.4</td>\n",
              "      <td>7.9</td>\n",
              "    </tr>\n",
              "    <tr>\n",
              "      <th>sepal_width</th>\n",
              "      <td>150.0</td>\n",
              "      <td>3.057333</td>\n",
              "      <td>0.435866</td>\n",
              "      <td>2.0</td>\n",
              "      <td>2.8</td>\n",
              "      <td>3.00</td>\n",
              "      <td>3.3</td>\n",
              "      <td>4.4</td>\n",
              "    </tr>\n",
              "    <tr>\n",
              "      <th>petal_length</th>\n",
              "      <td>150.0</td>\n",
              "      <td>3.758000</td>\n",
              "      <td>1.765298</td>\n",
              "      <td>1.0</td>\n",
              "      <td>1.6</td>\n",
              "      <td>4.35</td>\n",
              "      <td>5.1</td>\n",
              "      <td>6.9</td>\n",
              "    </tr>\n",
              "    <tr>\n",
              "      <th>petal_width</th>\n",
              "      <td>150.0</td>\n",
              "      <td>1.199333</td>\n",
              "      <td>0.762238</td>\n",
              "      <td>0.1</td>\n",
              "      <td>0.3</td>\n",
              "      <td>1.30</td>\n",
              "      <td>1.8</td>\n",
              "      <td>2.5</td>\n",
              "    </tr>\n",
              "  </tbody>\n",
              "</table>\n",
              "</div>\n",
              "      <button class=\"colab-df-convert\" onclick=\"convertToInteractive('df-2dceecce-8853-47dd-894b-4aa24539da46')\"\n",
              "              title=\"Convert this dataframe to an interactive table.\"\n",
              "              style=\"display:none;\">\n",
              "        \n",
              "  <svg xmlns=\"http://www.w3.org/2000/svg\" height=\"24px\"viewBox=\"0 0 24 24\"\n",
              "       width=\"24px\">\n",
              "    <path d=\"M0 0h24v24H0V0z\" fill=\"none\"/>\n",
              "    <path d=\"M18.56 5.44l.94 2.06.94-2.06 2.06-.94-2.06-.94-.94-2.06-.94 2.06-2.06.94zm-11 1L8.5 8.5l.94-2.06 2.06-.94-2.06-.94L8.5 2.5l-.94 2.06-2.06.94zm10 10l.94 2.06.94-2.06 2.06-.94-2.06-.94-.94-2.06-.94 2.06-2.06.94z\"/><path d=\"M17.41 7.96l-1.37-1.37c-.4-.4-.92-.59-1.43-.59-.52 0-1.04.2-1.43.59L10.3 9.45l-7.72 7.72c-.78.78-.78 2.05 0 2.83L4 21.41c.39.39.9.59 1.41.59.51 0 1.02-.2 1.41-.59l7.78-7.78 2.81-2.81c.8-.78.8-2.07 0-2.86zM5.41 20L4 18.59l7.72-7.72 1.47 1.35L5.41 20z\"/>\n",
              "  </svg>\n",
              "      </button>\n",
              "      \n",
              "  <style>\n",
              "    .colab-df-container {\n",
              "      display:flex;\n",
              "      flex-wrap:wrap;\n",
              "      gap: 12px;\n",
              "    }\n",
              "\n",
              "    .colab-df-convert {\n",
              "      background-color: #E8F0FE;\n",
              "      border: none;\n",
              "      border-radius: 50%;\n",
              "      cursor: pointer;\n",
              "      display: none;\n",
              "      fill: #1967D2;\n",
              "      height: 32px;\n",
              "      padding: 0 0 0 0;\n",
              "      width: 32px;\n",
              "    }\n",
              "\n",
              "    .colab-df-convert:hover {\n",
              "      background-color: #E2EBFA;\n",
              "      box-shadow: 0px 1px 2px rgba(60, 64, 67, 0.3), 0px 1px 3px 1px rgba(60, 64, 67, 0.15);\n",
              "      fill: #174EA6;\n",
              "    }\n",
              "\n",
              "    [theme=dark] .colab-df-convert {\n",
              "      background-color: #3B4455;\n",
              "      fill: #D2E3FC;\n",
              "    }\n",
              "\n",
              "    [theme=dark] .colab-df-convert:hover {\n",
              "      background-color: #434B5C;\n",
              "      box-shadow: 0px 1px 3px 1px rgba(0, 0, 0, 0.15);\n",
              "      filter: drop-shadow(0px 1px 2px rgba(0, 0, 0, 0.3));\n",
              "      fill: #FFFFFF;\n",
              "    }\n",
              "  </style>\n",
              "\n",
              "      <script>\n",
              "        const buttonEl =\n",
              "          document.querySelector('#df-2dceecce-8853-47dd-894b-4aa24539da46 button.colab-df-convert');\n",
              "        buttonEl.style.display =\n",
              "          google.colab.kernel.accessAllowed ? 'block' : 'none';\n",
              "\n",
              "        async function convertToInteractive(key) {\n",
              "          const element = document.querySelector('#df-2dceecce-8853-47dd-894b-4aa24539da46');\n",
              "          const dataTable =\n",
              "            await google.colab.kernel.invokeFunction('convertToInteractive',\n",
              "                                                     [key], {});\n",
              "          if (!dataTable) return;\n",
              "\n",
              "          const docLinkHtml = 'Like what you see? Visit the ' +\n",
              "            '<a target=\"_blank\" href=https://colab.research.google.com/notebooks/data_table.ipynb>data table notebook</a>'\n",
              "            + ' to learn more about interactive tables.';\n",
              "          element.innerHTML = '';\n",
              "          dataTable['output_type'] = 'display_data';\n",
              "          await google.colab.output.renderOutput(dataTable, element);\n",
              "          const docLink = document.createElement('div');\n",
              "          docLink.innerHTML = docLinkHtml;\n",
              "          element.appendChild(docLink);\n",
              "        }\n",
              "      </script>\n",
              "    </div>\n",
              "  </div>\n",
              "  "
            ]
          },
          "metadata": {},
          "execution_count": 10
        }
      ]
    },
    {
      "cell_type": "code",
      "source": [
        "## Accessing Features - 1\n",
        "## One column\n",
        "\n",
        "iris['petal_length']"
      ],
      "metadata": {
        "colab": {
          "base_uri": "https://localhost:8080/"
        },
        "id": "j1dCEXfhC4GH",
        "outputId": "7bc64c9d-4ce2-4426-9955-5380373f0d25"
      },
      "execution_count": 11,
      "outputs": [
        {
          "output_type": "execute_result",
          "data": {
            "text/plain": [
              "0      1.4\n",
              "1      1.4\n",
              "2      1.3\n",
              "3      1.5\n",
              "4      1.4\n",
              "      ... \n",
              "145    5.2\n",
              "146    5.0\n",
              "147    5.2\n",
              "148    5.4\n",
              "149    5.1\n",
              "Name: petal_length, Length: 150, dtype: float64"
            ]
          },
          "metadata": {},
          "execution_count": 11
        }
      ]
    },
    {
      "cell_type": "code",
      "source": [
        "## Accessing Features - 2\n",
        "## Multiple columns\n",
        "\n",
        "iris[['petal_length', 'sepal_length']]"
      ],
      "metadata": {
        "colab": {
          "base_uri": "https://localhost:8080/",
          "height": 424
        },
        "id": "5zsWnDJUC9rS",
        "outputId": "7349b6ce-33ad-423a-f10a-78568da54a8e"
      },
      "execution_count": 13,
      "outputs": [
        {
          "output_type": "execute_result",
          "data": {
            "text/plain": [
              "     petal_length  sepal_length\n",
              "0             1.4           5.1\n",
              "1             1.4           4.9\n",
              "2             1.3           4.7\n",
              "3             1.5           4.6\n",
              "4             1.4           5.0\n",
              "..            ...           ...\n",
              "145           5.2           6.7\n",
              "146           5.0           6.3\n",
              "147           5.2           6.5\n",
              "148           5.4           6.2\n",
              "149           5.1           5.9\n",
              "\n",
              "[150 rows x 2 columns]"
            ],
            "text/html": [
              "\n",
              "  <div id=\"df-172f3e60-624a-4af0-9b3a-2acf96486aa7\">\n",
              "    <div class=\"colab-df-container\">\n",
              "      <div>\n",
              "<style scoped>\n",
              "    .dataframe tbody tr th:only-of-type {\n",
              "        vertical-align: middle;\n",
              "    }\n",
              "\n",
              "    .dataframe tbody tr th {\n",
              "        vertical-align: top;\n",
              "    }\n",
              "\n",
              "    .dataframe thead th {\n",
              "        text-align: right;\n",
              "    }\n",
              "</style>\n",
              "<table border=\"1\" class=\"dataframe\">\n",
              "  <thead>\n",
              "    <tr style=\"text-align: right;\">\n",
              "      <th></th>\n",
              "      <th>petal_length</th>\n",
              "      <th>sepal_length</th>\n",
              "    </tr>\n",
              "  </thead>\n",
              "  <tbody>\n",
              "    <tr>\n",
              "      <th>0</th>\n",
              "      <td>1.4</td>\n",
              "      <td>5.1</td>\n",
              "    </tr>\n",
              "    <tr>\n",
              "      <th>1</th>\n",
              "      <td>1.4</td>\n",
              "      <td>4.9</td>\n",
              "    </tr>\n",
              "    <tr>\n",
              "      <th>2</th>\n",
              "      <td>1.3</td>\n",
              "      <td>4.7</td>\n",
              "    </tr>\n",
              "    <tr>\n",
              "      <th>3</th>\n",
              "      <td>1.5</td>\n",
              "      <td>4.6</td>\n",
              "    </tr>\n",
              "    <tr>\n",
              "      <th>4</th>\n",
              "      <td>1.4</td>\n",
              "      <td>5.0</td>\n",
              "    </tr>\n",
              "    <tr>\n",
              "      <th>...</th>\n",
              "      <td>...</td>\n",
              "      <td>...</td>\n",
              "    </tr>\n",
              "    <tr>\n",
              "      <th>145</th>\n",
              "      <td>5.2</td>\n",
              "      <td>6.7</td>\n",
              "    </tr>\n",
              "    <tr>\n",
              "      <th>146</th>\n",
              "      <td>5.0</td>\n",
              "      <td>6.3</td>\n",
              "    </tr>\n",
              "    <tr>\n",
              "      <th>147</th>\n",
              "      <td>5.2</td>\n",
              "      <td>6.5</td>\n",
              "    </tr>\n",
              "    <tr>\n",
              "      <th>148</th>\n",
              "      <td>5.4</td>\n",
              "      <td>6.2</td>\n",
              "    </tr>\n",
              "    <tr>\n",
              "      <th>149</th>\n",
              "      <td>5.1</td>\n",
              "      <td>5.9</td>\n",
              "    </tr>\n",
              "  </tbody>\n",
              "</table>\n",
              "<p>150 rows × 2 columns</p>\n",
              "</div>\n",
              "      <button class=\"colab-df-convert\" onclick=\"convertToInteractive('df-172f3e60-624a-4af0-9b3a-2acf96486aa7')\"\n",
              "              title=\"Convert this dataframe to an interactive table.\"\n",
              "              style=\"display:none;\">\n",
              "        \n",
              "  <svg xmlns=\"http://www.w3.org/2000/svg\" height=\"24px\"viewBox=\"0 0 24 24\"\n",
              "       width=\"24px\">\n",
              "    <path d=\"M0 0h24v24H0V0z\" fill=\"none\"/>\n",
              "    <path d=\"M18.56 5.44l.94 2.06.94-2.06 2.06-.94-2.06-.94-.94-2.06-.94 2.06-2.06.94zm-11 1L8.5 8.5l.94-2.06 2.06-.94-2.06-.94L8.5 2.5l-.94 2.06-2.06.94zm10 10l.94 2.06.94-2.06 2.06-.94-2.06-.94-.94-2.06-.94 2.06-2.06.94z\"/><path d=\"M17.41 7.96l-1.37-1.37c-.4-.4-.92-.59-1.43-.59-.52 0-1.04.2-1.43.59L10.3 9.45l-7.72 7.72c-.78.78-.78 2.05 0 2.83L4 21.41c.39.39.9.59 1.41.59.51 0 1.02-.2 1.41-.59l7.78-7.78 2.81-2.81c.8-.78.8-2.07 0-2.86zM5.41 20L4 18.59l7.72-7.72 1.47 1.35L5.41 20z\"/>\n",
              "  </svg>\n",
              "      </button>\n",
              "      \n",
              "  <style>\n",
              "    .colab-df-container {\n",
              "      display:flex;\n",
              "      flex-wrap:wrap;\n",
              "      gap: 12px;\n",
              "    }\n",
              "\n",
              "    .colab-df-convert {\n",
              "      background-color: #E8F0FE;\n",
              "      border: none;\n",
              "      border-radius: 50%;\n",
              "      cursor: pointer;\n",
              "      display: none;\n",
              "      fill: #1967D2;\n",
              "      height: 32px;\n",
              "      padding: 0 0 0 0;\n",
              "      width: 32px;\n",
              "    }\n",
              "\n",
              "    .colab-df-convert:hover {\n",
              "      background-color: #E2EBFA;\n",
              "      box-shadow: 0px 1px 2px rgba(60, 64, 67, 0.3), 0px 1px 3px 1px rgba(60, 64, 67, 0.15);\n",
              "      fill: #174EA6;\n",
              "    }\n",
              "\n",
              "    [theme=dark] .colab-df-convert {\n",
              "      background-color: #3B4455;\n",
              "      fill: #D2E3FC;\n",
              "    }\n",
              "\n",
              "    [theme=dark] .colab-df-convert:hover {\n",
              "      background-color: #434B5C;\n",
              "      box-shadow: 0px 1px 3px 1px rgba(0, 0, 0, 0.15);\n",
              "      filter: drop-shadow(0px 1px 2px rgba(0, 0, 0, 0.3));\n",
              "      fill: #FFFFFF;\n",
              "    }\n",
              "  </style>\n",
              "\n",
              "      <script>\n",
              "        const buttonEl =\n",
              "          document.querySelector('#df-172f3e60-624a-4af0-9b3a-2acf96486aa7 button.colab-df-convert');\n",
              "        buttonEl.style.display =\n",
              "          google.colab.kernel.accessAllowed ? 'block' : 'none';\n",
              "\n",
              "        async function convertToInteractive(key) {\n",
              "          const element = document.querySelector('#df-172f3e60-624a-4af0-9b3a-2acf96486aa7');\n",
              "          const dataTable =\n",
              "            await google.colab.kernel.invokeFunction('convertToInteractive',\n",
              "                                                     [key], {});\n",
              "          if (!dataTable) return;\n",
              "\n",
              "          const docLinkHtml = 'Like what you see? Visit the ' +\n",
              "            '<a target=\"_blank\" href=https://colab.research.google.com/notebooks/data_table.ipynb>data table notebook</a>'\n",
              "            + ' to learn more about interactive tables.';\n",
              "          element.innerHTML = '';\n",
              "          dataTable['output_type'] = 'display_data';\n",
              "          await google.colab.output.renderOutput(dataTable, element);\n",
              "          const docLink = document.createElement('div');\n",
              "          docLink.innerHTML = docLinkHtml;\n",
              "          element.appendChild(docLink);\n",
              "        }\n",
              "      </script>\n",
              "    </div>\n",
              "  </div>\n",
              "  "
            ]
          },
          "metadata": {},
          "execution_count": 13
        }
      ]
    },
    {
      "cell_type": "code",
      "source": [
        "## Accessing Features - 3\n",
        "## Using 'loc'\n",
        "\n",
        "print(iris.loc[0]) # --> return the row vector at index 0\n",
        "\n",
        "print()\n",
        "\n",
        "print(iris.loc[0].values)\n",
        "\n",
        "print()\n",
        "\n",
        "iris.loc[iris['sepal_length']<=4.4] ## return all rows where feature is <= 4.4"
      ],
      "metadata": {
        "colab": {
          "base_uri": "https://localhost:8080/",
          "height": 331
        },
        "id": "KDCOoSD6DGPa",
        "outputId": "5a60c779-80af-4659-aef7-4a02f64eab61"
      },
      "execution_count": 25,
      "outputs": [
        {
          "output_type": "stream",
          "name": "stdout",
          "text": [
            "sepal_length       5.1\n",
            "sepal_width        3.5\n",
            "petal_length       1.4\n",
            "petal_width        0.2\n",
            "species         setosa\n",
            "Name: 0, dtype: object\n",
            "\n",
            "[5.1 3.5 1.4 0.2 'setosa']\n",
            "\n"
          ]
        },
        {
          "output_type": "execute_result",
          "data": {
            "text/plain": [
              "    sepal_length  sepal_width  petal_length  petal_width species\n",
              "8            4.4          2.9           1.4          0.2  setosa\n",
              "13           4.3          3.0           1.1          0.1  setosa\n",
              "38           4.4          3.0           1.3          0.2  setosa\n",
              "42           4.4          3.2           1.3          0.2  setosa"
            ],
            "text/html": [
              "\n",
              "  <div id=\"df-f4cd886a-833b-4bb5-83a8-e0719985bf24\">\n",
              "    <div class=\"colab-df-container\">\n",
              "      <div>\n",
              "<style scoped>\n",
              "    .dataframe tbody tr th:only-of-type {\n",
              "        vertical-align: middle;\n",
              "    }\n",
              "\n",
              "    .dataframe tbody tr th {\n",
              "        vertical-align: top;\n",
              "    }\n",
              "\n",
              "    .dataframe thead th {\n",
              "        text-align: right;\n",
              "    }\n",
              "</style>\n",
              "<table border=\"1\" class=\"dataframe\">\n",
              "  <thead>\n",
              "    <tr style=\"text-align: right;\">\n",
              "      <th></th>\n",
              "      <th>sepal_length</th>\n",
              "      <th>sepal_width</th>\n",
              "      <th>petal_length</th>\n",
              "      <th>petal_width</th>\n",
              "      <th>species</th>\n",
              "    </tr>\n",
              "  </thead>\n",
              "  <tbody>\n",
              "    <tr>\n",
              "      <th>8</th>\n",
              "      <td>4.4</td>\n",
              "      <td>2.9</td>\n",
              "      <td>1.4</td>\n",
              "      <td>0.2</td>\n",
              "      <td>setosa</td>\n",
              "    </tr>\n",
              "    <tr>\n",
              "      <th>13</th>\n",
              "      <td>4.3</td>\n",
              "      <td>3.0</td>\n",
              "      <td>1.1</td>\n",
              "      <td>0.1</td>\n",
              "      <td>setosa</td>\n",
              "    </tr>\n",
              "    <tr>\n",
              "      <th>38</th>\n",
              "      <td>4.4</td>\n",
              "      <td>3.0</td>\n",
              "      <td>1.3</td>\n",
              "      <td>0.2</td>\n",
              "      <td>setosa</td>\n",
              "    </tr>\n",
              "    <tr>\n",
              "      <th>42</th>\n",
              "      <td>4.4</td>\n",
              "      <td>3.2</td>\n",
              "      <td>1.3</td>\n",
              "      <td>0.2</td>\n",
              "      <td>setosa</td>\n",
              "    </tr>\n",
              "  </tbody>\n",
              "</table>\n",
              "</div>\n",
              "      <button class=\"colab-df-convert\" onclick=\"convertToInteractive('df-f4cd886a-833b-4bb5-83a8-e0719985bf24')\"\n",
              "              title=\"Convert this dataframe to an interactive table.\"\n",
              "              style=\"display:none;\">\n",
              "        \n",
              "  <svg xmlns=\"http://www.w3.org/2000/svg\" height=\"24px\"viewBox=\"0 0 24 24\"\n",
              "       width=\"24px\">\n",
              "    <path d=\"M0 0h24v24H0V0z\" fill=\"none\"/>\n",
              "    <path d=\"M18.56 5.44l.94 2.06.94-2.06 2.06-.94-2.06-.94-.94-2.06-.94 2.06-2.06.94zm-11 1L8.5 8.5l.94-2.06 2.06-.94-2.06-.94L8.5 2.5l-.94 2.06-2.06.94zm10 10l.94 2.06.94-2.06 2.06-.94-2.06-.94-.94-2.06-.94 2.06-2.06.94z\"/><path d=\"M17.41 7.96l-1.37-1.37c-.4-.4-.92-.59-1.43-.59-.52 0-1.04.2-1.43.59L10.3 9.45l-7.72 7.72c-.78.78-.78 2.05 0 2.83L4 21.41c.39.39.9.59 1.41.59.51 0 1.02-.2 1.41-.59l7.78-7.78 2.81-2.81c.8-.78.8-2.07 0-2.86zM5.41 20L4 18.59l7.72-7.72 1.47 1.35L5.41 20z\"/>\n",
              "  </svg>\n",
              "      </button>\n",
              "      \n",
              "  <style>\n",
              "    .colab-df-container {\n",
              "      display:flex;\n",
              "      flex-wrap:wrap;\n",
              "      gap: 12px;\n",
              "    }\n",
              "\n",
              "    .colab-df-convert {\n",
              "      background-color: #E8F0FE;\n",
              "      border: none;\n",
              "      border-radius: 50%;\n",
              "      cursor: pointer;\n",
              "      display: none;\n",
              "      fill: #1967D2;\n",
              "      height: 32px;\n",
              "      padding: 0 0 0 0;\n",
              "      width: 32px;\n",
              "    }\n",
              "\n",
              "    .colab-df-convert:hover {\n",
              "      background-color: #E2EBFA;\n",
              "      box-shadow: 0px 1px 2px rgba(60, 64, 67, 0.3), 0px 1px 3px 1px rgba(60, 64, 67, 0.15);\n",
              "      fill: #174EA6;\n",
              "    }\n",
              "\n",
              "    [theme=dark] .colab-df-convert {\n",
              "      background-color: #3B4455;\n",
              "      fill: #D2E3FC;\n",
              "    }\n",
              "\n",
              "    [theme=dark] .colab-df-convert:hover {\n",
              "      background-color: #434B5C;\n",
              "      box-shadow: 0px 1px 3px 1px rgba(0, 0, 0, 0.15);\n",
              "      filter: drop-shadow(0px 1px 2px rgba(0, 0, 0, 0.3));\n",
              "      fill: #FFFFFF;\n",
              "    }\n",
              "  </style>\n",
              "\n",
              "      <script>\n",
              "        const buttonEl =\n",
              "          document.querySelector('#df-f4cd886a-833b-4bb5-83a8-e0719985bf24 button.colab-df-convert');\n",
              "        buttonEl.style.display =\n",
              "          google.colab.kernel.accessAllowed ? 'block' : 'none';\n",
              "\n",
              "        async function convertToInteractive(key) {\n",
              "          const element = document.querySelector('#df-f4cd886a-833b-4bb5-83a8-e0719985bf24');\n",
              "          const dataTable =\n",
              "            await google.colab.kernel.invokeFunction('convertToInteractive',\n",
              "                                                     [key], {});\n",
              "          if (!dataTable) return;\n",
              "\n",
              "          const docLinkHtml = 'Like what you see? Visit the ' +\n",
              "            '<a target=\"_blank\" href=https://colab.research.google.com/notebooks/data_table.ipynb>data table notebook</a>'\n",
              "            + ' to learn more about interactive tables.';\n",
              "          element.innerHTML = '';\n",
              "          dataTable['output_type'] = 'display_data';\n",
              "          await google.colab.output.renderOutput(dataTable, element);\n",
              "          const docLink = document.createElement('div');\n",
              "          docLink.innerHTML = docLinkHtml;\n",
              "          element.appendChild(docLink);\n",
              "        }\n",
              "      </script>\n",
              "    </div>\n",
              "  </div>\n",
              "  "
            ]
          },
          "metadata": {},
          "execution_count": 25
        }
      ]
    },
    {
      "cell_type": "code",
      "source": [
        "## Accessing Features - 4\n",
        "## Using 'iloc'\n",
        "\n",
        "print(iris.iloc[0, 3]) # --> returns the specific value at (row, col) of dataframe matrix\n",
        "\n",
        "# selecting 0th, 2th, 4th, and 7th index rows\n",
        "display(iris.iloc[[0, 2, 4, 7]])\n",
        "\n",
        "# selecting rows from 1 to 5 and columns from 2 to 5\n",
        "display(iris.iloc[1: 5, 2: 5])"
      ],
      "metadata": {
        "colab": {
          "base_uri": "https://localhost:8080/",
          "height": 350
        },
        "id": "jl3xuMC2DPNA",
        "outputId": "49a7eb71-f30d-4bcc-df73-5969c7c0a39e"
      },
      "execution_count": 26,
      "outputs": [
        {
          "output_type": "stream",
          "name": "stdout",
          "text": [
            "0.2\n"
          ]
        },
        {
          "output_type": "display_data",
          "data": {
            "text/plain": [
              "   sepal_length  sepal_width  petal_length  petal_width species\n",
              "0           5.1          3.5           1.4          0.2  setosa\n",
              "2           4.7          3.2           1.3          0.2  setosa\n",
              "4           5.0          3.6           1.4          0.2  setosa\n",
              "7           5.0          3.4           1.5          0.2  setosa"
            ],
            "text/html": [
              "\n",
              "  <div id=\"df-123033d2-3f99-4d32-b8e3-267398639749\">\n",
              "    <div class=\"colab-df-container\">\n",
              "      <div>\n",
              "<style scoped>\n",
              "    .dataframe tbody tr th:only-of-type {\n",
              "        vertical-align: middle;\n",
              "    }\n",
              "\n",
              "    .dataframe tbody tr th {\n",
              "        vertical-align: top;\n",
              "    }\n",
              "\n",
              "    .dataframe thead th {\n",
              "        text-align: right;\n",
              "    }\n",
              "</style>\n",
              "<table border=\"1\" class=\"dataframe\">\n",
              "  <thead>\n",
              "    <tr style=\"text-align: right;\">\n",
              "      <th></th>\n",
              "      <th>sepal_length</th>\n",
              "      <th>sepal_width</th>\n",
              "      <th>petal_length</th>\n",
              "      <th>petal_width</th>\n",
              "      <th>species</th>\n",
              "    </tr>\n",
              "  </thead>\n",
              "  <tbody>\n",
              "    <tr>\n",
              "      <th>0</th>\n",
              "      <td>5.1</td>\n",
              "      <td>3.5</td>\n",
              "      <td>1.4</td>\n",
              "      <td>0.2</td>\n",
              "      <td>setosa</td>\n",
              "    </tr>\n",
              "    <tr>\n",
              "      <th>2</th>\n",
              "      <td>4.7</td>\n",
              "      <td>3.2</td>\n",
              "      <td>1.3</td>\n",
              "      <td>0.2</td>\n",
              "      <td>setosa</td>\n",
              "    </tr>\n",
              "    <tr>\n",
              "      <th>4</th>\n",
              "      <td>5.0</td>\n",
              "      <td>3.6</td>\n",
              "      <td>1.4</td>\n",
              "      <td>0.2</td>\n",
              "      <td>setosa</td>\n",
              "    </tr>\n",
              "    <tr>\n",
              "      <th>7</th>\n",
              "      <td>5.0</td>\n",
              "      <td>3.4</td>\n",
              "      <td>1.5</td>\n",
              "      <td>0.2</td>\n",
              "      <td>setosa</td>\n",
              "    </tr>\n",
              "  </tbody>\n",
              "</table>\n",
              "</div>\n",
              "      <button class=\"colab-df-convert\" onclick=\"convertToInteractive('df-123033d2-3f99-4d32-b8e3-267398639749')\"\n",
              "              title=\"Convert this dataframe to an interactive table.\"\n",
              "              style=\"display:none;\">\n",
              "        \n",
              "  <svg xmlns=\"http://www.w3.org/2000/svg\" height=\"24px\"viewBox=\"0 0 24 24\"\n",
              "       width=\"24px\">\n",
              "    <path d=\"M0 0h24v24H0V0z\" fill=\"none\"/>\n",
              "    <path d=\"M18.56 5.44l.94 2.06.94-2.06 2.06-.94-2.06-.94-.94-2.06-.94 2.06-2.06.94zm-11 1L8.5 8.5l.94-2.06 2.06-.94-2.06-.94L8.5 2.5l-.94 2.06-2.06.94zm10 10l.94 2.06.94-2.06 2.06-.94-2.06-.94-.94-2.06-.94 2.06-2.06.94z\"/><path d=\"M17.41 7.96l-1.37-1.37c-.4-.4-.92-.59-1.43-.59-.52 0-1.04.2-1.43.59L10.3 9.45l-7.72 7.72c-.78.78-.78 2.05 0 2.83L4 21.41c.39.39.9.59 1.41.59.51 0 1.02-.2 1.41-.59l7.78-7.78 2.81-2.81c.8-.78.8-2.07 0-2.86zM5.41 20L4 18.59l7.72-7.72 1.47 1.35L5.41 20z\"/>\n",
              "  </svg>\n",
              "      </button>\n",
              "      \n",
              "  <style>\n",
              "    .colab-df-container {\n",
              "      display:flex;\n",
              "      flex-wrap:wrap;\n",
              "      gap: 12px;\n",
              "    }\n",
              "\n",
              "    .colab-df-convert {\n",
              "      background-color: #E8F0FE;\n",
              "      border: none;\n",
              "      border-radius: 50%;\n",
              "      cursor: pointer;\n",
              "      display: none;\n",
              "      fill: #1967D2;\n",
              "      height: 32px;\n",
              "      padding: 0 0 0 0;\n",
              "      width: 32px;\n",
              "    }\n",
              "\n",
              "    .colab-df-convert:hover {\n",
              "      background-color: #E2EBFA;\n",
              "      box-shadow: 0px 1px 2px rgba(60, 64, 67, 0.3), 0px 1px 3px 1px rgba(60, 64, 67, 0.15);\n",
              "      fill: #174EA6;\n",
              "    }\n",
              "\n",
              "    [theme=dark] .colab-df-convert {\n",
              "      background-color: #3B4455;\n",
              "      fill: #D2E3FC;\n",
              "    }\n",
              "\n",
              "    [theme=dark] .colab-df-convert:hover {\n",
              "      background-color: #434B5C;\n",
              "      box-shadow: 0px 1px 3px 1px rgba(0, 0, 0, 0.15);\n",
              "      filter: drop-shadow(0px 1px 2px rgba(0, 0, 0, 0.3));\n",
              "      fill: #FFFFFF;\n",
              "    }\n",
              "  </style>\n",
              "\n",
              "      <script>\n",
              "        const buttonEl =\n",
              "          document.querySelector('#df-123033d2-3f99-4d32-b8e3-267398639749 button.colab-df-convert');\n",
              "        buttonEl.style.display =\n",
              "          google.colab.kernel.accessAllowed ? 'block' : 'none';\n",
              "\n",
              "        async function convertToInteractive(key) {\n",
              "          const element = document.querySelector('#df-123033d2-3f99-4d32-b8e3-267398639749');\n",
              "          const dataTable =\n",
              "            await google.colab.kernel.invokeFunction('convertToInteractive',\n",
              "                                                     [key], {});\n",
              "          if (!dataTable) return;\n",
              "\n",
              "          const docLinkHtml = 'Like what you see? Visit the ' +\n",
              "            '<a target=\"_blank\" href=https://colab.research.google.com/notebooks/data_table.ipynb>data table notebook</a>'\n",
              "            + ' to learn more about interactive tables.';\n",
              "          element.innerHTML = '';\n",
              "          dataTable['output_type'] = 'display_data';\n",
              "          await google.colab.output.renderOutput(dataTable, element);\n",
              "          const docLink = document.createElement('div');\n",
              "          docLink.innerHTML = docLinkHtml;\n",
              "          element.appendChild(docLink);\n",
              "        }\n",
              "      </script>\n",
              "    </div>\n",
              "  </div>\n",
              "  "
            ]
          },
          "metadata": {}
        },
        {
          "output_type": "display_data",
          "data": {
            "text/plain": [
              "   petal_length  petal_width species\n",
              "1           1.4          0.2  setosa\n",
              "2           1.3          0.2  setosa\n",
              "3           1.5          0.2  setosa\n",
              "4           1.4          0.2  setosa"
            ],
            "text/html": [
              "\n",
              "  <div id=\"df-f350ef87-7048-47a5-9771-b6c880d25cc3\">\n",
              "    <div class=\"colab-df-container\">\n",
              "      <div>\n",
              "<style scoped>\n",
              "    .dataframe tbody tr th:only-of-type {\n",
              "        vertical-align: middle;\n",
              "    }\n",
              "\n",
              "    .dataframe tbody tr th {\n",
              "        vertical-align: top;\n",
              "    }\n",
              "\n",
              "    .dataframe thead th {\n",
              "        text-align: right;\n",
              "    }\n",
              "</style>\n",
              "<table border=\"1\" class=\"dataframe\">\n",
              "  <thead>\n",
              "    <tr style=\"text-align: right;\">\n",
              "      <th></th>\n",
              "      <th>petal_length</th>\n",
              "      <th>petal_width</th>\n",
              "      <th>species</th>\n",
              "    </tr>\n",
              "  </thead>\n",
              "  <tbody>\n",
              "    <tr>\n",
              "      <th>1</th>\n",
              "      <td>1.4</td>\n",
              "      <td>0.2</td>\n",
              "      <td>setosa</td>\n",
              "    </tr>\n",
              "    <tr>\n",
              "      <th>2</th>\n",
              "      <td>1.3</td>\n",
              "      <td>0.2</td>\n",
              "      <td>setosa</td>\n",
              "    </tr>\n",
              "    <tr>\n",
              "      <th>3</th>\n",
              "      <td>1.5</td>\n",
              "      <td>0.2</td>\n",
              "      <td>setosa</td>\n",
              "    </tr>\n",
              "    <tr>\n",
              "      <th>4</th>\n",
              "      <td>1.4</td>\n",
              "      <td>0.2</td>\n",
              "      <td>setosa</td>\n",
              "    </tr>\n",
              "  </tbody>\n",
              "</table>\n",
              "</div>\n",
              "      <button class=\"colab-df-convert\" onclick=\"convertToInteractive('df-f350ef87-7048-47a5-9771-b6c880d25cc3')\"\n",
              "              title=\"Convert this dataframe to an interactive table.\"\n",
              "              style=\"display:none;\">\n",
              "        \n",
              "  <svg xmlns=\"http://www.w3.org/2000/svg\" height=\"24px\"viewBox=\"0 0 24 24\"\n",
              "       width=\"24px\">\n",
              "    <path d=\"M0 0h24v24H0V0z\" fill=\"none\"/>\n",
              "    <path d=\"M18.56 5.44l.94 2.06.94-2.06 2.06-.94-2.06-.94-.94-2.06-.94 2.06-2.06.94zm-11 1L8.5 8.5l.94-2.06 2.06-.94-2.06-.94L8.5 2.5l-.94 2.06-2.06.94zm10 10l.94 2.06.94-2.06 2.06-.94-2.06-.94-.94-2.06-.94 2.06-2.06.94z\"/><path d=\"M17.41 7.96l-1.37-1.37c-.4-.4-.92-.59-1.43-.59-.52 0-1.04.2-1.43.59L10.3 9.45l-7.72 7.72c-.78.78-.78 2.05 0 2.83L4 21.41c.39.39.9.59 1.41.59.51 0 1.02-.2 1.41-.59l7.78-7.78 2.81-2.81c.8-.78.8-2.07 0-2.86zM5.41 20L4 18.59l7.72-7.72 1.47 1.35L5.41 20z\"/>\n",
              "  </svg>\n",
              "      </button>\n",
              "      \n",
              "  <style>\n",
              "    .colab-df-container {\n",
              "      display:flex;\n",
              "      flex-wrap:wrap;\n",
              "      gap: 12px;\n",
              "    }\n",
              "\n",
              "    .colab-df-convert {\n",
              "      background-color: #E8F0FE;\n",
              "      border: none;\n",
              "      border-radius: 50%;\n",
              "      cursor: pointer;\n",
              "      display: none;\n",
              "      fill: #1967D2;\n",
              "      height: 32px;\n",
              "      padding: 0 0 0 0;\n",
              "      width: 32px;\n",
              "    }\n",
              "\n",
              "    .colab-df-convert:hover {\n",
              "      background-color: #E2EBFA;\n",
              "      box-shadow: 0px 1px 2px rgba(60, 64, 67, 0.3), 0px 1px 3px 1px rgba(60, 64, 67, 0.15);\n",
              "      fill: #174EA6;\n",
              "    }\n",
              "\n",
              "    [theme=dark] .colab-df-convert {\n",
              "      background-color: #3B4455;\n",
              "      fill: #D2E3FC;\n",
              "    }\n",
              "\n",
              "    [theme=dark] .colab-df-convert:hover {\n",
              "      background-color: #434B5C;\n",
              "      box-shadow: 0px 1px 3px 1px rgba(0, 0, 0, 0.15);\n",
              "      filter: drop-shadow(0px 1px 2px rgba(0, 0, 0, 0.3));\n",
              "      fill: #FFFFFF;\n",
              "    }\n",
              "  </style>\n",
              "\n",
              "      <script>\n",
              "        const buttonEl =\n",
              "          document.querySelector('#df-f350ef87-7048-47a5-9771-b6c880d25cc3 button.colab-df-convert');\n",
              "        buttonEl.style.display =\n",
              "          google.colab.kernel.accessAllowed ? 'block' : 'none';\n",
              "\n",
              "        async function convertToInteractive(key) {\n",
              "          const element = document.querySelector('#df-f350ef87-7048-47a5-9771-b6c880d25cc3');\n",
              "          const dataTable =\n",
              "            await google.colab.kernel.invokeFunction('convertToInteractive',\n",
              "                                                     [key], {});\n",
              "          if (!dataTable) return;\n",
              "\n",
              "          const docLinkHtml = 'Like what you see? Visit the ' +\n",
              "            '<a target=\"_blank\" href=https://colab.research.google.com/notebooks/data_table.ipynb>data table notebook</a>'\n",
              "            + ' to learn more about interactive tables.';\n",
              "          element.innerHTML = '';\n",
              "          dataTable['output_type'] = 'display_data';\n",
              "          await google.colab.output.renderOutput(dataTable, element);\n",
              "          const docLink = document.createElement('div');\n",
              "          docLink.innerHTML = docLinkHtml;\n",
              "          element.appendChild(docLink);\n",
              "        }\n",
              "      </script>\n",
              "    </div>\n",
              "  </div>\n",
              "  "
            ]
          },
          "metadata": {}
        }
      ]
    },
    {
      "cell_type": "code",
      "source": [
        "## Visualize Features - 1\n",
        "\n",
        "def plot(col):\n",
        "  display(col.hist())\n",
        "\n",
        "def plot_multiple_hist(frame, col1, col2):\n",
        "  fig, ax = plt.subplots(1, 2, figsize=(10,4))\n",
        "  sns.histplot(data=frame, x=col1, ax=ax[0])\n",
        "  sns.histplot(data=frame, x=col2, ax=ax[1]);\n",
        "\n",
        "plot_multiple_hist(iris, 'sepal_length', 'petal_length')"
      ],
      "metadata": {
        "colab": {
          "base_uri": "https://localhost:8080/",
          "height": 280
        },
        "id": "fjfp6Li-CzEg",
        "outputId": "1edd8dfc-fda6-48f7-90cc-aad1bb7833af"
      },
      "execution_count": 31,
      "outputs": [
        {
          "output_type": "display_data",
          "data": {
            "text/plain": [
              "<Figure size 720x288 with 2 Axes>"
            ],
            "image/png": "[encoded data removed]"
          },
          "metadata": {
            "needs_background": "light"
          }
        }
      ]
    },
    {
      "cell_type": "code",
      "source": [
        "## Visualize Features - 2\n",
        "## Correlation & Heatmap\n",
        "\n",
        "iris.drop(columns='species', inplace=True) # we only want to do this operation on features\n",
        "\n",
        "corr = iris.corr(method='spearman')\n",
        "plt.figure(figsize=(10,10))\n",
        "sns.heatmap(corr,vmax=.8,linewidths=0.01,square=True,annot=True,cmap='RdBu',linecolor='black')"
      ],
      "metadata": {
        "colab": {
          "base_uri": "https://localhost:8080/",
          "height": 596
        },
        "id": "srectbewLXeu",
        "outputId": "d6a5090e-b30e-4b66-fb09-cdb7b7b17432"
      },
      "execution_count": 40,
      "outputs": [
        {
          "output_type": "execute_result",
          "data": {
            "text/plain": [
              "<matplotlib.axes._subplots.AxesSubplot at 0x7f61f6ef8350>"
            ]
          },
          "metadata": {},
          "execution_count": 40
        },
        {
          "output_type": "display_data",
          "data": {
            "text/plain": [
              "<Figure size 720x720 with 2 Axes>"
            ],
            "image/png": "[encoded data removed]"
          },
          "metadata": {
            "needs_background": "light"
          }
        }
      ]
    },
    {
      "cell_type": "code",
      "source": [
        "# Visualize Target\n",
        "\n",
        "sns.countplot(data=iris, x='species')"
      ],
      "metadata": {
        "colab": {
          "base_uri": "https://localhost:8080/",
          "height": 296
        },
        "id": "EdlX7ncEJjj-",
        "outputId": "5094e1d6-b4aa-475a-a884-71bf2f6c9f13"
      },
      "execution_count": 32,
      "outputs": [
        {
          "output_type": "execute_result",
          "data": {
            "text/plain": [
              "<matplotlib.axes._subplots.AxesSubplot at 0x7f61f6f64fd0>"
            ]
          },
          "metadata": {},
          "execution_count": 32
        },
        {
          "output_type": "display_data",
          "data": {
            "text/plain": [
              "<Figure size 432x288 with 1 Axes>"
            ],
            "image/png": "[encoded data removed]"
          },
          "metadata": {
            "needs_background": "light"
          }
        }
      ]
    },
    {
      "cell_type": "markdown",
      "source": [
        "## Conclusion"
      ],
      "metadata": {
        "id": "w2xrDG9lNk9h"
      }
    },
    {
      "cell_type": "markdown",
      "source": [
        "**Question 1**\n",
        "\n",
        "Finish the following function"
      ],
      "metadata": {
        "id": "syZA0mxhNrDd"
      }
    },
    {
      "cell_type": "code",
      "source": [
        "def multiply_by_three(x):\n",
        "  \"\"\"\n",
        "  This function multiplies a number by three\n",
        "\n",
        "  Args:\n",
        "    -- 'x': int\n",
        "\n",
        "  Returns:\n",
        "    -- int\n",
        "  \"\"\""
      ],
      "metadata": {
        "id": "JJuRBnkIOOOA"
      },
      "execution_count": 41,
      "outputs": []
    },
    {
      "cell_type": "markdown",
      "source": [
        "**Question 2**\n",
        "\n",
        "Create a random array with shape 3,5"
      ],
      "metadata": {
        "id": "dvP_VkoXOjad"
      }
    },
    {
      "cell_type": "code",
      "source": [
        "# array = "
      ],
      "metadata": {
        "id": "cslgUljMOiQy"
      },
      "execution_count": null,
      "outputs": []
    },
    {
      "cell_type": "markdown",
      "source": [
        "**Question 3**\n",
        "\n",
        "Isolate a feature from a dataframe"
      ],
      "metadata": {
        "id": "QDztgZu4OwIE"
      }
    },
    {
      "cell_type": "code",
      "source": [
        "# feature = "
      ],
      "metadata": {
        "id": "BXehsLDsPNh8"
      },
      "execution_count": null,
      "outputs": []
    },
    {
      "cell_type": "markdown",
      "source": [
        "**Question 4**\n",
        "\n",
        "Plot a histogram of a feature"
      ],
      "metadata": {
        "id": "h_Q9IcTPPQRM"
      }
    },
    {
      "cell_type": "code",
      "source": [
        "def plot(dataframe, column):\n",
        "  \"\"\"\n",
        "  This function plots a histogram of the specified dataset & feature\n",
        "\n",
        "  Args:\n",
        "    -- 'dataframe': pd.DataFrame\n",
        "    -- 'column': string of feature name\n",
        "\n",
        "  Returns:\n",
        "    -- matplotlib histogram plot\n",
        "  \"\"\""
      ],
      "metadata": {
        "id": "tCxtgZlSQVeI"
      },
      "execution_count": null,
      "outputs": []
    },
    {
      "cell_type": "markdown",
      "source": [
        "**Question 5 - Bonus!**\n",
        "\n",
        "Define a function to return all rows where a specified feature is less than or equal to 4.\n",
        "\n",
        "The function has two args - the dataframe, and the column.\n",
        "\n",
        "The function returns the dataframe where that feature is less than or equal to 4.\n",
        "\n",
        "*Hint: We did this in the above 'EDA' section (accessing features)* "
      ],
      "metadata": {
        "id": "d1jMz3-rQpV2"
      }
    },
    {
      "cell_type": "code",
      "source": [
        "## TODO: YOUR CODE HERE ##"
      ],
      "metadata": {
        "id": "9eL6fYVAQ-CU"
      },
      "execution_count": null,
      "outputs": []
    }
  ]
}