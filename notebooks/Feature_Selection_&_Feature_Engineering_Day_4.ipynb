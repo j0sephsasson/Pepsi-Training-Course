{
  "nbformat": 4,
  "nbformat_minor": 0,
  "metadata": {
    "colab": {
      "name": "Feature Selection & Feature Engineering - Day 4.ipynb",
      "provenance": [],
      "collapsed_sections": []
    },
    "kernelspec": {
      "name": "python3",
      "display_name": "Python 3"
    },
    "language_info": {
      "name": "python"
    }
  },
  "cells": [
    {
      "cell_type": "markdown",
      "source": [
        "# Feature Selection & Feature Engineering"
      ],
      "metadata": {
        "id": "EDD2Xn7dm_Jd"
      }
    },
    {
      "cell_type": "markdown",
      "source": [
        "This notebook will cover fundamental methods used to develop ML algorithms, such as preparing data for a ML model (feature engineering)."
      ],
      "metadata": {
        "id": "7zI8XpsenEar"
      }
    },
    {
      "cell_type": "markdown",
      "source": [
        "**Topics:**\n",
        "\n",
        "\n",
        "1.   Feature Selection\n",
        "2.   Feature Engineering\n",
        "3.   Preparing Data\n",
        "\n"
      ],
      "metadata": {
        "id": "kkm3LpcfnXcn"
      }
    },
    {
      "cell_type": "markdown",
      "source": [
        "**Goals:**\n",
        "\n",
        "\n",
        "1.   Understand how to select important features for a ML algorithm\n",
        "2.   Understand how to clean data for a ML algorithm\n",
        "3.   Become familiar with common methods for preparing data to train a ML model\n",
        "\n"
      ],
      "metadata": {
        "id": "gJQnvcrGnn7n"
      }
    },
    {
      "cell_type": "markdown",
      "source": [
        "## Import Packages"
      ],
      "metadata": {
        "id": "gaSN1Lyfn6qX"
      }
    },
    {
      "cell_type": "markdown",
      "source": [
        "The first thing we do at the beginning of any script."
      ],
      "metadata": {
        "id": "oEW1RxJTpK35"
      }
    },
    {
      "cell_type": "markdown",
      "source": [
        "\n",
        "\n",
        "1.   **Pandas:** Working with datasets. Arguably the most widely-used data-science Python package.\n",
        "2.   **NumPy:** Scientific computing package for working with vectors & matrices. \n",
        "3. **MatplotLib:** Tool for dataset vizualizations.\n",
        "4. **Sci-Kit Learn:** Open-source ML algorithms.\n",
        "5. **Stats Models:** Open-source scientific computing package for statistical operations."
      ],
      "metadata": {
        "id": "rtrGbEploAFC"
      }
    },
    {
      "cell_type": "code",
      "execution_count": 20,
      "metadata": {
        "id": "PmzI3fH4m2Pl"
      },
      "outputs": [],
      "source": [
        "from statsmodels.formula.api import ols\n",
        "from sklearn.model_selection import train_test_split\n",
        "import pandas as pd, numpy as np, matplotlib.pyplot as plt\n",
        "from sklearn.preprocessing import LabelEncoder, StandardScaler\n",
        "from sklearn.impute import SimpleImputer"
      ]
    },
    {
      "cell_type": "markdown",
      "source": [
        "## Feature Selection & Feature Engineering"
      ],
      "metadata": {
        "id": "Nr6yOCCDpgKw"
      }
    },
    {
      "cell_type": "markdown",
      "source": [
        "In this section we will cover how to prepare a dataset for a ML model."
      ],
      "metadata": {
        "id": "DUwclzqWpi8Z"
      }
    },
    {
      "cell_type": "markdown",
      "source": [
        "Note - it is called data \"science\" for a reason. Each use-case can benefit from different methods and implementations, it is the job of the data scientist to experiment with these options and choose the best one. "
      ],
      "metadata": {
        "id": "qB9iKmLzzWJh"
      }
    },
    {
      "cell_type": "markdown",
      "source": [
        "Here we will be going over common methods utilized for feature selection & engineering."
      ],
      "metadata": {
        "id": "r9tSofsMzic-"
      }
    },
    {
      "cell_type": "markdown",
      "source": [
        "#### **Feature Selection**"
      ],
      "metadata": {
        "id": "wX_O88ugy0yq"
      }
    },
    {
      "cell_type": "markdown",
      "source": [
        "Feature selection is the process of selecting and removing features from the dataset, so that the ML model can learn in an optimal manner."
      ],
      "metadata": {
        "id": "joTIUMu4y7Xz"
      }
    },
    {
      "cell_type": "markdown",
      "source": [
        "**Read-in Dataset**"
      ],
      "metadata": {
        "id": "wfEg0bfjwj78"
      }
    },
    {
      "cell_type": "code",
      "source": [
        "data = pd.read_csv('https://raw.githubusercontent.com/j0sephsasson/Pepsi-Training-Course/main/datasets/heart.csv')\n",
        "data.head()"
      ],
      "metadata": {
        "colab": {
          "base_uri": "https://localhost:8080/",
          "height": 206
        },
        "id": "hRblaH-FpUYN",
        "outputId": "cbd7e58c-bf0e-441f-8bf8-d0bd7937678d"
      },
      "execution_count": 36,
      "outputs": [
        {
          "output_type": "execute_result",
          "data": {
            "text/plain": [
              "   age  sex  cp  trtbps  chol  fbs  restecg  thalachh  exng  oldpeak  slp  \\\n",
              "0   63    1   3     145   233    1        0       150     0      2.3    0   \n",
              "1   37    1   2     130   250    0        1       187     0      3.5    0   \n",
              "2   41    0   1     130   204    0        0       172     0      1.4    2   \n",
              "3   56    1   1     120   236    0        1       178     0      0.8    2   \n",
              "4   57    0   0     120   354    0        1       163     1      0.6    2   \n",
              "\n",
              "   caa  thall  output  \n",
              "0    0      1       1  \n",
              "1    0      2       1  \n",
              "2    0      2       1  \n",
              "3    0      2       1  \n",
              "4    0      2       1  "
            ],
            "text/html": [
              "\n",
              "  <div id=\"df-b439682d-1c09-4bbe-a544-02c3e254a5a0\">\n",
              "    <div class=\"colab-df-container\">\n",
              "      <div>\n",
              "<style scoped>\n",
              "    .dataframe tbody tr th:only-of-type {\n",
              "        vertical-align: middle;\n",
              "    }\n",
              "\n",
              "    .dataframe tbody tr th {\n",
              "        vertical-align: top;\n",
              "    }\n",
              "\n",
              "    .dataframe thead th {\n",
              "        text-align: right;\n",
              "    }\n",
              "</style>\n",
              "<table border=\"1\" class=\"dataframe\">\n",
              "  <thead>\n",
              "    <tr style=\"text-align: right;\">\n",
              "      <th></th>\n",
              "      <th>age</th>\n",
              "      <th>sex</th>\n",
              "      <th>cp</th>\n",
              "      <th>trtbps</th>\n",
              "      <th>chol</th>\n",
              "      <th>fbs</th>\n",
              "      <th>restecg</th>\n",
              "      <th>thalachh</th>\n",
              "      <th>exng</th>\n",
              "      <th>oldpeak</th>\n",
              "      <th>slp</th>\n",
              "      <th>caa</th>\n",
              "      <th>thall</th>\n",
              "      <th>output</th>\n",
              "    </tr>\n",
              "  </thead>\n",
              "  <tbody>\n",
              "    <tr>\n",
              "      <th>0</th>\n",
              "      <td>63</td>\n",
              "      <td>1</td>\n",
              "      <td>3</td>\n",
              "      <td>145</td>\n",
              "      <td>233</td>\n",
              "      <td>1</td>\n",
              "      <td>0</td>\n",
              "      <td>150</td>\n",
              "      <td>0</td>\n",
              "      <td>2.3</td>\n",
              "      <td>0</td>\n",
              "      <td>0</td>\n",
              "      <td>1</td>\n",
              "      <td>1</td>\n",
              "    </tr>\n",
              "    <tr>\n",
              "      <th>1</th>\n",
              "      <td>37</td>\n",
              "      <td>1</td>\n",
              "      <td>2</td>\n",
              "      <td>130</td>\n",
              "      <td>250</td>\n",
              "      <td>0</td>\n",
              "      <td>1</td>\n",
              "      <td>187</td>\n",
              "      <td>0</td>\n",
              "      <td>3.5</td>\n",
              "      <td>0</td>\n",
              "      <td>0</td>\n",
              "      <td>2</td>\n",
              "      <td>1</td>\n",
              "    </tr>\n",
              "    <tr>\n",
              "      <th>2</th>\n",
              "      <td>41</td>\n",
              "      <td>0</td>\n",
              "      <td>1</td>\n",
              "      <td>130</td>\n",
              "      <td>204</td>\n",
              "      <td>0</td>\n",
              "      <td>0</td>\n",
              "      <td>172</td>\n",
              "      <td>0</td>\n",
              "      <td>1.4</td>\n",
              "      <td>2</td>\n",
              "      <td>0</td>\n",
              "      <td>2</td>\n",
              "      <td>1</td>\n",
              "    </tr>\n",
              "    <tr>\n",
              "      <th>3</th>\n",
              "      <td>56</td>\n",
              "      <td>1</td>\n",
              "      <td>1</td>\n",
              "      <td>120</td>\n",
              "      <td>236</td>\n",
              "      <td>0</td>\n",
              "      <td>1</td>\n",
              "      <td>178</td>\n",
              "      <td>0</td>\n",
              "      <td>0.8</td>\n",
              "      <td>2</td>\n",
              "      <td>0</td>\n",
              "      <td>2</td>\n",
              "      <td>1</td>\n",
              "    </tr>\n",
              "    <tr>\n",
              "      <th>4</th>\n",
              "      <td>57</td>\n",
              "      <td>0</td>\n",
              "      <td>0</td>\n",
              "      <td>120</td>\n",
              "      <td>354</td>\n",
              "      <td>0</td>\n",
              "      <td>1</td>\n",
              "      <td>163</td>\n",
              "      <td>1</td>\n",
              "      <td>0.6</td>\n",
              "      <td>2</td>\n",
              "      <td>0</td>\n",
              "      <td>2</td>\n",
              "      <td>1</td>\n",
              "    </tr>\n",
              "  </tbody>\n",
              "</table>\n",
              "</div>\n",
              "      <button class=\"colab-df-convert\" onclick=\"convertToInteractive('df-b439682d-1c09-4bbe-a544-02c3e254a5a0')\"\n",
              "              title=\"Convert this dataframe to an interactive table.\"\n",
              "              style=\"display:none;\">\n",
              "        \n",
              "  <svg xmlns=\"http://www.w3.org/2000/svg\" height=\"24px\"viewBox=\"0 0 24 24\"\n",
              "       width=\"24px\">\n",
              "    <path d=\"M0 0h24v24H0V0z\" fill=\"none\"/>\n",
              "    <path d=\"M18.56 5.44l.94 2.06.94-2.06 2.06-.94-2.06-.94-.94-2.06-.94 2.06-2.06.94zm-11 1L8.5 8.5l.94-2.06 2.06-.94-2.06-.94L8.5 2.5l-.94 2.06-2.06.94zm10 10l.94 2.06.94-2.06 2.06-.94-2.06-.94-.94-2.06-.94 2.06-2.06.94z\"/><path d=\"M17.41 7.96l-1.37-1.37c-.4-.4-.92-.59-1.43-.59-.52 0-1.04.2-1.43.59L10.3 9.45l-7.72 7.72c-.78.78-.78 2.05 0 2.83L4 21.41c.39.39.9.59 1.41.59.51 0 1.02-.2 1.41-.59l7.78-7.78 2.81-2.81c.8-.78.8-2.07 0-2.86zM5.41 20L4 18.59l7.72-7.72 1.47 1.35L5.41 20z\"/>\n",
              "  </svg>\n",
              "      </button>\n",
              "      \n",
              "  <style>\n",
              "    .colab-df-container {\n",
              "      display:flex;\n",
              "      flex-wrap:wrap;\n",
              "      gap: 12px;\n",
              "    }\n",
              "\n",
              "    .colab-df-convert {\n",
              "      background-color: #E8F0FE;\n",
              "      border: none;\n",
              "      border-radius: 50%;\n",
              "      cursor: pointer;\n",
              "      display: none;\n",
              "      fill: #1967D2;\n",
              "      height: 32px;\n",
              "      padding: 0 0 0 0;\n",
              "      width: 32px;\n",
              "    }\n",
              "\n",
              "    .colab-df-convert:hover {\n",
              "      background-color: #E2EBFA;\n",
              "      box-shadow: 0px 1px 2px rgba(60, 64, 67, 0.3), 0px 1px 3px 1px rgba(60, 64, 67, 0.15);\n",
              "      fill: #174EA6;\n",
              "    }\n",
              "\n",
              "    [theme=dark] .colab-df-convert {\n",
              "      background-color: #3B4455;\n",
              "      fill: #D2E3FC;\n",
              "    }\n",
              "\n",
              "    [theme=dark] .colab-df-convert:hover {\n",
              "      background-color: #434B5C;\n",
              "      box-shadow: 0px 1px 3px 1px rgba(0, 0, 0, 0.15);\n",
              "      filter: drop-shadow(0px 1px 2px rgba(0, 0, 0, 0.3));\n",
              "      fill: #FFFFFF;\n",
              "    }\n",
              "  </style>\n",
              "\n",
              "      <script>\n",
              "        const buttonEl =\n",
              "          document.querySelector('#df-b439682d-1c09-4bbe-a544-02c3e254a5a0 button.colab-df-convert');\n",
              "        buttonEl.style.display =\n",
              "          google.colab.kernel.accessAllowed ? 'block' : 'none';\n",
              "\n",
              "        async function convertToInteractive(key) {\n",
              "          const element = document.querySelector('#df-b439682d-1c09-4bbe-a544-02c3e254a5a0');\n",
              "          const dataTable =\n",
              "            await google.colab.kernel.invokeFunction('convertToInteractive',\n",
              "                                                     [key], {});\n",
              "          if (!dataTable) return;\n",
              "\n",
              "          const docLinkHtml = 'Like what you see? Visit the ' +\n",
              "            '<a target=\"_blank\" href=https://colab.research.google.com/notebooks/data_table.ipynb>data table notebook</a>'\n",
              "            + ' to learn more about interactive tables.';\n",
              "          element.innerHTML = '';\n",
              "          dataTable['output_type'] = 'display_data';\n",
              "          await google.colab.output.renderOutput(dataTable, element);\n",
              "          const docLink = document.createElement('div');\n",
              "          docLink.innerHTML = docLinkHtml;\n",
              "          element.appendChild(docLink);\n",
              "        }\n",
              "      </script>\n",
              "    </div>\n",
              "  </div>\n",
              "  "
            ]
          },
          "metadata": {},
          "execution_count": 36
        }
      ]
    },
    {
      "cell_type": "markdown",
      "source": [
        "**Split data into X & y. (features & target)**"
      ],
      "metadata": {
        "id": "TUxTt1N4wn86"
      }
    },
    {
      "cell_type": "code",
      "source": [
        "# Split into features/target\n",
        "all_columns = list(data.columns)\n",
        "target = all_columns.pop()\n",
        "features = all_columns \n",
        "\n",
        "print(target)\n",
        "print(features)\n",
        "\n",
        "X = data[features]\n",
        "y = data[target]"
      ],
      "metadata": {
        "colab": {
          "base_uri": "https://localhost:8080/"
        },
        "id": "-lwjjugIvT-q",
        "outputId": "6d171e73-18b0-470e-dd8b-71544d902086"
      },
      "execution_count": 37,
      "outputs": [
        {
          "output_type": "stream",
          "name": "stdout",
          "text": [
            "output\n",
            "['age', 'sex', 'cp', 'trtbps', 'chol', 'fbs', 'restecg', 'thalachh', 'exng', 'oldpeak', 'slp', 'caa', 'thall']\n"
          ]
        }
      ]
    },
    {
      "cell_type": "markdown",
      "source": [
        "**Examine null values in each feature**"
      ],
      "metadata": {
        "id": "YtzThg4JwtnI"
      }
    },
    {
      "cell_type": "code",
      "source": [
        "# Check for null values\n",
        "X.isnull().sum()"
      ],
      "metadata": {
        "colab": {
          "base_uri": "https://localhost:8080/"
        },
        "id": "gF68XPzCrv27",
        "outputId": "7ae05253-9887-4adf-f7e4-ee39a1beb880"
      },
      "execution_count": 10,
      "outputs": [
        {
          "output_type": "execute_result",
          "data": {
            "text/plain": [
              "age         0\n",
              "sex         0\n",
              "cp          0\n",
              "trtbps      0\n",
              "chol        0\n",
              "fbs         0\n",
              "restecg     0\n",
              "thalachh    0\n",
              "exng        0\n",
              "oldpeak     0\n",
              "slp         0\n",
              "caa         0\n",
              "thall       0\n",
              "dtype: int64"
            ]
          },
          "metadata": {},
          "execution_count": 10
        }
      ]
    },
    {
      "cell_type": "markdown",
      "source": [
        "**Examine Cardinality.** \n",
        "\n",
        "This is an important concept - how many unique values in a particular feature?\n",
        "\n",
        "This is called *Cardinality*"
      ],
      "metadata": {
        "id": "77fjrtoowxyh"
      }
    },
    {
      "cell_type": "code",
      "source": [
        "# Check cardinality\n",
        "def show_cardinality(frame):\n",
        "  for col in frame.columns:\n",
        "     cardinality = len(frame[col].unique())\n",
        "     print(col)\n",
        "     print(cardinality)\n",
        "     print()\n",
        "\n",
        "show_cardinality(X)"
      ],
      "metadata": {
        "colab": {
          "base_uri": "https://localhost:8080/"
        },
        "id": "uRl91g0Yutm3",
        "outputId": "c68d7250-23c8-4792-8bf5-c27c6e4d14dc"
      },
      "execution_count": 11,
      "outputs": [
        {
          "output_type": "stream",
          "name": "stdout",
          "text": [
            "age\n",
            "41\n",
            "\n",
            "sex\n",
            "2\n",
            "\n",
            "cp\n",
            "4\n",
            "\n",
            "trtbps\n",
            "49\n",
            "\n",
            "chol\n",
            "152\n",
            "\n",
            "fbs\n",
            "2\n",
            "\n",
            "restecg\n",
            "3\n",
            "\n",
            "thalachh\n",
            "91\n",
            "\n",
            "exng\n",
            "2\n",
            "\n",
            "oldpeak\n",
            "40\n",
            "\n",
            "slp\n",
            "3\n",
            "\n",
            "caa\n",
            "5\n",
            "\n",
            "thall\n",
            "4\n",
            "\n"
          ]
        }
      ]
    },
    {
      "cell_type": "markdown",
      "source": [
        "**Perform Feature Selection**"
      ],
      "metadata": {
        "id": "iDN_hzPh0lBt"
      }
    },
    {
      "cell_type": "markdown",
      "source": [
        "Now we will define a function to remove features that have any one of the following attributes to be true:\n",
        "\n",
        "\n",
        "*   Cardinality above 85% (extremely high amount of unique values)\n",
        "*   Cardinality below 0.1% (basically every value is the same)\n",
        "*   Null value count above 60% (most values are null)\n",
        "\n"
      ],
      "metadata": {
        "id": "d2L0GYjh0pyj"
      }
    },
    {
      "cell_type": "code",
      "source": [
        "def feature_selection(data, features):\n",
        "    \"\"\"\n",
        "    This function drops features with high cardinality\n",
        "\n",
        "    Params:\n",
        "      -- 'data': pd.DataFrame\n",
        "      -- 'features': list[str]\n",
        "      \n",
        "    Returns:\n",
        "      -- list of selected features \n",
        "    \"\"\"\n",
        "\n",
        "    good_features = []\n",
        "\n",
        "    for f in features:\n",
        "      cardinality = len(data[f].unique())\n",
        "      null_count = data[f].isnull().sum()\n",
        "\n",
        "      if cardinality > np.percentile(range(0,len(data)),85):\n",
        "        continue\n",
        "      elif cardinality < np.percentile(range(0,len(data)),0.1):\n",
        "        continue\n",
        "      elif null_count > np.percentile(range(0,len(data)),60):\n",
        "        continue\n",
        "      else:\n",
        "        good_features.append(f)\n",
        "\n",
        "    return good_features\n",
        "\n",
        "good_features = feature_selection(X, features)\n",
        "print('Removed Features: ', [i for i in features if i not in good_features])\n",
        "print(good_features)"
      ],
      "metadata": {
        "colab": {
          "base_uri": "https://localhost:8080/"
        },
        "id": "HwIeBLojvnJS",
        "outputId": "c7846105-4aba-436f-c584-99456c3f6dcc"
      },
      "execution_count": 16,
      "outputs": [
        {
          "output_type": "stream",
          "name": "stdout",
          "text": [
            "Removed Features:  []\n",
            "['age', 'sex', 'cp', 'trtbps', 'chol', 'fbs', 'restecg', 'thalachh', 'exng', 'oldpeak', 'slp', 'caa', 'thall']\n"
          ]
        }
      ]
    },
    {
      "cell_type": "markdown",
      "source": [
        "#### **Feature Engineering**"
      ],
      "metadata": {
        "id": "pJipb5wT5NJ8"
      }
    },
    {
      "cell_type": "markdown",
      "source": [
        "Feature engineering is the process of cleaning selected features for the model.\n",
        "\n",
        "We want to scale & normalize numerical data, as well as numerically encode categorical features so they can be normalized & scaled."
      ],
      "metadata": {
        "id": "eYslkmPE5XPq"
      }
    },
    {
      "cell_type": "markdown",
      "source": [
        "**Common steps (in order):**\n",
        "\n",
        "\n",
        "1.   Impute null values\n",
        "2.   Numerically encode categorical features\n",
        "3.   Scale & normalize numeric features (they are all numbers at this point)\n",
        "\n"
      ],
      "metadata": {
        "id": "Ka6y6qm-6bef"
      }
    },
    {
      "cell_type": "markdown",
      "source": [
        "\n",
        "\n",
        "**1.   Impute Null Values**\n",
        "\n"
      ],
      "metadata": {
        "id": "VeWpLVyr6wPq"
      }
    },
    {
      "cell_type": "markdown",
      "source": [
        "\n",
        "\n",
        "*   For numerical data we will replace null values with the mean of the feature\n",
        "*   For categorical data we will replace the null values with the most freqeuent value\n",
        "\n",
        "These are very basic ways to impute a feature. Much more complex methods exist.\n",
        "\n"
      ],
      "metadata": {
        "id": "p3OzGMrl_l2I"
      }
    },
    {
      "cell_type": "code",
      "source": [
        "# initialize a SimpleImputer with strategy 'mean'\n",
        "imputer = SimpleImputer(strategy='mean') # used with numerical features\n",
        "\n",
        "test = pd.Series([1,2,2,4,5,6, np.nan, np.nan, np.nan, 7,8,9])\n",
        "test_imputed = imputer.fit_transform(test.values.reshape(-1, 1))\n",
        "\n",
        "print('BEFORE:')\n",
        "print(test.values)\n",
        "\n",
        "print()\n",
        "\n",
        "print('AFTER:')\n",
        "print(test_imputed)"
      ],
      "metadata": {
        "colab": {
          "base_uri": "https://localhost:8080/"
        },
        "id": "LFwFRX1u5MMZ",
        "outputId": "5d265fea-fdf0-40c3-e231-e7eacf160feb"
      },
      "execution_count": 25,
      "outputs": [
        {
          "output_type": "stream",
          "name": "stdout",
          "text": [
            "BEFORE:\n",
            "[ 1.  2.  2.  4.  5.  6. nan nan nan  7.  8.  9.]\n",
            "\n",
            "AFTER:\n",
            "[[1.        ]\n",
            " [2.        ]\n",
            " [2.        ]\n",
            " [4.        ]\n",
            " [5.        ]\n",
            " [6.        ]\n",
            " [4.88888889]\n",
            " [4.88888889]\n",
            " [4.88888889]\n",
            " [7.        ]\n",
            " [8.        ]\n",
            " [9.        ]]\n"
          ]
        }
      ]
    },
    {
      "cell_type": "markdown",
      "source": [
        "\n",
        "\n",
        "**2.   Encode Categorical Data**\n",
        "\n"
      ],
      "metadata": {
        "id": "grXONsSR62Xv"
      }
    },
    {
      "cell_type": "markdown",
      "source": [
        "\n",
        "\n",
        "*   Each unique value is assigned a number 1 through the length of unique values\n",
        "\n"
      ],
      "metadata": {
        "id": "0s21v7uu_2fL"
      }
    },
    {
      "cell_type": "code",
      "source": [
        "# initialize a LabelEncoder\n",
        "encoder = LabelEncoder()\n",
        "\n",
        "# initialize imputer with strategy 'most_frequent'\n",
        "imputer = SimpleImputer(strategy='most_frequent') # for categorical features\n",
        "\n",
        "test = pd.Series(['yessir','hello', 'goodbye', 'hello', 'pancakes',\n",
        "                  np.nan, np.nan, np.nan])\n",
        "\n",
        "# impute null vals\n",
        "test_imputed = imputer.fit_transform(test.values.reshape(-1, 1))\n",
        "\n",
        "# encode the imputed, categorical data\n",
        "test_encoded = encoder.fit_transform(test_imputed.reshape(test_imputed.shape[0],))\n",
        "\n",
        "print('BEFORE:')\n",
        "print(test.values)\n",
        "\n",
        "print()\n",
        "\n",
        "print('AFTER:')\n",
        "print(test_encoded)"
      ],
      "metadata": {
        "colab": {
          "base_uri": "https://localhost:8080/"
        },
        "id": "WEbNfSDD689X",
        "outputId": "47709115-768e-414a-9b78-78f84e571d24"
      },
      "execution_count": 29,
      "outputs": [
        {
          "output_type": "stream",
          "name": "stdout",
          "text": [
            "BEFORE:\n",
            "['yessir' 'hello' 'goodbye' 'hello' 'pancakes' nan nan nan]\n",
            "\n",
            "AFTER:\n",
            "[3 1 0 1 2 1 1 1]\n"
          ]
        }
      ]
    },
    {
      "cell_type": "markdown",
      "source": [
        "\n",
        "\n",
        "\n",
        "**3.   Scale & Normalize Data**\n",
        "\n"
      ],
      "metadata": {
        "id": "Cv4_RC_z-gmf"
      }
    },
    {
      "cell_type": "markdown",
      "source": [
        "\n",
        "\n",
        "*   Will normalize a feature so the standard deviation is 1 and the mean is 0. This is also known as a 'Z-Score'\n",
        "*   Each new value tells us how many standard deviations the original value was from the mean\n",
        "\n",
        "\n",
        "\n"
      ],
      "metadata": {
        "id": "g_xqMyrq_-_8"
      }
    },
    {
      "cell_type": "code",
      "source": [
        "# initialize scaler\n",
        "scaler = StandardScaler()\n",
        "\n",
        "# turn encoded data back into pandas format\n",
        "series = pd.Series(test_encoded)\n",
        "\n",
        "# scale data\n",
        "series = scaler.fit_transform(series.values.reshape(-1, 1))\n",
        "\n",
        "print('ORIGINAL:')\n",
        "print(test_encoded)\n",
        "\n",
        "print()\n",
        "\n",
        "print('SCALED:')\n",
        "print(series)"
      ],
      "metadata": {
        "colab": {
          "base_uri": "https://localhost:8080/"
        },
        "id": "y6kS2bWW-mqf",
        "outputId": "599cf847-58a8-4155-9b93-fdb63a747b40"
      },
      "execution_count": 31,
      "outputs": [
        {
          "output_type": "stream",
          "name": "stdout",
          "text": [
            "ORIGINAL:\n",
            "[3 1 0 1 2 1 1 1]\n",
            "\n",
            "SCALED:\n",
            "[[ 2.11057941]\n",
            " [-0.30151134]\n",
            " [-1.50755672]\n",
            " [-0.30151134]\n",
            " [ 0.90453403]\n",
            " [-0.30151134]\n",
            " [-0.30151134]\n",
            " [-0.30151134]]\n"
          ]
        }
      ]
    },
    {
      "cell_type": "markdown",
      "source": [
        "**Perform Feature Engineering**"
      ],
      "metadata": {
        "id": "vZmfBDpSAbAI"
      }
    },
    {
      "cell_type": "markdown",
      "source": [
        "Now we will define a function that will:\n",
        "\n",
        "\n",
        "1.   Impute numerical values with the mean of that feature\n",
        "2.   Impute categorical features with the most frequent value\n",
        "3.   Encode categorical features to be numeric\n",
        "4.   Scale & normalize the remaining data\n",
        "\n"
      ],
      "metadata": {
        "id": "ZbUQNmN7A3Nl"
      }
    },
    {
      "cell_type": "code",
      "source": [
        "def clean_dataset(frame, features):\n",
        "  \"\"\"\n",
        "    This function performs feature engineering on a dataframe\n",
        "\n",
        "    1. Imputing\n",
        "    2. Encoding\n",
        "    3. Scaling\n",
        "\n",
        "    Params:\n",
        "      -- 'data': pd.DataFrame\n",
        "      -- 'features': list[str]\n",
        "      \n",
        "    Returns:\n",
        "      -- 'data': pd.DataFrame\n",
        "    \"\"\"\n",
        "\n",
        "  data = frame.copy()\n",
        "\n",
        "  # Perform imputing\n",
        "  for col in features:\n",
        "\n",
        "    # if we have category use most frequent\n",
        "    if data[col].dtypes == 'O':\n",
        "        imputer = SimpleImputer(strategy='most_frequent')\n",
        "        data[col] = imputer.fit_transform(data[col].values.reshape(-1, 1))\n",
        "\n",
        "    # if we have number use mean\n",
        "    elif data[col].dtypes == 'int64' or data[col].dtypes == 'float64':\n",
        "        imputer = SimpleImputer(strategy='mean')\n",
        "        data[col] = imputer.fit_transform(data[col].values.reshape(-1, 1))\n",
        "\n",
        "  ## encode categorical features ##\n",
        "  for col in features:\n",
        "    if data[col].dtypes == 'O':\n",
        "      data[col] = LabelEncoder().fit_transform(data[col])\n",
        "\n",
        "  ## scale numercial features ##\n",
        "  for col in features:\n",
        "    if data[col].dtypes == 'int64' or data[col].dtypes == 'float64':\n",
        "      data[col] = StandardScaler().fit_transform(data[col].values.reshape(-1, 1))\n",
        "\n",
        "  return data\n",
        "\n",
        "X_clean = clean_dataset(frame=X, features=features)"
      ],
      "metadata": {
        "id": "1tFOJhrYAc_6"
      },
      "execution_count": 38,
      "outputs": []
    },
    {
      "cell_type": "code",
      "source": [
        "print('ORIGINAL')\n",
        "print()\n",
        "X.head()"
      ],
      "metadata": {
        "colab": {
          "base_uri": "https://localhost:8080/",
          "height": 241
        },
        "id": "j0CpPVX0CReO",
        "outputId": "246558a5-30bf-4951-ea39-78d4653ad5f7"
      },
      "execution_count": 39,
      "outputs": [
        {
          "output_type": "stream",
          "name": "stdout",
          "text": [
            "ORIGINAL\n",
            "\n"
          ]
        },
        {
          "output_type": "execute_result",
          "data": {
            "text/plain": [
              "   age  sex  cp  trtbps  chol  fbs  restecg  thalachh  exng  oldpeak  slp  \\\n",
              "0   63    1   3     145   233    1        0       150     0      2.3    0   \n",
              "1   37    1   2     130   250    0        1       187     0      3.5    0   \n",
              "2   41    0   1     130   204    0        0       172     0      1.4    2   \n",
              "3   56    1   1     120   236    0        1       178     0      0.8    2   \n",
              "4   57    0   0     120   354    0        1       163     1      0.6    2   \n",
              "\n",
              "   caa  thall  \n",
              "0    0      1  \n",
              "1    0      2  \n",
              "2    0      2  \n",
              "3    0      2  \n",
              "4    0      2  "
            ],
            "text/html": [
              "\n",
              "  <div id=\"df-b3d49160-7383-4318-9e17-5b2db93add08\">\n",
              "    <div class=\"colab-df-container\">\n",
              "      <div>\n",
              "<style scoped>\n",
              "    .dataframe tbody tr th:only-of-type {\n",
              "        vertical-align: middle;\n",
              "    }\n",
              "\n",
              "    .dataframe tbody tr th {\n",
              "        vertical-align: top;\n",
              "    }\n",
              "\n",
              "    .dataframe thead th {\n",
              "        text-align: right;\n",
              "    }\n",
              "</style>\n",
              "<table border=\"1\" class=\"dataframe\">\n",
              "  <thead>\n",
              "    <tr style=\"text-align: right;\">\n",
              "      <th></th>\n",
              "      <th>age</th>\n",
              "      <th>sex</th>\n",
              "      <th>cp</th>\n",
              "      <th>trtbps</th>\n",
              "      <th>chol</th>\n",
              "      <th>fbs</th>\n",
              "      <th>restecg</th>\n",
              "      <th>thalachh</th>\n",
              "      <th>exng</th>\n",
              "      <th>oldpeak</th>\n",
              "      <th>slp</th>\n",
              "      <th>caa</th>\n",
              "      <th>thall</th>\n",
              "    </tr>\n",
              "  </thead>\n",
              "  <tbody>\n",
              "    <tr>\n",
              "      <th>0</th>\n",
              "      <td>63</td>\n",
              "      <td>1</td>\n",
              "      <td>3</td>\n",
              "      <td>145</td>\n",
              "      <td>233</td>\n",
              "      <td>1</td>\n",
              "      <td>0</td>\n",
              "      <td>150</td>\n",
              "      <td>0</td>\n",
              "      <td>2.3</td>\n",
              "      <td>0</td>\n",
              "      <td>0</td>\n",
              "      <td>1</td>\n",
              "    </tr>\n",
              "    <tr>\n",
              "      <th>1</th>\n",
              "      <td>37</td>\n",
              "      <td>1</td>\n",
              "      <td>2</td>\n",
              "      <td>130</td>\n",
              "      <td>250</td>\n",
              "      <td>0</td>\n",
              "      <td>1</td>\n",
              "      <td>187</td>\n",
              "      <td>0</td>\n",
              "      <td>3.5</td>\n",
              "      <td>0</td>\n",
              "      <td>0</td>\n",
              "      <td>2</td>\n",
              "    </tr>\n",
              "    <tr>\n",
              "      <th>2</th>\n",
              "      <td>41</td>\n",
              "      <td>0</td>\n",
              "      <td>1</td>\n",
              "      <td>130</td>\n",
              "      <td>204</td>\n",
              "      <td>0</td>\n",
              "      <td>0</td>\n",
              "      <td>172</td>\n",
              "      <td>0</td>\n",
              "      <td>1.4</td>\n",
              "      <td>2</td>\n",
              "      <td>0</td>\n",
              "      <td>2</td>\n",
              "    </tr>\n",
              "    <tr>\n",
              "      <th>3</th>\n",
              "      <td>56</td>\n",
              "      <td>1</td>\n",
              "      <td>1</td>\n",
              "      <td>120</td>\n",
              "      <td>236</td>\n",
              "      <td>0</td>\n",
              "      <td>1</td>\n",
              "      <td>178</td>\n",
              "      <td>0</td>\n",
              "      <td>0.8</td>\n",
              "      <td>2</td>\n",
              "      <td>0</td>\n",
              "      <td>2</td>\n",
              "    </tr>\n",
              "    <tr>\n",
              "      <th>4</th>\n",
              "      <td>57</td>\n",
              "      <td>0</td>\n",
              "      <td>0</td>\n",
              "      <td>120</td>\n",
              "      <td>354</td>\n",
              "      <td>0</td>\n",
              "      <td>1</td>\n",
              "      <td>163</td>\n",
              "      <td>1</td>\n",
              "      <td>0.6</td>\n",
              "      <td>2</td>\n",
              "      <td>0</td>\n",
              "      <td>2</td>\n",
              "    </tr>\n",
              "  </tbody>\n",
              "</table>\n",
              "</div>\n",
              "      <button class=\"colab-df-convert\" onclick=\"convertToInteractive('df-b3d49160-7383-4318-9e17-5b2db93add08')\"\n",
              "              title=\"Convert this dataframe to an interactive table.\"\n",
              "              style=\"display:none;\">\n",
              "        \n",
              "  <svg xmlns=\"http://www.w3.org/2000/svg\" height=\"24px\"viewBox=\"0 0 24 24\"\n",
              "       width=\"24px\">\n",
              "    <path d=\"M0 0h24v24H0V0z\" fill=\"none\"/>\n",
              "    <path d=\"M18.56 5.44l.94 2.06.94-2.06 2.06-.94-2.06-.94-.94-2.06-.94 2.06-2.06.94zm-11 1L8.5 8.5l.94-2.06 2.06-.94-2.06-.94L8.5 2.5l-.94 2.06-2.06.94zm10 10l.94 2.06.94-2.06 2.06-.94-2.06-.94-.94-2.06-.94 2.06-2.06.94z\"/><path d=\"M17.41 7.96l-1.37-1.37c-.4-.4-.92-.59-1.43-.59-.52 0-1.04.2-1.43.59L10.3 9.45l-7.72 7.72c-.78.78-.78 2.05 0 2.83L4 21.41c.39.39.9.59 1.41.59.51 0 1.02-.2 1.41-.59l7.78-7.78 2.81-2.81c.8-.78.8-2.07 0-2.86zM5.41 20L4 18.59l7.72-7.72 1.47 1.35L5.41 20z\"/>\n",
              "  </svg>\n",
              "      </button>\n",
              "      \n",
              "  <style>\n",
              "    .colab-df-container {\n",
              "      display:flex;\n",
              "      flex-wrap:wrap;\n",
              "      gap: 12px;\n",
              "    }\n",
              "\n",
              "    .colab-df-convert {\n",
              "      background-color: #E8F0FE;\n",
              "      border: none;\n",
              "      border-radius: 50%;\n",
              "      cursor: pointer;\n",
              "      display: none;\n",
              "      fill: #1967D2;\n",
              "      height: 32px;\n",
              "      padding: 0 0 0 0;\n",
              "      width: 32px;\n",
              "    }\n",
              "\n",
              "    .colab-df-convert:hover {\n",
              "      background-color: #E2EBFA;\n",
              "      box-shadow: 0px 1px 2px rgba(60, 64, 67, 0.3), 0px 1px 3px 1px rgba(60, 64, 67, 0.15);\n",
              "      fill: #174EA6;\n",
              "    }\n",
              "\n",
              "    [theme=dark] .colab-df-convert {\n",
              "      background-color: #3B4455;\n",
              "      fill: #D2E3FC;\n",
              "    }\n",
              "\n",
              "    [theme=dark] .colab-df-convert:hover {\n",
              "      background-color: #434B5C;\n",
              "      box-shadow: 0px 1px 3px 1px rgba(0, 0, 0, 0.15);\n",
              "      filter: drop-shadow(0px 1px 2px rgba(0, 0, 0, 0.3));\n",
              "      fill: #FFFFFF;\n",
              "    }\n",
              "  </style>\n",
              "\n",
              "      <script>\n",
              "        const buttonEl =\n",
              "          document.querySelector('#df-b3d49160-7383-4318-9e17-5b2db93add08 button.colab-df-convert');\n",
              "        buttonEl.style.display =\n",
              "          google.colab.kernel.accessAllowed ? 'block' : 'none';\n",
              "\n",
              "        async function convertToInteractive(key) {\n",
              "          const element = document.querySelector('#df-b3d49160-7383-4318-9e17-5b2db93add08');\n",
              "          const dataTable =\n",
              "            await google.colab.kernel.invokeFunction('convertToInteractive',\n",
              "                                                     [key], {});\n",
              "          if (!dataTable) return;\n",
              "\n",
              "          const docLinkHtml = 'Like what you see? Visit the ' +\n",
              "            '<a target=\"_blank\" href=https://colab.research.google.com/notebooks/data_table.ipynb>data table notebook</a>'\n",
              "            + ' to learn more about interactive tables.';\n",
              "          element.innerHTML = '';\n",
              "          dataTable['output_type'] = 'display_data';\n",
              "          await google.colab.output.renderOutput(dataTable, element);\n",
              "          const docLink = document.createElement('div');\n",
              "          docLink.innerHTML = docLinkHtml;\n",
              "          element.appendChild(docLink);\n",
              "        }\n",
              "      </script>\n",
              "    </div>\n",
              "  </div>\n",
              "  "
            ]
          },
          "metadata": {},
          "execution_count": 39
        }
      ]
    },
    {
      "cell_type": "code",
      "source": [
        "print('CLEANED')\n",
        "print()\n",
        "X_clean.head()"
      ],
      "metadata": {
        "colab": {
          "base_uri": "https://localhost:8080/",
          "height": 241
        },
        "id": "G55HXOv4CweK",
        "outputId": "c35add6b-c7a7-49f5-bcfc-adadf7ae362c"
      },
      "execution_count": 40,
      "outputs": [
        {
          "output_type": "stream",
          "name": "stdout",
          "text": [
            "CLEANED\n",
            "\n"
          ]
        },
        {
          "output_type": "execute_result",
          "data": {
            "text/plain": [
              "        age       sex        cp    trtbps      chol       fbs   restecg  \\\n",
              "0  0.952197  0.681005  1.973123  0.763956 -0.256334  2.394438 -1.005832   \n",
              "1 -1.915313  0.681005  1.002577 -0.092738  0.072199 -0.417635  0.898962   \n",
              "2 -1.474158 -1.468418  0.032031 -0.092738 -0.816773 -0.417635 -1.005832   \n",
              "3  0.180175  0.681005  0.032031 -0.663867 -0.198357 -0.417635  0.898962   \n",
              "4  0.290464 -1.468418 -0.938515 -0.663867  2.082050 -0.417635  0.898962   \n",
              "\n",
              "   thalachh      exng   oldpeak       slp       caa     thall  \n",
              "0  0.015443 -0.696631  1.087338 -2.274579 -0.714429 -2.148873  \n",
              "1  1.633471 -0.696631  2.122573 -2.274579 -0.714429 -0.512922  \n",
              "2  0.977514 -0.696631  0.310912  0.976352 -0.714429 -0.512922  \n",
              "3  1.239897 -0.696631 -0.206705  0.976352 -0.714429 -0.512922  \n",
              "4  0.583939  1.435481 -0.379244  0.976352 -0.714429 -0.512922  "
            ],
            "text/html": [
              "\n",
              "  <div id=\"df-64b49f83-28a6-4c79-8388-f58e76ec54f7\">\n",
              "    <div class=\"colab-df-container\">\n",
              "      <div>\n",
              "<style scoped>\n",
              "    .dataframe tbody tr th:only-of-type {\n",
              "        vertical-align: middle;\n",
              "    }\n",
              "\n",
              "    .dataframe tbody tr th {\n",
              "        vertical-align: top;\n",
              "    }\n",
              "\n",
              "    .dataframe thead th {\n",
              "        text-align: right;\n",
              "    }\n",
              "</style>\n",
              "<table border=\"1\" class=\"dataframe\">\n",
              "  <thead>\n",
              "    <tr style=\"text-align: right;\">\n",
              "      <th></th>\n",
              "      <th>age</th>\n",
              "      <th>sex</th>\n",
              "      <th>cp</th>\n",
              "      <th>trtbps</th>\n",
              "      <th>chol</th>\n",
              "      <th>fbs</th>\n",
              "      <th>restecg</th>\n",
              "      <th>thalachh</th>\n",
              "      <th>exng</th>\n",
              "      <th>oldpeak</th>\n",
              "      <th>slp</th>\n",
              "      <th>caa</th>\n",
              "      <th>thall</th>\n",
              "    </tr>\n",
              "  </thead>\n",
              "  <tbody>\n",
              "    <tr>\n",
              "      <th>0</th>\n",
              "      <td>0.952197</td>\n",
              "      <td>0.681005</td>\n",
              "      <td>1.973123</td>\n",
              "      <td>0.763956</td>\n",
              "      <td>-0.256334</td>\n",
              "      <td>2.394438</td>\n",
              "      <td>-1.005832</td>\n",
              "      <td>0.015443</td>\n",
              "      <td>-0.696631</td>\n",
              "      <td>1.087338</td>\n",
              "      <td>-2.274579</td>\n",
              "      <td>-0.714429</td>\n",
              "      <td>-2.148873</td>\n",
              "    </tr>\n",
              "    <tr>\n",
              "      <th>1</th>\n",
              "      <td>-1.915313</td>\n",
              "      <td>0.681005</td>\n",
              "      <td>1.002577</td>\n",
              "      <td>-0.092738</td>\n",
              "      <td>0.072199</td>\n",
              "      <td>-0.417635</td>\n",
              "      <td>0.898962</td>\n",
              "      <td>1.633471</td>\n",
              "      <td>-0.696631</td>\n",
              "      <td>2.122573</td>\n",
              "      <td>-2.274579</td>\n",
              "      <td>-0.714429</td>\n",
              "      <td>-0.512922</td>\n",
              "    </tr>\n",
              "    <tr>\n",
              "      <th>2</th>\n",
              "      <td>-1.474158</td>\n",
              "      <td>-1.468418</td>\n",
              "      <td>0.032031</td>\n",
              "      <td>-0.092738</td>\n",
              "      <td>-0.816773</td>\n",
              "      <td>-0.417635</td>\n",
              "      <td>-1.005832</td>\n",
              "      <td>0.977514</td>\n",
              "      <td>-0.696631</td>\n",
              "      <td>0.310912</td>\n",
              "      <td>0.976352</td>\n",
              "      <td>-0.714429</td>\n",
              "      <td>-0.512922</td>\n",
              "    </tr>\n",
              "    <tr>\n",
              "      <th>3</th>\n",
              "      <td>0.180175</td>\n",
              "      <td>0.681005</td>\n",
              "      <td>0.032031</td>\n",
              "      <td>-0.663867</td>\n",
              "      <td>-0.198357</td>\n",
              "      <td>-0.417635</td>\n",
              "      <td>0.898962</td>\n",
              "      <td>1.239897</td>\n",
              "      <td>-0.696631</td>\n",
              "      <td>-0.206705</td>\n",
              "      <td>0.976352</td>\n",
              "      <td>-0.714429</td>\n",
              "      <td>-0.512922</td>\n",
              "    </tr>\n",
              "    <tr>\n",
              "      <th>4</th>\n",
              "      <td>0.290464</td>\n",
              "      <td>-1.468418</td>\n",
              "      <td>-0.938515</td>\n",
              "      <td>-0.663867</td>\n",
              "      <td>2.082050</td>\n",
              "      <td>-0.417635</td>\n",
              "      <td>0.898962</td>\n",
              "      <td>0.583939</td>\n",
              "      <td>1.435481</td>\n",
              "      <td>-0.379244</td>\n",
              "      <td>0.976352</td>\n",
              "      <td>-0.714429</td>\n",
              "      <td>-0.512922</td>\n",
              "    </tr>\n",
              "  </tbody>\n",
              "</table>\n",
              "</div>\n",
              "      <button class=\"colab-df-convert\" onclick=\"convertToInteractive('df-64b49f83-28a6-4c79-8388-f58e76ec54f7')\"\n",
              "              title=\"Convert this dataframe to an interactive table.\"\n",
              "              style=\"display:none;\">\n",
              "        \n",
              "  <svg xmlns=\"http://www.w3.org/2000/svg\" height=\"24px\"viewBox=\"0 0 24 24\"\n",
              "       width=\"24px\">\n",
              "    <path d=\"M0 0h24v24H0V0z\" fill=\"none\"/>\n",
              "    <path d=\"M18.56 5.44l.94 2.06.94-2.06 2.06-.94-2.06-.94-.94-2.06-.94 2.06-2.06.94zm-11 1L8.5 8.5l.94-2.06 2.06-.94-2.06-.94L8.5 2.5l-.94 2.06-2.06.94zm10 10l.94 2.06.94-2.06 2.06-.94-2.06-.94-.94-2.06-.94 2.06-2.06.94z\"/><path d=\"M17.41 7.96l-1.37-1.37c-.4-.4-.92-.59-1.43-.59-.52 0-1.04.2-1.43.59L10.3 9.45l-7.72 7.72c-.78.78-.78 2.05 0 2.83L4 21.41c.39.39.9.59 1.41.59.51 0 1.02-.2 1.41-.59l7.78-7.78 2.81-2.81c.8-.78.8-2.07 0-2.86zM5.41 20L4 18.59l7.72-7.72 1.47 1.35L5.41 20z\"/>\n",
              "  </svg>\n",
              "      </button>\n",
              "      \n",
              "  <style>\n",
              "    .colab-df-container {\n",
              "      display:flex;\n",
              "      flex-wrap:wrap;\n",
              "      gap: 12px;\n",
              "    }\n",
              "\n",
              "    .colab-df-convert {\n",
              "      background-color: #E8F0FE;\n",
              "      border: none;\n",
              "      border-radius: 50%;\n",
              "      cursor: pointer;\n",
              "      display: none;\n",
              "      fill: #1967D2;\n",
              "      height: 32px;\n",
              "      padding: 0 0 0 0;\n",
              "      width: 32px;\n",
              "    }\n",
              "\n",
              "    .colab-df-convert:hover {\n",
              "      background-color: #E2EBFA;\n",
              "      box-shadow: 0px 1px 2px rgba(60, 64, 67, 0.3), 0px 1px 3px 1px rgba(60, 64, 67, 0.15);\n",
              "      fill: #174EA6;\n",
              "    }\n",
              "\n",
              "    [theme=dark] .colab-df-convert {\n",
              "      background-color: #3B4455;\n",
              "      fill: #D2E3FC;\n",
              "    }\n",
              "\n",
              "    [theme=dark] .colab-df-convert:hover {\n",
              "      background-color: #434B5C;\n",
              "      box-shadow: 0px 1px 3px 1px rgba(0, 0, 0, 0.15);\n",
              "      filter: drop-shadow(0px 1px 2px rgba(0, 0, 0, 0.3));\n",
              "      fill: #FFFFFF;\n",
              "    }\n",
              "  </style>\n",
              "\n",
              "      <script>\n",
              "        const buttonEl =\n",
              "          document.querySelector('#df-64b49f83-28a6-4c79-8388-f58e76ec54f7 button.colab-df-convert');\n",
              "        buttonEl.style.display =\n",
              "          google.colab.kernel.accessAllowed ? 'block' : 'none';\n",
              "\n",
              "        async function convertToInteractive(key) {\n",
              "          const element = document.querySelector('#df-64b49f83-28a6-4c79-8388-f58e76ec54f7');\n",
              "          const dataTable =\n",
              "            await google.colab.kernel.invokeFunction('convertToInteractive',\n",
              "                                                     [key], {});\n",
              "          if (!dataTable) return;\n",
              "\n",
              "          const docLinkHtml = 'Like what you see? Visit the ' +\n",
              "            '<a target=\"_blank\" href=https://colab.research.google.com/notebooks/data_table.ipynb>data table notebook</a>'\n",
              "            + ' to learn more about interactive tables.';\n",
              "          element.innerHTML = '';\n",
              "          dataTable['output_type'] = 'display_data';\n",
              "          await google.colab.output.renderOutput(dataTable, element);\n",
              "          const docLink = document.createElement('div');\n",
              "          docLink.innerHTML = docLinkHtml;\n",
              "          element.appendChild(docLink);\n",
              "        }\n",
              "      </script>\n",
              "    </div>\n",
              "  </div>\n",
              "  "
            ]
          },
          "metadata": {},
          "execution_count": 40
        }
      ]
    }
  ]
}
