{
 "cells": [
  {
   "cell_type": "markdown",
   "metadata": {
    "id": "EDD2Xn7dm_Jd"
   },
   "source": [
    "# Feature Selection & Feature Engineering - Day 5"
   ]
  },
  {
   "cell_type": "markdown",
   "metadata": {
    "id": "7zI8XpsenEar"
   },
   "source": [
    "This notebook will cover fundamental methods used to develop ML algorithms, such as preparing data for a ML model (feature engineering)."
   ]
  },
  {
   "cell_type": "markdown",
   "metadata": {
    "id": "kkm3LpcfnXcn"
   },
   "source": [
    "**Topics:**\n",
    "\n",
    "\n",
    "1.   Feature Selection\n",
    "2.   Feature Engineering\n",
    "3.   Preparing Data\n",
    "\n"
   ]
  },
  {
   "cell_type": "markdown",
   "metadata": {
    "id": "gJQnvcrGnn7n"
   },
   "source": [
    "**Goals:**\n",
    "\n",
    "\n",
    "1.   Understand how to select important features for a ML algorithm\n",
    "2.   Understand how to clean data for a ML algorithm\n",
    "3.   Become familiar with common methods for preparing data to train a ML model\n",
    "\n"
   ]
  },
  {
   "cell_type": "markdown",
   "metadata": {
    "id": "gaSN1Lyfn6qX"
   },
   "source": [
    "## Import Packages"
   ]
  },
  {
   "cell_type": "markdown",
   "metadata": {
    "id": "oEW1RxJTpK35"
   },
   "source": [
    "The first thing we do at the beginning of any script."
   ]
  },
  {
   "cell_type": "markdown",
   "metadata": {
    "id": "rtrGbEploAFC"
   },
   "source": [
    "\n",
    "\n",
    "1.   **Pandas:** Working with datasets. Arguably the most widely-used data-science Python package.\n",
    "2.   **NumPy:** Scientific computing package for working with vectors & matrices. \n",
    "3. **MatplotLib:** Tool for dataset vizualizations.\n",
    "4. **Sci-Kit Learn:** Open-source ML algorithms."
   ]
  },
  {
   "cell_type": "code",
   "execution_count": 1,
   "metadata": {
    "executionInfo": {
     "elapsed": 235,
     "status": "ok",
     "timestamp": 1660158040293,
     "user": {
      "displayName": "Joe Sasson",
      "userId": "10050313654265167494"
     },
     "user_tz": 240
    },
    "id": "PmzI3fH4m2Pl"
   },
   "outputs": [],
   "source": [
    "from sklearn.model_selection import train_test_split\n",
    "import pandas as pd, numpy as np, matplotlib.pyplot as plt\n",
    "from sklearn.preprocessing import LabelEncoder, StandardScaler\n",
    "from sklearn.impute import SimpleImputer"
   ]
  },
  {
   "cell_type": "markdown",
   "metadata": {
    "id": "Nr6yOCCDpgKw"
   },
   "source": [
    "## Feature Selection & Feature Engineering"
   ]
  },
  {
   "cell_type": "markdown",
   "metadata": {
    "id": "DUwclzqWpi8Z"
   },
   "source": [
    "In this section we will cover how to prepare a dataset for a ML model."
   ]
  },
  {
   "cell_type": "markdown",
   "metadata": {
    "id": "qB9iKmLzzWJh"
   },
   "source": [
    "Note - it is called data \"science\" for a reason. Each use-case can benefit from different methods and implementations, it is the job of the data scientist to experiment with these options and choose the best one. "
   ]
  },
  {
   "cell_type": "markdown",
   "metadata": {
    "id": "r9tSofsMzic-"
   },
   "source": [
    "Here we will be going over common methods utilized for feature selection & engineering."
   ]
  },
  {
   "cell_type": "markdown",
   "metadata": {
    "id": "wX_O88ugy0yq"
   },
   "source": [
    "#### **Feature Selection**"
   ]
  },
  {
   "cell_type": "markdown",
   "metadata": {
    "id": "joTIUMu4y7Xz"
   },
   "source": [
    "Feature selection is the process of selecting and removing features from the dataset, so that the ML model can learn in an optimal manner."
   ]
  },
  {
   "cell_type": "markdown",
   "metadata": {
    "id": "wfEg0bfjwj78"
   },
   "source": [
    "**Read-in Dataset**"
   ]
  },
  {
   "cell_type": "code",
   "execution_count": 1,
   "metadata": {
    "colab": {
     "base_uri": "https://localhost:8080/",
     "height": 206
    },
    "executionInfo": {
     "elapsed": 179,
     "status": "ok",
     "timestamp": 1660158833726,
     "user": {
      "displayName": "Joe Sasson",
      "userId": "10050313654265167494"
     },
     "user_tz": 240
    },
    "id": "hRblaH-FpUYN",
    "outputId": "4dcf35ef-3c32-4ef6-bb4d-8779e5224a34"
   },
   "outputs": [],
   "source": [
    "# Read-in heart csv, show head\n",
    "## TODO: YOUR CODE HERE ##"
   ]
  },
  {
   "cell_type": "markdown",
   "metadata": {
    "id": "TUxTt1N4wn86"
   },
   "source": [
    "**Split data into X & y. (features & target)**"
   ]
  },
  {
   "cell_type": "code",
   "execution_count": 2,
   "metadata": {
    "colab": {
     "base_uri": "https://localhost:8080/"
    },
    "executionInfo": {
     "elapsed": 160,
     "status": "ok",
     "timestamp": 1660158849430,
     "user": {
      "displayName": "Joe Sasson",
      "userId": "10050313654265167494"
     },
     "user_tz": 240
    },
    "id": "-lwjjugIvT-q",
    "outputId": "6d6ad79b-33a8-4ef4-a745-9a921935b559"
   },
   "outputs": [],
   "source": [
    "# Split into features/target\n",
    "## TODO: YOUR CODE HERE ##"
   ]
  },
  {
   "cell_type": "markdown",
   "metadata": {
    "id": "YtzThg4JwtnI"
   },
   "source": [
    "**Examine null values in each feature**"
   ]
  },
  {
   "cell_type": "code",
   "execution_count": 3,
   "metadata": {
    "colab": {
     "base_uri": "https://localhost:8080/"
    },
    "executionInfo": {
     "elapsed": 198,
     "status": "ok",
     "timestamp": 1660151788304,
     "user": {
      "displayName": "Joe Sasson",
      "userId": "10050313654265167494"
     },
     "user_tz": 240
    },
    "id": "gF68XPzCrv27",
    "outputId": "7ae05253-9887-4adf-f7e4-ee39a1beb880"
   },
   "outputs": [],
   "source": [
    "# Check for null values\n",
    "## TODO: YOUR CODE HERE ##"
   ]
  },
  {
   "cell_type": "markdown",
   "metadata": {
    "id": "77fjrtoowxyh"
   },
   "source": [
    "**Examine Cardinality.** \n",
    "\n",
    "This is an important concept - how many unique values in a particular feature?\n",
    "\n",
    "This is called *Cardinality*"
   ]
  },
  {
   "cell_type": "code",
   "execution_count": 4,
   "metadata": {
    "colab": {
     "base_uri": "https://localhost:8080/"
    },
    "executionInfo": {
     "elapsed": 160,
     "status": "ok",
     "timestamp": 1660151792828,
     "user": {
      "displayName": "Joe Sasson",
      "userId": "10050313654265167494"
     },
     "user_tz": 240
    },
    "id": "uRl91g0Yutm3",
    "outputId": "c68d7250-23c8-4792-8bf5-c27c6e4d14dc"
   },
   "outputs": [],
   "source": [
    "# Check cardinality\n",
    "def show_cardinality(frame):\n",
    "    \"\"\"\n",
    "    This function calculates the cardinality\n",
    "    of each feature and prints it\n",
    "    \n",
    "    Args:\n",
    "        - 'frame': pd.DataFrame\n",
    "    \"\"\"\n",
    "    ## TODO: YOUR CODE HERE ##\n",
    "\n",
    "show_cardinality(X)"
   ]
  },
  {
   "cell_type": "markdown",
   "metadata": {
    "id": "iDN_hzPh0lBt"
   },
   "source": [
    "**Perform Feature Selection**"
   ]
  },
  {
   "cell_type": "markdown",
   "metadata": {
    "id": "d2L0GYjh0pyj"
   },
   "source": [
    "Now we will define a function to remove features that have any one of the following attributes to be true:\n",
    "\n",
    "\n",
    "*   Cardinality above 85% (extremely high amount of unique values)\n",
    "*   Cardinality below 0.1% (basically every value is the same)\n",
    "*   Null value count above 60% (most values are null)\n",
    "\n"
   ]
  },
  {
   "cell_type": "code",
   "execution_count": 5,
   "metadata": {
    "colab": {
     "base_uri": "https://localhost:8080/"
    },
    "executionInfo": {
     "elapsed": 217,
     "status": "ok",
     "timestamp": 1660158856195,
     "user": {
      "displayName": "Joe Sasson",
      "userId": "10050313654265167494"
     },
     "user_tz": 240
    },
    "id": "HwIeBLojvnJS",
    "outputId": "fa766750-4dad-4a39-f0d1-034c2d747457"
   },
   "outputs": [],
   "source": [
    "def feature_selection(data, features):\n",
    "    \"\"\"\n",
    "    This function drops features with high cardinality\n",
    "\n",
    "    Params:\n",
    "      -- 'data': pd.DataFrame\n",
    "      -- 'features': list[str]\n",
    "      \n",
    "    Returns:\n",
    "      -- list of selected features \n",
    "    \"\"\"\n",
    "\n",
    "    ## TODO: YOUR CODE HERE ##\n",
    "\n",
    "    \n",
    "# Calling functions - do not edit!\n",
    "good_features = feature_selection(X, features)\n",
    "print('Removed Features: ', [i for i in features if i not in good_features])\n",
    "print(good_features)"
   ]
  },
  {
   "cell_type": "markdown",
   "metadata": {
    "id": "pJipb5wT5NJ8"
   },
   "source": [
    "#### **Feature Engineering**"
   ]
  },
  {
   "cell_type": "markdown",
   "metadata": {
    "id": "eYslkmPE5XPq"
   },
   "source": [
    "Feature engineering is the process of cleaning selected features for the model.\n",
    "\n",
    "We want to scale & normalize numerical data, as well as numerically encode categorical features so they can be normalized & scaled."
   ]
  },
  {
   "cell_type": "markdown",
   "metadata": {
    "id": "Ka6y6qm-6bef"
   },
   "source": [
    "**Common steps (in order):**\n",
    "\n",
    "\n",
    "1.   Impute null values\n",
    "2.   Numerically encode categorical features\n",
    "3.   Scale & normalize numeric features (they are all numbers at this point)\n",
    "\n"
   ]
  },
  {
   "cell_type": "markdown",
   "metadata": {
    "id": "VeWpLVyr6wPq"
   },
   "source": [
    "\n",
    "\n",
    "**1.   Impute Null Values**\n",
    "\n"
   ]
  },
  {
   "cell_type": "markdown",
   "metadata": {
    "id": "p3OzGMrl_l2I"
   },
   "source": [
    "\n",
    "\n",
    "*   For numerical data we will replace null values with the mean of the feature\n",
    "*   For categorical data we will replace the null values with the most freqeuent value\n",
    "\n",
    "These are very basic ways to impute a feature. Much more complex methods exist.\n",
    "\n"
   ]
  },
  {
   "cell_type": "code",
   "execution_count": 6,
   "metadata": {
    "colab": {
     "base_uri": "https://localhost:8080/"
    },
    "executionInfo": {
     "elapsed": 160,
     "status": "ok",
     "timestamp": 1660155065476,
     "user": {
      "displayName": "Joe Sasson",
      "userId": "10050313654265167494"
     },
     "user_tz": 240
    },
    "id": "LFwFRX1u5MMZ",
    "outputId": "5d265fea-fdf0-40c3-e231-e7eacf160feb"
   },
   "outputs": [],
   "source": [
    "# Impute a series\n",
    "## TODO: YOUR CODE HERE ##"
   ]
  },
  {
   "cell_type": "markdown",
   "metadata": {
    "id": "grXONsSR62Xv"
   },
   "source": [
    "\n",
    "\n",
    "**2.   Encode Categorical Data**\n",
    "\n"
   ]
  },
  {
   "cell_type": "markdown",
   "metadata": {
    "id": "0s21v7uu_2fL"
   },
   "source": [
    "\n",
    "\n",
    "*   Each unique value is assigned a number 1 through the length of unique values\n",
    "\n"
   ]
  },
  {
   "cell_type": "code",
   "execution_count": 7,
   "metadata": {
    "colab": {
     "base_uri": "https://localhost:8080/"
    },
    "executionInfo": {
     "elapsed": 225,
     "status": "ok",
     "timestamp": 1660155393077,
     "user": {
      "displayName": "Joe Sasson",
      "userId": "10050313654265167494"
     },
     "user_tz": 240
    },
    "id": "WEbNfSDD689X",
    "outputId": "47709115-768e-414a-9b78-78f84e571d24"
   },
   "outputs": [],
   "source": [
    "# Step 1: Impute categorical feature\n",
    "## TODO: YOUR CODE HERE ##\n",
    "\n",
    "# Step 2: Encode the imputed feature\n",
    "## TODO: YOUR CODE HERE ##\n",
    "\n",
    "# Step 3: Print\n",
    "## TODO: YOUR CODE HERE ##"
   ]
  },
  {
   "cell_type": "markdown",
   "metadata": {
    "id": "Cv4_RC_z-gmf"
   },
   "source": [
    "\n",
    "\n",
    "\n",
    "**3.   Scale & Normalize Data**\n",
    "\n"
   ]
  },
  {
   "cell_type": "markdown",
   "metadata": {
    "id": "g_xqMyrq_-_8"
   },
   "source": [
    "\n",
    "\n",
    "*   Will normalize a feature so the standard deviation is 1 and the mean is 0. This is also known as a 'Z-Score'\n",
    "*   Each new value tells us how many standard deviations the original value was from the mean\n",
    "\n",
    "\n",
    "\n"
   ]
  },
  {
   "cell_type": "code",
   "execution_count": 8,
   "metadata": {
    "colab": {
     "base_uri": "https://localhost:8080/"
    },
    "executionInfo": {
     "elapsed": 152,
     "status": "ok",
     "timestamp": 1660155670298,
     "user": {
      "displayName": "Joe Sasson",
      "userId": "10050313654265167494"
     },
     "user_tz": 240
    },
    "id": "y6kS2bWW-mqf",
    "outputId": "599cf847-58a8-4155-9b93-fdb63a747b40"
   },
   "outputs": [],
   "source": [
    "# Scale a numerical feature\n",
    "## TODO: YOUR CODE HERE ##"
   ]
  },
  {
   "cell_type": "markdown",
   "metadata": {
    "id": "vZmfBDpSAbAI"
   },
   "source": [
    "**Perform Feature Engineering**"
   ]
  },
  {
   "cell_type": "markdown",
   "metadata": {
    "id": "ZbUQNmN7A3Nl"
   },
   "source": [
    "Now we will define a function that will:\n",
    "\n",
    "\n",
    "1.   Impute numerical values with the mean of that feature\n",
    "2.   Impute categorical features with the most frequent value\n",
    "3.   Encode categorical features to be numeric\n",
    "4.   Scale & normalize the remaining data\n",
    "\n"
   ]
  },
  {
   "cell_type": "code",
   "execution_count": 9,
   "metadata": {
    "executionInfo": {
     "elapsed": 152,
     "status": "ok",
     "timestamp": 1660158888736,
     "user": {
      "displayName": "Joe Sasson",
      "userId": "10050313654265167494"
     },
     "user_tz": 240
    },
    "id": "1tFOJhrYAc_6"
   },
   "outputs": [],
   "source": [
    "def clean_dataset(frame, features):\n",
    "    \"\"\"\n",
    "    This function performs feature engineering on a dataframe\n",
    "\n",
    "    1. Imputing\n",
    "    2. Encoding\n",
    "    3. Scaling\n",
    "\n",
    "    Params:\n",
    "      -- 'data': pd.DataFrame\n",
    "      -- 'features': list[str]\n",
    "      \n",
    "    Returns:\n",
    "      -- 'data': pd.DataFrame\n",
    "    \"\"\"\n",
    "\n",
    "    ## TODO: YOUR CODE HERE ##\n",
    "\n",
    "X_clean = clean_dataset(frame=X, features=good_features)"
   ]
  },
  {
   "cell_type": "code",
   "execution_count": 10,
   "metadata": {
    "colab": {
     "base_uri": "https://localhost:8080/",
     "height": 241
    },
    "executionInfo": {
     "elapsed": 189,
     "status": "ok",
     "timestamp": 1660158894268,
     "user": {
      "displayName": "Joe Sasson",
      "userId": "10050313654265167494"
     },
     "user_tz": 240
    },
    "id": "j0CpPVX0CReO",
    "outputId": "34065799-5bbb-45ab-801a-9da1addcd599"
   },
   "outputs": [],
   "source": [
    "print('ORIGINAL')\n",
    "print()\n",
    "X.head()"
   ]
  },
  {
   "cell_type": "code",
   "execution_count": 11,
   "metadata": {
    "colab": {
     "base_uri": "https://localhost:8080/",
     "height": 241
    },
    "executionInfo": {
     "elapsed": 171,
     "status": "ok",
     "timestamp": 1660158896334,
     "user": {
      "displayName": "Joe Sasson",
      "userId": "10050313654265167494"
     },
     "user_tz": 240
    },
    "id": "G55HXOv4CweK",
    "outputId": "6428aef4-3f61-429b-ddf7-fd0d631b1ce3"
   },
   "outputs": [],
   "source": [
    "print('CLEANED')\n",
    "print()\n",
    "X_clean.head()"
   ]
  },
  {
   "cell_type": "markdown",
   "metadata": {
    "id": "9hBzEkI_IMdU"
   },
   "source": [
    "## Prepare Dataset For Training"
   ]
  },
  {
   "cell_type": "markdown",
   "metadata": {
    "id": "qsvpn0AbIj0_"
   },
   "source": [
    "This section will walk-through setting up a pipeline for your dataset. Ensuring the code is reproducible across any tabular dataset."
   ]
  },
  {
   "cell_type": "markdown",
   "metadata": {
    "id": "lDXWRu15I0vH"
   },
   "source": [
    "**Steps:**\n",
    "\n",
    "\n",
    "1.   Create function to read-in data\n",
    "2.   Create function to split data into X/y\n",
    "3.   Create function for feature selection (one from above)\n",
    "4.   Use Sci-Kit Learn 'train_test_split' to split data for train/test and ensure no \"data-leakage\"\n",
    "5.   Create function(s) for feature engineering"
   ]
  },
  {
   "cell_type": "markdown",
   "metadata": {},
   "source": [
    "**Important** - We need to perform feature engineering on the train & test sets separately, but use the same Imputer, Encoder, & Scaler. \n",
    "\n",
    "To do this we will create a dictionary with the feature and the object that was used."
   ]
  },
  {
   "cell_type": "markdown",
   "metadata": {
    "id": "Gl52wqLbKKh-"
   },
   "source": [
    "**Steps 1-4:**"
   ]
  },
  {
   "cell_type": "code",
   "execution_count": 14,
   "metadata": {
    "executionInfo": {
     "elapsed": 297,
     "status": "ok",
     "timestamp": 1660158908953,
     "user": {
      "displayName": "Joe Sasson",
      "userId": "10050313654265167494"
     },
     "user_tz": 240
    },
    "id": "HGAcsEbNIQDI"
   },
   "outputs": [],
   "source": [
    "## read in dataset\n",
    "def read_dataframe(path):\n",
    "    ## TODO: YOUR CODE HERE ##\n",
    "    pass\n",
    "    \n",
    "## split into X/y\n",
    "def split_X_y(dataframe, target_col):\n",
    "    ## TODO: YOUR CODE HERE ##\n",
    "    pass\n",
    "\n",
    "\n",
    "\n",
    "# Step 1: Read-in heart dataset\n",
    "df = read_dataframe('https://raw.githubusercontent.com/j0sephsasson/Pepsi-Training-Course/main/datasets/heart.csv')\n",
    "\n",
    "# Step 2: call split_X_y function\n",
    "X, y = split_X_y(df, 'output')\n",
    "\n",
    "# Step 3: Feature Selection on X\n",
    "good_features = feature_selection(X, list(X.columns))\n",
    "X = X[good_features].copy()\n",
    "\n",
    "## Step 4: train_test_split (sklearn)\n",
    "X_train, X_test, y_train, y_test = train_test_split(X, y, test_size=0.2)"
   ]
  },
  {
   "cell_type": "markdown",
   "metadata": {
    "id": "jfpgTtDcKhry"
   },
   "source": [
    "**Step 5:**"
   ]
  },
  {
   "cell_type": "code",
   "execution_count": 28,
   "metadata": {},
   "outputs": [],
   "source": [
    "# Feature Engineering - Part 1\n",
    "\n",
    "def create_and_fit_objects(data, features):\n",
    "    \"\"\"\n",
    "    This function fits the feature engineering objects to the training set\n",
    "    \n",
    "    Args:\n",
    "        -- 'data': pd.DataFrame\n",
    "        -- 'features': list[str]\n",
    "        \n",
    "    Returns:\n",
    "        -- 'd': dictionary\n",
    "    \"\"\"\n",
    "    \n",
    "    d = {}\n",
    "    \n",
    "    for col in features:\n",
    "            \n",
    "        # if we have category use most frequent\n",
    "        if data[col].dtypes == 'O':\n",
    "            imputer = SimpleImputer(strategy='most_frequent')\n",
    "            imputer.fit(data[col].values.reshape(-1, 1))\n",
    "            d[col] = [imputer]\n",
    "            \n",
    "        # if we have number use mean\n",
    "        elif data[col].dtypes == 'int64' or data[col].dtypes == 'float64':\n",
    "            imputer = SimpleImputer(strategy='mean')\n",
    "            imputer.fit(data[col].values.reshape(-1, 1))\n",
    "            d[col] = [imputer]\n",
    "            \n",
    "    ## encode categorical features ##\n",
    "    for col in features:\n",
    "        if data[col].dtypes == 'O':\n",
    "            enc = LabelEncoder()\n",
    "            enc.fit(data[col])\n",
    "            d[col].append(enc)\n",
    "        \n",
    "    ## scale numercial features ##\n",
    "    for col in features:\n",
    "        if data[col].dtypes == 'int64' or data[col].dtypes == 'float64':\n",
    "            scaler = StandardScaler()\n",
    "            scaler.fit(data[col].values.reshape(-1, 1))\n",
    "            d[col].append(scaler)\n",
    "            \n",
    "    return d"
   ]
  },
  {
   "cell_type": "code",
   "execution_count": 29,
   "metadata": {},
   "outputs": [],
   "source": [
    "# Feature Engineering - Part 2\n",
    "\n",
    "def clean_dataset(frame, features, object_dict):\n",
    "    \"\"\"\n",
    "    This function performs feature engineering on a dataframe\n",
    "\n",
    "    1. Imputing\n",
    "    2. Encoding\n",
    "    3. Scaling\n",
    "\n",
    "    Params:\n",
    "      -- 'data': pd.DataFrame\n",
    "      -- 'features': list[str]\n",
    "      -- 'object_dict': dictionary\n",
    "      \n",
    "    Returns:\n",
    "      -- 'data': pd.DataFrame\n",
    "    \"\"\"\n",
    "\n",
    "    data = frame.copy()\n",
    "\n",
    "    # Perform feature engineering\n",
    "    for col in features:\n",
    "        for idx in range(0, len(object_dict[col])):\n",
    "            data[col] = object_dict[col][idx].transform(data[col].values.reshape(-1, 1))\n",
    "\n",
    "    return data"
   ]
  },
  {
   "cell_type": "code",
   "execution_count": 30,
   "metadata": {},
   "outputs": [],
   "source": [
    "d = create_and_fit_objects(X_train, good_features)\n",
    "\n",
    "X_train_clean = clean_dataset(X_train, good_features, d)\n",
    "X_test_clean = clean_dataset(X_test, good_features, d)"
   ]
  },
  {
   "cell_type": "code",
   "execution_count": 15,
   "metadata": {
    "colab": {
     "base_uri": "https://localhost:8080/",
     "height": 206
    },
    "executionInfo": {
     "elapsed": 156,
     "status": "ok",
     "timestamp": 1660159024267,
     "user": {
      "displayName": "Joe Sasson",
      "userId": "10050313654265167494"
     },
     "user_tz": 240
    },
    "id": "8Loh_727LtJY",
    "outputId": "088bd4ba-79c5-4fde-97cb-1d8918de2f97"
   },
   "outputs": [],
   "source": [
    "X_train_clean.head()"
   ]
  },
  {
   "cell_type": "code",
   "execution_count": 16,
   "metadata": {
    "colab": {
     "base_uri": "https://localhost:8080/",
     "height": 206
    },
    "executionInfo": {
     "elapsed": 409,
     "status": "ok",
     "timestamp": 1660159029328,
     "user": {
      "displayName": "Joe Sasson",
      "userId": "10050313654265167494"
     },
     "user_tz": 240
    },
    "id": "y1QyuLlLMFqu",
    "outputId": "c55c4b54-a289-4931-9e41-6b4947864636"
   },
   "outputs": [],
   "source": [
    "X_test_clean.head()"
   ]
  },
  {
   "cell_type": "code",
   "execution_count": 17,
   "metadata": {
    "colab": {
     "base_uri": "https://localhost:8080/"
    },
    "executionInfo": {
     "elapsed": 151,
     "status": "ok",
     "timestamp": 1660159147940,
     "user": {
      "displayName": "Joe Sasson",
      "userId": "10050313654265167494"
     },
     "user_tz": 240
    },
    "id": "g3JIEnk6MjAl",
    "outputId": "6fd6f128-c849-4e5e-ec8e-da7571cda58c"
   },
   "outputs": [],
   "source": [
    "y_train.head()"
   ]
  },
  {
   "cell_type": "code",
   "execution_count": 18,
   "metadata": {
    "colab": {
     "base_uri": "https://localhost:8080/"
    },
    "executionInfo": {
     "elapsed": 219,
     "status": "ok",
     "timestamp": 1660159159133,
     "user": {
      "displayName": "Joe Sasson",
      "userId": "10050313654265167494"
     },
     "user_tz": 240
    },
    "id": "qat5aByLMlP_",
    "outputId": "74b6fb03-efa4-4091-e86c-9fedf6fe9e49"
   },
   "outputs": [],
   "source": [
    "y_test.head()"
   ]
  },
  {
   "cell_type": "markdown",
   "metadata": {
    "id": "t2ajuGOJMiQK"
   },
   "source": [
    "## Conclusion"
   ]
  },
  {
   "cell_type": "markdown",
   "metadata": {
    "id": "8ljq3IcmMzEx"
   },
   "source": [
    "**Question 1**\n",
    "\n",
    "What is cardinality?"
   ]
  },
  {
   "cell_type": "markdown",
   "metadata": {
    "id": "Mb4VM66eN_gh"
   },
   "source": [
    "\n",
    "\n",
    "1.   The number of null values in a feature\n",
    "2.   The number of unique values in a feature\n",
    "3.   The length of a feature\n",
    "\n"
   ]
  },
  {
   "cell_type": "markdown",
   "metadata": {
    "id": "Gb2JoOe_M8iY"
   },
   "source": [
    "**Question 2**\n",
    "\n",
    "Is high cardinality good or bad?"
   ]
  },
  {
   "cell_type": "markdown",
   "metadata": {
    "id": "75D1eyFqOXlt"
   },
   "source": [
    "\n",
    "\n",
    "1.   Good thing\n",
    "2.   Bad thing\n",
    "\n"
   ]
  },
  {
   "cell_type": "markdown",
   "metadata": {
    "id": "VytaremiNG2x"
   },
   "source": [
    "**Question 3**\n",
    "\n",
    "Which of the following is a common method for dealing with null values?"
   ]
  },
  {
   "cell_type": "markdown",
   "metadata": {
    "id": "KOT3NjCkOTFh"
   },
   "source": [
    "\n",
    "\n",
    "1.   Imputing\n",
    "2.   Scaling\n",
    "3.   Encoding\n",
    "\n"
   ]
  },
  {
   "cell_type": "markdown",
   "metadata": {
    "id": "e4yKALzONW5p"
   },
   "source": [
    "**Question 4**\n",
    "\n",
    "Which of the following is a common method for normalizing numerical data?"
   ]
  },
  {
   "cell_type": "markdown",
   "metadata": {
    "id": "Sz6Nz33WOask"
   },
   "source": [
    "\n",
    "\n",
    "1.   Using a Z-Score formula\n",
    "2.   Removing numbers over a certain limit\n",
    "3.   Adding 3 to each number\n",
    "\n"
   ]
  },
  {
   "cell_type": "markdown",
   "metadata": {
    "id": "Of-oQzsdNd2P"
   },
   "source": [
    "**Question 5 - Bonus!**\n",
    "\n",
    "What is the output shape of multiplying two matrices (A * B), where:\n",
    "\n",
    "Shape A = (2,2)\n",
    "\n",
    "Shape B = (2,6)"
   ]
  },
  {
   "cell_type": "markdown",
   "metadata": {
    "id": "AbyMGFw5Om_m"
   },
   "source": [
    "\n",
    "\n",
    "1.   (2,4)\n",
    "2.   (4,2)\n",
    "3.   (2,6)\n",
    "\n"
   ]
  }
 ],
 "metadata": {
  "colab": {
   "authorship_tag": "ABX9TyPpLDFxq4VbiMfI47H9O6uZ",
   "collapsed_sections": [],
   "name": "Feature Selection & Feature Engineering - Day 4.ipynb",
   "provenance": []
  },
  "kernelspec": {
   "display_name": "Python 3",
   "language": "python",
   "name": "python3"
  },
  "language_info": {
   "codemirror_mode": {
    "name": "ipython",
    "version": 3
   },
   "file_extension": ".py",
   "mimetype": "text/x-python",
   "name": "python",
   "nbconvert_exporter": "python",
   "pygments_lexer": "ipython3",
   "version": "3.7.7"
  }
 },
 "nbformat": 4,
 "nbformat_minor": 1
}
