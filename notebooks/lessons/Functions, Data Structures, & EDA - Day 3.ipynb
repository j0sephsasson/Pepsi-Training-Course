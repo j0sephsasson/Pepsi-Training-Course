{
 "cells": [
  {
   "cell_type": "markdown",
   "metadata": {
    "id": "aOxa-JPW3fg_"
   },
   "source": [
    "# Exploratory Data Analysis (EDA) - Day 3"
   ]
  },
  {
   "cell_type": "markdown",
   "metadata": {
    "id": "letIXgXE35Ge"
   },
   "source": [
    "This notebook will cover the fundamental data-types in a dataset, and take a deep-dive into understanding the components of a dataset."
   ]
  },
  {
   "cell_type": "markdown",
   "metadata": {
    "id": "VxFFDYdy4MwN"
   },
   "source": [
    "#### **Topics:**\n",
    "\n",
    "\n",
    "1.   Data Structures & Basic Functions \n",
    "2.   Intermediate Functions\n",
    "3.   Read-in Data\n",
    "4.   Explore Dataset Features & Target\n",
    "5.   Conclusion\n"
   ]
  },
  {
   "cell_type": "markdown",
   "metadata": {
    "id": "Vwoy_HI25JU8"
   },
   "source": [
    "#### **Goals:**\n",
    "\n",
    "\n",
    "1.   Understand Data Structures in Python\n",
    "2.   Define Functions in Python\n",
    "3.   Read-in a Dataset with Python\n",
    "4.   Understand The Components of a Dataset\n",
    "5.   Examine Datasets with Python\n",
    "\n"
   ]
  },
  {
   "cell_type": "markdown",
   "metadata": {
    "id": "z2NlC_AI6K3V"
   },
   "source": [
    "## Import Open-Source Packages"
   ]
  },
  {
   "cell_type": "markdown",
   "metadata": {
    "id": "LMGa35tq7iFm"
   },
   "source": [
    "This is something you will do at the beginning of every script. Import your open-source (or local) code."
   ]
  },
  {
   "cell_type": "markdown",
   "metadata": {
    "id": "I59_F4nt6RzW"
   },
   "source": [
    "\n",
    "\n",
    "1.   **Pandas:** Working with datasets. Arguably the most widely-used data-science Python package.\n",
    "2.   **NumPy:** Scientific computing package for working with vectors & matrices. \n",
    "3. **MatplotLib:** Tool for dataset vizualizations.\n",
    "4. **Seaborn:** Tool for dataset visualizations.\n",
    "\n"
   ]
  },
  {
   "cell_type": "code",
   "execution_count": null,
   "metadata": {
    "id": "Lqck1s4J3UVh"
   },
   "outputs": [],
   "source": [
    "import pandas as pd, numpy as np, matplotlib.pyplot as plt, seaborn as sns"
   ]
  },
  {
   "cell_type": "markdown",
   "metadata": {
    "id": "nChIYDsg7J1s"
   },
   "source": [
    "## Basic Functions & Data Structures"
   ]
  },
  {
   "cell_type": "markdown",
   "metadata": {
    "id": "TyElIS9pBzIU"
   },
   "source": [
    "### Data Structures"
   ]
  },
  {
   "cell_type": "markdown",
   "metadata": {
    "id": "a-9Xo-UTKPIk"
   },
   "source": [
    "In this section we will identify and work with basic data structures."
   ]
  },
  {
   "cell_type": "markdown",
   "metadata": {
    "id": "7d8RD6J48ae6"
   },
   "source": [
    "**Common Data Structures:**\n",
    "\n",
    "\n",
    "1.   **Integer:** 1\n",
    "2.   **Float:** 1.0\n",
    "3.   **String:** 'hello'\n",
    "4.   **List:** [1,2,2,4,5]\n",
    "5.   **Set:** (1,2,3,4,5)\n",
    "6.   **Tuple:** (1,12)\n",
    "7.   **Dictionary:** {'key':value}\n",
    "\n",
    "\n"
   ]
  },
  {
   "cell_type": "code",
   "execution_count": 1,
   "metadata": {
    "colab": {
     "base_uri": "https://localhost:8080/"
    },
    "executionInfo": {
     "elapsed": 161,
     "status": "ok",
     "timestamp": 1660060639836,
     "user": {
      "displayName": "Joe Sasson",
      "userId": "10050313654265167494"
     },
     "user_tz": 240
    },
    "id": "sR83v7T76_8p",
    "outputId": "1da83530-aeaf-4608-9ca4-e1b6e568f218"
   },
   "outputs": [],
   "source": [
    "# Declaring variables\n",
    "\n",
    "## TODO: YOUR CODE HERE ##"
   ]
  },
  {
   "cell_type": "code",
   "execution_count": 2,
   "metadata": {
    "colab": {
     "base_uri": "https://localhost:8080/"
    },
    "executionInfo": {
     "elapsed": 132,
     "status": "ok",
     "timestamp": 1660060701130,
     "user": {
      "displayName": "Joe Sasson",
      "userId": "10050313654265167494"
     },
     "user_tz": 240
    },
    "id": "RqdFx5Jp9YwR",
    "outputId": "30daf2de-df30-4ded-95dc-4136fc830a55"
   },
   "outputs": [],
   "source": [
    "# Accessing Elements\n",
    "## We use indexing, & Python indexing starts at 0\n",
    "\n",
    "## TODO: YOUR CODE HERE ##"
   ]
  },
  {
   "cell_type": "code",
   "execution_count": 3,
   "metadata": {
    "colab": {
     "base_uri": "https://localhost:8080/"
    },
    "executionInfo": {
     "elapsed": 8,
     "status": "ok",
     "timestamp": 1659988236128,
     "user": {
      "displayName": "Joe Sasson",
      "userId": "10050313654265167494"
     },
     "user_tz": 240
    },
    "id": "5iVakkCK-sOs",
    "outputId": "bb4a260f-6d15-41ba-d761-1a0f72d3c3a0"
   },
   "outputs": [],
   "source": [
    "# Accessing Dictionary Elements\n",
    "## We use the key to access the value\n",
    "\n",
    "## TODO: YOUR CODE HERE ##"
   ]
  },
  {
   "cell_type": "code",
   "execution_count": 4,
   "metadata": {
    "colab": {
     "base_uri": "https://localhost:8080/"
    },
    "executionInfo": {
     "elapsed": 296,
     "status": "ok",
     "timestamp": 1659988532460,
     "user": {
      "displayName": "Joe Sasson",
      "userId": "10050313654265167494"
     },
     "user_tz": 240
    },
    "id": "6613rnZJAuNJ",
    "outputId": "58bc6fa4-b114-4b93-9eb7-c20bf3ce848c"
   },
   "outputs": [],
   "source": [
    "# Creating Arrays (vectors)\n",
    "## TODO: YOUR CODE HERE ##\n",
    "\n",
    "# Creating Matrices\n",
    "## TODO: YOUR CODE HERE ##\n",
    "\n",
    "# Print array, type, shape\n",
    "## TODO: YOUR CODE HERE ##"
   ]
  },
  {
   "cell_type": "markdown",
   "metadata": {
    "id": "NZ1XIIDR2gZK"
   },
   "source": [
    "### Object Methods"
   ]
  },
  {
   "cell_type": "markdown",
   "metadata": {
    "id": "iaNhT9eg2lRB"
   },
   "source": [
    "Notice above, when we printed the type of each variable. They are each a class. In object-oriented-programming (OOP), **classes have functions called methods.**"
   ]
  },
  {
   "cell_type": "code",
   "execution_count": null,
   "metadata": {
    "id": "Yc6N--C123wl"
   },
   "outputs": [],
   "source": [
    "# List methods\n",
    "## TODO: YOUR CODE HERE ##\n",
    "\n",
    "# Set methods\n",
    "## TODO: YOUR CODE HERE ##\n",
    "\n",
    "# Dict methods\n",
    "## TODO: YOUR CODE HERE ##"
   ]
  },
  {
   "cell_type": "markdown",
   "metadata": {
    "id": "wdKL6WWiB37y"
   },
   "source": [
    "### Functions"
   ]
  },
  {
   "cell_type": "markdown",
   "metadata": {
    "id": "IDebM-TjKUDG"
   },
   "source": [
    "In this section we will define and call basic functions."
   ]
  },
  {
   "cell_type": "markdown",
   "metadata": {
    "id": "TaNSCwyoHQvW"
   },
   "source": [
    "**Components of Functions:**\n",
    "\n",
    "\n",
    "1.   **def:** Keyword used to indicate we are defining a function\n",
    "2.   **Args/Parameters:** The inputs to a function\n",
    "3.   **return:** Keyword used to indicate the return value of a function\n",
    "4.   **Docstring:** String inside a function indicating what the function does, returns, and the param types\n"
   ]
  },
  {
   "cell_type": "code",
   "execution_count": 6,
   "metadata": {
    "colab": {
     "base_uri": "https://localhost:8080/"
    },
    "executionInfo": {
     "elapsed": 389,
     "status": "ok",
     "timestamp": 1659988832700,
     "user": {
      "displayName": "Joe Sasson",
      "userId": "10050313654265167494"
     },
     "user_tz": 240
    },
    "id": "CNVXpZZBB4nM",
    "outputId": "2bdd99d1-615f-4aa4-d88f-463b8a81625d"
   },
   "outputs": [],
   "source": [
    "# Defining Functions - 1\n",
    "\n",
    "def add(x, y):\n",
    "  \"\"\"\n",
    "  This Function Returns The Sum of The Inputs\n",
    "\n",
    "  Args:\n",
    "    -- 'x': integer\n",
    "    -- 'y': integer\n",
    "\n",
    "  Returns:\n",
    "    -- integer\n",
    "  \"\"\"\n",
    "  ## TODO: YOUR CODE HERE ##\n",
    "    \n",
    "\n",
    "    \n",
    "\n",
    "# Calling Functions\n",
    "print(add(2,6))\n",
    "print(add(22,12))\n",
    "print(add(56,611))"
   ]
  },
  {
   "cell_type": "code",
   "execution_count": 7,
   "metadata": {
    "colab": {
     "base_uri": "https://localhost:8080/"
    },
    "executionInfo": {
     "elapsed": 793,
     "status": "ok",
     "timestamp": 1659989559154,
     "user": {
      "displayName": "Joe Sasson",
      "userId": "10050313654265167494"
     },
     "user_tz": 240
    },
    "id": "qyU-GlAlC23s",
    "outputId": "743ba8ca-c069-4054-e45e-5eb21ee43c97"
   },
   "outputs": [],
   "source": [
    "# Defining Functions - 2\n",
    "## Functions don't always require you to pass in args\n",
    "## We can also set the the functions return value to a variable\n",
    "\n",
    "def create_random_array():\n",
    "  \"\"\"\n",
    "  This Function Creates a Random Array (matrix)\n",
    "\n",
    "  Args:\n",
    "    -- None\n",
    "\n",
    "  Returns:\n",
    "    -- np.array \n",
    "  \"\"\"\n",
    "  ## TODO: YOUR CODE HERE ##\n",
    "\n",
    "def create_specific_array(x,y):\n",
    "  \"\"\"\n",
    "  This Function Creates a Random Array (matrix) w/ Shape (x,y)\n",
    "\n",
    "  Args:\n",
    "    -- 'x': \n",
    "      - num of samples in array\n",
    "      - type int\n",
    "    -- 'y':\n",
    "      - num of dimensions in array\n",
    "      - type int\n",
    "\n",
    "  Returns:\n",
    "    -- np.array with shape (x,y)\n",
    "  \"\"\"\n",
    "\n",
    "  ## TODO: YOUR CODE HERE ##\n",
    "\n",
    "    \n",
    "# Calling functions\n",
    "new_array1 = create_random_array()\n",
    "new_array2 = create_specific_array(3,3)\n",
    "\n",
    "# Examine return values\n",
    "## TODO: YOUR CODE HERE ##"
   ]
  },
  {
   "cell_type": "code",
   "execution_count": 8,
   "metadata": {
    "colab": {
     "base_uri": "https://localhost:8080/"
    },
    "executionInfo": {
     "elapsed": 8,
     "status": "ok",
     "timestamp": 1659989916184,
     "user": {
      "displayName": "Joe Sasson",
      "userId": "10050313654265167494"
     },
     "user_tz": 240
    },
    "id": "VyolOcojF5l7",
    "outputId": "b32e6192-07a8-4469-dae5-274cf763ad2e"
   },
   "outputs": [],
   "source": [
    "# Defining Functions - 3\n",
    "## Functions can return multiple values!\n",
    "\n",
    "def add_subtract(x,y,z):\n",
    "  \"\"\"\n",
    "  This Function Performs Simple Add & Subtraction on Inputs\n",
    "\n",
    "  Args:\n",
    "    -- 'x': type int\n",
    "    -- 'y': type int\n",
    "    -- 'z': type int\n",
    "\n",
    "  Returns:\n",
    "    -- 'a': \n",
    "      - (x+z)\n",
    "      - type int\n",
    "    -- 'b':\n",
    "      - (y-z)\n",
    "      - type int\n",
    "    -- 'c':\n",
    "      - (x+y+z)\n",
    "      - type int\n",
    "  \"\"\"\n",
    "\n",
    "  ## TODO: YOUR CODE HERE ##\n",
    "\n",
    "\n",
    "\n",
    "# Calling functions\n",
    "a,b,c = add_subtract(2,5,10)\n",
    "print('a:', a)\n",
    "print('b:', b)\n",
    "print('c:', c)"
   ]
  },
  {
   "cell_type": "code",
   "execution_count": 9,
   "metadata": {
    "colab": {
     "base_uri": "https://localhost:8080/"
    },
    "executionInfo": {
     "elapsed": 346,
     "status": "ok",
     "timestamp": 1659990450987,
     "user": {
      "displayName": "Joe Sasson",
      "userId": "10050313654265167494"
     },
     "user_tz": 240
    },
    "id": "8ulYKMAOIdlR",
    "outputId": "7b20f70c-e00a-4b19-bf8d-5336d8acc47b"
   },
   "outputs": [],
   "source": [
    "# Defining Functions - 4\n",
    "## Functions can call other functions!\n",
    "## 'create_random_array()' is actually calling a function as well: np.random.randint()\n",
    "\n",
    "def add_two(x):\n",
    "    \"\"\"\n",
    "    This function adds two to x\n",
    "    \n",
    "    Args:\n",
    "        - 'x': int or float\n",
    "        \n",
    "    Returns:\n",
    "        - 'x+2': int or float\n",
    "    \"\"\"\n",
    "    ## TODO: YOUR CODE HERE ##\n",
    "\n",
    "def subtract_ten(x):\n",
    "    \"\"\"\n",
    "    This function subtracts ten from x\n",
    "    \n",
    "    Args:\n",
    "        - 'x': int or float\n",
    "        \n",
    "    Returns:\n",
    "        - 'x-10': int or float\n",
    "    \"\"\"\n",
    "    ## TODO: YOUR CODE HERE ##\n",
    "\n",
    "def function_call(x):\n",
    "    \"\"\"\n",
    "    This function calls 'add_two' and 'subtract_ten'\n",
    "    \n",
    "    Args:\n",
    "        - 'x': int or float\n",
    "        \n",
    "    Returns:\n",
    "        - 'x+2-10': int or float\n",
    "    \"\"\"\n",
    "    ## TODO: YOUR CODE HERE ##\n",
    "    \n",
    "\n",
    "# Calling functions\n",
    "print(function_call(12))\n",
    "print(function_call(123))\n",
    "print(function_call(1))"
   ]
  },
  {
   "cell_type": "markdown",
   "metadata": {
    "id": "VDxSU4QmJkcd"
   },
   "source": [
    "## Intermediate Functions"
   ]
  },
  {
   "cell_type": "markdown",
   "metadata": {
    "id": "heiEn_V4KZ_k"
   },
   "source": [
    "In this section we will define more complex functions. Such as working with loops and accessing elements from objects."
   ]
  },
  {
   "cell_type": "code",
   "execution_count": 10,
   "metadata": {
    "colab": {
     "base_uri": "https://localhost:8080/"
    },
    "executionInfo": {
     "elapsed": 9,
     "status": "ok",
     "timestamp": 1659992039520,
     "user": {
      "displayName": "Joe Sasson",
      "userId": "10050313654265167494"
     },
     "user_tz": 240
    },
    "id": "hONKSD_DJpwg",
    "outputId": "f0ce4963-2c67-4dae-c973-d1c08e66264f"
   },
   "outputs": [],
   "source": [
    "# Intermediate Functions - 1\n",
    "## Access elements from a list\n",
    "\n",
    "def loop_over(l):\n",
    "    \"\"\"\n",
    "    Loop over elements in a list 'l'\n",
    "\n",
    "    Args:\n",
    "      - 'l': list\n",
    "    \"\"\"\n",
    "    ## TODO: YOUR CODE HERE ##\n",
    "\n",
    "def add_two_inplace(l):\n",
    "    \"\"\"\n",
    "    Add two inplace to a list 'l'\n",
    "    \n",
    "    Args:\n",
    "        - 'l': list\n",
    "    \"\"\"\n",
    "    ## TODO: YOUR CODE HERE ##\n",
    "\n",
    "def add_two_outplace(l):\n",
    "    \"\"\"\n",
    "    Add two out-of-place to a list 'l'\n",
    "    \n",
    "    Args:\n",
    "        - 'l': list\n",
    "    \"\"\"\n",
    "    ## TODO: YOUR CODE HERE ##\n",
    "\n",
    "    \n",
    "# Calling functions\n",
    "## TODO: YOUR CODE HERE ##"
   ]
  },
  {
   "cell_type": "code",
   "execution_count": 11,
   "metadata": {
    "colab": {
     "base_uri": "https://localhost:8080/"
    },
    "executionInfo": {
     "elapsed": 157,
     "status": "ok",
     "timestamp": 1660060131876,
     "user": {
      "displayName": "Joe Sasson",
      "userId": "10050313654265167494"
     },
     "user_tz": 240
    },
    "id": "BCFuC1VzRHMI",
    "outputId": "b57f6f63-d787-4512-cc16-7ed24cfbbdbc"
   },
   "outputs": [],
   "source": [
    "# Intermediate Functions - 2\n",
    "## Accessing elements from a dictionary\n",
    "## Conditional Statements (if/else)\n",
    "\n",
    "def show(d):\n",
    "    \"\"\"\n",
    "    Loop over the key, value pairs in a dict 'd'\n",
    "\n",
    "    Args:\n",
    "      - 'd': dict\n",
    "    \"\"\"\n",
    "    ## TODO: YOUR CODE HERE ##\n",
    "\n",
    "def show_values(d):\n",
    "    \"\"\"\n",
    "    Loop over the keys to print just the values in a dict 'd'\n",
    "\n",
    "    Args:\n",
    "      - 'd': dict\n",
    "    \"\"\"\n",
    "    ## TODO: YOUR CODE HERE ##\n",
    "\n",
    "def key_from_val(d, value):\n",
    "    \"\"\"\n",
    "    Loop over the key, value pairs in a dict 'd' to print just the keys\n",
    "\n",
    "    Args:\n",
    "      - 'd': dict\n",
    "    \"\"\"\n",
    "    ## TODO: YOUR CODE HERE ##\n",
    "\n",
    "\n",
    "# Calling functions\n",
    "d = {'key1':[1,2,3,4,5], 'key2':12, 'key3':'this is a string', \n",
    "     'key4':[55,7,85]}\n",
    "\n",
    "key_from_val(d, 12)"
   ]
  },
  {
   "cell_type": "code",
   "execution_count": 12,
   "metadata": {
    "colab": {
     "base_uri": "https://localhost:8080/"
    },
    "executionInfo": {
     "elapsed": 143,
     "status": "ok",
     "timestamp": 1660061133934,
     "user": {
      "displayName": "Joe Sasson",
      "userId": "10050313654265167494"
     },
     "user_tz": 240
    },
    "id": "PLvhdETJTMkG",
    "outputId": "6dbe0067-90f0-4057-a5bd-2c55f157e4de"
   },
   "outputs": [],
   "source": [
    "# Intermdiate Functions - 3\n",
    "## Putting it all together\n",
    "\n",
    "def show_even_numbers_loop(l): # version one (with a loop)\n",
    "  \"\"\"\n",
    "  This function takes in a list and \n",
    "  returns a new list containing all even numbers\n",
    "  using a loop\n",
    "\n",
    "  Args:\n",
    "    -- 'l': list containing integers\n",
    "\n",
    "  Returns:\n",
    "    -- new list containing all even numbers\n",
    "  \"\"\"\n",
    "\n",
    "  ## TODO: YOUR CODE HERE ## \n",
    "\n",
    "def show_even_numbers_comp(l): # version two (with list comprehension)\n",
    "  \"\"\"\n",
    "  This function takes in a list and \n",
    "  returns a new list containing all even numbers\n",
    "  using list comp\n",
    "\n",
    "  Args:\n",
    "    -- 'l': list containing integers\n",
    "\n",
    "  Returns:\n",
    "    -- new list containing all even numbers\n",
    "  \"\"\"\n",
    "\n",
    "  ## TODO: YOUR CODE HERE ##\n",
    "\n",
    "    \n",
    "# Calling functions\n",
    "l = [1,2,3,4,5,6,7,8,9,10]\n",
    "\n",
    "loop_result = show_even_numbers_loop(l)\n",
    "comp_result = show_even_numbers_comp(l)\n",
    "\n",
    "print(loop_result)\n",
    "print(comp_result)"
   ]
  },
  {
   "cell_type": "markdown",
   "metadata": {
    "id": "hLdeFylDW2Dk"
   },
   "source": [
    "## WORKING WITH DATASETS"
   ]
  },
  {
   "cell_type": "markdown",
   "metadata": {
    "id": "PHOMM5t-XFka"
   },
   "source": [
    "In this section we will be learning how to read-in and work with different types of data."
   ]
  },
  {
   "cell_type": "markdown",
   "metadata": {
    "id": "awXshbTXBZA8"
   },
   "source": [
    "#### **Introduction**"
   ]
  },
  {
   "cell_type": "markdown",
   "metadata": {
    "id": "kBkBnGfOXigN"
   },
   "source": [
    "**Dataframe (CSV)**"
   ]
  },
  {
   "cell_type": "code",
   "execution_count": 13,
   "metadata": {
    "colab": {
     "base_uri": "https://localhost:8080/",
     "height": 206
    },
    "executionInfo": {
     "elapsed": 151,
     "status": "ok",
     "timestamp": 1660061351408,
     "user": {
      "displayName": "Joe Sasson",
      "userId": "10050313654265167494"
     },
     "user_tz": 240
    },
    "id": "_jvTqklzW4Md",
    "outputId": "91e4b861-748e-40d0-8c64-27eec8853284"
   },
   "outputs": [],
   "source": [
    "# Read in csv, show head\n",
    "## TODO: YOUR CODE HERE ##"
   ]
  },
  {
   "cell_type": "markdown",
   "metadata": {
    "id": "RX2o__CPj9Jw"
   },
   "source": [
    "**Text Data**"
   ]
  },
  {
   "cell_type": "code",
   "execution_count": null,
   "metadata": {
    "id": "mDid4LAHXyxt"
   },
   "outputs": [],
   "source": [
    "# Read in txt file as str\n",
    "## TODO: YOUR CODE HERE ##"
   ]
  },
  {
   "cell_type": "markdown",
   "metadata": {
    "id": "4Eqe95cykF9t"
   },
   "source": [
    "**Image Data**"
   ]
  },
  {
   "cell_type": "code",
   "execution_count": 14,
   "metadata": {
    "colab": {
     "base_uri": "https://localhost:8080/",
     "height": 286
    },
    "executionInfo": {
     "elapsed": 1049,
     "status": "ok",
     "timestamp": 1660064733743,
     "user": {
      "displayName": "Joe Sasson",
      "userId": "10050313654265167494"
     },
     "user_tz": 240
    },
    "id": "4T8XQYK3kEkJ",
    "outputId": "56182b3d-636f-40d9-918a-89d5ec1855a8"
   },
   "outputs": [],
   "source": [
    "# Read in image using open-cv, show image\n",
    "## TODO: YOUR CODE HERE ##"
   ]
  },
  {
   "cell_type": "markdown",
   "metadata": {
    "id": "qDjQoJlsBLrt"
   },
   "source": [
    "#### **EDA (Exploratory Data Analysis)**"
   ]
  },
  {
   "cell_type": "markdown",
   "metadata": {
    "id": "cLgetE4rBRoy"
   },
   "source": [
    "In this course, we will mainly be working with Dataframes (CSV files). "
   ]
  },
  {
   "cell_type": "code",
   "execution_count": null,
   "metadata": {
    "id": "kQAYiup78WEF"
   },
   "outputs": [],
   "source": [
    "## Explore different datasets\n",
    "\n",
    "# Read in email/iris/heart csv, show head\n",
    "## TODO: YOUR CODE HERE ##"
   ]
  },
  {
   "cell_type": "code",
   "execution_count": 15,
   "metadata": {
    "colab": {
     "base_uri": "https://localhost:8080/",
     "height": 223
    },
    "executionInfo": {
     "elapsed": 144,
     "status": "ok",
     "timestamp": 1660138924442,
     "user": {
      "displayName": "Joe Sasson",
      "userId": "10050313654265167494"
     },
     "user_tz": 240
    },
    "id": "NSdrwA20-jPg",
    "outputId": "6e1a491a-8801-47dd-8ccf-7d3816c1e055"
   },
   "outputs": [],
   "source": [
    "## This dataset contains information on flower species\n",
    "\n",
    "print('SHAPE: ', iris.shape)\n",
    "iris.head()"
   ]
  },
  {
   "cell_type": "code",
   "execution_count": 16,
   "metadata": {
    "colab": {
     "base_uri": "https://localhost:8080/",
     "height": 452
    },
    "executionInfo": {
     "elapsed": 141,
     "status": "ok",
     "timestamp": 1660138926781,
     "user": {
      "displayName": "Joe Sasson",
      "userId": "10050313654265167494"
     },
     "user_tz": 240
    },
    "id": "GaJz9yzv-mB2",
    "outputId": "abd4707e-5a96-495c-c862-86b1f4c08330"
   },
   "outputs": [],
   "source": [
    "## This dataset contains information on emails, and classifying them as spam or not\n",
    "## The features are how many times that word appears in the email\n",
    "\n",
    "print('SHAPE: ', email.shape)\n",
    "email.head()"
   ]
  },
  {
   "cell_type": "code",
   "execution_count": 17,
   "metadata": {
    "colab": {
     "base_uri": "https://localhost:8080/",
     "height": 223
    },
    "executionInfo": {
     "elapsed": 139,
     "status": "ok",
     "timestamp": 1660138931584,
     "user": {
      "displayName": "Joe Sasson",
      "userId": "10050313654265167494"
     },
     "user_tz": 240
    },
    "id": "N21916N6-nBA",
    "outputId": "62290c5f-c483-4295-e44f-fa58cb86c66e"
   },
   "outputs": [],
   "source": [
    "## This dataset contains information on human health\n",
    "## The goal is to predict the probability of heart disease based on your other health factors\n",
    "\n",
    "print('SHAPE: ', heart.shape)\n",
    "heart.head()"
   ]
  },
  {
   "cell_type": "code",
   "execution_count": 18,
   "metadata": {
    "colab": {
     "base_uri": "https://localhost:8080/"
    },
    "executionInfo": {
     "elapsed": 42,
     "status": "ok",
     "timestamp": 1660139492612,
     "user": {
      "displayName": "Joe Sasson",
      "userId": "10050313654265167494"
     },
     "user_tz": 240
    },
    "id": "uNKFH8sfA_mN",
    "outputId": "5ec32ad8-e222-40a8-a2a9-a424d929f870"
   },
   "outputs": [],
   "source": [
    "## Examine the different features and data-types\n",
    "\n",
    "iris.info()"
   ]
  },
  {
   "cell_type": "code",
   "execution_count": 19,
   "metadata": {
    "colab": {
     "base_uri": "https://localhost:8080/",
     "height": 175
    },
    "executionInfo": {
     "elapsed": 304,
     "status": "ok",
     "timestamp": 1660139669361,
     "user": {
      "displayName": "Joe Sasson",
      "userId": "10050313654265167494"
     },
     "user_tz": 240
    },
    "id": "tk3aQwk8BlMl",
    "outputId": "56240640-a1c5-4207-dc46-7286195b84ea"
   },
   "outputs": [],
   "source": [
    "## Examining Numerical Features\n",
    "\n",
    "iris.describe().T"
   ]
  },
  {
   "cell_type": "code",
   "execution_count": 20,
   "metadata": {
    "colab": {
     "base_uri": "https://localhost:8080/"
    },
    "executionInfo": {
     "elapsed": 143,
     "status": "ok",
     "timestamp": 1660139850255,
     "user": {
      "displayName": "Joe Sasson",
      "userId": "10050313654265167494"
     },
     "user_tz": 240
    },
    "id": "j1dCEXfhC4GH",
    "outputId": "7bc64c9d-4ce2-4426-9955-5380373f0d25"
   },
   "outputs": [],
   "source": [
    "## Accessing Features - 1\n",
    "## One column\n",
    "\n",
    "## TODO: YOUR CODE HERE ##"
   ]
  },
  {
   "cell_type": "code",
   "execution_count": 21,
   "metadata": {
    "colab": {
     "base_uri": "https://localhost:8080/",
     "height": 424
    },
    "executionInfo": {
     "elapsed": 154,
     "status": "ok",
     "timestamp": 1660139879385,
     "user": {
      "displayName": "Joe Sasson",
      "userId": "10050313654265167494"
     },
     "user_tz": 240
    },
    "id": "5zsWnDJUC9rS",
    "outputId": "7349b6ce-33ad-423a-f10a-78568da54a8e"
   },
   "outputs": [],
   "source": [
    "## Accessing Features - 2\n",
    "## Multiple columns\n",
    "\n",
    "## TODO: YOUR CODE HERE ##"
   ]
  },
  {
   "cell_type": "code",
   "execution_count": 22,
   "metadata": {
    "colab": {
     "base_uri": "https://localhost:8080/",
     "height": 331
    },
    "executionInfo": {
     "elapsed": 152,
     "status": "ok",
     "timestamp": 1660140573331,
     "user": {
      "displayName": "Joe Sasson",
      "userId": "10050313654265167494"
     },
     "user_tz": 240
    },
    "id": "KDCOoSD6DGPa",
    "outputId": "5a60c779-80af-4659-aef7-4a02f64eab61"
   },
   "outputs": [],
   "source": [
    "## Accessing Features - 3\n",
    "## Using 'loc'\n",
    "\n",
    "## TODO: YOUR CODE HERE ##"
   ]
  },
  {
   "cell_type": "code",
   "execution_count": 23,
   "metadata": {
    "colab": {
     "base_uri": "https://localhost:8080/",
     "height": 350
    },
    "executionInfo": {
     "elapsed": 321,
     "status": "ok",
     "timestamp": 1660140802689,
     "user": {
      "displayName": "Joe Sasson",
      "userId": "10050313654265167494"
     },
     "user_tz": 240
    },
    "id": "jl3xuMC2DPNA",
    "outputId": "49a7eb71-f30d-4bcc-df73-5969c7c0a39e"
   },
   "outputs": [],
   "source": [
    "## Accessing Features - 4\n",
    "## Using 'iloc'\n",
    "\n",
    "## TODO: YOUR CODE HERE ##"
   ]
  },
  {
   "cell_type": "code",
   "execution_count": 24,
   "metadata": {
    "colab": {
     "base_uri": "https://localhost:8080/",
     "height": 280
    },
    "executionInfo": {
     "elapsed": 1219,
     "status": "ok",
     "timestamp": 1660141293503,
     "user": {
      "displayName": "Joe Sasson",
      "userId": "10050313654265167494"
     },
     "user_tz": 240
    },
    "id": "fjfp6Li-CzEg",
    "outputId": "1edd8dfc-fda6-48f7-90cc-aad1bb7833af"
   },
   "outputs": [],
   "source": [
    "## Visualize Features - 1\n",
    "\n",
    "def plot(col):\n",
    "    \"\"\"\n",
    "    Plot the histogram of a single column\n",
    "    \"\"\"\n",
    "    ## TODO: YOUR CODE HERE ##\n",
    "\n",
    "def plot_multiple_hist(frame, col1, col2):\n",
    "    \"\"\"\n",
    "    Plot the histogram of a multiple columns\n",
    "    \"\"\"\n",
    "    fig, ax = plt.subplots(1, 2, figsize=(10,4))\n",
    "    sns.histplot(data=frame, x=col1, ax=ax[0])\n",
    "    sns.histplot(data=frame, x=col2, ax=ax[1]);\n",
    "\n",
    "plot_multiple_hist(iris, 'sepal_length', 'petal_length')"
   ]
  },
  {
   "cell_type": "code",
   "execution_count": 25,
   "metadata": {
    "colab": {
     "base_uri": "https://localhost:8080/",
     "height": 596
    },
    "executionInfo": {
     "elapsed": 911,
     "status": "ok",
     "timestamp": 1660142171827,
     "user": {
      "displayName": "Joe Sasson",
      "userId": "10050313654265167494"
     },
     "user_tz": 240
    },
    "id": "srectbewLXeu",
    "outputId": "d6a5090e-b30e-4b66-fb09-cdb7b7b17432"
   },
   "outputs": [],
   "source": [
    "## Visualize Features - 2\n",
    "## Correlation & Heatmap\n",
    "\n",
    "iris.drop(columns='species', inplace=True) # we only want to do this operation on features\n",
    "\n",
    "corr = iris.corr(method='spearman')\n",
    "plt.figure(figsize=(10,10))\n",
    "sns.heatmap(corr,vmax=.8,linewidths=0.01,square=True,annot=True,cmap='RdBu',linecolor='black')"
   ]
  },
  {
   "cell_type": "code",
   "execution_count": 26,
   "metadata": {
    "colab": {
     "base_uri": "https://localhost:8080/",
     "height": 296
    },
    "executionInfo": {
     "elapsed": 541,
     "status": "ok",
     "timestamp": 1660141606207,
     "user": {
      "displayName": "Joe Sasson",
      "userId": "10050313654265167494"
     },
     "user_tz": 240
    },
    "id": "EdlX7ncEJjj-",
    "outputId": "5094e1d6-b4aa-475a-a884-71bf2f6c9f13"
   },
   "outputs": [],
   "source": [
    "# Visualize Target\n",
    "\n",
    "sns.countplot(data=iris, x='species')"
   ]
  },
  {
   "cell_type": "markdown",
   "metadata": {
    "id": "w2xrDG9lNk9h"
   },
   "source": [
    "## Conclusion"
   ]
  },
  {
   "cell_type": "markdown",
   "metadata": {
    "id": "syZA0mxhNrDd"
   },
   "source": [
    "**Question 1**\n",
    "\n",
    "Finish the following function"
   ]
  },
  {
   "cell_type": "code",
   "execution_count": null,
   "metadata": {
    "id": "JJuRBnkIOOOA"
   },
   "outputs": [],
   "source": [
    "def multiply_by_three(x):\n",
    "  \"\"\"\n",
    "  This function multiplies a number by three\n",
    "\n",
    "  Args:\n",
    "    -- 'x': int\n",
    "\n",
    "  Returns:\n",
    "    -- int\n",
    "  \"\"\""
   ]
  },
  {
   "cell_type": "markdown",
   "metadata": {
    "id": "dvP_VkoXOjad"
   },
   "source": [
    "**Question 2**\n",
    "\n",
    "Create a random array with shape 3,5"
   ]
  },
  {
   "cell_type": "code",
   "execution_count": null,
   "metadata": {
    "id": "cslgUljMOiQy"
   },
   "outputs": [],
   "source": [
    "# array = "
   ]
  },
  {
   "cell_type": "markdown",
   "metadata": {
    "id": "QDztgZu4OwIE"
   },
   "source": [
    "**Question 3**\n",
    "\n",
    "Isolate a feature from a dataframe"
   ]
  },
  {
   "cell_type": "code",
   "execution_count": null,
   "metadata": {
    "id": "BXehsLDsPNh8"
   },
   "outputs": [],
   "source": [
    "# feature = "
   ]
  },
  {
   "cell_type": "markdown",
   "metadata": {
    "id": "h_Q9IcTPPQRM"
   },
   "source": [
    "**Question 4**\n",
    "\n",
    "Plot a histogram of a feature"
   ]
  },
  {
   "cell_type": "code",
   "execution_count": null,
   "metadata": {
    "id": "tCxtgZlSQVeI"
   },
   "outputs": [],
   "source": [
    "def plot(dataframe, column):\n",
    "  \"\"\"\n",
    "  This function plots a histogram of the specified dataset & feature\n",
    "\n",
    "  Args:\n",
    "    -- 'dataframe': pd.DataFrame\n",
    "    -- 'column': string of feature name\n",
    "\n",
    "  Returns:\n",
    "    -- matplotlib histogram plot\n",
    "  \"\"\""
   ]
  },
  {
   "cell_type": "markdown",
   "metadata": {
    "id": "d1jMz3-rQpV2"
   },
   "source": [
    "**Question 5 - Bonus!**\n",
    "\n",
    "Define a function to return all rows where a specified feature is less than or equal to 4.\n",
    "\n",
    "The function has two args - the dataframe, and the column.\n",
    "\n",
    "The function returns the dataframe where that feature is less than or equal to 4.\n",
    "\n",
    "*Hint: We did this in the above 'EDA' section (accessing features)* "
   ]
  },
  {
   "cell_type": "code",
   "execution_count": null,
   "metadata": {
    "id": "9eL6fYVAQ-CU"
   },
   "outputs": [],
   "source": [
    "## TODO: YOUR CODE HERE ##"
   ]
  }
 ],
 "metadata": {
  "colab": {
   "authorship_tag": "ABX9TyMZeeH9ZZ4cOlTTNxXMW7F2",
   "collapsed_sections": [],
   "name": "Functions, Data Structures, & EDA - Day 3.ipynb",
   "provenance": []
  },
  "kernelspec": {
   "display_name": "Python 3",
   "language": "python",
   "name": "python3"
  },
  "language_info": {
   "codemirror_mode": {
    "name": "ipython",
    "version": 3
   },
   "file_extension": ".py",
   "mimetype": "text/x-python",
   "name": "python",
   "nbconvert_exporter": "python",
   "pygments_lexer": "ipython3",
   "version": "3.7.7"
  }
 },
 "nbformat": 4,
 "nbformat_minor": 1
}
