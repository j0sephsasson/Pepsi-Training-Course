{
 "cells": [
  {
   "cell_type": "markdown",
   "metadata": {
    "id": "dkdUUFE9zEYE"
   },
   "source": [
    "# E2E - Putting Everything Together - Day 8"
   ]
  },
  {
   "cell_type": "markdown",
   "metadata": {
    "id": "cNXZld75zGoV"
   },
   "source": [
    "This notebook will be more ambiguous than the others. There will not be a structure or ready-made functions. \n",
    "\n",
    "Given a dataset, we want to perform feature selection/feature engineering, and explore different algorithms to find an optimal solution."
   ]
  },
  {
   "cell_type": "markdown",
   "metadata": {},
   "source": [
    "We will be using Sci-Kit Learn's built-in regression dataset \"California Housing\"."
   ]
  },
  {
   "cell_type": "markdown",
   "metadata": {},
   "source": [
    "## Import Packages"
   ]
  },
  {
   "cell_type": "code",
   "execution_count": null,
   "metadata": {},
   "outputs": [],
   "source": [
    "import numpy as np, pandas as pd, matplotlib.pyplot as plt, seaborn as sns, tensorflow as tf, graphviz\n",
    "\n",
    "from IPython.display import Image\n",
    "\n",
    "from sklearn.linear_model import LinearRegression\n",
    "from statsmodels.formula.api import ols\n",
    "\n",
    "from sklearn.preprocessing import LabelEncoder, StandardScaler\n",
    "from sklearn.impute import SimpleImputer\n",
    "from sklearn.model_selection import train_test_split\n",
    "from sklearn.ensemble import RandomForestRegressor\n",
    "from sklearn.tree import export_graphviz, DecisionTreeRegressor, plot_tree\n",
    "\n",
    "from tensorflow.keras.optimizers import SGD\n",
    "from keras.models import Sequential\n",
    "from keras.layers import Dense, Flatten"
   ]
  },
  {
   "cell_type": "markdown",
   "metadata": {
    "id": "6pDsqCckzWw3"
   },
   "source": [
    "## EDA"
   ]
  },
  {
   "cell_type": "markdown",
   "metadata": {},
   "source": [
    "**Basic EDA**"
   ]
  },
  {
   "cell_type": "code",
   "execution_count": null,
   "metadata": {},
   "outputs": [],
   "source": [
    "from sklearn.datasets import fetch_california_housing\n",
    "housing = fetch_california_housing(as_frame=True)\n",
    "\n",
    "X = pd.DataFrame(housing['data'])\n",
    "y = pd.Series(housing['target'])"
   ]
  },
  {
   "cell_type": "markdown",
   "metadata": {
    "id": "sdeQ8cFlzY65"
   },
   "source": [
    "Perform EDA on the dataset. This includes looking at value counts, cardinality, null counts, and more."
   ]
  },
  {
   "cell_type": "markdown",
   "metadata": {
    "id": "EbBsNPNBzfcG"
   },
   "source": [
    "## Feature Selection & Engineering"
   ]
  },
  {
   "cell_type": "markdown",
   "metadata": {
    "id": "ItFn3IUgzieA"
   },
   "source": [
    "We now want to perform feature selection and engineering on our dataset."
   ]
  },
  {
   "cell_type": "markdown",
   "metadata": {},
   "source": [
    "## OLS Regression"
   ]
  },
  {
   "cell_type": "markdown",
   "metadata": {},
   "source": [
    "Try a simple OLS Regression"
   ]
  },
  {
   "cell_type": "markdown",
   "metadata": {
    "id": "kK_sQNpuzigZ"
   },
   "source": [
    "## DecisionTreeRegressor"
   ]
  },
  {
   "cell_type": "markdown",
   "metadata": {
    "id": "W-6Cp4TIzvp0"
   },
   "source": [
    "Try a decision tree"
   ]
  },
  {
   "cell_type": "markdown",
   "metadata": {
    "id": "S-r7te8Rzii9"
   },
   "source": [
    "## RandomForestRegressor"
   ]
  },
  {
   "cell_type": "markdown",
   "metadata": {
    "id": "dt921xQOzilY"
   },
   "source": [
    "Try a RF"
   ]
  },
  {
   "cell_type": "markdown",
   "metadata": {
    "id": "kZl7CYR9z9bs"
   },
   "source": [
    "## ANN"
   ]
  },
  {
   "cell_type": "markdown",
   "metadata": {
    "id": "8Nk5hrvcz-ms"
   },
   "source": [
    "Try an artificial-neural-network"
   ]
  },
  {
   "cell_type": "markdown",
   "metadata": {
    "id": "5hjkyoWH0PAI"
   },
   "source": [
    "## Conclusion"
   ]
  },
  {
   "cell_type": "markdown",
   "metadata": {
    "id": "toqMkIpu0Slc"
   },
   "source": [
    "This concludes our lessons on the foundations of machine learning! The next two lessons we will actually be deploying our model(s)."
   ]
  }
 ],
 "metadata": {
  "colab": {
   "collapsed_sections": [],
   "name": "E2E - Putting Everything Together - Day 8.ipynb",
   "provenance": [],
   "toc_visible": true
  },
  "kernelspec": {
   "display_name": "Python 3",
   "language": "python",
   "name": "python3"
  },
  "language_info": {
   "codemirror_mode": {
    "name": "ipython",
    "version": 3
   },
   "file_extension": ".py",
   "mimetype": "text/x-python",
   "name": "python",
   "nbconvert_exporter": "python",
   "pygments_lexer": "ipython3",
   "version": "3.7.7"
  }
 },
 "nbformat": 4,
 "nbformat_minor": 1
}
